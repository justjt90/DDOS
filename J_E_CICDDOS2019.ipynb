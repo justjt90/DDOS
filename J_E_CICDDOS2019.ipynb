{
  "cells": [
    {
      "cell_type": "code",
      "execution_count": null,
      "metadata": {
        "colab": {
          "base_uri": "https://localhost:8080/"
        },
        "id": "Nl2gQIqP4gmQ",
        "outputId": "6e48d96b-b6b4-4d95-8250-e8229ca701b7"
      },
      "outputs": [
        {
          "name": "stdout",
          "output_type": "stream",
          "text": [
            "Mounted at /content/drive\n"
          ]
        }
      ],
      "source": [
        "from google.colab import drive\n",
        "drive.mount('/content/drive')"
      ]
    },
    {
      "cell_type": "code",
      "execution_count": null,
      "metadata": {
        "colab": {
          "base_uri": "https://localhost:8080/"
        },
        "id": "X57qQYdT5HAj",
        "outputId": "2fa53fa1-db40-4add-da19-cf0968f1ffbb"
      },
      "outputs": [
        {
          "name": "stdout",
          "output_type": "stream",
          "text": [
            "dataset_sdn.csv  ldap.csv   netBIOS.csv  snmp.csv  syn.csv   udp.csv\n",
            "dns.csv\t\t mssql.csv  ntp.csv\t ssdp.csv  tftp.csv  udplag.csv\n"
          ]
        }
      ],
      "source": [
        "#Load Data from Drive\n",
        "DATA_PATH=\"/content/drive/My Drive/J_PHD/CICDDOS/\"\n",
        "!ls \"/content/drive/My Drive/J_PHD/CICDDOS\""
      ]
    },
    {
      "cell_type": "code",
      "execution_count": null,
      "metadata": {
        "id": "YrAAbgcQ6NzH"
      },
      "outputs": [],
      "source": [
        "import pandas as pd\n",
        "import numpy as np\n",
        "import matplotlib.pyplot as plt\n",
        "\n",
        "import seaborn as sns\n",
        "\n",
        "import missingno as msno\n",
        "from sklearn import preprocessing\n",
        "from sklearn.preprocessing import MinMaxScaler\n",
        "from sklearn.model_selection import train_test_split\n",
        "import tensorflow as tf\n",
        "from tensorflow import keras\n",
        "from tensorflow.keras import layers\n",
        "from tensorflow.keras.layers import Dense\n",
        "from sklearn import metrics\n",
        "from sklearn.model_selection import cross_val_score\n",
        "from sklearn.metrics import classification_report,confusion_matrix\n",
        "from sklearn.model_selection import RandomizedSearchCV, GridSearchCV\n",
        "from sklearn.model_selection import StratifiedKFold\n",
        "from sklearn.metrics import roc_curve\n",
        "from sklearn import tree\n",
        "from sklearn.neighbors import KNeighborsClassifier\n",
        "from sklearn.svm import SVC\n",
        "from sklearn.tree import DecisionTreeClassifier\n",
        "from sklearn.ensemble import RandomForestClassifier\n",
        "from sklearn.discriminant_analysis import QuadraticDiscriminantAnalysis\n",
        "from sklearn.naive_bayes import CategoricalNB\n",
        "from sklearn.linear_model import LogisticRegression\n",
        "from sklearn.linear_model import SGDClassifier\n",
        "from sklearn.ensemble import AdaBoostClassifier\n",
        "import xgboost as xgb\n",
        "from sklearn.decomposition import PCA\n",
        "from mlxtend.plotting import plot_decision_regions\n",
        "from sklearn.tree import export_graphviz\n",
        "from six import StringIO\n",
        "from IPython.display import Image\n",
        "import graphviz\n",
        "%matplotlib inline\n",
        "from matplotlib.pyplot import figure\n",
        "import seaborn as sns\n",
        "\n",
        "from sklearn.metrics import confusion_matrix\n",
        "from sklearn.metrics import accuracy_score\n",
        "from sklearn.metrics import classification_report\n",
        "from sklearn.model_selection import train_test_split\n",
        "from sklearn import metrics\n",
        "from sklearn.model_selection import cross_val_score\n",
        "from sklearn import preprocessing\n",
        "\n",
        "from sklearn.model_selection import cross_val_predict\n",
        "from sklearn.model_selection import GridSearchCV\n",
        "import time\n",
        "from keras.models import Sequential\n",
        "from keras.layers import Activation, BatchNormalization, Flatten\n",
        "from keras.layers import Dense, LSTM, Convolution1D, MaxPooling1D\n",
        "from tensorflow.keras.layers import Embedding\n",
        "from keras.layers import Bidirectional\n",
        "\n",
        "from sklearn import metrics"
      ]
    },
    {
      "cell_type": "code",
      "execution_count": null,
      "metadata": {
        "colab": {
          "base_uri": "https://localhost:8080/"
        },
        "id": "IoLr6zjb5aCo",
        "outputId": "d84ca6b5-349a-46b5-d962-a3dc0682c27f"
      },
      "outputs": [
        {
          "name": "stderr",
          "output_type": "stream",
          "text": [
            "<ipython-input-4-656995ac6163>:1: DtypeWarning: Columns (86) have mixed types. Specify dtype option on import or set low_memory=False.\n",
            "  DrDoS_DNS_data_1_per = pd.read_csv(DATA_PATH+'dns.csv')\n",
            "<ipython-input-4-656995ac6163>:2: DtypeWarning: Columns (86) have mixed types. Specify dtype option on import or set low_memory=False.\n",
            "  DrDoS_LDAP_data_2_0_per = pd.read_csv(DATA_PATH+'ldap.csv')\n",
            "<ipython-input-4-656995ac6163>:3: DtypeWarning: Columns (86) have mixed types. Specify dtype option on import or set low_memory=False.\n",
            "  DrDoS_MSSQL_data_1_3_per = pd.read_csv(DATA_PATH+'mssql.csv')\n",
            "<ipython-input-4-656995ac6163>:4: DtypeWarning: Columns (86) have mixed types. Specify dtype option on import or set low_memory=False.\n",
            "  DrDoS_NetBIOS_data_1_3_per = pd.read_csv(DATA_PATH+'netBIOS.csv')\n",
            "<ipython-input-4-656995ac6163>:5: DtypeWarning: Columns (86) have mixed types. Specify dtype option on import or set low_memory=False.\n",
            "  DrDoS_NTP_data_data_5_per = pd.read_csv(DATA_PATH+'ntp.csv')\n",
            "<ipython-input-4-656995ac6163>:6: DtypeWarning: Columns (86) have mixed types. Specify dtype option on import or set low_memory=False.\n",
            "  DrDoS_SNMP_data_1_3_per = pd.read_csv(DATA_PATH+'snmp.csv')\n",
            "<ipython-input-4-656995ac6163>:7: DtypeWarning: Columns (86) have mixed types. Specify dtype option on import or set low_memory=False.\n",
            "  DrDoS_SSDP_data_2_per = pd.read_csv(DATA_PATH+'ssdp.csv')\n",
            "<ipython-input-4-656995ac6163>:8: DtypeWarning: Columns (86) have mixed types. Specify dtype option on import or set low_memory=False.\n",
            "  DrDoS_UDP_data_2_per = pd.read_csv(DATA_PATH+'udp.csv')\n",
            "<ipython-input-4-656995ac6163>:10: DtypeWarning: Columns (86) have mixed types. Specify dtype option on import or set low_memory=False.\n",
            "  UDPLag_data_2_0_per = pd.read_csv(DATA_PATH+'udplag.csv')\n"
          ]
        }
      ],
      "source": [
        "DrDoS_DNS_data_1_per = pd.read_csv(DATA_PATH+'dns.csv')\n",
        "DrDoS_LDAP_data_2_0_per = pd.read_csv(DATA_PATH+'ldap.csv')\n",
        "DrDoS_MSSQL_data_1_3_per = pd.read_csv(DATA_PATH+'mssql.csv')\n",
        "DrDoS_NetBIOS_data_1_3_per = pd.read_csv(DATA_PATH+'netBIOS.csv')\n",
        "DrDoS_NTP_data_data_5_per = pd.read_csv(DATA_PATH+'ntp.csv')\n",
        "DrDoS_SNMP_data_1_3_per = pd.read_csv(DATA_PATH+'snmp.csv')\n",
        "DrDoS_SSDP_data_2_per = pd.read_csv(DATA_PATH+'ssdp.csv')\n",
        "DrDoS_UDP_data_2_per = pd.read_csv(DATA_PATH+'udp.csv')\n",
        "Syn_data_4_per = pd.read_csv(DATA_PATH+'syn.csv')\n",
        "UDPLag_data_2_0_per = pd.read_csv(DATA_PATH+'udplag.csv')"
      ]
    },
    {
      "cell_type": "code",
      "execution_count": null,
      "metadata": {
        "id": "yli6Aypm67rH"
      },
      "outputs": [],
      "source": [
        "# Merge all the Dataset to make one data\n",
        "data = pd.concat([DrDoS_DNS_data_1_per, DrDoS_LDAP_data_2_0_per, DrDoS_MSSQL_data_1_3_per, DrDoS_NetBIOS_data_1_3_per, DrDoS_NTP_data_data_5_per, DrDoS_SNMP_data_1_3_per, DrDoS_SSDP_data_2_per, DrDoS_UDP_data_2_per, Syn_data_4_per, UDPLag_data_2_0_per])"
      ]
    },
    {
      "cell_type": "code",
      "execution_count": null,
      "metadata": {
        "colab": {
          "base_uri": "https://localhost:8080/"
        },
        "id": "qHXdGTDn7h2s",
        "outputId": "7d662fb6-9e35-4adb-acda-55f1ef7bd001"
      },
      "outputs": [
        {
          "data": {
            "text/plain": [
              "(400000, 89)"
            ]
          },
          "execution_count": 6,
          "metadata": {},
          "output_type": "execute_result"
        }
      ],
      "source": [
        "data.shape"
      ]
    },
    {
      "cell_type": "code",
      "execution_count": null,
      "metadata": {
        "id": "jZ1bcIRCdFTp"
      },
      "outputs": [],
      "source": [
        "data.rename(columns={' Label': 'label'}, inplace=True)"
      ]
    },
    {
      "cell_type": "code",
      "execution_count": null,
      "metadata": {
        "colab": {
          "base_uri": "https://localhost:8080/"
        },
        "id": "CNTd5n2I7nMU",
        "outputId": "7768fbf5-6f1a-4ddd-c476-d49db4615d41"
      },
      "outputs": [
        {
          "data": {
            "text/plain": [
              "Syn              39995\n",
              "DrDoS_LDAP       39994\n",
              "DrDoS_UDP        39991\n",
              "UDP-lag          39990\n",
              "DrDoS_SNMP       39959\n",
              "DrDoS_SSDP       39891\n",
              "DrDoS_NetBIOS    39845\n",
              "DrDoS_MSSQL      39352\n",
              "DrDoS_DNS        38299\n",
              "DrDoS_NTP        27659\n",
              "BENIGN           15019\n",
              "WebDDoS              6\n",
              "Name: label, dtype: int64"
            ]
          },
          "execution_count": 8,
          "metadata": {},
          "output_type": "execute_result"
        }
      ],
      "source": [
        "data['label'].value_counts()"
      ]
    },
    {
      "cell_type": "code",
      "execution_count": null,
      "metadata": {
        "id": "5dCmmpCf77cF"
      },
      "outputs": [],
      "source": [
        "# Drop Unnamed:0, Unnamed:0.1 columns\n",
        "data = data.drop(['Unnamed: 0', 'Unnamed: 0.1'], axis = 1)"
      ]
    },
    {
      "cell_type": "code",
      "execution_count": null,
      "metadata": {
        "id": "x4TSxQGC8iD3"
      },
      "outputs": [],
      "source": [
        "# droping nan and inf rows\n",
        "# first replacing all inf values with nan\n",
        "data_real = data.replace(np.inf, np.nan)"
      ]
    },
    {
      "cell_type": "code",
      "execution_count": null,
      "metadata": {
        "colab": {
          "base_uri": "https://localhost:8080/"
        },
        "id": "OvWkybFf8sci",
        "outputId": "5bf7413a-f40c-4482-e9b4-1aeb06ff4d61"
      },
      "outputs": [
        {
          "data": {
            "text/plain": [
              "19256"
            ]
          },
          "execution_count": 11,
          "metadata": {},
          "output_type": "execute_result"
        }
      ],
      "source": [
        "data_real.isnull().sum().sum()"
      ]
    },
    {
      "cell_type": "code",
      "execution_count": null,
      "metadata": {
        "id": "xs6Z6kdX9J-L"
      },
      "outputs": [],
      "source": [
        "data_df = data_real.dropna(axis=0)"
      ]
    },
    {
      "cell_type": "code",
      "execution_count": null,
      "metadata": {
        "colab": {
          "base_uri": "https://localhost:8080/"
        },
        "id": "NChmJWhA9Mc-",
        "outputId": "951cbeda-0716-40c5-873f-fad040878cc6"
      },
      "outputs": [
        {
          "data": {
            "text/plain": [
              "0"
            ]
          },
          "execution_count": 13,
          "metadata": {},
          "output_type": "execute_result"
        }
      ],
      "source": [
        "data_df.isnull().sum().sum()"
      ]
    },
    {
      "cell_type": "code",
      "execution_count": null,
      "metadata": {
        "id": "A0p5x3pWtyWu"
      },
      "outputs": [],
      "source": [
        "df1 = data_df\n",
        "df1.loc[df1.label == \"BENIGN\", \"label\"] = 1.0\n",
        "df1.loc[df1.label != 1, \"label\"] = 0.0"
      ]
    },
    {
      "cell_type": "code",
      "execution_count": null,
      "metadata": {
        "colab": {
          "base_uri": "https://localhost:8080/"
        },
        "id": "2-wjCvdvcAie",
        "outputId": "1ee13e7b-7c0e-44ec-fcd1-cdf00dd3ad3a"
      },
      "outputs": [
        {
          "data": {
            "text/plain": [
              "array([0.0, 1.0], dtype=object)"
            ]
          },
          "execution_count": 15,
          "metadata": {},
          "output_type": "execute_result"
        }
      ],
      "source": [
        "df1.label.unique()"
      ]
    },
    {
      "cell_type": "code",
      "execution_count": null,
      "metadata": {
        "colab": {
          "base_uri": "https://localhost:8080/"
        },
        "id": "TsPV2QrWcJXN",
        "outputId": "25eb9462-06b0-432d-8a48-28574723e1d1"
      },
      "outputs": [
        {
          "data": {
            "text/plain": [
              "0.0    375436\n",
              "1.0     14936\n",
              "Name: label, dtype: int64"
            ]
          },
          "execution_count": 16,
          "metadata": {},
          "output_type": "execute_result"
        }
      ],
      "source": [
        "df1.label.value_counts()"
      ]
    },
    {
      "cell_type": "code",
      "execution_count": null,
      "metadata": {
        "colab": {
          "base_uri": "https://localhost:8080/"
        },
        "id": "K0Cy_DZekhWj",
        "outputId": "583b480c-ae58-4a6f-daa7-af30e25ec12e"
      },
      "outputs": [
        {
          "name": "stdout",
          "output_type": "stream",
          "text": [
            "Numeric Columns: \n",
            "Index([' Source Port', ' Destination Port', ' Protocol', ' Flow Duration',\n",
            "       ' Total Fwd Packets', ' Total Backward Packets',\n",
            "       'Total Length of Fwd Packets', ' Total Length of Bwd Packets',\n",
            "       ' Fwd Packet Length Max', ' Fwd Packet Length Min',\n",
            "       ' Fwd Packet Length Mean', ' Fwd Packet Length Std',\n",
            "       'Bwd Packet Length Max', ' Bwd Packet Length Min',\n",
            "       ' Bwd Packet Length Mean', ' Bwd Packet Length Std', 'Flow Bytes/s',\n",
            "       ' Flow Packets/s', ' Flow IAT Mean', ' Flow IAT Std', ' Flow IAT Max',\n",
            "       ' Flow IAT Min', 'Fwd IAT Total', ' Fwd IAT Mean', ' Fwd IAT Std',\n",
            "       ' Fwd IAT Max', ' Fwd IAT Min', 'Bwd IAT Total', ' Bwd IAT Mean',\n",
            "       ' Bwd IAT Std', ' Bwd IAT Max', ' Bwd IAT Min', 'Fwd PSH Flags',\n",
            "       ' Bwd PSH Flags', ' Fwd URG Flags', ' Bwd URG Flags',\n",
            "       ' Fwd Header Length', ' Bwd Header Length', 'Fwd Packets/s',\n",
            "       ' Bwd Packets/s', ' Min Packet Length', ' Max Packet Length',\n",
            "       ' Packet Length Mean', ' Packet Length Std', ' Packet Length Variance',\n",
            "       'FIN Flag Count', ' SYN Flag Count', ' RST Flag Count',\n",
            "       ' PSH Flag Count', ' ACK Flag Count', ' URG Flag Count',\n",
            "       ' CWE Flag Count', ' ECE Flag Count', ' Down/Up Ratio',\n",
            "       ' Average Packet Size', ' Avg Fwd Segment Size',\n",
            "       ' Avg Bwd Segment Size', ' Fwd Header Length.1', 'Fwd Avg Bytes/Bulk',\n",
            "       ' Fwd Avg Packets/Bulk', ' Fwd Avg Bulk Rate', ' Bwd Avg Bytes/Bulk',\n",
            "       ' Bwd Avg Packets/Bulk', 'Bwd Avg Bulk Rate', 'Subflow Fwd Packets',\n",
            "       ' Subflow Fwd Bytes', ' Subflow Bwd Packets', ' Subflow Bwd Bytes',\n",
            "       'Init_Win_bytes_forward', ' Init_Win_bytes_backward',\n",
            "       ' act_data_pkt_fwd', ' min_seg_size_forward', 'Active Mean',\n",
            "       ' Active Std', ' Active Max', ' Active Min', 'Idle Mean', ' Idle Std',\n",
            "       ' Idle Max', ' Idle Min', ' Inbound'],\n",
            "      dtype='object') \n",
            "\n",
            "Object Columns: \n",
            "Index(['Flow ID', ' Source IP', ' Destination IP', ' Timestamp',\n",
            "       'SimillarHTTP', 'label'],\n",
            "      dtype='object') \n",
            "\n",
            "Number of Numeric Features:  81\n",
            "Number of Object Features:  6\n"
          ]
        }
      ],
      "source": [
        "numeric_df = df1.select_dtypes(include=['int64', 'float64'])\n",
        "object_df = df1.select_dtypes(include=['object'])\n",
        "numeric_cols = numeric_df.columns\n",
        "object_cols = object_df.columns\n",
        "print('Numeric Columns: ')\n",
        "print(numeric_cols, '\\n')\n",
        "print('Object Columns: ')\n",
        "print(object_cols, '\\n')\n",
        "print('Number of Numeric Features: ', len(numeric_cols))\n",
        "print('Number of Object Features: ', len(object_cols))"
      ]
    },
    {
      "cell_type": "code",
      "execution_count": null,
      "metadata": {
        "colab": {
          "base_uri": "https://localhost:8080/",
          "height": 567
        },
        "id": "GIylT_AklWGK",
        "outputId": "99d13f6c-69c5-4348-9965-3c192c198a08"
      },
      "outputs": [
        {
          "data": {
            "text/plain": [
              "<seaborn.axisgrid.PairGrid at 0x7f344b650a90>"
            ]
          },
          "execution_count": 18,
          "metadata": {},
          "output_type": "execute_result"
        },
        {
          "data": {
            "image/png": "[encoded data removed]",
            "text/plain": [
              "<Figure size 591.875x540 with 12 Axes>"
            ]
          },
          "metadata": {
            "needs_background": "light"
          },
          "output_type": "display_data"
        }
      ],
      "source": [
        "sns.pairplot(df1,hue=\"label\",vars=[' Flow Duration', 'Flow Bytes/s', ' Inbound' ])"
      ]
    },
    {
      "cell_type": "code",
      "execution_count": null,
      "metadata": {
        "id": "W7HXnBur9VVd"
      },
      "outputs": [],
      "source": [
        "data_X = df1.drop(['label','SimillarHTTP'], axis = 1)"
      ]
    },
    {
      "cell_type": "code",
      "execution_count": null,
      "metadata": {
        "colab": {
          "base_uri": "https://localhost:8080/"
        },
        "id": "eD-V5Nnm9g_a",
        "outputId": "5498f155-eec2-48b7-fae6-7291ed90d023"
      },
      "outputs": [
        {
          "data": {
            "text/plain": [
              "(390372, 85)"
            ]
          },
          "execution_count": 20,
          "metadata": {},
          "output_type": "execute_result"
        }
      ],
      "source": [
        "data_X.shape"
      ]
    },
    {
      "cell_type": "code",
      "execution_count": null,
      "metadata": {
        "id": "cjlwrGGy9nq2"
      },
      "outputs": [],
      "source": [
        "data_y = df1['label']"
      ]
    },
    {
      "cell_type": "code",
      "execution_count": null,
      "metadata": {
        "colab": {
          "base_uri": "https://localhost:8080/"
        },
        "id": "EyaaSadr9hG8",
        "outputId": "88a19eb4-46dd-4451-b6e8-c331fdce0791"
      },
      "outputs": [
        {
          "data": {
            "text/plain": [
              "(390372,)"
            ]
          },
          "execution_count": 22,
          "metadata": {},
          "output_type": "execute_result"
        }
      ],
      "source": [
        "data_y.shape"
      ]
    },
    {
      "cell_type": "code",
      "execution_count": null,
      "metadata": {
        "colab": {
          "base_uri": "https://localhost:8080/"
        },
        "id": "V5DyVpVO95pi",
        "outputId": "7949b353-aba9-4291-ed5c-256711e07ad9"
      },
      "outputs": [
        {
          "data": {
            "text/plain": [
              "0"
            ]
          },
          "execution_count": 23,
          "metadata": {},
          "output_type": "execute_result"
        }
      ],
      "source": [
        "df1.isnull().sum().sum()"
      ]
    },
    {
      "cell_type": "code",
      "execution_count": null,
      "metadata": {
        "colab": {
          "base_uri": "https://localhost:8080/"
        },
        "id": "leyL5K_995vq",
        "outputId": "ff2e5611-6148-40c1-85b0-92d0baf3e4b9"
      },
      "outputs": [
        {
          "data": {
            "text/plain": [
              "array([0.0, 1.0], dtype=object)"
            ]
          },
          "execution_count": 24,
          "metadata": {},
          "output_type": "execute_result"
        }
      ],
      "source": [
        "data_y.unique()"
      ]
    },
    {
      "cell_type": "code",
      "execution_count": null,
      "metadata": {
        "colab": {
          "base_uri": "https://localhost:8080/"
        },
        "id": "CfwoPEbXX65Y",
        "outputId": "72679bc7-f7de-4b83-fa44-51ff4958baa8"
      },
      "outputs": [
        {
          "data": {
            "text/plain": [
              "0        0.0\n",
              "1        0.0\n",
              "2        0.0\n",
              "3        0.0\n",
              "4        0.0\n",
              "        ... \n",
              "39995    0.0\n",
              "39996    0.0\n",
              "39997    0.0\n",
              "39998    0.0\n",
              "39999    0.0\n",
              "Name: label, Length: 390372, dtype: object"
            ]
          },
          "execution_count": 25,
          "metadata": {},
          "output_type": "execute_result"
        }
      ],
      "source": [
        "data_y"
      ]
    },
    {
      "cell_type": "code",
      "execution_count": null,
      "metadata": {
        "colab": {
          "base_uri": "https://localhost:8080/",
          "height": 1000
        },
        "id": "_uJ67oRr9_zb",
        "outputId": "dae19ac1-450c-4e89-fa6e-eea6a1d326a7"
      },
      "outputs": [
        {
          "data": {
            "text/html": [
              "\n",
              "  <div id=\"df-3577ac50-616d-4bd6-b890-435ec51b62b0\">\n",
              "    <div class=\"colab-df-container\">\n",
              "      <div>\n",
              "<style scoped>\n",
              "    .dataframe tbody tr th:only-of-type {\n",
              "        vertical-align: middle;\n",
              "    }\n",
              "\n",
              "    .dataframe tbody tr th {\n",
              "        vertical-align: top;\n",
              "    }\n",
              "\n",
              "    .dataframe thead th {\n",
              "        text-align: right;\n",
              "    }\n",
              "</style>\n",
              "<table border=\"1\" class=\"dataframe\">\n",
              "  <thead>\n",
              "    <tr style=\"text-align: right;\">\n",
              "      <th></th>\n",
              "      <th>Flow ID</th>\n",
              "      <th>Source IP</th>\n",
              "      <th>Source Port</th>\n",
              "      <th>Destination IP</th>\n",
              "      <th>Destination Port</th>\n",
              "      <th>Protocol</th>\n",
              "      <th>Timestamp</th>\n",
              "      <th>Flow Duration</th>\n",
              "      <th>Total Fwd Packets</th>\n",
              "      <th>Total Backward Packets</th>\n",
              "      <th>...</th>\n",
              "      <th>min_seg_size_forward</th>\n",
              "      <th>Active Mean</th>\n",
              "      <th>Active Std</th>\n",
              "      <th>Active Max</th>\n",
              "      <th>Active Min</th>\n",
              "      <th>Idle Mean</th>\n",
              "      <th>Idle Std</th>\n",
              "      <th>Idle Max</th>\n",
              "      <th>Idle Min</th>\n",
              "      <th>Inbound</th>\n",
              "    </tr>\n",
              "  </thead>\n",
              "  <tbody>\n",
              "    <tr>\n",
              "      <th>0</th>\n",
              "      <td>172.16.0.5-192.168.50.1-634-60495-17</td>\n",
              "      <td>172.16.0.5</td>\n",
              "      <td>634</td>\n",
              "      <td>192.168.50.1</td>\n",
              "      <td>60495</td>\n",
              "      <td>17</td>\n",
              "      <td>2018-12-01 10:51:39.813448</td>\n",
              "      <td>28415</td>\n",
              "      <td>97</td>\n",
              "      <td>0</td>\n",
              "      <td>...</td>\n",
              "      <td>-1</td>\n",
              "      <td>0.0</td>\n",
              "      <td>0.0</td>\n",
              "      <td>0.0</td>\n",
              "      <td>0.0</td>\n",
              "      <td>0.0</td>\n",
              "      <td>0.0</td>\n",
              "      <td>0.0</td>\n",
              "      <td>0.0</td>\n",
              "      <td>1</td>\n",
              "    </tr>\n",
              "    <tr>\n",
              "      <th>1</th>\n",
              "      <td>172.16.0.5-192.168.50.1-60495-634-17</td>\n",
              "      <td>192.168.50.1</td>\n",
              "      <td>634</td>\n",
              "      <td>172.16.0.5</td>\n",
              "      <td>60495</td>\n",
              "      <td>17</td>\n",
              "      <td>2018-12-01 10:51:39.820842</td>\n",
              "      <td>2</td>\n",
              "      <td>2</td>\n",
              "      <td>0</td>\n",
              "      <td>...</td>\n",
              "      <td>-1</td>\n",
              "      <td>0.0</td>\n",
              "      <td>0.0</td>\n",
              "      <td>0.0</td>\n",
              "      <td>0.0</td>\n",
              "      <td>0.0</td>\n",
              "      <td>0.0</td>\n",
              "      <td>0.0</td>\n",
              "      <td>0.0</td>\n",
              "      <td>0</td>\n",
              "    </tr>\n",
              "    <tr>\n",
              "      <th>2</th>\n",
              "      <td>172.16.0.5-192.168.50.1-634-46391-17</td>\n",
              "      <td>172.16.0.5</td>\n",
              "      <td>634</td>\n",
              "      <td>192.168.50.1</td>\n",
              "      <td>46391</td>\n",
              "      <td>17</td>\n",
              "      <td>2018-12-01 10:51:39.852499</td>\n",
              "      <td>48549</td>\n",
              "      <td>200</td>\n",
              "      <td>0</td>\n",
              "      <td>...</td>\n",
              "      <td>-1</td>\n",
              "      <td>0.0</td>\n",
              "      <td>0.0</td>\n",
              "      <td>0.0</td>\n",
              "      <td>0.0</td>\n",
              "      <td>0.0</td>\n",
              "      <td>0.0</td>\n",
              "      <td>0.0</td>\n",
              "      <td>0.0</td>\n",
              "      <td>1</td>\n",
              "    </tr>\n",
              "    <tr>\n",
              "      <th>3</th>\n",
              "      <td>172.16.0.5-192.168.50.1-634-11894-17</td>\n",
              "      <td>172.16.0.5</td>\n",
              "      <td>634</td>\n",
              "      <td>192.168.50.1</td>\n",
              "      <td>11894</td>\n",
              "      <td>17</td>\n",
              "      <td>2018-12-01 10:51:39.890213</td>\n",
              "      <td>48337</td>\n",
              "      <td>200</td>\n",
              "      <td>0</td>\n",
              "      <td>...</td>\n",
              "      <td>-1</td>\n",
              "      <td>0.0</td>\n",
              "      <td>0.0</td>\n",
              "      <td>0.0</td>\n",
              "      <td>0.0</td>\n",
              "      <td>0.0</td>\n",
              "      <td>0.0</td>\n",
              "      <td>0.0</td>\n",
              "      <td>0.0</td>\n",
              "      <td>1</td>\n",
              "    </tr>\n",
              "    <tr>\n",
              "      <th>4</th>\n",
              "      <td>172.16.0.5-192.168.50.1-634-27878-17</td>\n",
              "      <td>172.16.0.5</td>\n",
              "      <td>634</td>\n",
              "      <td>192.168.50.1</td>\n",
              "      <td>27878</td>\n",
              "      <td>17</td>\n",
              "      <td>2018-12-01 10:51:39.941151</td>\n",
              "      <td>32026</td>\n",
              "      <td>200</td>\n",
              "      <td>0</td>\n",
              "      <td>...</td>\n",
              "      <td>-1</td>\n",
              "      <td>0.0</td>\n",
              "      <td>0.0</td>\n",
              "      <td>0.0</td>\n",
              "      <td>0.0</td>\n",
              "      <td>0.0</td>\n",
              "      <td>0.0</td>\n",
              "      <td>0.0</td>\n",
              "      <td>0.0</td>\n",
              "      <td>1</td>\n",
              "    </tr>\n",
              "    <tr>\n",
              "      <th>...</th>\n",
              "      <td>...</td>\n",
              "      <td>...</td>\n",
              "      <td>...</td>\n",
              "      <td>...</td>\n",
              "      <td>...</td>\n",
              "      <td>...</td>\n",
              "      <td>...</td>\n",
              "      <td>...</td>\n",
              "      <td>...</td>\n",
              "      <td>...</td>\n",
              "      <td>...</td>\n",
              "      <td>...</td>\n",
              "      <td>...</td>\n",
              "      <td>...</td>\n",
              "      <td>...</td>\n",
              "      <td>...</td>\n",
              "      <td>...</td>\n",
              "      <td>...</td>\n",
              "      <td>...</td>\n",
              "      <td>...</td>\n",
              "      <td>...</td>\n",
              "    </tr>\n",
              "    <tr>\n",
              "      <th>39995</th>\n",
              "      <td>172.16.0.5-192.168.50.1-57151-14047-17</td>\n",
              "      <td>172.16.0.5</td>\n",
              "      <td>57151</td>\n",
              "      <td>192.168.50.1</td>\n",
              "      <td>14047</td>\n",
              "      <td>17</td>\n",
              "      <td>2018-12-01 13:04:59.420235</td>\n",
              "      <td>1</td>\n",
              "      <td>2</td>\n",
              "      <td>0</td>\n",
              "      <td>...</td>\n",
              "      <td>0</td>\n",
              "      <td>0.0</td>\n",
              "      <td>0.0</td>\n",
              "      <td>0.0</td>\n",
              "      <td>0.0</td>\n",
              "      <td>0.0</td>\n",
              "      <td>0.0</td>\n",
              "      <td>0.0</td>\n",
              "      <td>0.0</td>\n",
              "      <td>1</td>\n",
              "    </tr>\n",
              "    <tr>\n",
              "      <th>39996</th>\n",
              "      <td>172.16.0.5-192.168.50.1-58534-39869-17</td>\n",
              "      <td>172.16.0.5</td>\n",
              "      <td>58534</td>\n",
              "      <td>192.168.50.1</td>\n",
              "      <td>39869</td>\n",
              "      <td>17</td>\n",
              "      <td>2018-12-01 13:04:59.421387</td>\n",
              "      <td>2</td>\n",
              "      <td>2</td>\n",
              "      <td>0</td>\n",
              "      <td>...</td>\n",
              "      <td>0</td>\n",
              "      <td>0.0</td>\n",
              "      <td>0.0</td>\n",
              "      <td>0.0</td>\n",
              "      <td>0.0</td>\n",
              "      <td>0.0</td>\n",
              "      <td>0.0</td>\n",
              "      <td>0.0</td>\n",
              "      <td>0.0</td>\n",
              "      <td>1</td>\n",
              "    </tr>\n",
              "    <tr>\n",
              "      <th>39997</th>\n",
              "      <td>172.16.0.5-192.168.50.1-59491-26346-17</td>\n",
              "      <td>172.16.0.5</td>\n",
              "      <td>59491</td>\n",
              "      <td>192.168.50.1</td>\n",
              "      <td>26346</td>\n",
              "      <td>17</td>\n",
              "      <td>2018-12-01 13:04:59.427021</td>\n",
              "      <td>2</td>\n",
              "      <td>2</td>\n",
              "      <td>0</td>\n",
              "      <td>...</td>\n",
              "      <td>0</td>\n",
              "      <td>0.0</td>\n",
              "      <td>0.0</td>\n",
              "      <td>0.0</td>\n",
              "      <td>0.0</td>\n",
              "      <td>0.0</td>\n",
              "      <td>0.0</td>\n",
              "      <td>0.0</td>\n",
              "      <td>0.0</td>\n",
              "      <td>1</td>\n",
              "    </tr>\n",
              "    <tr>\n",
              "      <th>39998</th>\n",
              "      <td>172.16.0.5-192.168.50.1-57565-51456-17</td>\n",
              "      <td>172.16.0.5</td>\n",
              "      <td>57565</td>\n",
              "      <td>192.168.50.1</td>\n",
              "      <td>51456</td>\n",
              "      <td>17</td>\n",
              "      <td>2018-12-01 13:04:59.427638</td>\n",
              "      <td>3</td>\n",
              "      <td>2</td>\n",
              "      <td>0</td>\n",
              "      <td>...</td>\n",
              "      <td>0</td>\n",
              "      <td>0.0</td>\n",
              "      <td>0.0</td>\n",
              "      <td>0.0</td>\n",
              "      <td>0.0</td>\n",
              "      <td>0.0</td>\n",
              "      <td>0.0</td>\n",
              "      <td>0.0</td>\n",
              "      <td>0.0</td>\n",
              "      <td>1</td>\n",
              "    </tr>\n",
              "    <tr>\n",
              "      <th>39999</th>\n",
              "      <td>172.16.0.5-192.168.50.1-59492-9957-17</td>\n",
              "      <td>172.16.0.5</td>\n",
              "      <td>59492</td>\n",
              "      <td>192.168.50.1</td>\n",
              "      <td>9957</td>\n",
              "      <td>17</td>\n",
              "      <td>2018-12-01 13:04:59.428109</td>\n",
              "      <td>3</td>\n",
              "      <td>2</td>\n",
              "      <td>0</td>\n",
              "      <td>...</td>\n",
              "      <td>0</td>\n",
              "      <td>0.0</td>\n",
              "      <td>0.0</td>\n",
              "      <td>0.0</td>\n",
              "      <td>0.0</td>\n",
              "      <td>0.0</td>\n",
              "      <td>0.0</td>\n",
              "      <td>0.0</td>\n",
              "      <td>0.0</td>\n",
              "      <td>1</td>\n",
              "    </tr>\n",
              "  </tbody>\n",
              "</table>\n",
              "<p>390372 rows × 85 columns</p>\n",
              "</div>\n",
              "      <button class=\"colab-df-convert\" onclick=\"convertToInteractive('df-3577ac50-616d-4bd6-b890-435ec51b62b0')\"\n",
              "              title=\"Convert this dataframe to an interactive table.\"\n",
              "              style=\"display:none;\">\n",
              "        \n",
              "  <svg xmlns=\"http://www.w3.org/2000/svg\" height=\"24px\"viewBox=\"0 0 24 24\"\n",
              "       width=\"24px\">\n",
              "    <path d=\"M0 0h24v24H0V0z\" fill=\"none\"/>\n",
              "    <path d=\"M18.56 5.44l.94 2.06.94-2.06 2.06-.94-2.06-.94-.94-2.06-.94 2.06-2.06.94zm-11 1L8.5 8.5l.94-2.06 2.06-.94-2.06-.94L8.5 2.5l-.94 2.06-2.06.94zm10 10l.94 2.06.94-2.06 2.06-.94-2.06-.94-.94-2.06-.94 2.06-2.06.94z\"/><path d=\"M17.41 7.96l-1.37-1.37c-.4-.4-.92-.59-1.43-.59-.52 0-1.04.2-1.43.59L10.3 9.45l-7.72 7.72c-.78.78-.78 2.05 0 2.83L4 21.41c.39.39.9.59 1.41.59.51 0 1.02-.2 1.41-.59l7.78-7.78 2.81-2.81c.8-.78.8-2.07 0-2.86zM5.41 20L4 18.59l7.72-7.72 1.47 1.35L5.41 20z\"/>\n",
              "  </svg>\n",
              "      </button>\n",
              "      \n",
              "  <style>\n",
              "    .colab-df-container {\n",
              "      display:flex;\n",
              "      flex-wrap:wrap;\n",
              "      gap: 12px;\n",
              "    }\n",
              "\n",
              "    .colab-df-convert {\n",
              "      background-color: #E8F0FE;\n",
              "      border: none;\n",
              "      border-radius: 50%;\n",
              "      cursor: pointer;\n",
              "      display: none;\n",
              "      fill: #1967D2;\n",
              "      height: 32px;\n",
              "      padding: 0 0 0 0;\n",
              "      width: 32px;\n",
              "    }\n",
              "\n",
              "    .colab-df-convert:hover {\n",
              "      background-color: #E2EBFA;\n",
              "      box-shadow: 0px 1px 2px rgba(60, 64, 67, 0.3), 0px 1px 3px 1px rgba(60, 64, 67, 0.15);\n",
              "      fill: #174EA6;\n",
              "    }\n",
              "\n",
              "    [theme=dark] .colab-df-convert {\n",
              "      background-color: #3B4455;\n",
              "      fill: #D2E3FC;\n",
              "    }\n",
              "\n",
              "    [theme=dark] .colab-df-convert:hover {\n",
              "      background-color: #434B5C;\n",
              "      box-shadow: 0px 1px 3px 1px rgba(0, 0, 0, 0.15);\n",
              "      filter: drop-shadow(0px 1px 2px rgba(0, 0, 0, 0.3));\n",
              "      fill: #FFFFFF;\n",
              "    }\n",
              "  </style>\n",
              "\n",
              "      <script>\n",
              "        const buttonEl =\n",
              "          document.querySelector('#df-3577ac50-616d-4bd6-b890-435ec51b62b0 button.colab-df-convert');\n",
              "        buttonEl.style.display =\n",
              "          google.colab.kernel.accessAllowed ? 'block' : 'none';\n",
              "\n",
              "        async function convertToInteractive(key) {\n",
              "          const element = document.querySelector('#df-3577ac50-616d-4bd6-b890-435ec51b62b0');\n",
              "          const dataTable =\n",
              "            await google.colab.kernel.invokeFunction('convertToInteractive',\n",
              "                                                     [key], {});\n",
              "          if (!dataTable) return;\n",
              "\n",
              "          const docLinkHtml = 'Like what you see? Visit the ' +\n",
              "            '<a target=\"_blank\" href=https://colab.research.google.com/notebooks/data_table.ipynb>data table notebook</a>'\n",
              "            + ' to learn more about interactive tables.';\n",
              "          element.innerHTML = '';\n",
              "          dataTable['output_type'] = 'display_data';\n",
              "          await google.colab.output.renderOutput(dataTable, element);\n",
              "          const docLink = document.createElement('div');\n",
              "          docLink.innerHTML = docLinkHtml;\n",
              "          element.appendChild(docLink);\n",
              "        }\n",
              "      </script>\n",
              "    </div>\n",
              "  </div>\n",
              "  "
            ],
            "text/plain": [
              "                                      Flow ID     Source IP   Source Port  \\\n",
              "0        172.16.0.5-192.168.50.1-634-60495-17    172.16.0.5           634   \n",
              "1        172.16.0.5-192.168.50.1-60495-634-17  192.168.50.1           634   \n",
              "2        172.16.0.5-192.168.50.1-634-46391-17    172.16.0.5           634   \n",
              "3        172.16.0.5-192.168.50.1-634-11894-17    172.16.0.5           634   \n",
              "4        172.16.0.5-192.168.50.1-634-27878-17    172.16.0.5           634   \n",
              "...                                       ...           ...           ...   \n",
              "39995  172.16.0.5-192.168.50.1-57151-14047-17    172.16.0.5         57151   \n",
              "39996  172.16.0.5-192.168.50.1-58534-39869-17    172.16.0.5         58534   \n",
              "39997  172.16.0.5-192.168.50.1-59491-26346-17    172.16.0.5         59491   \n",
              "39998  172.16.0.5-192.168.50.1-57565-51456-17    172.16.0.5         57565   \n",
              "39999   172.16.0.5-192.168.50.1-59492-9957-17    172.16.0.5         59492   \n",
              "\n",
              "       Destination IP   Destination Port   Protocol  \\\n",
              "0        192.168.50.1              60495         17   \n",
              "1          172.16.0.5              60495         17   \n",
              "2        192.168.50.1              46391         17   \n",
              "3        192.168.50.1              11894         17   \n",
              "4        192.168.50.1              27878         17   \n",
              "...               ...                ...        ...   \n",
              "39995    192.168.50.1              14047         17   \n",
              "39996    192.168.50.1              39869         17   \n",
              "39997    192.168.50.1              26346         17   \n",
              "39998    192.168.50.1              51456         17   \n",
              "39999    192.168.50.1               9957         17   \n",
              "\n",
              "                        Timestamp   Flow Duration   Total Fwd Packets  \\\n",
              "0      2018-12-01 10:51:39.813448           28415                  97   \n",
              "1      2018-12-01 10:51:39.820842               2                   2   \n",
              "2      2018-12-01 10:51:39.852499           48549                 200   \n",
              "3      2018-12-01 10:51:39.890213           48337                 200   \n",
              "4      2018-12-01 10:51:39.941151           32026                 200   \n",
              "...                           ...             ...                 ...   \n",
              "39995  2018-12-01 13:04:59.420235               1                   2   \n",
              "39996  2018-12-01 13:04:59.421387               2                   2   \n",
              "39997  2018-12-01 13:04:59.427021               2                   2   \n",
              "39998  2018-12-01 13:04:59.427638               3                   2   \n",
              "39999  2018-12-01 13:04:59.428109               3                   2   \n",
              "\n",
              "        Total Backward Packets  ...   min_seg_size_forward  Active Mean  \\\n",
              "0                            0  ...                     -1          0.0   \n",
              "1                            0  ...                     -1          0.0   \n",
              "2                            0  ...                     -1          0.0   \n",
              "3                            0  ...                     -1          0.0   \n",
              "4                            0  ...                     -1          0.0   \n",
              "...                        ...  ...                    ...          ...   \n",
              "39995                        0  ...                      0          0.0   \n",
              "39996                        0  ...                      0          0.0   \n",
              "39997                        0  ...                      0          0.0   \n",
              "39998                        0  ...                      0          0.0   \n",
              "39999                        0  ...                      0          0.0   \n",
              "\n",
              "        Active Std   Active Max   Active Min  Idle Mean   Idle Std   Idle Max  \\\n",
              "0              0.0          0.0          0.0        0.0        0.0        0.0   \n",
              "1              0.0          0.0          0.0        0.0        0.0        0.0   \n",
              "2              0.0          0.0          0.0        0.0        0.0        0.0   \n",
              "3              0.0          0.0          0.0        0.0        0.0        0.0   \n",
              "4              0.0          0.0          0.0        0.0        0.0        0.0   \n",
              "...            ...          ...          ...        ...        ...        ...   \n",
              "39995          0.0          0.0          0.0        0.0        0.0        0.0   \n",
              "39996          0.0          0.0          0.0        0.0        0.0        0.0   \n",
              "39997          0.0          0.0          0.0        0.0        0.0        0.0   \n",
              "39998          0.0          0.0          0.0        0.0        0.0        0.0   \n",
              "39999          0.0          0.0          0.0        0.0        0.0        0.0   \n",
              "\n",
              "        Idle Min   Inbound  \n",
              "0            0.0         1  \n",
              "1            0.0         0  \n",
              "2            0.0         1  \n",
              "3            0.0         1  \n",
              "4            0.0         1  \n",
              "...          ...       ...  \n",
              "39995        0.0         1  \n",
              "39996        0.0         1  \n",
              "39997        0.0         1  \n",
              "39998        0.0         1  \n",
              "39999        0.0         1  \n",
              "\n",
              "[390372 rows x 85 columns]"
            ]
          },
          "execution_count": 29,
          "metadata": {},
          "output_type": "execute_result"
        }
      ],
      "source": [
        "data_X"
      ]
    },
    {
      "cell_type": "markdown",
      "metadata": {
        "id": "hmmnz2LkAV4I"
      },
      "source": [
        "**Label Encoding for the Dataset**"
      ]
    },
    {
      "cell_type": "code",
      "execution_count": null,
      "metadata": {
        "colab": {
          "base_uri": "https://localhost:8080/"
        },
        "id": "qk8FN7HwAZw2",
        "outputId": "1d6082b5-c761-4c34-ab44-ad5d97892f69"
      },
      "outputs": [
        {
          "data": {
            "text/plain": [
              "array([0, 0, 0, ..., 0, 0, 0])"
            ]
          },
          "execution_count": 26,
          "metadata": {},
          "output_type": "execute_result"
        }
      ],
      "source": [
        "from sklearn.preprocessing import LabelEncoder\n",
        "le = LabelEncoder()\n",
        "data_y_trans = le.fit_transform(data_y)\n",
        "data_y_trans"
      ]
    },
    {
      "cell_type": "code",
      "execution_count": null,
      "metadata": {
        "id": "A_0idy_mAjzH"
      },
      "outputs": [],
      "source": [
        "le_fid = LabelEncoder()"
      ]
    },
    {
      "cell_type": "code",
      "execution_count": null,
      "metadata": {
        "id": "JeGMds8lAnnZ"
      },
      "outputs": [],
      "source": [
        "le_fid.fit(data_X['Flow ID'])\n",
        "data_X['Flow ID'] = le_fid.fit_transform(data_X['Flow ID'])\n",
        "le_SIP = LabelEncoder()\n",
        "le_SIP.fit(data_X[' Source IP'])\n",
        "data_X[' Source IP'] = le_SIP.fit_transform(data_X[' Source IP'])\n",
        "le_DIP = LabelEncoder()\n",
        "le_DIP.fit(data_X[' Destination IP'])\n",
        "data_X[' Destination IP'] = le_DIP.fit_transform(data_X[' Destination IP'])\n",
        "le_timestamp = LabelEncoder()\n",
        "le_timestamp.fit(data_X[' Timestamp'])\n",
        "data_X[' Timestamp'] = le_timestamp.fit_transform(data_X[' Timestamp'])"
      ]
    },
    {
      "cell_type": "code",
      "execution_count": null,
      "metadata": {
        "colab": {
          "base_uri": "https://localhost:8080/",
          "height": 522
        },
        "id": "Uz91uU_rA28U",
        "outputId": "1b2e21b7-31de-4ce5-b9b4-341a5a7541e8"
      },
      "outputs": [
        {
          "data": {
            "text/html": [
              "\n",
              "  <div id=\"df-9a6a33d8-1ec0-4d92-a07b-3ca9a29d9813\">\n",
              "    <div class=\"colab-df-container\">\n",
              "      <div>\n",
              "<style scoped>\n",
              "    .dataframe tbody tr th:only-of-type {\n",
              "        vertical-align: middle;\n",
              "    }\n",
              "\n",
              "    .dataframe tbody tr th {\n",
              "        vertical-align: top;\n",
              "    }\n",
              "\n",
              "    .dataframe thead th {\n",
              "        text-align: right;\n",
              "    }\n",
              "</style>\n",
              "<table border=\"1\" class=\"dataframe\">\n",
              "  <thead>\n",
              "    <tr style=\"text-align: right;\">\n",
              "      <th></th>\n",
              "      <th>Flow ID</th>\n",
              "      <th>Source IP</th>\n",
              "      <th>Source Port</th>\n",
              "      <th>Destination IP</th>\n",
              "      <th>Destination Port</th>\n",
              "      <th>Protocol</th>\n",
              "      <th>Timestamp</th>\n",
              "      <th>Flow Duration</th>\n",
              "      <th>Total Fwd Packets</th>\n",
              "      <th>Total Backward Packets</th>\n",
              "      <th>...</th>\n",
              "      <th>min_seg_size_forward</th>\n",
              "      <th>Active Mean</th>\n",
              "      <th>Active Std</th>\n",
              "      <th>Active Max</th>\n",
              "      <th>Active Min</th>\n",
              "      <th>Idle Mean</th>\n",
              "      <th>Idle Std</th>\n",
              "      <th>Idle Max</th>\n",
              "      <th>Idle Min</th>\n",
              "      <th>Inbound</th>\n",
              "    </tr>\n",
              "  </thead>\n",
              "  <tbody>\n",
              "    <tr>\n",
              "      <th>0</th>\n",
              "      <td>235180</td>\n",
              "      <td>28</td>\n",
              "      <td>634</td>\n",
              "      <td>160</td>\n",
              "      <td>60495</td>\n",
              "      <td>17</td>\n",
              "      <td>39711</td>\n",
              "      <td>28415</td>\n",
              "      <td>97</td>\n",
              "      <td>0</td>\n",
              "      <td>...</td>\n",
              "      <td>-1</td>\n",
              "      <td>0.0</td>\n",
              "      <td>0.0</td>\n",
              "      <td>0.0</td>\n",
              "      <td>0.0</td>\n",
              "      <td>0.0</td>\n",
              "      <td>0.0</td>\n",
              "      <td>0.0</td>\n",
              "      <td>0.0</td>\n",
              "      <td>1</td>\n",
              "    </tr>\n",
              "    <tr>\n",
              "      <th>1</th>\n",
              "      <td>177539</td>\n",
              "      <td>145</td>\n",
              "      <td>634</td>\n",
              "      <td>35</td>\n",
              "      <td>60495</td>\n",
              "      <td>17</td>\n",
              "      <td>39712</td>\n",
              "      <td>2</td>\n",
              "      <td>2</td>\n",
              "      <td>0</td>\n",
              "      <td>...</td>\n",
              "      <td>-1</td>\n",
              "      <td>0.0</td>\n",
              "      <td>0.0</td>\n",
              "      <td>0.0</td>\n",
              "      <td>0.0</td>\n",
              "      <td>0.0</td>\n",
              "      <td>0.0</td>\n",
              "      <td>0.0</td>\n",
              "      <td>0.0</td>\n",
              "      <td>0</td>\n",
              "    </tr>\n",
              "    <tr>\n",
              "      <th>2</th>\n",
              "      <td>228665</td>\n",
              "      <td>28</td>\n",
              "      <td>634</td>\n",
              "      <td>160</td>\n",
              "      <td>46391</td>\n",
              "      <td>17</td>\n",
              "      <td>39713</td>\n",
              "      <td>48549</td>\n",
              "      <td>200</td>\n",
              "      <td>0</td>\n",
              "      <td>...</td>\n",
              "      <td>-1</td>\n",
              "      <td>0.0</td>\n",
              "      <td>0.0</td>\n",
              "      <td>0.0</td>\n",
              "      <td>0.0</td>\n",
              "      <td>0.0</td>\n",
              "      <td>0.0</td>\n",
              "      <td>0.0</td>\n",
              "      <td>0.0</td>\n",
              "      <td>1</td>\n",
              "    </tr>\n",
              "    <tr>\n",
              "      <th>3</th>\n",
              "      <td>212797</td>\n",
              "      <td>28</td>\n",
              "      <td>634</td>\n",
              "      <td>160</td>\n",
              "      <td>11894</td>\n",
              "      <td>17</td>\n",
              "      <td>39714</td>\n",
              "      <td>48337</td>\n",
              "      <td>200</td>\n",
              "      <td>0</td>\n",
              "      <td>...</td>\n",
              "      <td>-1</td>\n",
              "      <td>0.0</td>\n",
              "      <td>0.0</td>\n",
              "      <td>0.0</td>\n",
              "      <td>0.0</td>\n",
              "      <td>0.0</td>\n",
              "      <td>0.0</td>\n",
              "      <td>0.0</td>\n",
              "      <td>0.0</td>\n",
              "      <td>1</td>\n",
              "    </tr>\n",
              "    <tr>\n",
              "      <th>4</th>\n",
              "      <td>220109</td>\n",
              "      <td>28</td>\n",
              "      <td>634</td>\n",
              "      <td>160</td>\n",
              "      <td>27878</td>\n",
              "      <td>17</td>\n",
              "      <td>39715</td>\n",
              "      <td>32026</td>\n",
              "      <td>200</td>\n",
              "      <td>0</td>\n",
              "      <td>...</td>\n",
              "      <td>-1</td>\n",
              "      <td>0.0</td>\n",
              "      <td>0.0</td>\n",
              "      <td>0.0</td>\n",
              "      <td>0.0</td>\n",
              "      <td>0.0</td>\n",
              "      <td>0.0</td>\n",
              "      <td>0.0</td>\n",
              "      <td>0.0</td>\n",
              "      <td>1</td>\n",
              "    </tr>\n",
              "    <tr>\n",
              "      <th>...</th>\n",
              "      <td>...</td>\n",
              "      <td>...</td>\n",
              "      <td>...</td>\n",
              "      <td>...</td>\n",
              "      <td>...</td>\n",
              "      <td>...</td>\n",
              "      <td>...</td>\n",
              "      <td>...</td>\n",
              "      <td>...</td>\n",
              "      <td>...</td>\n",
              "      <td>...</td>\n",
              "      <td>...</td>\n",
              "      <td>...</td>\n",
              "      <td>...</td>\n",
              "      <td>...</td>\n",
              "      <td>...</td>\n",
              "      <td>...</td>\n",
              "      <td>...</td>\n",
              "      <td>...</td>\n",
              "      <td>...</td>\n",
              "      <td>...</td>\n",
              "    </tr>\n",
              "    <tr>\n",
              "      <th>39995</th>\n",
              "      <td>156493</td>\n",
              "      <td>28</td>\n",
              "      <td>57151</td>\n",
              "      <td>160</td>\n",
              "      <td>14047</td>\n",
              "      <td>17</td>\n",
              "      <td>353804</td>\n",
              "      <td>1</td>\n",
              "      <td>2</td>\n",
              "      <td>0</td>\n",
              "      <td>...</td>\n",
              "      <td>0</td>\n",
              "      <td>0.0</td>\n",
              "      <td>0.0</td>\n",
              "      <td>0.0</td>\n",
              "      <td>0.0</td>\n",
              "      <td>0.0</td>\n",
              "      <td>0.0</td>\n",
              "      <td>0.0</td>\n",
              "      <td>0.0</td>\n",
              "      <td>1</td>\n",
              "    </tr>\n",
              "    <tr>\n",
              "      <th>39996</th>\n",
              "      <td>165505</td>\n",
              "      <td>28</td>\n",
              "      <td>58534</td>\n",
              "      <td>160</td>\n",
              "      <td>39869</td>\n",
              "      <td>17</td>\n",
              "      <td>353805</td>\n",
              "      <td>2</td>\n",
              "      <td>2</td>\n",
              "      <td>0</td>\n",
              "      <td>...</td>\n",
              "      <td>0</td>\n",
              "      <td>0.0</td>\n",
              "      <td>0.0</td>\n",
              "      <td>0.0</td>\n",
              "      <td>0.0</td>\n",
              "      <td>0.0</td>\n",
              "      <td>0.0</td>\n",
              "      <td>0.0</td>\n",
              "      <td>0.0</td>\n",
              "      <td>1</td>\n",
              "    </tr>\n",
              "    <tr>\n",
              "      <th>39997</th>\n",
              "      <td>171085</td>\n",
              "      <td>28</td>\n",
              "      <td>59491</td>\n",
              "      <td>160</td>\n",
              "      <td>26346</td>\n",
              "      <td>17</td>\n",
              "      <td>353806</td>\n",
              "      <td>2</td>\n",
              "      <td>2</td>\n",
              "      <td>0</td>\n",
              "      <td>...</td>\n",
              "      <td>0</td>\n",
              "      <td>0.0</td>\n",
              "      <td>0.0</td>\n",
              "      <td>0.0</td>\n",
              "      <td>0.0</td>\n",
              "      <td>0.0</td>\n",
              "      <td>0.0</td>\n",
              "      <td>0.0</td>\n",
              "      <td>0.0</td>\n",
              "      <td>1</td>\n",
              "    </tr>\n",
              "    <tr>\n",
              "      <th>39998</th>\n",
              "      <td>159155</td>\n",
              "      <td>28</td>\n",
              "      <td>57565</td>\n",
              "      <td>160</td>\n",
              "      <td>51456</td>\n",
              "      <td>17</td>\n",
              "      <td>353807</td>\n",
              "      <td>3</td>\n",
              "      <td>2</td>\n",
              "      <td>0</td>\n",
              "      <td>...</td>\n",
              "      <td>0</td>\n",
              "      <td>0.0</td>\n",
              "      <td>0.0</td>\n",
              "      <td>0.0</td>\n",
              "      <td>0.0</td>\n",
              "      <td>0.0</td>\n",
              "      <td>0.0</td>\n",
              "      <td>0.0</td>\n",
              "      <td>0.0</td>\n",
              "      <td>1</td>\n",
              "    </tr>\n",
              "    <tr>\n",
              "      <th>39999</th>\n",
              "      <td>171096</td>\n",
              "      <td>28</td>\n",
              "      <td>59492</td>\n",
              "      <td>160</td>\n",
              "      <td>9957</td>\n",
              "      <td>17</td>\n",
              "      <td>353808</td>\n",
              "      <td>3</td>\n",
              "      <td>2</td>\n",
              "      <td>0</td>\n",
              "      <td>...</td>\n",
              "      <td>0</td>\n",
              "      <td>0.0</td>\n",
              "      <td>0.0</td>\n",
              "      <td>0.0</td>\n",
              "      <td>0.0</td>\n",
              "      <td>0.0</td>\n",
              "      <td>0.0</td>\n",
              "      <td>0.0</td>\n",
              "      <td>0.0</td>\n",
              "      <td>1</td>\n",
              "    </tr>\n",
              "  </tbody>\n",
              "</table>\n",
              "<p>390372 rows × 85 columns</p>\n",
              "</div>\n",
              "      <button class=\"colab-df-convert\" onclick=\"convertToInteractive('df-9a6a33d8-1ec0-4d92-a07b-3ca9a29d9813')\"\n",
              "              title=\"Convert this dataframe to an interactive table.\"\n",
              "              style=\"display:none;\">\n",
              "        \n",
              "  <svg xmlns=\"http://www.w3.org/2000/svg\" height=\"24px\"viewBox=\"0 0 24 24\"\n",
              "       width=\"24px\">\n",
              "    <path d=\"M0 0h24v24H0V0z\" fill=\"none\"/>\n",
              "    <path d=\"M18.56 5.44l.94 2.06.94-2.06 2.06-.94-2.06-.94-.94-2.06-.94 2.06-2.06.94zm-11 1L8.5 8.5l.94-2.06 2.06-.94-2.06-.94L8.5 2.5l-.94 2.06-2.06.94zm10 10l.94 2.06.94-2.06 2.06-.94-2.06-.94-.94-2.06-.94 2.06-2.06.94z\"/><path d=\"M17.41 7.96l-1.37-1.37c-.4-.4-.92-.59-1.43-.59-.52 0-1.04.2-1.43.59L10.3 9.45l-7.72 7.72c-.78.78-.78 2.05 0 2.83L4 21.41c.39.39.9.59 1.41.59.51 0 1.02-.2 1.41-.59l7.78-7.78 2.81-2.81c.8-.78.8-2.07 0-2.86zM5.41 20L4 18.59l7.72-7.72 1.47 1.35L5.41 20z\"/>\n",
              "  </svg>\n",
              "      </button>\n",
              "      \n",
              "  <style>\n",
              "    .colab-df-container {\n",
              "      display:flex;\n",
              "      flex-wrap:wrap;\n",
              "      gap: 12px;\n",
              "    }\n",
              "\n",
              "    .colab-df-convert {\n",
              "      background-color: #E8F0FE;\n",
              "      border: none;\n",
              "      border-radius: 50%;\n",
              "      cursor: pointer;\n",
              "      display: none;\n",
              "      fill: #1967D2;\n",
              "      height: 32px;\n",
              "      padding: 0 0 0 0;\n",
              "      width: 32px;\n",
              "    }\n",
              "\n",
              "    .colab-df-convert:hover {\n",
              "      background-color: #E2EBFA;\n",
              "      box-shadow: 0px 1px 2px rgba(60, 64, 67, 0.3), 0px 1px 3px 1px rgba(60, 64, 67, 0.15);\n",
              "      fill: #174EA6;\n",
              "    }\n",
              "\n",
              "    [theme=dark] .colab-df-convert {\n",
              "      background-color: #3B4455;\n",
              "      fill: #D2E3FC;\n",
              "    }\n",
              "\n",
              "    [theme=dark] .colab-df-convert:hover {\n",
              "      background-color: #434B5C;\n",
              "      box-shadow: 0px 1px 3px 1px rgba(0, 0, 0, 0.15);\n",
              "      filter: drop-shadow(0px 1px 2px rgba(0, 0, 0, 0.3));\n",
              "      fill: #FFFFFF;\n",
              "    }\n",
              "  </style>\n",
              "\n",
              "      <script>\n",
              "        const buttonEl =\n",
              "          document.querySelector('#df-9a6a33d8-1ec0-4d92-a07b-3ca9a29d9813 button.colab-df-convert');\n",
              "        buttonEl.style.display =\n",
              "          google.colab.kernel.accessAllowed ? 'block' : 'none';\n",
              "\n",
              "        async function convertToInteractive(key) {\n",
              "          const element = document.querySelector('#df-9a6a33d8-1ec0-4d92-a07b-3ca9a29d9813');\n",
              "          const dataTable =\n",
              "            await google.colab.kernel.invokeFunction('convertToInteractive',\n",
              "                                                     [key], {});\n",
              "          if (!dataTable) return;\n",
              "\n",
              "          const docLinkHtml = 'Like what you see? Visit the ' +\n",
              "            '<a target=\"_blank\" href=https://colab.research.google.com/notebooks/data_table.ipynb>data table notebook</a>'\n",
              "            + ' to learn more about interactive tables.';\n",
              "          element.innerHTML = '';\n",
              "          dataTable['output_type'] = 'display_data';\n",
              "          await google.colab.output.renderOutput(dataTable, element);\n",
              "          const docLink = document.createElement('div');\n",
              "          docLink.innerHTML = docLinkHtml;\n",
              "          element.appendChild(docLink);\n",
              "        }\n",
              "      </script>\n",
              "    </div>\n",
              "  </div>\n",
              "  "
            ],
            "text/plain": [
              "       Flow ID   Source IP   Source Port   Destination IP   Destination Port  \\\n",
              "0       235180          28           634              160              60495   \n",
              "1       177539         145           634               35              60495   \n",
              "2       228665          28           634              160              46391   \n",
              "3       212797          28           634              160              11894   \n",
              "4       220109          28           634              160              27878   \n",
              "...        ...         ...           ...              ...                ...   \n",
              "39995   156493          28         57151              160              14047   \n",
              "39996   165505          28         58534              160              39869   \n",
              "39997   171085          28         59491              160              26346   \n",
              "39998   159155          28         57565              160              51456   \n",
              "39999   171096          28         59492              160               9957   \n",
              "\n",
              "        Protocol   Timestamp   Flow Duration   Total Fwd Packets  \\\n",
              "0             17       39711           28415                  97   \n",
              "1             17       39712               2                   2   \n",
              "2             17       39713           48549                 200   \n",
              "3             17       39714           48337                 200   \n",
              "4             17       39715           32026                 200   \n",
              "...          ...         ...             ...                 ...   \n",
              "39995         17      353804               1                   2   \n",
              "39996         17      353805               2                   2   \n",
              "39997         17      353806               2                   2   \n",
              "39998         17      353807               3                   2   \n",
              "39999         17      353808               3                   2   \n",
              "\n",
              "        Total Backward Packets  ...   min_seg_size_forward  Active Mean  \\\n",
              "0                            0  ...                     -1          0.0   \n",
              "1                            0  ...                     -1          0.0   \n",
              "2                            0  ...                     -1          0.0   \n",
              "3                            0  ...                     -1          0.0   \n",
              "4                            0  ...                     -1          0.0   \n",
              "...                        ...  ...                    ...          ...   \n",
              "39995                        0  ...                      0          0.0   \n",
              "39996                        0  ...                      0          0.0   \n",
              "39997                        0  ...                      0          0.0   \n",
              "39998                        0  ...                      0          0.0   \n",
              "39999                        0  ...                      0          0.0   \n",
              "\n",
              "        Active Std   Active Max   Active Min  Idle Mean   Idle Std   Idle Max  \\\n",
              "0              0.0          0.0          0.0        0.0        0.0        0.0   \n",
              "1              0.0          0.0          0.0        0.0        0.0        0.0   \n",
              "2              0.0          0.0          0.0        0.0        0.0        0.0   \n",
              "3              0.0          0.0          0.0        0.0        0.0        0.0   \n",
              "4              0.0          0.0          0.0        0.0        0.0        0.0   \n",
              "...            ...          ...          ...        ...        ...        ...   \n",
              "39995          0.0          0.0          0.0        0.0        0.0        0.0   \n",
              "39996          0.0          0.0          0.0        0.0        0.0        0.0   \n",
              "39997          0.0          0.0          0.0        0.0        0.0        0.0   \n",
              "39998          0.0          0.0          0.0        0.0        0.0        0.0   \n",
              "39999          0.0          0.0          0.0        0.0        0.0        0.0   \n",
              "\n",
              "        Idle Min   Inbound  \n",
              "0            0.0         1  \n",
              "1            0.0         0  \n",
              "2            0.0         1  \n",
              "3            0.0         1  \n",
              "4            0.0         1  \n",
              "...          ...       ...  \n",
              "39995        0.0         1  \n",
              "39996        0.0         1  \n",
              "39997        0.0         1  \n",
              "39998        0.0         1  \n",
              "39999        0.0         1  \n",
              "\n",
              "[390372 rows x 85 columns]"
            ]
          },
          "execution_count": 33,
          "metadata": {},
          "output_type": "execute_result"
        }
      ],
      "source": [
        "data_X"
      ]
    },
    {
      "cell_type": "markdown",
      "metadata": {
        "id": "HQfWOm93AC_g"
      },
      "source": [
        "**Feature Selection**"
      ]
    },
    {
      "cell_type": "code",
      "execution_count": null,
      "metadata": {
        "colab": {
          "base_uri": "https://localhost:8080/",
          "height": 75
        },
        "id": "20273XATAGmB",
        "outputId": "7058ea87-a1c0-4380-ff02-133fca8063d6"
      },
      "outputs": [
        {
          "data": {
            "text/html": [
              "<style>#sk-container-id-1 {color: black;background-color: white;}#sk-container-id-1 pre{padding: 0;}#sk-container-id-1 div.sk-toggleable {background-color: white;}#sk-container-id-1 label.sk-toggleable__label {cursor: pointer;display: block;width: 100%;margin-bottom: 0;padding: 0.3em;box-sizing: border-box;text-align: center;}#sk-container-id-1 label.sk-toggleable__label-arrow:before {content: \"▸\";float: left;margin-right: 0.25em;color: #696969;}#sk-container-id-1 label.sk-toggleable__label-arrow:hover:before {color: black;}#sk-container-id-1 div.sk-estimator:hover label.sk-toggleable__label-arrow:before {color: black;}#sk-container-id-1 div.sk-toggleable__content {max-height: 0;max-width: 0;overflow: hidden;text-align: left;background-color: #f0f8ff;}#sk-container-id-1 div.sk-toggleable__content pre {margin: 0.2em;color: black;border-radius: 0.25em;background-color: #f0f8ff;}#sk-container-id-1 input.sk-toggleable__control:checked~div.sk-toggleable__content {max-height: 200px;max-width: 100%;overflow: auto;}#sk-container-id-1 input.sk-toggleable__control:checked~label.sk-toggleable__label-arrow:before {content: \"▾\";}#sk-container-id-1 div.sk-estimator input.sk-toggleable__control:checked~label.sk-toggleable__label {background-color: #d4ebff;}#sk-container-id-1 div.sk-label input.sk-toggleable__control:checked~label.sk-toggleable__label {background-color: #d4ebff;}#sk-container-id-1 input.sk-hidden--visually {border: 0;clip: rect(1px 1px 1px 1px);clip: rect(1px, 1px, 1px, 1px);height: 1px;margin: -1px;overflow: hidden;padding: 0;position: absolute;width: 1px;}#sk-container-id-1 div.sk-estimator {font-family: monospace;background-color: #f0f8ff;border: 1px dotted black;border-radius: 0.25em;box-sizing: border-box;margin-bottom: 0.5em;}#sk-container-id-1 div.sk-estimator:hover {background-color: #d4ebff;}#sk-container-id-1 div.sk-parallel-item::after {content: \"\";width: 100%;border-bottom: 1px solid gray;flex-grow: 1;}#sk-container-id-1 div.sk-label:hover label.sk-toggleable__label {background-color: #d4ebff;}#sk-container-id-1 div.sk-serial::before {content: \"\";position: absolute;border-left: 1px solid gray;box-sizing: border-box;top: 0;bottom: 0;left: 50%;z-index: 0;}#sk-container-id-1 div.sk-serial {display: flex;flex-direction: column;align-items: center;background-color: white;padding-right: 0.2em;padding-left: 0.2em;position: relative;}#sk-container-id-1 div.sk-item {position: relative;z-index: 1;}#sk-container-id-1 div.sk-parallel {display: flex;align-items: stretch;justify-content: center;background-color: white;position: relative;}#sk-container-id-1 div.sk-item::before, #sk-container-id-1 div.sk-parallel-item::before {content: \"\";position: absolute;border-left: 1px solid gray;box-sizing: border-box;top: 0;bottom: 0;left: 50%;z-index: -1;}#sk-container-id-1 div.sk-parallel-item {display: flex;flex-direction: column;z-index: 1;position: relative;background-color: white;}#sk-container-id-1 div.sk-parallel-item:first-child::after {align-self: flex-end;width: 50%;}#sk-container-id-1 div.sk-parallel-item:last-child::after {align-self: flex-start;width: 50%;}#sk-container-id-1 div.sk-parallel-item:only-child::after {width: 0;}#sk-container-id-1 div.sk-dashed-wrapped {border: 1px dashed gray;margin: 0 0.4em 0.5em 0.4em;box-sizing: border-box;padding-bottom: 0.4em;background-color: white;}#sk-container-id-1 div.sk-label label {font-family: monospace;font-weight: bold;display: inline-block;line-height: 1.2em;}#sk-container-id-1 div.sk-label-container {text-align: center;}#sk-container-id-1 div.sk-container {/* jupyter's `normalize.less` sets `[hidden] { display: none; }` but bootstrap.min.css set `[hidden] { display: none !important; }` so we also need the `!important` here to be able to override the default hidden behavior on the sphinx rendered scikit-learn.org. See: https://github.com/scikit-learn/scikit-learn/issues/21755 */display: inline-block !important;position: relative;}#sk-container-id-1 div.sk-text-repr-fallback {display: none;}</style><div id=\"sk-container-id-1\" class=\"sk-top-container\"><div class=\"sk-text-repr-fallback\"><pre>ExtraTreesClassifier(random_state=42)</pre><b>In a Jupyter environment, please rerun this cell to show the HTML representation or trust the notebook. <br />On GitHub, the HTML representation is unable to render, please try loading this page with nbviewer.org.</b></div><div class=\"sk-container\" hidden><div class=\"sk-item\"><div class=\"sk-estimator sk-toggleable\"><input class=\"sk-toggleable__control sk-hidden--visually\" id=\"sk-estimator-id-1\" type=\"checkbox\" checked><label for=\"sk-estimator-id-1\" class=\"sk-toggleable__label sk-toggleable__label-arrow\">ExtraTreesClassifier</label><div class=\"sk-toggleable__content\"><pre>ExtraTreesClassifier(random_state=42)</pre></div></div></div></div></div>"
            ],
            "text/plain": [
              "ExtraTreesClassifier(random_state=42)"
            ]
          },
          "execution_count": 34,
          "metadata": {},
          "output_type": "execute_result"
        }
      ],
      "source": [
        "from sklearn.feature_selection import chi2\n",
        "from sklearn.feature_selection import SelectKBest\n",
        "from sklearn.ensemble import ExtraTreesClassifier\n",
        "model = ExtraTreesClassifier(random_state=42)\n",
        "model.fit(data_X, data_y_trans)"
      ]
    },
    {
      "cell_type": "code",
      "execution_count": null,
      "metadata": {
        "colab": {
          "base_uri": "https://localhost:8080/"
        },
        "id": "Zar3_W6ApuXl",
        "outputId": "8ed7393c-3f2d-4293-96d9-593af71f8641"
      },
      "outputs": [
        {
          "data": {
            "text/plain": [
              "array([7.54019219e-02, 1.40268829e-01, 2.00064951e-02, 1.15453034e-01,\n",
              "       3.36167540e-02, 1.10535286e-02, 3.77036208e-02, 2.67408552e-03,\n",
              "       7.01717852e-04, 9.67171750e-04, 2.23363369e-03, 1.72086223e-04,\n",
              "       1.05873698e-03, 1.16885755e-02, 7.34937967e-03, 4.23227316e-04,\n",
              "       1.01129049e-02, 1.56239392e-02, 1.82113300e-02, 2.49327860e-03,\n",
              "       6.74503507e-03, 3.05619895e-03, 1.22310088e-04, 1.76737373e-04,\n",
              "       1.31065873e-03, 6.61572105e-04, 1.64029294e-03, 8.27945129e-04,\n",
              "       7.91863170e-04, 4.33162172e-04, 1.58454834e-04, 2.13885202e-03,\n",
              "       3.01958281e-04, 5.95716237e-04, 2.87333058e-04, 2.79055116e-03,\n",
              "       1.38510127e-02, 0.00000000e+00, 0.00000000e+00, 0.00000000e+00,\n",
              "       2.04056770e-03, 9.04334237e-04, 3.64328699e-03, 5.62083072e-04,\n",
              "       1.19042283e-02, 4.50329862e-03, 1.23392007e-03, 2.37501866e-03,\n",
              "       4.56113970e-04, 0.00000000e+00, 2.49640532e-04, 1.79864052e-02,\n",
              "       0.00000000e+00, 1.95450925e-02, 5.38628644e-02, 2.54133571e-02,\n",
              "       0.00000000e+00, 2.94964517e-02, 7.93098456e-03, 3.75543791e-03,\n",
              "       6.63166868e-03, 2.01487625e-03, 0.00000000e+00, 0.00000000e+00,\n",
              "       0.00000000e+00, 0.00000000e+00, 0.00000000e+00, 0.00000000e+00,\n",
              "       5.69742558e-04, 2.22949514e-04, 2.41130780e-03, 1.24058560e-04,\n",
              "       8.08782241e-03, 8.40156296e-03, 7.91295204e-04, 1.24277570e-02,\n",
              "       3.25043996e-04, 2.14778090e-05, 1.72849238e-04, 6.26699297e-04,\n",
              "       1.76543914e-03, 4.05673074e-05, 8.06816357e-04, 1.27048840e-03,\n",
              "       2.24320587e-01])"
            ]
          },
          "execution_count": 35,
          "metadata": {},
          "output_type": "execute_result"
        }
      ],
      "source": [
        "model.feature_importances_"
      ]
    },
    {
      "cell_type": "code",
      "execution_count": null,
      "metadata": {
        "colab": {
          "base_uri": "https://localhost:8080/",
          "height": 416
        },
        "id": "d9KIHj-2px4Q",
        "outputId": "f1dd7454-ff4d-4e72-8c85-db8a556c22a4"
      },
      "outputs": [
        {
          "data": {
            "text/plain": [
              "<Axes: title={'center': 'Standardised Dataset Feature Selection using ExtraTreesClassifier'}>"
            ]
          },
          "execution_count": 36,
          "metadata": {},
          "output_type": "execute_result"
        },
        {
          "data": {
            "image/png": "[encoded data removed]",
            "text/plain": [
              "<Figure size 432x288 with 1 Axes>"
            ]
          },
          "metadata": {
            "needs_background": "light"
          },
          "output_type": "display_data"
        }
      ],
      "source": [
        "feature_importance_std = pd.Series(model.feature_importances_, index=data_X.columns)\n",
        "feature_importance_std.nlargest(20).plot(kind='bar', title='Standardised Dataset Feature Selection using ExtraTreesClassifier')"
      ]
    },
    {
      "cell_type": "code",
      "execution_count": null,
      "metadata": {
        "colab": {
          "base_uri": "https://localhost:8080/"
        },
        "id": "WKJbzhhEBRmF",
        "outputId": "14b484f1-ef81-4f49-f5ea-cf4a69bba81f"
      },
      "outputs": [
        {
          "data": {
            "text/plain": [
              "(390372, 85)"
            ]
          },
          "execution_count": 29,
          "metadata": {},
          "output_type": "execute_result"
        }
      ],
      "source": [
        "data_X.shape"
      ]
    },
    {
      "cell_type": "code",
      "execution_count": null,
      "metadata": {
        "id": "qATHFtpPBib1"
      },
      "outputs": [],
      "source": [
        "data_new_20features_X = data_X[[' Timestamp', ' Source IP', ' Min Packet Length', ' Fwd Packet Length Min', 'Flow ID', ' Packet Length Mean', ' Fwd Packet Length Max', ' Average Packet Size', ' ACK Flag Count', ' Avg Fwd Segment Size', ' Fwd Packet Length Mean', 'Flow Bytes/s', ' Max Packet Length', ' Protocol', 'Fwd Packets/s', ' Flow Packets/s', 'Total Length of Fwd Packets', ' Subflow Fwd Bytes', ' Destination Port', ' act_data_pkt_fwd']]"
      ]
    },
    {
      "cell_type": "markdown",
      "metadata": {
        "id": "-Xhj-ZpSIXBk"
      },
      "source": [
        "**Train Test Split 20 Feature Dataset**"
      ]
    },
    {
      "cell_type": "code",
      "execution_count": null,
      "metadata": {
        "id": "XIIAc5QyEiik"
      },
      "outputs": [],
      "source": [
        "from sklearn.model_selection import train_test_split\n",
        "X_train_20, X_test_20, y_train_20, y_test_20 = train_test_split(data_new_20features_X, data_y_trans, test_size = 0.30, random_state = 42)"
      ]
    },
    {
      "cell_type": "markdown",
      "metadata": {
        "id": "MR6mPmRDIe1D"
      },
      "source": [
        "**Standardization of the 20 Feature Dataset**"
      ]
    },
    {
      "cell_type": "code",
      "execution_count": null,
      "metadata": {
        "id": "MrHu3OBRIpOT"
      },
      "outputs": [],
      "source": [
        "from sklearn.preprocessing import StandardScaler\n",
        "ss_20 = StandardScaler()\n",
        "X_train_std_20 = ss_20.fit_transform(X_train_20)\n",
        "X_test_std_20 = ss_20.fit_transform(X_test_20)"
      ]
    },
    {
      "cell_type": "code",
      "execution_count": null,
      "metadata": {
        "colab": {
          "base_uri": "https://localhost:8080/"
        },
        "id": "3G1iyCfjIs_7",
        "outputId": "e10a351f-c43b-4c10-8ead-5ccb2727f63d"
      },
      "outputs": [
        {
          "data": {
            "text/plain": [
              "(273260, 20)"
            ]
          },
          "execution_count": 33,
          "metadata": {},
          "output_type": "execute_result"
        }
      ],
      "source": [
        "X_train_std_20.shape"
      ]
    },
    {
      "cell_type": "code",
      "execution_count": null,
      "metadata": {
        "colab": {
          "base_uri": "https://localhost:8080/"
        },
        "id": "byqTuaAxIv4v",
        "outputId": "aeeaace6-a701-42ec-fe69-7bc4b5a5a3b2"
      },
      "outputs": [
        {
          "data": {
            "text/plain": [
              "(273260,)"
            ]
          },
          "execution_count": 34,
          "metadata": {},
          "output_type": "execute_result"
        }
      ],
      "source": [
        "y_train_20.shape"
      ]
    },
    {
      "cell_type": "code",
      "execution_count": null,
      "metadata": {
        "colab": {
          "base_uri": "https://localhost:8080/"
        },
        "id": "TDeVVkkOIyWl",
        "outputId": "8ec2c250-a328-46e1-f399-effc67d31598"
      },
      "outputs": [
        {
          "data": {
            "text/plain": [
              "(117112, 20)"
            ]
          },
          "execution_count": 35,
          "metadata": {},
          "output_type": "execute_result"
        }
      ],
      "source": [
        "X_test_std_20.shape"
      ]
    },
    {
      "cell_type": "code",
      "execution_count": null,
      "metadata": {
        "colab": {
          "base_uri": "https://localhost:8080/"
        },
        "id": "9bvtU_WKI28u",
        "outputId": "b4768976-bb97-490b-f144-8e2e564aa6f1"
      },
      "outputs": [
        {
          "data": {
            "text/plain": [
              "(117112,)"
            ]
          },
          "execution_count": 36,
          "metadata": {},
          "output_type": "execute_result"
        }
      ],
      "source": [
        "y_test_20.shape"
      ]
    },
    {
      "cell_type": "code",
      "execution_count": null,
      "metadata": {
        "id": "I3T-sblOp0_1"
      },
      "outputs": [],
      "source": [
        "import matplotlib.pyplot as plt\n",
        "def show_acc(history, val = False):\n",
        "    acc = history.history['acc']\n",
        "\n",
        "    loss = history.history['loss']\n",
        "    print(\"Train accuracy :\", history.history['acc'][-1])\n",
        "\n",
        "    if val:\n",
        "        val_acc = history.history['val_acc']\n",
        "        val_loss = history.history['val_loss']\n",
        "        print(\"Test accuracy  :\", history.history['val_acc'][-1])\n",
        "\n",
        "    epochs = range(len(acc))\n",
        "\n",
        "    plt.plot(epochs, acc, 'g', label='Training acc')\n",
        "    if val:\n",
        "        plt.plot(epochs, val_acc, 'r', label='Testing acc')\n",
        "        plt.title('Training and testing accuracy')\n",
        "    else:\n",
        "        plt.title('Training accuracy')\n",
        "\n",
        "    plt.legend()\n",
        "\n",
        "    plt.figure()\n",
        "\n",
        "    plt.plot(epochs, loss, 'g', label='Training loss')\n",
        "\n",
        "    if val:\n",
        "\n",
        "        plt.plot(epochs, val_loss, 'r', label='Testing loss')\n",
        "        plt.title('Training and test loss')\n",
        "    else:\n",
        "        plt.title(\"Training loss\")\n",
        "    plt.legend()\n",
        "\n",
        "    plt.show()"
      ]
    },
    {
      "cell_type": "code",
      "execution_count": null,
      "metadata": {
        "id": "P-N1v_wJpps_"
      },
      "outputs": [],
      "source": [
        "from tensorflow.keras.models import Sequential\n",
        "from tensorflow.keras import layers\n",
        "from keras.layers import Input, Dropout, Dense, LSTM, TimeDistributed, RepeatVector\n",
        "from keras.layers import LSTM, Conv1D, MaxPooling1D, Dropout, Flatten, Dense"
      ]
    },
    {
      "cell_type": "code",
      "execution_count": null,
      "metadata": {
        "id": "dZ7W_Mv9r3p7"
      },
      "outputs": [],
      "source": [
        "Classifier_accuracy = []"
      ]
    },
    {
      "cell_type": "code",
      "execution_count": null,
      "metadata": {
        "colab": {
          "base_uri": "https://localhost:8080/"
        },
        "id": "alaPX2M6pY1H",
        "outputId": "2c2efaf1-90fc-4384-fc0d-dc2991741c16"
      },
      "outputs": [
        {
          "name": "stdout",
          "output_type": "stream",
          "text": [
            "Model: \"sequential\"\n",
            "_________________________________________________________________\n",
            " Layer (type)                Output Shape              Param #   \n",
            "=================================================================\n",
            " conv1d (Conv1D)             (None, 18, 32)            128       \n",
            "                                                                 \n",
            " max_pooling1d (MaxPooling1D  (None, 9, 32)            0         \n",
            " )                                                               \n",
            "                                                                 \n",
            " dropout (Dropout)           (None, 9, 32)             0         \n",
            "                                                                 \n",
            " lstm (LSTM)                 (None, 9, 64)             24832     \n",
            "                                                                 \n",
            " flatten (Flatten)           (None, 576)               0         \n",
            "                                                                 \n",
            " dense (Dense)               (None, 32)                18464     \n",
            "                                                                 \n",
            " dropout_1 (Dropout)         (None, 32)                0         \n",
            "                                                                 \n",
            " dense_1 (Dense)             (None, 1)                 33        \n",
            "                                                                 \n",
            "=================================================================\n",
            "Total params: 43,457\n",
            "Trainable params: 43,457\n",
            "Non-trainable params: 0\n",
            "_________________________________________________________________\n"
          ]
        }
      ],
      "source": [
        "input_shape = (20, 1)\n",
        "\n",
        "model = Sequential()\n",
        "\n",
        "model.add(Conv1D(filters=32, kernel_size=3, activation='relu', input_shape=input_shape))\n",
        "\n",
        "model.add(MaxPooling1D(pool_size=2))\n",
        "\n",
        "model.add(Dropout(rate=0.2))\n",
        "\n",
        "model.add(LSTM(units=64, return_sequences=True))\n",
        "\n",
        "model.add(Flatten())\n",
        "\n",
        "model.add(Dense(units=32, activation='relu'))\n",
        "\n",
        "model.add(Dropout(rate=0.2))\n",
        "\n",
        "model.add(Dense(units=1, activation='sigmoid'))\n",
        "\n",
        "model.compile(loss='binary_crossentropy', optimizer='adam', metrics=['acc'])\n",
        "\n",
        "model.summary()"
      ]
    },
    {
      "cell_type": "code",
      "execution_count": null,
      "metadata": {
        "colab": {
          "base_uri": "https://localhost:8080/",
          "height": 976
        },
        "id": "L92gURPSzyuW",
        "outputId": "665c880e-a554-48b0-c4f8-63b9d0c71bb9"
      },
      "outputs": [
        {
          "data": {
            "image/png": "[encoded data removed]",
            "text/plain": [
              "<IPython.core.display.Image object>"
            ]
          },
          "execution_count": 41,
          "metadata": {},
          "output_type": "execute_result"
        }
      ],
      "source": [
        "\n",
        "from keras.utils import plot_model\n",
        "from IPython import display\n",
        "\n",
        "\n",
        "plot_model(model, show_shapes=True)\n"
      ]
    },
    {
      "cell_type": "code",
      "execution_count": null,
      "metadata": {
        "colab": {
          "base_uri": "https://localhost:8080/"
        },
        "id": "XODBi0RgfIZ-",
        "outputId": "2cf9d740-e7dc-4ae5-f5a8-b7298b9eb1ff"
      },
      "outputs": [
        {
          "name": "stdout",
          "output_type": "stream",
          "text": [
            "Epoch 1/20\n",
            "1367/1367 - 50s - loss: 0.0011 - acc: 0.9998 - val_loss: 8.5791e-04 - val_acc: 0.9998 - 50s/epoch - 37ms/step\n",
            "Epoch 2/20\n",
            "1367/1367 - 56s - loss: 0.0011 - acc: 0.9998 - val_loss: 7.8775e-04 - val_acc: 0.9998 - 56s/epoch - 41ms/step\n",
            "Epoch 3/20\n",
            "1367/1367 - 54s - loss: 8.5412e-04 - acc: 0.9998 - val_loss: 5.7395e-04 - val_acc: 0.9999 - 54s/epoch - 39ms/step\n",
            "Epoch 4/20\n",
            "1367/1367 - 56s - loss: 7.0826e-04 - acc: 0.9998 - val_loss: 4.4581e-04 - val_acc: 0.9999 - 56s/epoch - 41ms/step\n",
            "Epoch 5/20\n",
            "1367/1367 - 52s - loss: 6.7286e-04 - acc: 0.9998 - val_loss: 3.4327e-04 - val_acc: 0.9999 - 52s/epoch - 38ms/step\n",
            "Epoch 6/20\n",
            "1367/1367 - 57s - loss: 5.9697e-04 - acc: 0.9999 - val_loss: 3.5278e-04 - val_acc: 0.9999 - 57s/epoch - 42ms/step\n",
            "Epoch 7/20\n",
            "1367/1367 - 54s - loss: 4.2070e-04 - acc: 0.9999 - val_loss: 2.3244e-04 - val_acc: 0.9999 - 54s/epoch - 40ms/step\n",
            "Epoch 8/20\n",
            "1367/1367 - 54s - loss: 3.7846e-04 - acc: 0.9999 - val_loss: 1.4138e-04 - val_acc: 1.0000 - 54s/epoch - 39ms/step\n",
            "Epoch 9/20\n",
            "1367/1367 - 52s - loss: 3.5535e-04 - acc: 0.9999 - val_loss: 1.3085e-04 - val_acc: 1.0000 - 52s/epoch - 38ms/step\n",
            "Epoch 10/20\n",
            "1367/1367 - 55s - loss: 2.5833e-04 - acc: 0.9999 - val_loss: 1.4478e-04 - val_acc: 1.0000 - 55s/epoch - 40ms/step\n",
            "Epoch 11/20\n",
            "1367/1367 - 55s - loss: 2.5610e-04 - acc: 0.9999 - val_loss: 6.6577e-05 - val_acc: 1.0000 - 55s/epoch - 40ms/step\n",
            "Epoch 12/20\n",
            "1367/1367 - 55s - loss: 2.5229e-04 - acc: 0.9999 - val_loss: 1.2896e-04 - val_acc: 1.0000 - 55s/epoch - 40ms/step\n",
            "Epoch 13/20\n",
            "1367/1367 - 53s - loss: 2.5474e-04 - acc: 0.9999 - val_loss: 4.3141e-05 - val_acc: 1.0000 - 53s/epoch - 39ms/step\n",
            "Epoch 14/20\n",
            "1367/1367 - 57s - loss: 1.3087e-04 - acc: 0.9999 - val_loss: 1.5809e-04 - val_acc: 0.9999 - 57s/epoch - 42ms/step\n",
            "Epoch 15/20\n",
            "1367/1367 - 61s - loss: 1.5116e-04 - acc: 1.0000 - val_loss: 2.5735e-05 - val_acc: 1.0000 - 61s/epoch - 44ms/step\n",
            "Epoch 16/20\n",
            "1367/1367 - 54s - loss: 2.0294e-04 - acc: 0.9999 - val_loss: 1.0481e-04 - val_acc: 0.9999 - 54s/epoch - 39ms/step\n",
            "Epoch 17/20\n",
            "1367/1367 - 56s - loss: 1.0883e-04 - acc: 1.0000 - val_loss: 4.4696e-05 - val_acc: 1.0000 - 56s/epoch - 41ms/step\n",
            "Epoch 18/20\n",
            "1367/1367 - 56s - loss: 1.4297e-04 - acc: 0.9999 - val_loss: 7.0362e-05 - val_acc: 1.0000 - 56s/epoch - 41ms/step\n",
            "Epoch 19/20\n",
            "1367/1367 - 56s - loss: 5.7598e-05 - acc: 1.0000 - val_loss: 5.8815e-05 - val_acc: 1.0000 - 56s/epoch - 41ms/step\n",
            "Epoch 20/20\n",
            "1367/1367 - 57s - loss: 8.2694e-05 - acc: 1.0000 - val_loss: 5.3124e-05 - val_acc: 1.0000 - 57s/epoch - 42ms/step\n"
          ]
        }
      ],
      "source": [
        "history = model.fit(X_train_std_20, y_train_20,  validation_data=(X_test_std_20, y_test_20), batch_size=200, epochs= 20, verbose=2,callbacks=None, shuffle=True,\n",
        "    class_weight=None,\n",
        "    sample_weight=None,\n",
        "    initial_epoch=0)"
      ]
    },
    {
      "cell_type": "code",
      "execution_count": null,
      "metadata": {
        "colab": {
          "base_uri": "https://localhost:8080/",
          "height": 580
        },
        "id": "B5fcK4C-eooS",
        "outputId": "0ff0a591-e205-4002-bea8-39ac9b173eb2"
      },
      "outputs": [
        {
          "name": "stdout",
          "output_type": "stream",
          "text": [
            "Train accuracy : 0.9999743700027466\n",
            "Test accuracy  : 0.9999914765357971\n"
          ]
        },
        {
          "data": {
            "image/png": "[encoded data removed]",
            "text/plain": [
              "<Figure size 432x288 with 1 Axes>"
            ]
          },
          "metadata": {
            "needs_background": "light"
          },
          "output_type": "display_data"
        },
        {
          "data": {
            "image/png": "[encoded data removed]",
            "text/plain": [
              "<Figure size 432x288 with 1 Axes>"
            ]
          },
          "metadata": {
            "needs_background": "light"
          },
          "output_type": "display_data"
        }
      ],
      "source": [
        "show_acc(history, val=True)"
      ]
    },
    {
      "cell_type": "code",
      "execution_count": null,
      "metadata": {
        "colab": {
          "base_uri": "https://localhost:8080/"
        },
        "id": "ZRYCo0Mrms8b",
        "outputId": "fb171168-9215-492c-fc62-98407217ceae"
      },
      "outputs": [
        {
          "name": "stdout",
          "output_type": "stream",
          "text": [
            "3660/3660 [==============================] - 19s 5ms/step - loss: 5.3124e-05 - acc: 1.0000\n",
            "Accuracy of Deep neural Network : 100.00\n"
          ]
        }
      ],
      "source": [
        "#predict = model.predict(X_test_std_20, verbose=1)\n",
        "loss, accuracy = model.evaluate(X_test_std_20, y_test_20)\n",
        "print('Accuracy of Deep neural Network : %.2f' % (accuracy*100))\n",
        "Classifier_accuracy.append(accuracy*100)"
      ]
    },
    {
      "cell_type": "code",
      "execution_count": null,
      "metadata": {
        "colab": {
          "base_uri": "https://localhost:8080/"
        },
        "id": "OU45xXi1yF-V",
        "outputId": "3533c0af-8d73-4add-ce51-7025eba60ce7"
      },
      "outputs": [
        {
          "name": "stdout",
          "output_type": "stream",
          "text": [
            "Model: \"sequential_1\"\n",
            "_________________________________________________________________\n",
            " Layer (type)                Output Shape              Param #   \n",
            "=================================================================\n",
            " gru (GRU)                   (None, 64)                12864     \n",
            "                                                                 \n",
            " dropout_2 (Dropout)         (None, 64)                0         \n",
            "                                                                 \n",
            " dense_2 (Dense)             (None, 32)                2080      \n",
            "                                                                 \n",
            " dropout_3 (Dropout)         (None, 32)                0         \n",
            "                                                                 \n",
            " dense_3 (Dense)             (None, 1)                 33        \n",
            "                                                                 \n",
            "=================================================================\n",
            "Total params: 14,977\n",
            "Trainable params: 14,977\n",
            "Non-trainable params: 0\n",
            "_________________________________________________________________\n"
          ]
        }
      ],
      "source": [
        "from keras.models import Sequential\n",
        "from keras.layers import GRU, Dense, Dropout\n",
        "\n",
        "# Define input shape\n",
        "input_shape = (20, 1)\n",
        "\n",
        "# Define the model\n",
        "model = Sequential()\n",
        "\n",
        "# Add a GRU layer with 64 units and ReLU activation\n",
        "model.add(GRU(units=64, activation='relu', input_shape=input_shape))\n",
        "\n",
        "# Add a dropout layer to prevent overfitting\n",
        "model.add(Dropout(rate=0.2))\n",
        "\n",
        "# Add a dense layer with 32 units and ReLU activation\n",
        "model.add(Dense(units=32, activation='relu'))\n",
        "\n",
        "# Add a dropout layer to prevent overfitting\n",
        "model.add(Dropout(rate=0.2))\n",
        "\n",
        "# Add the output layer with a sigmoid activation for binary classification\n",
        "model.add(Dense(units=1, activation='sigmoid'))\n",
        "\n",
        "# Compile the model with binary cross-entropy loss, Adam optimizer, and accuracy metric\n",
        "model.compile(loss='binary_crossentropy', optimizer='adam', metrics=['acc'])\n",
        "\n",
        "# Print the summary of the model\n",
        "model.summary()"
      ]
    },
    {
      "cell_type": "code",
      "execution_count": null,
      "metadata": {
        "colab": {
          "base_uri": "https://localhost:8080/",
          "height": 644
        },
        "id": "UPq3cJNwyN0r",
        "outputId": "42d619ad-fd7e-429f-a146-1a8c6eb4872b"
      },
      "outputs": [
        {
          "data": {
            "image/png": "[encoded data removed]",
            "text/plain": [
              "<IPython.core.display.Image object>"
            ]
          },
          "execution_count": 47,
          "metadata": {},
          "output_type": "execute_result"
        }
      ],
      "source": [
        "from keras.utils import plot_model\n",
        "from IPython import display\n",
        "\n",
        "\n",
        "plot_model(model, show_shapes=True)"
      ]
    },
    {
      "cell_type": "code",
      "execution_count": null,
      "metadata": {
        "colab": {
          "base_uri": "https://localhost:8080/"
        },
        "id": "_aBex67AyTqf",
        "outputId": "0c620e7f-7c9a-4919-8499-d1ff8e0b3f8c"
      },
      "outputs": [
        {
          "name": "stdout",
          "output_type": "stream",
          "text": [
            "Epoch 1/20\n",
            "1367/1367 - 65s - loss: 0.0388 - acc: 0.9884 - val_loss: 0.0067 - val_acc: 0.9974 - 65s/epoch - 48ms/step\n",
            "Epoch 2/20\n",
            "1367/1367 - 63s - loss: 0.0061 - acc: 0.9981 - val_loss: 0.0050 - val_acc: 0.9990 - 63s/epoch - 46ms/step\n",
            "Epoch 3/20\n",
            "1367/1367 - 62s - loss: 0.0028 - acc: 0.9994 - val_loss: 0.0013 - val_acc: 0.9998 - 62s/epoch - 45ms/step\n",
            "Epoch 4/20\n",
            "1367/1367 - 61s - loss: 0.0023 - acc: 0.9995 - val_loss: 0.0012 - val_acc: 0.9998 - 61s/epoch - 45ms/step\n",
            "Epoch 5/20\n",
            "1367/1367 - 60s - loss: 0.0012 - acc: 0.9998 - val_loss: 9.1117e-04 - val_acc: 0.9998 - 60s/epoch - 44ms/step\n",
            "Epoch 6/20\n",
            "1367/1367 - 64s - loss: 0.0011 - acc: 0.9998 - val_loss: 0.0010 - val_acc: 0.9998 - 64s/epoch - 47ms/step\n",
            "Epoch 7/20\n",
            "1367/1367 - 61s - loss: 0.0011 - acc: 0.9998 - val_loss: 7.6044e-04 - val_acc: 0.9998 - 61s/epoch - 44ms/step\n",
            "Epoch 8/20\n",
            "1367/1367 - 60s - loss: 9.3240e-04 - acc: 0.9998 - val_loss: 6.9115e-04 - val_acc: 0.9999 - 60s/epoch - 44ms/step\n",
            "Epoch 9/20\n",
            "1367/1367 - 59s - loss: 9.2598e-04 - acc: 0.9998 - val_loss: 6.5587e-04 - val_acc: 0.9999 - 59s/epoch - 43ms/step\n",
            "Epoch 10/20\n",
            "1367/1367 - 60s - loss: 8.5226e-04 - acc: 0.9999 - val_loss: 7.0316e-04 - val_acc: 0.9998 - 60s/epoch - 44ms/step\n",
            "Epoch 11/20\n",
            "1367/1367 - 62s - loss: 7.2293e-04 - acc: 0.9998 - val_loss: 5.7054e-04 - val_acc: 0.9998 - 62s/epoch - 45ms/step\n",
            "Epoch 12/20\n",
            "1367/1367 - 61s - loss: 6.2108e-04 - acc: 0.9999 - val_loss: 4.4635e-04 - val_acc: 0.9999 - 61s/epoch - 44ms/step\n",
            "Epoch 13/20\n",
            "1367/1367 - 60s - loss: 6.7335e-04 - acc: 0.9999 - val_loss: 3.6739e-04 - val_acc: 0.9999 - 60s/epoch - 44ms/step\n",
            "Epoch 14/20\n",
            "1367/1367 - 59s - loss: 5.7187e-04 - acc: 0.9999 - val_loss: 0.0013 - val_acc: 0.9997 - 59s/epoch - 43ms/step\n",
            "Epoch 15/20\n",
            "1367/1367 - 62s - loss: 5.1834e-04 - acc: 0.9999 - val_loss: 2.8527e-04 - val_acc: 0.9999 - 62s/epoch - 45ms/step\n",
            "Epoch 16/20\n",
            "1367/1367 - 60s - loss: 4.4922e-04 - acc: 0.9999 - val_loss: 4.7052e-04 - val_acc: 0.9999 - 60s/epoch - 44ms/step\n",
            "Epoch 17/20\n",
            "1367/1367 - 60s - loss: 0.0013 - acc: 0.9998 - val_loss: 3.1810e-04 - val_acc: 0.9999 - 60s/epoch - 44ms/step\n",
            "Epoch 18/20\n",
            "1367/1367 - 61s - loss: 3.1446e-04 - acc: 0.9999 - val_loss: 2.9606e-04 - val_acc: 0.9999 - 61s/epoch - 45ms/step\n",
            "Epoch 19/20\n",
            "1367/1367 - 59s - loss: 3.3012e-04 - acc: 0.9999 - val_loss: 3.8274e-04 - val_acc: 0.9999 - 59s/epoch - 43ms/step\n",
            "Epoch 20/20\n",
            "1367/1367 - 60s - loss: 3.3077e-04 - acc: 0.9999 - val_loss: 2.9158e-04 - val_acc: 0.9999 - 60s/epoch - 44ms/step\n"
          ]
        }
      ],
      "source": [
        "history = model.fit(X_train_std_20, y_train_20,  validation_data=(X_test_std_20, y_test_20), batch_size=200, epochs= 20, verbose=2,callbacks=None, shuffle=True,\n",
        "    class_weight=None,\n",
        "    sample_weight=None,\n",
        "    initial_epoch=0)"
      ]
    }
  ],
  "metadata": {
    "colab": {
      "provenance": []
    },
    "kernelspec": {
      "display_name": "Python 3",
      "name": "python3"
    },
    "language_info": {
      "name": "python"
    }
  },
  "nbformat": 4,
  "nbformat_minor": 0
}
