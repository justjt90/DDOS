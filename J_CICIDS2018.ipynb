{
  "cells": [
    {
      "cell_type": "code",
      "execution_count": null,
      "metadata": {
        "colab": {
          "base_uri": "https://localhost:8080/"
        },
        "id": "Nl2gQIqP4gmQ",
        "outputId": "629dd550-7d87-4585-b009-f9197bbfaa62"
      },
      "outputs": [
        {
          "name": "stdout",
          "output_type": "stream",
          "text": [
            "Mounted at /content/drive\n"
          ]
        }
      ],
      "source": [
        "from google.colab import drive\n",
        "drive.mount('/content/drive')"
      ]
    },
    {
      "cell_type": "code",
      "execution_count": null,
      "metadata": {
        "colab": {
          "base_uri": "https://localhost:8080/"
        },
        "id": "X57qQYdT5HAj",
        "outputId": "674e3cd8-4132-49c3-f166-8926aa1525fb"
      },
      "outputs": [
        {
          "name": "stdout",
          "output_type": "stream",
          "text": [
            "fri0203.csv\n",
            "fri1602.csv\n",
            "fri2302.csv\n",
            "Friday-02-03-2018_TrafficForML_CICFlowMeter.csv\n",
            "Friday-16-02-2018_TrafficForML_CICFlowMeter.csv\n",
            "Friday-23-02-2018_TrafficForML_CICFlowMeter.csv\n",
            "Thuesday-20-02-2018_TrafficForML_CICFlowMeter.csv\n",
            "thur0103.csv\n",
            "thur1502.csv\n",
            "thur2202.csv\n",
            "Thursday-01-03-2018_TrafficForML_CICFlowMeter.csv\n",
            "Thursday-15-02-2018_TrafficForML_CICFlowMeter.csv\n",
            "Thursday-22-02-2018_TrafficForML_CICFlowMeter.csv\n",
            "wed0402.csv\n",
            "wed2102.csv\n",
            "wed2802.csv\n",
            "Wednesday-14-02-2018_TrafficForML_CICFlowMeter.csv\n",
            "Wednesday-21-02-2018_TrafficForML_CICFlowMeter.csv\n",
            "Wednesday-28-02-2018_TrafficForML_CICFlowMeter.csv\n"
          ]
        }
      ],
      "source": [
        "#Load Data from Drive\n",
        "DATA_PATH=\"/content/drive/My Drive/J_PHD/CICIDS2018/\"\n",
        "!ls \"/content/drive/My Drive/J_PHD/CICIDS2018\""
      ]
    },
    {
      "cell_type": "code",
      "execution_count": null,
      "metadata": {
        "id": "YrAAbgcQ6NzH"
      },
      "outputs": [],
      "source": [
        "import pandas as pd\n",
        "import numpy as np\n",
        "import matplotlib.pyplot as plt\n",
        "import pandas as pd\n",
        "import numpy as np\n",
        "\n",
        "import matplotlib.pyplot as plt\n",
        "from matplotlib.pyplot import figure\n",
        "import seaborn as sns\n",
        "\n",
        "from sklearn.metrics import confusion_matrix\n",
        "from sklearn.metrics import accuracy_score\n",
        "from sklearn.metrics import classification_report\n",
        "from sklearn.model_selection import train_test_split\n",
        "from sklearn import metrics\n",
        "from sklearn.model_selection import cross_val_score\n",
        "from sklearn import preprocessing\n",
        "\n",
        "from sklearn.model_selection import cross_val_predict\n",
        "from sklearn.model_selection import GridSearchCV\n",
        "import time\n",
        "\n",
        "from sklearn.tree import DecisionTreeClassifier\n",
        "from sklearn.linear_model import LogisticRegression\n",
        "from sklearn import svm\n",
        "from sklearn.neighbors import KNeighborsClassifier\n",
        "from sklearn.ensemble import RandomForestClassifier\n",
        "\n",
        "from sklearn import metrics"
      ]
    },
    {
      "cell_type": "code",
      "execution_count": null,
      "metadata": {
        "id": "yli6Aypm67rH"
      },
      "outputs": [],
      "source": [
        "df1 = pd.read_csv(DATA_PATH+'fri0203.csv')\n",
        "df2 = pd.read_csv(DATA_PATH+'fri1602.csv')\n",
        "df3 = pd.read_csv(DATA_PATH+'fri2302.csv')\n",
        "df4 = pd.read_csv(DATA_PATH+'thur0103.csv')\n",
        "df5 = pd.read_csv(DATA_PATH+'thur1502.csv')\n",
        "df6 = pd.read_csv(DATA_PATH+'thur2202.csv')\n",
        "df7 = pd.read_csv(DATA_PATH+'wed0402.csv')\n",
        "df8 = pd.read_csv(DATA_PATH+'wed2102.csv')\n",
        "df9 = pd.read_csv(DATA_PATH+'wed2802.csv')"
      ]
    },
    {
      "cell_type": "code",
      "execution_count": null,
      "metadata": {
        "id": "qHXdGTDn7h2s"
      },
      "outputs": [],
      "source": [
        "data = pd.concat([df1, df2, df3, df4, df5, df6, df7, df8, df9])"
      ]
    },
    {
      "cell_type": "code",
      "execution_count": null,
      "metadata": {
        "colab": {
          "base_uri": "https://localhost:8080/"
        },
        "id": "c4iUm5gvqyZK",
        "outputId": "f562aa1a-0171-4c83-beb6-55b9178a3516"
      },
      "outputs": [
        {
          "data": {
            "text/plain": [
              "(206538, 81)"
            ]
          },
          "execution_count": 7,
          "metadata": {},
          "output_type": "execute_result"
        }
      ],
      "source": [
        "data.shape"
      ]
    },
    {
      "cell_type": "code",
      "execution_count": null,
      "metadata": {
        "colab": {
          "base_uri": "https://localhost:8080/"
        },
        "id": "Sti2F1L6bi1O",
        "outputId": "125bf002-9014-46af-f5c3-3b680904f3b5"
      },
      "outputs": [
        {
          "name": "stdout",
          "output_type": "stream",
          "text": [
            "<class 'pandas.core.frame.DataFrame'>\n",
            "Int64Index: 206538 entries, 0 to 15226\n",
            "Data columns (total 81 columns):\n",
            " #   Column             Non-Null Count   Dtype  \n",
            "---  ------             --------------   -----  \n",
            " 0   Unnamed: 0         206538 non-null  int64  \n",
            " 1   Dst Port           206538 non-null  int64  \n",
            " 2   Protocol           206538 non-null  int64  \n",
            " 3   Timestamp          206538 non-null  object \n",
            " 4   Flow Duration      206538 non-null  int64  \n",
            " 5   Tot Fwd Pkts       206538 non-null  int64  \n",
            " 6   Tot Bwd Pkts       206538 non-null  int64  \n",
            " 7   TotLen Fwd Pkts    206538 non-null  int64  \n",
            " 8   TotLen Bwd Pkts    206538 non-null  float64\n",
            " 9   Fwd Pkt Len Max    206538 non-null  int64  \n",
            " 10  Fwd Pkt Len Min    206538 non-null  int64  \n",
            " 11  Fwd Pkt Len Mean   206538 non-null  float64\n",
            " 12  Fwd Pkt Len Std    206538 non-null  float64\n",
            " 13  Bwd Pkt Len Max    206538 non-null  int64  \n",
            " 14  Bwd Pkt Len Min    206538 non-null  int64  \n",
            " 15  Bwd Pkt Len Mean   206538 non-null  float64\n",
            " 16  Bwd Pkt Len Std    206538 non-null  float64\n",
            " 17  Flow Byts/s        206538 non-null  float64\n",
            " 18  Flow Pkts/s        206538 non-null  float64\n",
            " 19  Flow IAT Mean      206538 non-null  float64\n",
            " 20  Flow IAT Std       206538 non-null  float64\n",
            " 21  Flow IAT Max       206538 non-null  float64\n",
            " 22  Flow IAT Min       206538 non-null  float64\n",
            " 23  Fwd IAT Tot        206538 non-null  float64\n",
            " 24  Fwd IAT Mean       206538 non-null  float64\n",
            " 25  Fwd IAT Std        206538 non-null  float64\n",
            " 26  Fwd IAT Max        206538 non-null  float64\n",
            " 27  Fwd IAT Min        206538 non-null  float64\n",
            " 28  Bwd IAT Tot        206538 non-null  float64\n",
            " 29  Bwd IAT Mean       206538 non-null  float64\n",
            " 30  Bwd IAT Std        206538 non-null  float64\n",
            " 31  Bwd IAT Max        206538 non-null  float64\n",
            " 32  Bwd IAT Min        206538 non-null  float64\n",
            " 33  Fwd PSH Flags      206538 non-null  int64  \n",
            " 34  Bwd PSH Flags      206538 non-null  int64  \n",
            " 35  Fwd URG Flags      206538 non-null  int64  \n",
            " 36  Bwd URG Flags      206538 non-null  int64  \n",
            " 37  Fwd Header Len     206538 non-null  int64  \n",
            " 38  Bwd Header Len     206538 non-null  int64  \n",
            " 39  Fwd Pkts/s         206538 non-null  float64\n",
            " 40  Bwd Pkts/s         206538 non-null  float64\n",
            " 41  Pkt Len Min        206538 non-null  int64  \n",
            " 42  Pkt Len Max        206538 non-null  int64  \n",
            " 43  Pkt Len Mean       206538 non-null  float64\n",
            " 44  Pkt Len Std        206538 non-null  float64\n",
            " 45  Pkt Len Var        206538 non-null  float64\n",
            " 46  FIN Flag Cnt       206538 non-null  int64  \n",
            " 47  SYN Flag Cnt       206538 non-null  int64  \n",
            " 48  RST Flag Cnt       206538 non-null  int64  \n",
            " 49  PSH Flag Cnt       206538 non-null  int64  \n",
            " 50  ACK Flag Cnt       206538 non-null  int64  \n",
            " 51  URG Flag Cnt       206538 non-null  int64  \n",
            " 52  CWE Flag Count     206538 non-null  int64  \n",
            " 53  ECE Flag Cnt       206538 non-null  int64  \n",
            " 54  Down/Up Ratio      206538 non-null  int64  \n",
            " 55  Pkt Size Avg       206538 non-null  float64\n",
            " 56  Fwd Seg Size Avg   206538 non-null  float64\n",
            " 57  Bwd Seg Size Avg   206538 non-null  float64\n",
            " 58  Fwd Byts/b Avg     206538 non-null  int64  \n",
            " 59  Fwd Pkts/b Avg     206538 non-null  int64  \n",
            " 60  Fwd Blk Rate Avg   206538 non-null  int64  \n",
            " 61  Bwd Byts/b Avg     206538 non-null  int64  \n",
            " 62  Bwd Pkts/b Avg     206538 non-null  int64  \n",
            " 63  Bwd Blk Rate Avg   206538 non-null  int64  \n",
            " 64  Subflow Fwd Pkts   206538 non-null  int64  \n",
            " 65  Subflow Fwd Byts   206538 non-null  int64  \n",
            " 66  Subflow Bwd Pkts   206538 non-null  int64  \n",
            " 67  Subflow Bwd Byts   206538 non-null  int64  \n",
            " 68  Init Fwd Win Byts  206538 non-null  int64  \n",
            " 69  Init Bwd Win Byts  206538 non-null  int64  \n",
            " 70  Fwd Act Data Pkts  206538 non-null  int64  \n",
            " 71  Fwd Seg Size Min   206538 non-null  int64  \n",
            " 72  Active Mean        206538 non-null  float64\n",
            " 73  Active Std         206538 non-null  float64\n",
            " 74  Active Max         206538 non-null  float64\n",
            " 75  Active Min         206538 non-null  float64\n",
            " 76  Idle Mean          206538 non-null  float64\n",
            " 77  Idle Std           206538 non-null  float64\n",
            " 78  Idle Max           206538 non-null  float64\n",
            " 79  Idle Min           206538 non-null  float64\n",
            " 80  Label              206538 non-null  object \n",
            "dtypes: float64(37), int64(42), object(2)\n",
            "memory usage: 129.2+ MB\n"
          ]
        }
      ],
      "source": [
        "data.info()"
      ]
    },
    {
      "cell_type": "code",
      "execution_count": null,
      "metadata": {
        "colab": {
          "base_uri": "https://localhost:8080/"
        },
        "id": "jZ1bcIRCdFTp",
        "outputId": "baa96861-3626-4fad-d5d6-d519ef472c3c"
      },
      "outputs": [
        {
          "data": {
            "text/plain": [
              "Benign                      152099\n",
              "DDOS attack-HOIC             17222\n",
              "DoS attacks-Hulk             11553\n",
              "Bot                           7130\n",
              "FTP-BruteForce                4824\n",
              "SSH-Bruteforce                4734\n",
              "Infilteration                 4034\n",
              "DoS attacks-SlowHTTPTest      3555\n",
              "DoS attacks-GoldenEye         1012\n",
              "DoS attacks-Slowloris          306\n",
              "DDOS attack-LOIC-UDP            47\n",
              "Brute Force -Web                12\n",
              "Brute Force -XSS                 7\n",
              "SQL Injection                    3\n",
              "Name: Label, dtype: int64"
            ]
          },
          "execution_count": 9,
          "metadata": {},
          "output_type": "execute_result"
        }
      ],
      "source": [
        "data['Label'].value_counts()"
      ]
    },
    {
      "cell_type": "code",
      "execution_count": null,
      "metadata": {
        "id": "OXB03cI2YByA"
      },
      "outputs": [],
      "source": [
        "data = data.drop(['Unnamed: 0'], axis = 1)"
      ]
    },
    {
      "cell_type": "code",
      "execution_count": null,
      "metadata": {
        "colab": {
          "base_uri": "https://localhost:8080/"
        },
        "id": "W-HaCbou8ZLV",
        "outputId": "f14f37ad-c393-4862-a148-30af8331a07c"
      },
      "outputs": [
        {
          "data": {
            "text/plain": [
              "Index(['Dst Port', 'Protocol', 'Timestamp', 'Flow Duration', 'Tot Fwd Pkts',\n",
              "       'Tot Bwd Pkts', 'TotLen Fwd Pkts', 'TotLen Bwd Pkts', 'Fwd Pkt Len Max',\n",
              "       'Fwd Pkt Len Min', 'Fwd Pkt Len Mean', 'Fwd Pkt Len Std',\n",
              "       'Bwd Pkt Len Max', 'Bwd Pkt Len Min', 'Bwd Pkt Len Mean',\n",
              "       'Bwd Pkt Len Std', 'Flow Byts/s', 'Flow Pkts/s', 'Flow IAT Mean',\n",
              "       'Flow IAT Std', 'Flow IAT Max', 'Flow IAT Min', 'Fwd IAT Tot',\n",
              "       'Fwd IAT Mean', 'Fwd IAT Std', 'Fwd IAT Max', 'Fwd IAT Min',\n",
              "       'Bwd IAT Tot', 'Bwd IAT Mean', 'Bwd IAT Std', 'Bwd IAT Max',\n",
              "       'Bwd IAT Min', 'Fwd PSH Flags', 'Bwd PSH Flags', 'Fwd URG Flags',\n",
              "       'Bwd URG Flags', 'Fwd Header Len', 'Bwd Header Len', 'Fwd Pkts/s',\n",
              "       'Bwd Pkts/s', 'Pkt Len Min', 'Pkt Len Max', 'Pkt Len Mean',\n",
              "       'Pkt Len Std', 'Pkt Len Var', 'FIN Flag Cnt', 'SYN Flag Cnt',\n",
              "       'RST Flag Cnt', 'PSH Flag Cnt', 'ACK Flag Cnt', 'URG Flag Cnt',\n",
              "       'CWE Flag Count', 'ECE Flag Cnt', 'Down/Up Ratio', 'Pkt Size Avg',\n",
              "       'Fwd Seg Size Avg', 'Bwd Seg Size Avg', 'Fwd Byts/b Avg',\n",
              "       'Fwd Pkts/b Avg', 'Fwd Blk Rate Avg', 'Bwd Byts/b Avg',\n",
              "       'Bwd Pkts/b Avg', 'Bwd Blk Rate Avg', 'Subflow Fwd Pkts',\n",
              "       'Subflow Fwd Byts', 'Subflow Bwd Pkts', 'Subflow Bwd Byts',\n",
              "       'Init Fwd Win Byts', 'Init Bwd Win Byts', 'Fwd Act Data Pkts',\n",
              "       'Fwd Seg Size Min', 'Active Mean', 'Active Std', 'Active Max',\n",
              "       'Active Min', 'Idle Mean', 'Idle Std', 'Idle Max', 'Idle Min', 'Label'],\n",
              "      dtype='object')"
            ]
          },
          "execution_count": 11,
          "metadata": {},
          "output_type": "execute_result"
        }
      ],
      "source": [
        "data.columns"
      ]
    },
    {
      "cell_type": "code",
      "execution_count": null,
      "metadata": {
        "id": "x4TSxQGC8iD3"
      },
      "outputs": [],
      "source": [
        "# droping nan and inf rows\n",
        "# first replacing all inf values with nan\n",
        "data_real = data.replace(np.inf, np.nan)"
      ]
    },
    {
      "cell_type": "code",
      "execution_count": null,
      "metadata": {
        "colab": {
          "base_uri": "https://localhost:8080/"
        },
        "id": "OvWkybFf8sci",
        "outputId": "66e22eff-3d3a-4370-efb3-669204a3f71b"
      },
      "outputs": [
        {
          "data": {
            "text/plain": [
              "706"
            ]
          },
          "execution_count": 13,
          "metadata": {},
          "output_type": "execute_result"
        }
      ],
      "source": [
        "data_real.isnull().sum().sum()"
      ]
    },
    {
      "cell_type": "code",
      "execution_count": null,
      "metadata": {
        "id": "xs6Z6kdX9J-L"
      },
      "outputs": [],
      "source": [
        "data_df = data_real.dropna(axis=0)"
      ]
    },
    {
      "cell_type": "code",
      "execution_count": null,
      "metadata": {
        "colab": {
          "base_uri": "https://localhost:8080/"
        },
        "id": "NChmJWhA9Mc-",
        "outputId": "4d6d9326-3d54-421a-ca38-6a960a0570a2"
      },
      "outputs": [
        {
          "data": {
            "text/plain": [
              "0"
            ]
          },
          "execution_count": 15,
          "metadata": {},
          "output_type": "execute_result"
        }
      ],
      "source": [
        "data_df.isnull().sum().sum()"
      ]
    },
    {
      "cell_type": "code",
      "execution_count": null,
      "metadata": {
        "id": "A0p5x3pWtyWu"
      },
      "outputs": [],
      "source": [
        "df1 = data_df\n",
        "df1.loc[df1.Label == \"Benign\", \"Label\"] = 1.0\n",
        "df1.loc[df1.Label != 1, \"Label\"] = 0.0"
      ]
    },
    {
      "cell_type": "code",
      "execution_count": null,
      "metadata": {
        "colab": {
          "base_uri": "https://localhost:8080/",
          "height": 693
        },
        "id": "7Qd5PCLw9QfI",
        "outputId": "04305389-a3e9-4811-ba6d-76757e4e51e9"
      },
      "outputs": [
        {
          "data": {
            "text/html": [
              "\n",
              "  <div id=\"df-1be9a646-908c-4721-9d11-b158717915c6\">\n",
              "    <div class=\"colab-df-container\">\n",
              "      <div>\n",
              "<style scoped>\n",
              "    .dataframe tbody tr th:only-of-type {\n",
              "        vertical-align: middle;\n",
              "    }\n",
              "\n",
              "    .dataframe tbody tr th {\n",
              "        vertical-align: top;\n",
              "    }\n",
              "\n",
              "    .dataframe thead th {\n",
              "        text-align: right;\n",
              "    }\n",
              "</style>\n",
              "<table border=\"1\" class=\"dataframe\">\n",
              "  <thead>\n",
              "    <tr style=\"text-align: right;\">\n",
              "      <th></th>\n",
              "      <th>Dst Port</th>\n",
              "      <th>Protocol</th>\n",
              "      <th>Timestamp</th>\n",
              "      <th>Flow Duration</th>\n",
              "      <th>Tot Fwd Pkts</th>\n",
              "      <th>Tot Bwd Pkts</th>\n",
              "      <th>TotLen Fwd Pkts</th>\n",
              "      <th>TotLen Bwd Pkts</th>\n",
              "      <th>Fwd Pkt Len Max</th>\n",
              "      <th>Fwd Pkt Len Min</th>\n",
              "      <th>...</th>\n",
              "      <th>Fwd Seg Size Min</th>\n",
              "      <th>Active Mean</th>\n",
              "      <th>Active Std</th>\n",
              "      <th>Active Max</th>\n",
              "      <th>Active Min</th>\n",
              "      <th>Idle Mean</th>\n",
              "      <th>Idle Std</th>\n",
              "      <th>Idle Max</th>\n",
              "      <th>Idle Min</th>\n",
              "      <th>Label</th>\n",
              "    </tr>\n",
              "  </thead>\n",
              "  <tbody>\n",
              "    <tr>\n",
              "      <th>0</th>\n",
              "      <td>443</td>\n",
              "      <td>6</td>\n",
              "      <td>02/03/2018 09:51:47</td>\n",
              "      <td>122146</td>\n",
              "      <td>6</td>\n",
              "      <td>6</td>\n",
              "      <td>1549</td>\n",
              "      <td>3356.0</td>\n",
              "      <td>906</td>\n",
              "      <td>0</td>\n",
              "      <td>...</td>\n",
              "      <td>20</td>\n",
              "      <td>0.0</td>\n",
              "      <td>0.00000</td>\n",
              "      <td>0.0</td>\n",
              "      <td>0.0</td>\n",
              "      <td>0.0</td>\n",
              "      <td>0.000000</td>\n",
              "      <td>0.0</td>\n",
              "      <td>0.0</td>\n",
              "      <td>1.0</td>\n",
              "    </tr>\n",
              "    <tr>\n",
              "      <th>1</th>\n",
              "      <td>3389</td>\n",
              "      <td>6</td>\n",
              "      <td>02/03/2018 09:48:23</td>\n",
              "      <td>3298817</td>\n",
              "      <td>9</td>\n",
              "      <td>10</td>\n",
              "      <td>1229</td>\n",
              "      <td>1911.0</td>\n",
              "      <td>677</td>\n",
              "      <td>0</td>\n",
              "      <td>...</td>\n",
              "      <td>20</td>\n",
              "      <td>0.0</td>\n",
              "      <td>0.00000</td>\n",
              "      <td>0.0</td>\n",
              "      <td>0.0</td>\n",
              "      <td>0.0</td>\n",
              "      <td>0.000000</td>\n",
              "      <td>0.0</td>\n",
              "      <td>0.0</td>\n",
              "      <td>1.0</td>\n",
              "    </tr>\n",
              "    <tr>\n",
              "      <th>2</th>\n",
              "      <td>8080</td>\n",
              "      <td>6</td>\n",
              "      <td>02/03/2018 02:28:24</td>\n",
              "      <td>431</td>\n",
              "      <td>2</td>\n",
              "      <td>0</td>\n",
              "      <td>0</td>\n",
              "      <td>0.0</td>\n",
              "      <td>0</td>\n",
              "      <td>0</td>\n",
              "      <td>...</td>\n",
              "      <td>20</td>\n",
              "      <td>0.0</td>\n",
              "      <td>0.00000</td>\n",
              "      <td>0.0</td>\n",
              "      <td>0.0</td>\n",
              "      <td>0.0</td>\n",
              "      <td>0.000000</td>\n",
              "      <td>0.0</td>\n",
              "      <td>0.0</td>\n",
              "      <td>0.0</td>\n",
              "    </tr>\n",
              "    <tr>\n",
              "      <th>3</th>\n",
              "      <td>53</td>\n",
              "      <td>17</td>\n",
              "      <td>02/03/2018 08:47:05</td>\n",
              "      <td>445</td>\n",
              "      <td>1</td>\n",
              "      <td>1</td>\n",
              "      <td>41</td>\n",
              "      <td>169.0</td>\n",
              "      <td>41</td>\n",
              "      <td>41</td>\n",
              "      <td>...</td>\n",
              "      <td>8</td>\n",
              "      <td>0.0</td>\n",
              "      <td>0.00000</td>\n",
              "      <td>0.0</td>\n",
              "      <td>0.0</td>\n",
              "      <td>0.0</td>\n",
              "      <td>0.000000</td>\n",
              "      <td>0.0</td>\n",
              "      <td>0.0</td>\n",
              "      <td>1.0</td>\n",
              "    </tr>\n",
              "    <tr>\n",
              "      <th>4</th>\n",
              "      <td>443</td>\n",
              "      <td>6</td>\n",
              "      <td>02/03/2018 04:53:17</td>\n",
              "      <td>5142188</td>\n",
              "      <td>7</td>\n",
              "      <td>5</td>\n",
              "      <td>358</td>\n",
              "      <td>176.0</td>\n",
              "      <td>230</td>\n",
              "      <td>0</td>\n",
              "      <td>...</td>\n",
              "      <td>20</td>\n",
              "      <td>50377.0</td>\n",
              "      <td>0.00000</td>\n",
              "      <td>50377.0</td>\n",
              "      <td>50377.0</td>\n",
              "      <td>5091778.0</td>\n",
              "      <td>0.000000</td>\n",
              "      <td>5091778.0</td>\n",
              "      <td>5091778.0</td>\n",
              "      <td>1.0</td>\n",
              "    </tr>\n",
              "    <tr>\n",
              "      <th>...</th>\n",
              "      <td>...</td>\n",
              "      <td>...</td>\n",
              "      <td>...</td>\n",
              "      <td>...</td>\n",
              "      <td>...</td>\n",
              "      <td>...</td>\n",
              "      <td>...</td>\n",
              "      <td>...</td>\n",
              "      <td>...</td>\n",
              "      <td>...</td>\n",
              "      <td>...</td>\n",
              "      <td>...</td>\n",
              "      <td>...</td>\n",
              "      <td>...</td>\n",
              "      <td>...</td>\n",
              "      <td>...</td>\n",
              "      <td>...</td>\n",
              "      <td>...</td>\n",
              "      <td>...</td>\n",
              "      <td>...</td>\n",
              "      <td>...</td>\n",
              "    </tr>\n",
              "    <tr>\n",
              "      <th>15222</th>\n",
              "      <td>443</td>\n",
              "      <td>6</td>\n",
              "      <td>28/02/2018 10:16:29</td>\n",
              "      <td>353616</td>\n",
              "      <td>9</td>\n",
              "      <td>7</td>\n",
              "      <td>512</td>\n",
              "      <td>4471.0</td>\n",
              "      <td>194</td>\n",
              "      <td>0</td>\n",
              "      <td>...</td>\n",
              "      <td>20</td>\n",
              "      <td>0.0</td>\n",
              "      <td>0.00000</td>\n",
              "      <td>0.0</td>\n",
              "      <td>0.0</td>\n",
              "      <td>0.0</td>\n",
              "      <td>0.000000</td>\n",
              "      <td>0.0</td>\n",
              "      <td>0.0</td>\n",
              "      <td>1.0</td>\n",
              "    </tr>\n",
              "    <tr>\n",
              "      <th>15223</th>\n",
              "      <td>53</td>\n",
              "      <td>17</td>\n",
              "      <td>28/02/2018 12:15:08</td>\n",
              "      <td>102956</td>\n",
              "      <td>2</td>\n",
              "      <td>2</td>\n",
              "      <td>90</td>\n",
              "      <td>164.0</td>\n",
              "      <td>45</td>\n",
              "      <td>45</td>\n",
              "      <td>...</td>\n",
              "      <td>8</td>\n",
              "      <td>0.0</td>\n",
              "      <td>0.00000</td>\n",
              "      <td>0.0</td>\n",
              "      <td>0.0</td>\n",
              "      <td>0.0</td>\n",
              "      <td>0.000000</td>\n",
              "      <td>0.0</td>\n",
              "      <td>0.0</td>\n",
              "      <td>1.0</td>\n",
              "    </tr>\n",
              "    <tr>\n",
              "      <th>15224</th>\n",
              "      <td>3389</td>\n",
              "      <td>6</td>\n",
              "      <td>28/02/2018 09:16:18</td>\n",
              "      <td>1678845</td>\n",
              "      <td>8</td>\n",
              "      <td>7</td>\n",
              "      <td>1128</td>\n",
              "      <td>1581.0</td>\n",
              "      <td>661</td>\n",
              "      <td>0</td>\n",
              "      <td>...</td>\n",
              "      <td>20</td>\n",
              "      <td>0.0</td>\n",
              "      <td>0.00000</td>\n",
              "      <td>0.0</td>\n",
              "      <td>0.0</td>\n",
              "      <td>0.0</td>\n",
              "      <td>0.000000</td>\n",
              "      <td>0.0</td>\n",
              "      <td>0.0</td>\n",
              "      <td>1.0</td>\n",
              "    </tr>\n",
              "    <tr>\n",
              "      <th>15225</th>\n",
              "      <td>53</td>\n",
              "      <td>17</td>\n",
              "      <td>28/02/2018 05:03:58</td>\n",
              "      <td>240</td>\n",
              "      <td>1</td>\n",
              "      <td>1</td>\n",
              "      <td>35</td>\n",
              "      <td>67.0</td>\n",
              "      <td>35</td>\n",
              "      <td>35</td>\n",
              "      <td>...</td>\n",
              "      <td>8</td>\n",
              "      <td>0.0</td>\n",
              "      <td>0.00000</td>\n",
              "      <td>0.0</td>\n",
              "      <td>0.0</td>\n",
              "      <td>0.0</td>\n",
              "      <td>0.000000</td>\n",
              "      <td>0.0</td>\n",
              "      <td>0.0</td>\n",
              "      <td>1.0</td>\n",
              "    </tr>\n",
              "    <tr>\n",
              "      <th>15226</th>\n",
              "      <td>443</td>\n",
              "      <td>6</td>\n",
              "      <td>28/02/2018 03:12:43</td>\n",
              "      <td>116502240</td>\n",
              "      <td>17</td>\n",
              "      <td>27</td>\n",
              "      <td>941</td>\n",
              "      <td>27895.0</td>\n",
              "      <td>302</td>\n",
              "      <td>0</td>\n",
              "      <td>...</td>\n",
              "      <td>20</td>\n",
              "      <td>112020.0</td>\n",
              "      <td>48285.49366</td>\n",
              "      <td>146163.0</td>\n",
              "      <td>77877.0</td>\n",
              "      <td>58107951.0</td>\n",
              "      <td>176831.849626</td>\n",
              "      <td>58232990.0</td>\n",
              "      <td>57982912.0</td>\n",
              "      <td>1.0</td>\n",
              "    </tr>\n",
              "  </tbody>\n",
              "</table>\n",
              "<p>206185 rows × 80 columns</p>\n",
              "</div>\n",
              "      <button class=\"colab-df-convert\" onclick=\"convertToInteractive('df-1be9a646-908c-4721-9d11-b158717915c6')\"\n",
              "              title=\"Convert this dataframe to an interactive table.\"\n",
              "              style=\"display:none;\">\n",
              "        \n",
              "  <svg xmlns=\"http://www.w3.org/2000/svg\" height=\"24px\"viewBox=\"0 0 24 24\"\n",
              "       width=\"24px\">\n",
              "    <path d=\"M0 0h24v24H0V0z\" fill=\"none\"/>\n",
              "    <path d=\"M18.56 5.44l.94 2.06.94-2.06 2.06-.94-2.06-.94-.94-2.06-.94 2.06-2.06.94zm-11 1L8.5 8.5l.94-2.06 2.06-.94-2.06-.94L8.5 2.5l-.94 2.06-2.06.94zm10 10l.94 2.06.94-2.06 2.06-.94-2.06-.94-.94-2.06-.94 2.06-2.06.94z\"/><path d=\"M17.41 7.96l-1.37-1.37c-.4-.4-.92-.59-1.43-.59-.52 0-1.04.2-1.43.59L10.3 9.45l-7.72 7.72c-.78.78-.78 2.05 0 2.83L4 21.41c.39.39.9.59 1.41.59.51 0 1.02-.2 1.41-.59l7.78-7.78 2.81-2.81c.8-.78.8-2.07 0-2.86zM5.41 20L4 18.59l7.72-7.72 1.47 1.35L5.41 20z\"/>\n",
              "  </svg>\n",
              "      </button>\n",
              "      \n",
              "  <style>\n",
              "    .colab-df-container {\n",
              "      display:flex;\n",
              "      flex-wrap:wrap;\n",
              "      gap: 12px;\n",
              "    }\n",
              "\n",
              "    .colab-df-convert {\n",
              "      background-color: #E8F0FE;\n",
              "      border: none;\n",
              "      border-radius: 50%;\n",
              "      cursor: pointer;\n",
              "      display: none;\n",
              "      fill: #1967D2;\n",
              "      height: 32px;\n",
              "      padding: 0 0 0 0;\n",
              "      width: 32px;\n",
              "    }\n",
              "\n",
              "    .colab-df-convert:hover {\n",
              "      background-color: #E2EBFA;\n",
              "      box-shadow: 0px 1px 2px rgba(60, 64, 67, 0.3), 0px 1px 3px 1px rgba(60, 64, 67, 0.15);\n",
              "      fill: #174EA6;\n",
              "    }\n",
              "\n",
              "    [theme=dark] .colab-df-convert {\n",
              "      background-color: #3B4455;\n",
              "      fill: #D2E3FC;\n",
              "    }\n",
              "\n",
              "    [theme=dark] .colab-df-convert:hover {\n",
              "      background-color: #434B5C;\n",
              "      box-shadow: 0px 1px 3px 1px rgba(0, 0, 0, 0.15);\n",
              "      filter: drop-shadow(0px 1px 2px rgba(0, 0, 0, 0.3));\n",
              "      fill: #FFFFFF;\n",
              "    }\n",
              "  </style>\n",
              "\n",
              "      <script>\n",
              "        const buttonEl =\n",
              "          document.querySelector('#df-1be9a646-908c-4721-9d11-b158717915c6 button.colab-df-convert');\n",
              "        buttonEl.style.display =\n",
              "          google.colab.kernel.accessAllowed ? 'block' : 'none';\n",
              "\n",
              "        async function convertToInteractive(key) {\n",
              "          const element = document.querySelector('#df-1be9a646-908c-4721-9d11-b158717915c6');\n",
              "          const dataTable =\n",
              "            await google.colab.kernel.invokeFunction('convertToInteractive',\n",
              "                                                     [key], {});\n",
              "          if (!dataTable) return;\n",
              "\n",
              "          const docLinkHtml = 'Like what you see? Visit the ' +\n",
              "            '<a target=\"_blank\" href=https://colab.research.google.com/notebooks/data_table.ipynb>data table notebook</a>'\n",
              "            + ' to learn more about interactive tables.';\n",
              "          element.innerHTML = '';\n",
              "          dataTable['output_type'] = 'display_data';\n",
              "          await google.colab.output.renderOutput(dataTable, element);\n",
              "          const docLink = document.createElement('div');\n",
              "          docLink.innerHTML = docLinkHtml;\n",
              "          element.appendChild(docLink);\n",
              "        }\n",
              "      </script>\n",
              "    </div>\n",
              "  </div>\n",
              "  "
            ],
            "text/plain": [
              "       Dst Port  Protocol            Timestamp  Flow Duration  Tot Fwd Pkts  \\\n",
              "0           443         6  02/03/2018 09:51:47         122146             6   \n",
              "1          3389         6  02/03/2018 09:48:23        3298817             9   \n",
              "2          8080         6  02/03/2018 02:28:24            431             2   \n",
              "3            53        17  02/03/2018 08:47:05            445             1   \n",
              "4           443         6  02/03/2018 04:53:17        5142188             7   \n",
              "...         ...       ...                  ...            ...           ...   \n",
              "15222       443         6  28/02/2018 10:16:29         353616             9   \n",
              "15223        53        17  28/02/2018 12:15:08         102956             2   \n",
              "15224      3389         6  28/02/2018 09:16:18        1678845             8   \n",
              "15225        53        17  28/02/2018 05:03:58            240             1   \n",
              "15226       443         6  28/02/2018 03:12:43      116502240            17   \n",
              "\n",
              "       Tot Bwd Pkts  TotLen Fwd Pkts  TotLen Bwd Pkts  Fwd Pkt Len Max  \\\n",
              "0                 6             1549           3356.0              906   \n",
              "1                10             1229           1911.0              677   \n",
              "2                 0                0              0.0                0   \n",
              "3                 1               41            169.0               41   \n",
              "4                 5              358            176.0              230   \n",
              "...             ...              ...              ...              ...   \n",
              "15222             7              512           4471.0              194   \n",
              "15223             2               90            164.0               45   \n",
              "15224             7             1128           1581.0              661   \n",
              "15225             1               35             67.0               35   \n",
              "15226            27              941          27895.0              302   \n",
              "\n",
              "       Fwd Pkt Len Min  ...  Fwd Seg Size Min  Active Mean   Active Std  \\\n",
              "0                    0  ...                20          0.0      0.00000   \n",
              "1                    0  ...                20          0.0      0.00000   \n",
              "2                    0  ...                20          0.0      0.00000   \n",
              "3                   41  ...                 8          0.0      0.00000   \n",
              "4                    0  ...                20      50377.0      0.00000   \n",
              "...                ...  ...               ...          ...          ...   \n",
              "15222                0  ...                20          0.0      0.00000   \n",
              "15223               45  ...                 8          0.0      0.00000   \n",
              "15224                0  ...                20          0.0      0.00000   \n",
              "15225               35  ...                 8          0.0      0.00000   \n",
              "15226                0  ...                20     112020.0  48285.49366   \n",
              "\n",
              "       Active Max  Active Min   Idle Mean       Idle Std    Idle Max  \\\n",
              "0             0.0         0.0         0.0       0.000000         0.0   \n",
              "1             0.0         0.0         0.0       0.000000         0.0   \n",
              "2             0.0         0.0         0.0       0.000000         0.0   \n",
              "3             0.0         0.0         0.0       0.000000         0.0   \n",
              "4         50377.0     50377.0   5091778.0       0.000000   5091778.0   \n",
              "...           ...         ...         ...            ...         ...   \n",
              "15222         0.0         0.0         0.0       0.000000         0.0   \n",
              "15223         0.0         0.0         0.0       0.000000         0.0   \n",
              "15224         0.0         0.0         0.0       0.000000         0.0   \n",
              "15225         0.0         0.0         0.0       0.000000         0.0   \n",
              "15226    146163.0     77877.0  58107951.0  176831.849626  58232990.0   \n",
              "\n",
              "         Idle Min  Label  \n",
              "0             0.0    1.0  \n",
              "1             0.0    1.0  \n",
              "2             0.0    0.0  \n",
              "3             0.0    1.0  \n",
              "4       5091778.0    1.0  \n",
              "...           ...    ...  \n",
              "15222         0.0    1.0  \n",
              "15223         0.0    1.0  \n",
              "15224         0.0    1.0  \n",
              "15225         0.0    1.0  \n",
              "15226  57982912.0    1.0  \n",
              "\n",
              "[206185 rows x 80 columns]"
            ]
          },
          "execution_count": 17,
          "metadata": {},
          "output_type": "execute_result"
        }
      ],
      "source": [
        "df1"
      ]
    },
    {
      "cell_type": "code",
      "execution_count": null,
      "metadata": {
        "colab": {
          "base_uri": "https://localhost:8080/"
        },
        "id": "2-wjCvdvcAie",
        "outputId": "e30f7263-343e-4e47-fed3-f98704ca2b14"
      },
      "outputs": [
        {
          "data": {
            "text/plain": [
              "array([1.0, 0.0], dtype=object)"
            ]
          },
          "execution_count": 18,
          "metadata": {},
          "output_type": "execute_result"
        }
      ],
      "source": [
        "df1.Label.unique()"
      ]
    },
    {
      "cell_type": "code",
      "execution_count": null,
      "metadata": {
        "colab": {
          "base_uri": "https://localhost:8080/"
        },
        "id": "TsPV2QrWcJXN",
        "outputId": "d4043e47-edeb-4b39-c777-a25c94540252"
      },
      "outputs": [
        {
          "data": {
            "text/plain": [
              "1.0    151761\n",
              "0.0     54424\n",
              "Name: Label, dtype: int64"
            ]
          },
          "execution_count": 19,
          "metadata": {},
          "output_type": "execute_result"
        }
      ],
      "source": [
        "df1.Label.value_counts()"
      ]
    },
    {
      "cell_type": "code",
      "execution_count": null,
      "metadata": {
        "colab": {
          "base_uri": "https://localhost:8080/",
          "height": 482
        },
        "id": "858pLMbvcqiA",
        "outputId": "7d346d3b-8d0b-4f11-c62d-725e213e55fb"
      },
      "outputs": [
        {
          "data": {
            "image/png": "[encoded data removed]",
            "text/plain": [
              "<Figure size 936x576 with 1 Axes>"
            ]
          },
          "metadata": {},
          "output_type": "display_data"
        }
      ],
      "source": [
        "labels = [\"Attack\",'Normal']\n",
        "sizes = [dict(df1.Label.value_counts())[0], dict(df1.Label.value_counts())[1]]\n",
        "plt.figure(figsize = (13,8))\n",
        "plt.pie(sizes, labels=labels, autopct='%1.1f%%',\n",
        "        shadow=True, startangle=90)\n",
        "plt.legend([\"Attack\", \"Normal\"])\n",
        "plt.title('The percentage of Normal and DDoS Requests in dataset')\n",
        "plt.show()"
      ]
    },
    {
      "cell_type": "code",
      "execution_count": null,
      "metadata": {
        "colab": {
          "base_uri": "https://localhost:8080/"
        },
        "id": "K0Cy_DZekhWj",
        "outputId": "b4ecc800-eaec-4db5-9f66-8feff5a48548"
      },
      "outputs": [
        {
          "name": "stdout",
          "output_type": "stream",
          "text": [
            "Numeric Columns: \n",
            "Index(['Dst Port', 'Protocol', 'Flow Duration', 'Tot Fwd Pkts', 'Tot Bwd Pkts',\n",
            "       'TotLen Fwd Pkts', 'TotLen Bwd Pkts', 'Fwd Pkt Len Max',\n",
            "       'Fwd Pkt Len Min', 'Fwd Pkt Len Mean', 'Fwd Pkt Len Std',\n",
            "       'Bwd Pkt Len Max', 'Bwd Pkt Len Min', 'Bwd Pkt Len Mean',\n",
            "       'Bwd Pkt Len Std', 'Flow Byts/s', 'Flow Pkts/s', 'Flow IAT Mean',\n",
            "       'Flow IAT Std', 'Flow IAT Max', 'Flow IAT Min', 'Fwd IAT Tot',\n",
            "       'Fwd IAT Mean', 'Fwd IAT Std', 'Fwd IAT Max', 'Fwd IAT Min',\n",
            "       'Bwd IAT Tot', 'Bwd IAT Mean', 'Bwd IAT Std', 'Bwd IAT Max',\n",
            "       'Bwd IAT Min', 'Fwd PSH Flags', 'Bwd PSH Flags', 'Fwd URG Flags',\n",
            "       'Bwd URG Flags', 'Fwd Header Len', 'Bwd Header Len', 'Fwd Pkts/s',\n",
            "       'Bwd Pkts/s', 'Pkt Len Min', 'Pkt Len Max', 'Pkt Len Mean',\n",
            "       'Pkt Len Std', 'Pkt Len Var', 'FIN Flag Cnt', 'SYN Flag Cnt',\n",
            "       'RST Flag Cnt', 'PSH Flag Cnt', 'ACK Flag Cnt', 'URG Flag Cnt',\n",
            "       'CWE Flag Count', 'ECE Flag Cnt', 'Down/Up Ratio', 'Pkt Size Avg',\n",
            "       'Fwd Seg Size Avg', 'Bwd Seg Size Avg', 'Fwd Byts/b Avg',\n",
            "       'Fwd Pkts/b Avg', 'Fwd Blk Rate Avg', 'Bwd Byts/b Avg',\n",
            "       'Bwd Pkts/b Avg', 'Bwd Blk Rate Avg', 'Subflow Fwd Pkts',\n",
            "       'Subflow Fwd Byts', 'Subflow Bwd Pkts', 'Subflow Bwd Byts',\n",
            "       'Init Fwd Win Byts', 'Init Bwd Win Byts', 'Fwd Act Data Pkts',\n",
            "       'Fwd Seg Size Min', 'Active Mean', 'Active Std', 'Active Max',\n",
            "       'Active Min', 'Idle Mean', 'Idle Std', 'Idle Max', 'Idle Min'],\n",
            "      dtype='object') \n",
            "\n",
            "Object Columns: \n",
            "Index(['Timestamp', 'Label'], dtype='object') \n",
            "\n",
            "Number of Numeric Features:  78\n",
            "Number of Object Features:  2\n"
          ]
        }
      ],
      "source": [
        "numeric_df = df1.select_dtypes(include=['int64', 'float64'])\n",
        "object_df = df1.select_dtypes(include=['object'])\n",
        "numeric_cols = numeric_df.columns\n",
        "object_cols = object_df.columns\n",
        "print('Numeric Columns: ')\n",
        "print(numeric_cols, '\\n')\n",
        "print('Object Columns: ')\n",
        "print(object_cols, '\\n')\n",
        "print('Number of Numeric Features: ', len(numeric_cols))\n",
        "print('Number of Object Features: ', len(object_cols))"
      ]
    },
    {
      "cell_type": "code",
      "execution_count": null,
      "metadata": {
        "id": "W7HXnBur9VVd"
      },
      "outputs": [],
      "source": [
        "data_X = df1.drop(['Label','Timestamp'], axis = 1)"
      ]
    },
    {
      "cell_type": "code",
      "execution_count": null,
      "metadata": {
        "colab": {
          "base_uri": "https://localhost:8080/"
        },
        "id": "0wa-zf0f9cNk",
        "outputId": "0bf2fbc5-f200-47e6-fbb1-f7d370be82b4"
      },
      "outputs": [
        {
          "data": {
            "text/plain": [
              "Index(['Dst Port', 'Protocol', 'Flow Duration', 'Tot Fwd Pkts', 'Tot Bwd Pkts',\n",
              "       'TotLen Fwd Pkts', 'TotLen Bwd Pkts', 'Fwd Pkt Len Max',\n",
              "       'Fwd Pkt Len Min', 'Fwd Pkt Len Mean', 'Fwd Pkt Len Std',\n",
              "       'Bwd Pkt Len Max', 'Bwd Pkt Len Min', 'Bwd Pkt Len Mean',\n",
              "       'Bwd Pkt Len Std', 'Flow Byts/s', 'Flow Pkts/s', 'Flow IAT Mean',\n",
              "       'Flow IAT Std', 'Flow IAT Max', 'Flow IAT Min', 'Fwd IAT Tot',\n",
              "       'Fwd IAT Mean', 'Fwd IAT Std', 'Fwd IAT Max', 'Fwd IAT Min',\n",
              "       'Bwd IAT Tot', 'Bwd IAT Mean', 'Bwd IAT Std', 'Bwd IAT Max',\n",
              "       'Bwd IAT Min', 'Fwd PSH Flags', 'Bwd PSH Flags', 'Fwd URG Flags',\n",
              "       'Bwd URG Flags', 'Fwd Header Len', 'Bwd Header Len', 'Fwd Pkts/s',\n",
              "       'Bwd Pkts/s', 'Pkt Len Min', 'Pkt Len Max', 'Pkt Len Mean',\n",
              "       'Pkt Len Std', 'Pkt Len Var', 'FIN Flag Cnt', 'SYN Flag Cnt',\n",
              "       'RST Flag Cnt', 'PSH Flag Cnt', 'ACK Flag Cnt', 'URG Flag Cnt',\n",
              "       'CWE Flag Count', 'ECE Flag Cnt', 'Down/Up Ratio', 'Pkt Size Avg',\n",
              "       'Fwd Seg Size Avg', 'Bwd Seg Size Avg', 'Fwd Byts/b Avg',\n",
              "       'Fwd Pkts/b Avg', 'Fwd Blk Rate Avg', 'Bwd Byts/b Avg',\n",
              "       'Bwd Pkts/b Avg', 'Bwd Blk Rate Avg', 'Subflow Fwd Pkts',\n",
              "       'Subflow Fwd Byts', 'Subflow Bwd Pkts', 'Subflow Bwd Byts',\n",
              "       'Init Fwd Win Byts', 'Init Bwd Win Byts', 'Fwd Act Data Pkts',\n",
              "       'Fwd Seg Size Min', 'Active Mean', 'Active Std', 'Active Max',\n",
              "       'Active Min', 'Idle Mean', 'Idle Std', 'Idle Max', 'Idle Min'],\n",
              "      dtype='object')"
            ]
          },
          "execution_count": 23,
          "metadata": {},
          "output_type": "execute_result"
        }
      ],
      "source": [
        "data_X.columns"
      ]
    },
    {
      "cell_type": "code",
      "execution_count": null,
      "metadata": {
        "colab": {
          "base_uri": "https://localhost:8080/"
        },
        "id": "eD-V5Nnm9g_a",
        "outputId": "4c1a07de-3f2e-4bd6-d9dd-1f6413fedb84"
      },
      "outputs": [
        {
          "data": {
            "text/plain": [
              "(206185, 78)"
            ]
          },
          "execution_count": 24,
          "metadata": {},
          "output_type": "execute_result"
        }
      ],
      "source": [
        "data_X.shape"
      ]
    },
    {
      "cell_type": "code",
      "execution_count": null,
      "metadata": {
        "id": "cjlwrGGy9nq2"
      },
      "outputs": [],
      "source": [
        "data_y = df1['Label']"
      ]
    },
    {
      "cell_type": "code",
      "execution_count": null,
      "metadata": {
        "colab": {
          "base_uri": "https://localhost:8080/"
        },
        "id": "EyaaSadr9hG8",
        "outputId": "f2e719dc-35d4-4e59-93e7-371dfc5faa95"
      },
      "outputs": [
        {
          "data": {
            "text/plain": [
              "(206185,)"
            ]
          },
          "execution_count": 94,
          "metadata": {},
          "output_type": "execute_result"
        }
      ],
      "source": [
        "data_y.shape"
      ]
    },
    {
      "cell_type": "code",
      "execution_count": null,
      "metadata": {
        "colab": {
          "base_uri": "https://localhost:8080/"
        },
        "id": "V5DyVpVO95pi",
        "outputId": "ec3d1805-dfc1-4964-9fa3-6b8b22d5368b"
      },
      "outputs": [
        {
          "data": {
            "text/plain": [
              "0"
            ]
          },
          "execution_count": 26,
          "metadata": {},
          "output_type": "execute_result"
        }
      ],
      "source": [
        "df1.isnull().sum().sum()"
      ]
    },
    {
      "cell_type": "code",
      "execution_count": null,
      "metadata": {
        "colab": {
          "base_uri": "https://localhost:8080/"
        },
        "id": "leyL5K_995vq",
        "outputId": "cd6a19ef-c6f5-499c-94a8-6a10653c9532"
      },
      "outputs": [
        {
          "data": {
            "text/plain": [
              "array([1.0, 0.0], dtype=object)"
            ]
          },
          "execution_count": 27,
          "metadata": {},
          "output_type": "execute_result"
        }
      ],
      "source": [
        "data_y.unique()"
      ]
    },
    {
      "cell_type": "code",
      "execution_count": null,
      "metadata": {
        "colab": {
          "base_uri": "https://localhost:8080/"
        },
        "id": "CfwoPEbXX65Y",
        "outputId": "a51adfa3-cdea-4a26-fecb-0127e69f5f2e"
      },
      "outputs": [
        {
          "data": {
            "text/plain": [
              "0        1.0\n",
              "1        1.0\n",
              "2        0.0\n",
              "3        1.0\n",
              "4        1.0\n",
              "        ... \n",
              "15222    1.0\n",
              "15223    1.0\n",
              "15224    1.0\n",
              "15225    1.0\n",
              "15226    1.0\n",
              "Name: Label, Length: 206185, dtype: object"
            ]
          },
          "execution_count": 28,
          "metadata": {},
          "output_type": "execute_result"
        }
      ],
      "source": [
        "data_y"
      ]
    },
    {
      "cell_type": "code",
      "execution_count": null,
      "metadata": {
        "colab": {
          "base_uri": "https://localhost:8080/",
          "height": 520
        },
        "id": "_uJ67oRr9_zb",
        "outputId": "c770bae8-42c1-40b3-b8a3-32b4114b49b5"
      },
      "outputs": [
        {
          "data": {
            "text/html": [
              "\n",
              "  <div id=\"df-9301d680-155d-465a-abd8-b320e4fdf82e\">\n",
              "    <div class=\"colab-df-container\">\n",
              "      <div>\n",
              "<style scoped>\n",
              "    .dataframe tbody tr th:only-of-type {\n",
              "        vertical-align: middle;\n",
              "    }\n",
              "\n",
              "    .dataframe tbody tr th {\n",
              "        vertical-align: top;\n",
              "    }\n",
              "\n",
              "    .dataframe thead th {\n",
              "        text-align: right;\n",
              "    }\n",
              "</style>\n",
              "<table border=\"1\" class=\"dataframe\">\n",
              "  <thead>\n",
              "    <tr style=\"text-align: right;\">\n",
              "      <th></th>\n",
              "      <th>Dst Port</th>\n",
              "      <th>Protocol</th>\n",
              "      <th>Flow Duration</th>\n",
              "      <th>Tot Fwd Pkts</th>\n",
              "      <th>Tot Bwd Pkts</th>\n",
              "      <th>TotLen Fwd Pkts</th>\n",
              "      <th>TotLen Bwd Pkts</th>\n",
              "      <th>Fwd Pkt Len Max</th>\n",
              "      <th>Fwd Pkt Len Min</th>\n",
              "      <th>Fwd Pkt Len Mean</th>\n",
              "      <th>...</th>\n",
              "      <th>Fwd Act Data Pkts</th>\n",
              "      <th>Fwd Seg Size Min</th>\n",
              "      <th>Active Mean</th>\n",
              "      <th>Active Std</th>\n",
              "      <th>Active Max</th>\n",
              "      <th>Active Min</th>\n",
              "      <th>Idle Mean</th>\n",
              "      <th>Idle Std</th>\n",
              "      <th>Idle Max</th>\n",
              "      <th>Idle Min</th>\n",
              "    </tr>\n",
              "  </thead>\n",
              "  <tbody>\n",
              "    <tr>\n",
              "      <th>0</th>\n",
              "      <td>443</td>\n",
              "      <td>6</td>\n",
              "      <td>122146</td>\n",
              "      <td>6</td>\n",
              "      <td>6</td>\n",
              "      <td>1549</td>\n",
              "      <td>3356.0</td>\n",
              "      <td>906</td>\n",
              "      <td>0</td>\n",
              "      <td>258.166667</td>\n",
              "      <td>...</td>\n",
              "      <td>3</td>\n",
              "      <td>20</td>\n",
              "      <td>0.0</td>\n",
              "      <td>0.00000</td>\n",
              "      <td>0.0</td>\n",
              "      <td>0.0</td>\n",
              "      <td>0.0</td>\n",
              "      <td>0.000000</td>\n",
              "      <td>0.0</td>\n",
              "      <td>0.0</td>\n",
              "    </tr>\n",
              "    <tr>\n",
              "      <th>1</th>\n",
              "      <td>3389</td>\n",
              "      <td>6</td>\n",
              "      <td>3298817</td>\n",
              "      <td>9</td>\n",
              "      <td>10</td>\n",
              "      <td>1229</td>\n",
              "      <td>1911.0</td>\n",
              "      <td>677</td>\n",
              "      <td>0</td>\n",
              "      <td>136.555556</td>\n",
              "      <td>...</td>\n",
              "      <td>6</td>\n",
              "      <td>20</td>\n",
              "      <td>0.0</td>\n",
              "      <td>0.00000</td>\n",
              "      <td>0.0</td>\n",
              "      <td>0.0</td>\n",
              "      <td>0.0</td>\n",
              "      <td>0.000000</td>\n",
              "      <td>0.0</td>\n",
              "      <td>0.0</td>\n",
              "    </tr>\n",
              "    <tr>\n",
              "      <th>2</th>\n",
              "      <td>8080</td>\n",
              "      <td>6</td>\n",
              "      <td>431</td>\n",
              "      <td>2</td>\n",
              "      <td>0</td>\n",
              "      <td>0</td>\n",
              "      <td>0.0</td>\n",
              "      <td>0</td>\n",
              "      <td>0</td>\n",
              "      <td>0.000000</td>\n",
              "      <td>...</td>\n",
              "      <td>0</td>\n",
              "      <td>20</td>\n",
              "      <td>0.0</td>\n",
              "      <td>0.00000</td>\n",
              "      <td>0.0</td>\n",
              "      <td>0.0</td>\n",
              "      <td>0.0</td>\n",
              "      <td>0.000000</td>\n",
              "      <td>0.0</td>\n",
              "      <td>0.0</td>\n",
              "    </tr>\n",
              "    <tr>\n",
              "      <th>3</th>\n",
              "      <td>53</td>\n",
              "      <td>17</td>\n",
              "      <td>445</td>\n",
              "      <td>1</td>\n",
              "      <td>1</td>\n",
              "      <td>41</td>\n",
              "      <td>169.0</td>\n",
              "      <td>41</td>\n",
              "      <td>41</td>\n",
              "      <td>41.000000</td>\n",
              "      <td>...</td>\n",
              "      <td>0</td>\n",
              "      <td>8</td>\n",
              "      <td>0.0</td>\n",
              "      <td>0.00000</td>\n",
              "      <td>0.0</td>\n",
              "      <td>0.0</td>\n",
              "      <td>0.0</td>\n",
              "      <td>0.000000</td>\n",
              "      <td>0.0</td>\n",
              "      <td>0.0</td>\n",
              "    </tr>\n",
              "    <tr>\n",
              "      <th>4</th>\n",
              "      <td>443</td>\n",
              "      <td>6</td>\n",
              "      <td>5142188</td>\n",
              "      <td>7</td>\n",
              "      <td>5</td>\n",
              "      <td>358</td>\n",
              "      <td>176.0</td>\n",
              "      <td>230</td>\n",
              "      <td>0</td>\n",
              "      <td>51.142857</td>\n",
              "      <td>...</td>\n",
              "      <td>3</td>\n",
              "      <td>20</td>\n",
              "      <td>50377.0</td>\n",
              "      <td>0.00000</td>\n",
              "      <td>50377.0</td>\n",
              "      <td>50377.0</td>\n",
              "      <td>5091778.0</td>\n",
              "      <td>0.000000</td>\n",
              "      <td>5091778.0</td>\n",
              "      <td>5091778.0</td>\n",
              "    </tr>\n",
              "    <tr>\n",
              "      <th>...</th>\n",
              "      <td>...</td>\n",
              "      <td>...</td>\n",
              "      <td>...</td>\n",
              "      <td>...</td>\n",
              "      <td>...</td>\n",
              "      <td>...</td>\n",
              "      <td>...</td>\n",
              "      <td>...</td>\n",
              "      <td>...</td>\n",
              "      <td>...</td>\n",
              "      <td>...</td>\n",
              "      <td>...</td>\n",
              "      <td>...</td>\n",
              "      <td>...</td>\n",
              "      <td>...</td>\n",
              "      <td>...</td>\n",
              "      <td>...</td>\n",
              "      <td>...</td>\n",
              "      <td>...</td>\n",
              "      <td>...</td>\n",
              "      <td>...</td>\n",
              "    </tr>\n",
              "    <tr>\n",
              "      <th>15222</th>\n",
              "      <td>443</td>\n",
              "      <td>6</td>\n",
              "      <td>353616</td>\n",
              "      <td>9</td>\n",
              "      <td>7</td>\n",
              "      <td>512</td>\n",
              "      <td>4471.0</td>\n",
              "      <td>194</td>\n",
              "      <td>0</td>\n",
              "      <td>56.888889</td>\n",
              "      <td>...</td>\n",
              "      <td>4</td>\n",
              "      <td>20</td>\n",
              "      <td>0.0</td>\n",
              "      <td>0.00000</td>\n",
              "      <td>0.0</td>\n",
              "      <td>0.0</td>\n",
              "      <td>0.0</td>\n",
              "      <td>0.000000</td>\n",
              "      <td>0.0</td>\n",
              "      <td>0.0</td>\n",
              "    </tr>\n",
              "    <tr>\n",
              "      <th>15223</th>\n",
              "      <td>53</td>\n",
              "      <td>17</td>\n",
              "      <td>102956</td>\n",
              "      <td>2</td>\n",
              "      <td>2</td>\n",
              "      <td>90</td>\n",
              "      <td>164.0</td>\n",
              "      <td>45</td>\n",
              "      <td>45</td>\n",
              "      <td>45.000000</td>\n",
              "      <td>...</td>\n",
              "      <td>1</td>\n",
              "      <td>8</td>\n",
              "      <td>0.0</td>\n",
              "      <td>0.00000</td>\n",
              "      <td>0.0</td>\n",
              "      <td>0.0</td>\n",
              "      <td>0.0</td>\n",
              "      <td>0.000000</td>\n",
              "      <td>0.0</td>\n",
              "      <td>0.0</td>\n",
              "    </tr>\n",
              "    <tr>\n",
              "      <th>15224</th>\n",
              "      <td>3389</td>\n",
              "      <td>6</td>\n",
              "      <td>1678845</td>\n",
              "      <td>8</td>\n",
              "      <td>7</td>\n",
              "      <td>1128</td>\n",
              "      <td>1581.0</td>\n",
              "      <td>661</td>\n",
              "      <td>0</td>\n",
              "      <td>141.000000</td>\n",
              "      <td>...</td>\n",
              "      <td>5</td>\n",
              "      <td>20</td>\n",
              "      <td>0.0</td>\n",
              "      <td>0.00000</td>\n",
              "      <td>0.0</td>\n",
              "      <td>0.0</td>\n",
              "      <td>0.0</td>\n",
              "      <td>0.000000</td>\n",
              "      <td>0.0</td>\n",
              "      <td>0.0</td>\n",
              "    </tr>\n",
              "    <tr>\n",
              "      <th>15225</th>\n",
              "      <td>53</td>\n",
              "      <td>17</td>\n",
              "      <td>240</td>\n",
              "      <td>1</td>\n",
              "      <td>1</td>\n",
              "      <td>35</td>\n",
              "      <td>67.0</td>\n",
              "      <td>35</td>\n",
              "      <td>35</td>\n",
              "      <td>35.000000</td>\n",
              "      <td>...</td>\n",
              "      <td>0</td>\n",
              "      <td>8</td>\n",
              "      <td>0.0</td>\n",
              "      <td>0.00000</td>\n",
              "      <td>0.0</td>\n",
              "      <td>0.0</td>\n",
              "      <td>0.0</td>\n",
              "      <td>0.000000</td>\n",
              "      <td>0.0</td>\n",
              "      <td>0.0</td>\n",
              "    </tr>\n",
              "    <tr>\n",
              "      <th>15226</th>\n",
              "      <td>443</td>\n",
              "      <td>6</td>\n",
              "      <td>116502240</td>\n",
              "      <td>17</td>\n",
              "      <td>27</td>\n",
              "      <td>941</td>\n",
              "      <td>27895.0</td>\n",
              "      <td>302</td>\n",
              "      <td>0</td>\n",
              "      <td>55.352941</td>\n",
              "      <td>...</td>\n",
              "      <td>7</td>\n",
              "      <td>20</td>\n",
              "      <td>112020.0</td>\n",
              "      <td>48285.49366</td>\n",
              "      <td>146163.0</td>\n",
              "      <td>77877.0</td>\n",
              "      <td>58107951.0</td>\n",
              "      <td>176831.849626</td>\n",
              "      <td>58232990.0</td>\n",
              "      <td>57982912.0</td>\n",
              "    </tr>\n",
              "  </tbody>\n",
              "</table>\n",
              "<p>206185 rows × 78 columns</p>\n",
              "</div>\n",
              "      <button class=\"colab-df-convert\" onclick=\"convertToInteractive('df-9301d680-155d-465a-abd8-b320e4fdf82e')\"\n",
              "              title=\"Convert this dataframe to an interactive table.\"\n",
              "              style=\"display:none;\">\n",
              "        \n",
              "  <svg xmlns=\"http://www.w3.org/2000/svg\" height=\"24px\"viewBox=\"0 0 24 24\"\n",
              "       width=\"24px\">\n",
              "    <path d=\"M0 0h24v24H0V0z\" fill=\"none\"/>\n",
              "    <path d=\"M18.56 5.44l.94 2.06.94-2.06 2.06-.94-2.06-.94-.94-2.06-.94 2.06-2.06.94zm-11 1L8.5 8.5l.94-2.06 2.06-.94-2.06-.94L8.5 2.5l-.94 2.06-2.06.94zm10 10l.94 2.06.94-2.06 2.06-.94-2.06-.94-.94-2.06-.94 2.06-2.06.94z\"/><path d=\"M17.41 7.96l-1.37-1.37c-.4-.4-.92-.59-1.43-.59-.52 0-1.04.2-1.43.59L10.3 9.45l-7.72 7.72c-.78.78-.78 2.05 0 2.83L4 21.41c.39.39.9.59 1.41.59.51 0 1.02-.2 1.41-.59l7.78-7.78 2.81-2.81c.8-.78.8-2.07 0-2.86zM5.41 20L4 18.59l7.72-7.72 1.47 1.35L5.41 20z\"/>\n",
              "  </svg>\n",
              "      </button>\n",
              "      \n",
              "  <style>\n",
              "    .colab-df-container {\n",
              "      display:flex;\n",
              "      flex-wrap:wrap;\n",
              "      gap: 12px;\n",
              "    }\n",
              "\n",
              "    .colab-df-convert {\n",
              "      background-color: #E8F0FE;\n",
              "      border: none;\n",
              "      border-radius: 50%;\n",
              "      cursor: pointer;\n",
              "      display: none;\n",
              "      fill: #1967D2;\n",
              "      height: 32px;\n",
              "      padding: 0 0 0 0;\n",
              "      width: 32px;\n",
              "    }\n",
              "\n",
              "    .colab-df-convert:hover {\n",
              "      background-color: #E2EBFA;\n",
              "      box-shadow: 0px 1px 2px rgba(60, 64, 67, 0.3), 0px 1px 3px 1px rgba(60, 64, 67, 0.15);\n",
              "      fill: #174EA6;\n",
              "    }\n",
              "\n",
              "    [theme=dark] .colab-df-convert {\n",
              "      background-color: #3B4455;\n",
              "      fill: #D2E3FC;\n",
              "    }\n",
              "\n",
              "    [theme=dark] .colab-df-convert:hover {\n",
              "      background-color: #434B5C;\n",
              "      box-shadow: 0px 1px 3px 1px rgba(0, 0, 0, 0.15);\n",
              "      filter: drop-shadow(0px 1px 2px rgba(0, 0, 0, 0.3));\n",
              "      fill: #FFFFFF;\n",
              "    }\n",
              "  </style>\n",
              "\n",
              "      <script>\n",
              "        const buttonEl =\n",
              "          document.querySelector('#df-9301d680-155d-465a-abd8-b320e4fdf82e button.colab-df-convert');\n",
              "        buttonEl.style.display =\n",
              "          google.colab.kernel.accessAllowed ? 'block' : 'none';\n",
              "\n",
              "        async function convertToInteractive(key) {\n",
              "          const element = document.querySelector('#df-9301d680-155d-465a-abd8-b320e4fdf82e');\n",
              "          const dataTable =\n",
              "            await google.colab.kernel.invokeFunction('convertToInteractive',\n",
              "                                                     [key], {});\n",
              "          if (!dataTable) return;\n",
              "\n",
              "          const docLinkHtml = 'Like what you see? Visit the ' +\n",
              "            '<a target=\"_blank\" href=https://colab.research.google.com/notebooks/data_table.ipynb>data table notebook</a>'\n",
              "            + ' to learn more about interactive tables.';\n",
              "          element.innerHTML = '';\n",
              "          dataTable['output_type'] = 'display_data';\n",
              "          await google.colab.output.renderOutput(dataTable, element);\n",
              "          const docLink = document.createElement('div');\n",
              "          docLink.innerHTML = docLinkHtml;\n",
              "          element.appendChild(docLink);\n",
              "        }\n",
              "      </script>\n",
              "    </div>\n",
              "  </div>\n",
              "  "
            ],
            "text/plain": [
              "       Dst Port  Protocol  Flow Duration  Tot Fwd Pkts  Tot Bwd Pkts  \\\n",
              "0           443         6         122146             6             6   \n",
              "1          3389         6        3298817             9            10   \n",
              "2          8080         6            431             2             0   \n",
              "3            53        17            445             1             1   \n",
              "4           443         6        5142188             7             5   \n",
              "...         ...       ...            ...           ...           ...   \n",
              "15222       443         6         353616             9             7   \n",
              "15223        53        17         102956             2             2   \n",
              "15224      3389         6        1678845             8             7   \n",
              "15225        53        17            240             1             1   \n",
              "15226       443         6      116502240            17            27   \n",
              "\n",
              "       TotLen Fwd Pkts  TotLen Bwd Pkts  Fwd Pkt Len Max  Fwd Pkt Len Min  \\\n",
              "0                 1549           3356.0              906                0   \n",
              "1                 1229           1911.0              677                0   \n",
              "2                    0              0.0                0                0   \n",
              "3                   41            169.0               41               41   \n",
              "4                  358            176.0              230                0   \n",
              "...                ...              ...              ...              ...   \n",
              "15222              512           4471.0              194                0   \n",
              "15223               90            164.0               45               45   \n",
              "15224             1128           1581.0              661                0   \n",
              "15225               35             67.0               35               35   \n",
              "15226              941          27895.0              302                0   \n",
              "\n",
              "       Fwd Pkt Len Mean  ...  Fwd Act Data Pkts  Fwd Seg Size Min  \\\n",
              "0            258.166667  ...                  3                20   \n",
              "1            136.555556  ...                  6                20   \n",
              "2              0.000000  ...                  0                20   \n",
              "3             41.000000  ...                  0                 8   \n",
              "4             51.142857  ...                  3                20   \n",
              "...                 ...  ...                ...               ...   \n",
              "15222         56.888889  ...                  4                20   \n",
              "15223         45.000000  ...                  1                 8   \n",
              "15224        141.000000  ...                  5                20   \n",
              "15225         35.000000  ...                  0                 8   \n",
              "15226         55.352941  ...                  7                20   \n",
              "\n",
              "       Active Mean   Active Std  Active Max  Active Min   Idle Mean  \\\n",
              "0              0.0      0.00000         0.0         0.0         0.0   \n",
              "1              0.0      0.00000         0.0         0.0         0.0   \n",
              "2              0.0      0.00000         0.0         0.0         0.0   \n",
              "3              0.0      0.00000         0.0         0.0         0.0   \n",
              "4          50377.0      0.00000     50377.0     50377.0   5091778.0   \n",
              "...            ...          ...         ...         ...         ...   \n",
              "15222          0.0      0.00000         0.0         0.0         0.0   \n",
              "15223          0.0      0.00000         0.0         0.0         0.0   \n",
              "15224          0.0      0.00000         0.0         0.0         0.0   \n",
              "15225          0.0      0.00000         0.0         0.0         0.0   \n",
              "15226     112020.0  48285.49366    146163.0     77877.0  58107951.0   \n",
              "\n",
              "            Idle Std    Idle Max    Idle Min  \n",
              "0           0.000000         0.0         0.0  \n",
              "1           0.000000         0.0         0.0  \n",
              "2           0.000000         0.0         0.0  \n",
              "3           0.000000         0.0         0.0  \n",
              "4           0.000000   5091778.0   5091778.0  \n",
              "...              ...         ...         ...  \n",
              "15222       0.000000         0.0         0.0  \n",
              "15223       0.000000         0.0         0.0  \n",
              "15224       0.000000         0.0         0.0  \n",
              "15225       0.000000         0.0         0.0  \n",
              "15226  176831.849626  58232990.0  57982912.0  \n",
              "\n",
              "[206185 rows x 78 columns]"
            ]
          },
          "execution_count": 29,
          "metadata": {},
          "output_type": "execute_result"
        }
      ],
      "source": [
        "data_X"
      ]
    },
    {
      "cell_type": "code",
      "execution_count": null,
      "metadata": {
        "colab": {
          "base_uri": "https://localhost:8080/",
          "height": 892
        },
        "id": "9VY1XZ_a-nYm",
        "outputId": "22f32099-c502-47b3-ed90-78c224a489ff"
      },
      "outputs": [
        {
          "data": {
            "image/png": "[encoded data removed]",
            "text/plain": [
              "<Figure size 1440x1080 with 81 Axes>"
            ]
          },
          "metadata": {
            "needs_background": "light"
          },
          "output_type": "display_data"
        }
      ],
      "source": [
        "data_X.hist(bins = 50, figsize=(20, 15))\n",
        "plt.show()"
      ]
    },
    {
      "cell_type": "markdown",
      "metadata": {
        "id": "hmmnz2LkAV4I"
      },
      "source": [
        "**Label Encoding for the Dataset**"
      ]
    },
    {
      "cell_type": "code",
      "execution_count": null,
      "metadata": {
        "colab": {
          "base_uri": "https://localhost:8080/"
        },
        "id": "qk8FN7HwAZw2",
        "outputId": "2bf853e5-11b5-4b11-bd37-ee8ffd76509c"
      },
      "outputs": [
        {
          "data": {
            "text/plain": [
              "array([1, 1, 0, ..., 1, 1, 1])"
            ]
          },
          "execution_count": 30,
          "metadata": {},
          "output_type": "execute_result"
        }
      ],
      "source": [
        "from sklearn.preprocessing import LabelEncoder\n",
        "le = LabelEncoder()\n",
        "data_y_trans = le.fit_transform(data_y)\n",
        "data_y_trans"
      ]
    },
    {
      "cell_type": "code",
      "execution_count": null,
      "metadata": {
        "colab": {
          "base_uri": "https://localhost:8080/",
          "height": 520
        },
        "id": "Uz91uU_rA28U",
        "outputId": "8e1f8a0d-b3ca-4187-d920-474af3fe42c2"
      },
      "outputs": [
        {
          "data": {
            "text/html": [
              "\n",
              "  <div id=\"df-7a3943b3-1c80-4855-8ab4-a5e0c1088b8a\">\n",
              "    <div class=\"colab-df-container\">\n",
              "      <div>\n",
              "<style scoped>\n",
              "    .dataframe tbody tr th:only-of-type {\n",
              "        vertical-align: middle;\n",
              "    }\n",
              "\n",
              "    .dataframe tbody tr th {\n",
              "        vertical-align: top;\n",
              "    }\n",
              "\n",
              "    .dataframe thead th {\n",
              "        text-align: right;\n",
              "    }\n",
              "</style>\n",
              "<table border=\"1\" class=\"dataframe\">\n",
              "  <thead>\n",
              "    <tr style=\"text-align: right;\">\n",
              "      <th></th>\n",
              "      <th>Dst Port</th>\n",
              "      <th>Protocol</th>\n",
              "      <th>Flow Duration</th>\n",
              "      <th>Tot Fwd Pkts</th>\n",
              "      <th>Tot Bwd Pkts</th>\n",
              "      <th>TotLen Fwd Pkts</th>\n",
              "      <th>TotLen Bwd Pkts</th>\n",
              "      <th>Fwd Pkt Len Max</th>\n",
              "      <th>Fwd Pkt Len Min</th>\n",
              "      <th>Fwd Pkt Len Mean</th>\n",
              "      <th>...</th>\n",
              "      <th>Fwd Act Data Pkts</th>\n",
              "      <th>Fwd Seg Size Min</th>\n",
              "      <th>Active Mean</th>\n",
              "      <th>Active Std</th>\n",
              "      <th>Active Max</th>\n",
              "      <th>Active Min</th>\n",
              "      <th>Idle Mean</th>\n",
              "      <th>Idle Std</th>\n",
              "      <th>Idle Max</th>\n",
              "      <th>Idle Min</th>\n",
              "    </tr>\n",
              "  </thead>\n",
              "  <tbody>\n",
              "    <tr>\n",
              "      <th>0</th>\n",
              "      <td>443</td>\n",
              "      <td>6</td>\n",
              "      <td>122146</td>\n",
              "      <td>6</td>\n",
              "      <td>6</td>\n",
              "      <td>1549</td>\n",
              "      <td>3356.0</td>\n",
              "      <td>906</td>\n",
              "      <td>0</td>\n",
              "      <td>258.166667</td>\n",
              "      <td>...</td>\n",
              "      <td>3</td>\n",
              "      <td>20</td>\n",
              "      <td>0.0</td>\n",
              "      <td>0.00000</td>\n",
              "      <td>0.0</td>\n",
              "      <td>0.0</td>\n",
              "      <td>0.0</td>\n",
              "      <td>0.000000</td>\n",
              "      <td>0.0</td>\n",
              "      <td>0.0</td>\n",
              "    </tr>\n",
              "    <tr>\n",
              "      <th>1</th>\n",
              "      <td>3389</td>\n",
              "      <td>6</td>\n",
              "      <td>3298817</td>\n",
              "      <td>9</td>\n",
              "      <td>10</td>\n",
              "      <td>1229</td>\n",
              "      <td>1911.0</td>\n",
              "      <td>677</td>\n",
              "      <td>0</td>\n",
              "      <td>136.555556</td>\n",
              "      <td>...</td>\n",
              "      <td>6</td>\n",
              "      <td>20</td>\n",
              "      <td>0.0</td>\n",
              "      <td>0.00000</td>\n",
              "      <td>0.0</td>\n",
              "      <td>0.0</td>\n",
              "      <td>0.0</td>\n",
              "      <td>0.000000</td>\n",
              "      <td>0.0</td>\n",
              "      <td>0.0</td>\n",
              "    </tr>\n",
              "    <tr>\n",
              "      <th>2</th>\n",
              "      <td>8080</td>\n",
              "      <td>6</td>\n",
              "      <td>431</td>\n",
              "      <td>2</td>\n",
              "      <td>0</td>\n",
              "      <td>0</td>\n",
              "      <td>0.0</td>\n",
              "      <td>0</td>\n",
              "      <td>0</td>\n",
              "      <td>0.000000</td>\n",
              "      <td>...</td>\n",
              "      <td>0</td>\n",
              "      <td>20</td>\n",
              "      <td>0.0</td>\n",
              "      <td>0.00000</td>\n",
              "      <td>0.0</td>\n",
              "      <td>0.0</td>\n",
              "      <td>0.0</td>\n",
              "      <td>0.000000</td>\n",
              "      <td>0.0</td>\n",
              "      <td>0.0</td>\n",
              "    </tr>\n",
              "    <tr>\n",
              "      <th>3</th>\n",
              "      <td>53</td>\n",
              "      <td>17</td>\n",
              "      <td>445</td>\n",
              "      <td>1</td>\n",
              "      <td>1</td>\n",
              "      <td>41</td>\n",
              "      <td>169.0</td>\n",
              "      <td>41</td>\n",
              "      <td>41</td>\n",
              "      <td>41.000000</td>\n",
              "      <td>...</td>\n",
              "      <td>0</td>\n",
              "      <td>8</td>\n",
              "      <td>0.0</td>\n",
              "      <td>0.00000</td>\n",
              "      <td>0.0</td>\n",
              "      <td>0.0</td>\n",
              "      <td>0.0</td>\n",
              "      <td>0.000000</td>\n",
              "      <td>0.0</td>\n",
              "      <td>0.0</td>\n",
              "    </tr>\n",
              "    <tr>\n",
              "      <th>4</th>\n",
              "      <td>443</td>\n",
              "      <td>6</td>\n",
              "      <td>5142188</td>\n",
              "      <td>7</td>\n",
              "      <td>5</td>\n",
              "      <td>358</td>\n",
              "      <td>176.0</td>\n",
              "      <td>230</td>\n",
              "      <td>0</td>\n",
              "      <td>51.142857</td>\n",
              "      <td>...</td>\n",
              "      <td>3</td>\n",
              "      <td>20</td>\n",
              "      <td>50377.0</td>\n",
              "      <td>0.00000</td>\n",
              "      <td>50377.0</td>\n",
              "      <td>50377.0</td>\n",
              "      <td>5091778.0</td>\n",
              "      <td>0.000000</td>\n",
              "      <td>5091778.0</td>\n",
              "      <td>5091778.0</td>\n",
              "    </tr>\n",
              "    <tr>\n",
              "      <th>...</th>\n",
              "      <td>...</td>\n",
              "      <td>...</td>\n",
              "      <td>...</td>\n",
              "      <td>...</td>\n",
              "      <td>...</td>\n",
              "      <td>...</td>\n",
              "      <td>...</td>\n",
              "      <td>...</td>\n",
              "      <td>...</td>\n",
              "      <td>...</td>\n",
              "      <td>...</td>\n",
              "      <td>...</td>\n",
              "      <td>...</td>\n",
              "      <td>...</td>\n",
              "      <td>...</td>\n",
              "      <td>...</td>\n",
              "      <td>...</td>\n",
              "      <td>...</td>\n",
              "      <td>...</td>\n",
              "      <td>...</td>\n",
              "      <td>...</td>\n",
              "    </tr>\n",
              "    <tr>\n",
              "      <th>15222</th>\n",
              "      <td>443</td>\n",
              "      <td>6</td>\n",
              "      <td>353616</td>\n",
              "      <td>9</td>\n",
              "      <td>7</td>\n",
              "      <td>512</td>\n",
              "      <td>4471.0</td>\n",
              "      <td>194</td>\n",
              "      <td>0</td>\n",
              "      <td>56.888889</td>\n",
              "      <td>...</td>\n",
              "      <td>4</td>\n",
              "      <td>20</td>\n",
              "      <td>0.0</td>\n",
              "      <td>0.00000</td>\n",
              "      <td>0.0</td>\n",
              "      <td>0.0</td>\n",
              "      <td>0.0</td>\n",
              "      <td>0.000000</td>\n",
              "      <td>0.0</td>\n",
              "      <td>0.0</td>\n",
              "    </tr>\n",
              "    <tr>\n",
              "      <th>15223</th>\n",
              "      <td>53</td>\n",
              "      <td>17</td>\n",
              "      <td>102956</td>\n",
              "      <td>2</td>\n",
              "      <td>2</td>\n",
              "      <td>90</td>\n",
              "      <td>164.0</td>\n",
              "      <td>45</td>\n",
              "      <td>45</td>\n",
              "      <td>45.000000</td>\n",
              "      <td>...</td>\n",
              "      <td>1</td>\n",
              "      <td>8</td>\n",
              "      <td>0.0</td>\n",
              "      <td>0.00000</td>\n",
              "      <td>0.0</td>\n",
              "      <td>0.0</td>\n",
              "      <td>0.0</td>\n",
              "      <td>0.000000</td>\n",
              "      <td>0.0</td>\n",
              "      <td>0.0</td>\n",
              "    </tr>\n",
              "    <tr>\n",
              "      <th>15224</th>\n",
              "      <td>3389</td>\n",
              "      <td>6</td>\n",
              "      <td>1678845</td>\n",
              "      <td>8</td>\n",
              "      <td>7</td>\n",
              "      <td>1128</td>\n",
              "      <td>1581.0</td>\n",
              "      <td>661</td>\n",
              "      <td>0</td>\n",
              "      <td>141.000000</td>\n",
              "      <td>...</td>\n",
              "      <td>5</td>\n",
              "      <td>20</td>\n",
              "      <td>0.0</td>\n",
              "      <td>0.00000</td>\n",
              "      <td>0.0</td>\n",
              "      <td>0.0</td>\n",
              "      <td>0.0</td>\n",
              "      <td>0.000000</td>\n",
              "      <td>0.0</td>\n",
              "      <td>0.0</td>\n",
              "    </tr>\n",
              "    <tr>\n",
              "      <th>15225</th>\n",
              "      <td>53</td>\n",
              "      <td>17</td>\n",
              "      <td>240</td>\n",
              "      <td>1</td>\n",
              "      <td>1</td>\n",
              "      <td>35</td>\n",
              "      <td>67.0</td>\n",
              "      <td>35</td>\n",
              "      <td>35</td>\n",
              "      <td>35.000000</td>\n",
              "      <td>...</td>\n",
              "      <td>0</td>\n",
              "      <td>8</td>\n",
              "      <td>0.0</td>\n",
              "      <td>0.00000</td>\n",
              "      <td>0.0</td>\n",
              "      <td>0.0</td>\n",
              "      <td>0.0</td>\n",
              "      <td>0.000000</td>\n",
              "      <td>0.0</td>\n",
              "      <td>0.0</td>\n",
              "    </tr>\n",
              "    <tr>\n",
              "      <th>15226</th>\n",
              "      <td>443</td>\n",
              "      <td>6</td>\n",
              "      <td>116502240</td>\n",
              "      <td>17</td>\n",
              "      <td>27</td>\n",
              "      <td>941</td>\n",
              "      <td>27895.0</td>\n",
              "      <td>302</td>\n",
              "      <td>0</td>\n",
              "      <td>55.352941</td>\n",
              "      <td>...</td>\n",
              "      <td>7</td>\n",
              "      <td>20</td>\n",
              "      <td>112020.0</td>\n",
              "      <td>48285.49366</td>\n",
              "      <td>146163.0</td>\n",
              "      <td>77877.0</td>\n",
              "      <td>58107951.0</td>\n",
              "      <td>176831.849626</td>\n",
              "      <td>58232990.0</td>\n",
              "      <td>57982912.0</td>\n",
              "    </tr>\n",
              "  </tbody>\n",
              "</table>\n",
              "<p>206185 rows × 78 columns</p>\n",
              "</div>\n",
              "      <button class=\"colab-df-convert\" onclick=\"convertToInteractive('df-7a3943b3-1c80-4855-8ab4-a5e0c1088b8a')\"\n",
              "              title=\"Convert this dataframe to an interactive table.\"\n",
              "              style=\"display:none;\">\n",
              "        \n",
              "  <svg xmlns=\"http://www.w3.org/2000/svg\" height=\"24px\"viewBox=\"0 0 24 24\"\n",
              "       width=\"24px\">\n",
              "    <path d=\"M0 0h24v24H0V0z\" fill=\"none\"/>\n",
              "    <path d=\"M18.56 5.44l.94 2.06.94-2.06 2.06-.94-2.06-.94-.94-2.06-.94 2.06-2.06.94zm-11 1L8.5 8.5l.94-2.06 2.06-.94-2.06-.94L8.5 2.5l-.94 2.06-2.06.94zm10 10l.94 2.06.94-2.06 2.06-.94-2.06-.94-.94-2.06-.94 2.06-2.06.94z\"/><path d=\"M17.41 7.96l-1.37-1.37c-.4-.4-.92-.59-1.43-.59-.52 0-1.04.2-1.43.59L10.3 9.45l-7.72 7.72c-.78.78-.78 2.05 0 2.83L4 21.41c.39.39.9.59 1.41.59.51 0 1.02-.2 1.41-.59l7.78-7.78 2.81-2.81c.8-.78.8-2.07 0-2.86zM5.41 20L4 18.59l7.72-7.72 1.47 1.35L5.41 20z\"/>\n",
              "  </svg>\n",
              "      </button>\n",
              "      \n",
              "  <style>\n",
              "    .colab-df-container {\n",
              "      display:flex;\n",
              "      flex-wrap:wrap;\n",
              "      gap: 12px;\n",
              "    }\n",
              "\n",
              "    .colab-df-convert {\n",
              "      background-color: #E8F0FE;\n",
              "      border: none;\n",
              "      border-radius: 50%;\n",
              "      cursor: pointer;\n",
              "      display: none;\n",
              "      fill: #1967D2;\n",
              "      height: 32px;\n",
              "      padding: 0 0 0 0;\n",
              "      width: 32px;\n",
              "    }\n",
              "\n",
              "    .colab-df-convert:hover {\n",
              "      background-color: #E2EBFA;\n",
              "      box-shadow: 0px 1px 2px rgba(60, 64, 67, 0.3), 0px 1px 3px 1px rgba(60, 64, 67, 0.15);\n",
              "      fill: #174EA6;\n",
              "    }\n",
              "\n",
              "    [theme=dark] .colab-df-convert {\n",
              "      background-color: #3B4455;\n",
              "      fill: #D2E3FC;\n",
              "    }\n",
              "\n",
              "    [theme=dark] .colab-df-convert:hover {\n",
              "      background-color: #434B5C;\n",
              "      box-shadow: 0px 1px 3px 1px rgba(0, 0, 0, 0.15);\n",
              "      filter: drop-shadow(0px 1px 2px rgba(0, 0, 0, 0.3));\n",
              "      fill: #FFFFFF;\n",
              "    }\n",
              "  </style>\n",
              "\n",
              "      <script>\n",
              "        const buttonEl =\n",
              "          document.querySelector('#df-7a3943b3-1c80-4855-8ab4-a5e0c1088b8a button.colab-df-convert');\n",
              "        buttonEl.style.display =\n",
              "          google.colab.kernel.accessAllowed ? 'block' : 'none';\n",
              "\n",
              "        async function convertToInteractive(key) {\n",
              "          const element = document.querySelector('#df-7a3943b3-1c80-4855-8ab4-a5e0c1088b8a');\n",
              "          const dataTable =\n",
              "            await google.colab.kernel.invokeFunction('convertToInteractive',\n",
              "                                                     [key], {});\n",
              "          if (!dataTable) return;\n",
              "\n",
              "          const docLinkHtml = 'Like what you see? Visit the ' +\n",
              "            '<a target=\"_blank\" href=https://colab.research.google.com/notebooks/data_table.ipynb>data table notebook</a>'\n",
              "            + ' to learn more about interactive tables.';\n",
              "          element.innerHTML = '';\n",
              "          dataTable['output_type'] = 'display_data';\n",
              "          await google.colab.output.renderOutput(dataTable, element);\n",
              "          const docLink = document.createElement('div');\n",
              "          docLink.innerHTML = docLinkHtml;\n",
              "          element.appendChild(docLink);\n",
              "        }\n",
              "      </script>\n",
              "    </div>\n",
              "  </div>\n",
              "  "
            ],
            "text/plain": [
              "       Dst Port  Protocol  Flow Duration  Tot Fwd Pkts  Tot Bwd Pkts  \\\n",
              "0           443         6         122146             6             6   \n",
              "1          3389         6        3298817             9            10   \n",
              "2          8080         6            431             2             0   \n",
              "3            53        17            445             1             1   \n",
              "4           443         6        5142188             7             5   \n",
              "...         ...       ...            ...           ...           ...   \n",
              "15222       443         6         353616             9             7   \n",
              "15223        53        17         102956             2             2   \n",
              "15224      3389         6        1678845             8             7   \n",
              "15225        53        17            240             1             1   \n",
              "15226       443         6      116502240            17            27   \n",
              "\n",
              "       TotLen Fwd Pkts  TotLen Bwd Pkts  Fwd Pkt Len Max  Fwd Pkt Len Min  \\\n",
              "0                 1549           3356.0              906                0   \n",
              "1                 1229           1911.0              677                0   \n",
              "2                    0              0.0                0                0   \n",
              "3                   41            169.0               41               41   \n",
              "4                  358            176.0              230                0   \n",
              "...                ...              ...              ...              ...   \n",
              "15222              512           4471.0              194                0   \n",
              "15223               90            164.0               45               45   \n",
              "15224             1128           1581.0              661                0   \n",
              "15225               35             67.0               35               35   \n",
              "15226              941          27895.0              302                0   \n",
              "\n",
              "       Fwd Pkt Len Mean  ...  Fwd Act Data Pkts  Fwd Seg Size Min  \\\n",
              "0            258.166667  ...                  3                20   \n",
              "1            136.555556  ...                  6                20   \n",
              "2              0.000000  ...                  0                20   \n",
              "3             41.000000  ...                  0                 8   \n",
              "4             51.142857  ...                  3                20   \n",
              "...                 ...  ...                ...               ...   \n",
              "15222         56.888889  ...                  4                20   \n",
              "15223         45.000000  ...                  1                 8   \n",
              "15224        141.000000  ...                  5                20   \n",
              "15225         35.000000  ...                  0                 8   \n",
              "15226         55.352941  ...                  7                20   \n",
              "\n",
              "       Active Mean   Active Std  Active Max  Active Min   Idle Mean  \\\n",
              "0              0.0      0.00000         0.0         0.0         0.0   \n",
              "1              0.0      0.00000         0.0         0.0         0.0   \n",
              "2              0.0      0.00000         0.0         0.0         0.0   \n",
              "3              0.0      0.00000         0.0         0.0         0.0   \n",
              "4          50377.0      0.00000     50377.0     50377.0   5091778.0   \n",
              "...            ...          ...         ...         ...         ...   \n",
              "15222          0.0      0.00000         0.0         0.0         0.0   \n",
              "15223          0.0      0.00000         0.0         0.0         0.0   \n",
              "15224          0.0      0.00000         0.0         0.0         0.0   \n",
              "15225          0.0      0.00000         0.0         0.0         0.0   \n",
              "15226     112020.0  48285.49366    146163.0     77877.0  58107951.0   \n",
              "\n",
              "            Idle Std    Idle Max    Idle Min  \n",
              "0           0.000000         0.0         0.0  \n",
              "1           0.000000         0.0         0.0  \n",
              "2           0.000000         0.0         0.0  \n",
              "3           0.000000         0.0         0.0  \n",
              "4           0.000000   5091778.0   5091778.0  \n",
              "...              ...         ...         ...  \n",
              "15222       0.000000         0.0         0.0  \n",
              "15223       0.000000         0.0         0.0  \n",
              "15224       0.000000         0.0         0.0  \n",
              "15225       0.000000         0.0         0.0  \n",
              "15226  176831.849626  58232990.0  57982912.0  \n",
              "\n",
              "[206185 rows x 78 columns]"
            ]
          },
          "execution_count": 31,
          "metadata": {},
          "output_type": "execute_result"
        }
      ],
      "source": [
        "data_X"
      ]
    },
    {
      "cell_type": "markdown",
      "metadata": {
        "id": "HQfWOm93AC_g"
      },
      "source": [
        "**Feature Selection**"
      ]
    },
    {
      "cell_type": "code",
      "execution_count": null,
      "metadata": {
        "colab": {
          "base_uri": "https://localhost:8080/",
          "height": 75
        },
        "id": "20273XATAGmB",
        "outputId": "c32a6e6a-32bd-4a21-8077-776fe9cbfc53"
      },
      "outputs": [
        {
          "data": {
            "text/html": [
              "<style>#sk-container-id-2 {color: black;background-color: white;}#sk-container-id-2 pre{padding: 0;}#sk-container-id-2 div.sk-toggleable {background-color: white;}#sk-container-id-2 label.sk-toggleable__label {cursor: pointer;display: block;width: 100%;margin-bottom: 0;padding: 0.3em;box-sizing: border-box;text-align: center;}#sk-container-id-2 label.sk-toggleable__label-arrow:before {content: \"▸\";float: left;margin-right: 0.25em;color: #696969;}#sk-container-id-2 label.sk-toggleable__label-arrow:hover:before {color: black;}#sk-container-id-2 div.sk-estimator:hover label.sk-toggleable__label-arrow:before {color: black;}#sk-container-id-2 div.sk-toggleable__content {max-height: 0;max-width: 0;overflow: hidden;text-align: left;background-color: #f0f8ff;}#sk-container-id-2 div.sk-toggleable__content pre {margin: 0.2em;color: black;border-radius: 0.25em;background-color: #f0f8ff;}#sk-container-id-2 input.sk-toggleable__control:checked~div.sk-toggleable__content {max-height: 200px;max-width: 100%;overflow: auto;}#sk-container-id-2 input.sk-toggleable__control:checked~label.sk-toggleable__label-arrow:before {content: \"▾\";}#sk-container-id-2 div.sk-estimator input.sk-toggleable__control:checked~label.sk-toggleable__label {background-color: #d4ebff;}#sk-container-id-2 div.sk-label input.sk-toggleable__control:checked~label.sk-toggleable__label {background-color: #d4ebff;}#sk-container-id-2 input.sk-hidden--visually {border: 0;clip: rect(1px 1px 1px 1px);clip: rect(1px, 1px, 1px, 1px);height: 1px;margin: -1px;overflow: hidden;padding: 0;position: absolute;width: 1px;}#sk-container-id-2 div.sk-estimator {font-family: monospace;background-color: #f0f8ff;border: 1px dotted black;border-radius: 0.25em;box-sizing: border-box;margin-bottom: 0.5em;}#sk-container-id-2 div.sk-estimator:hover {background-color: #d4ebff;}#sk-container-id-2 div.sk-parallel-item::after {content: \"\";width: 100%;border-bottom: 1px solid gray;flex-grow: 1;}#sk-container-id-2 div.sk-label:hover label.sk-toggleable__label {background-color: #d4ebff;}#sk-container-id-2 div.sk-serial::before {content: \"\";position: absolute;border-left: 1px solid gray;box-sizing: border-box;top: 0;bottom: 0;left: 50%;z-index: 0;}#sk-container-id-2 div.sk-serial {display: flex;flex-direction: column;align-items: center;background-color: white;padding-right: 0.2em;padding-left: 0.2em;position: relative;}#sk-container-id-2 div.sk-item {position: relative;z-index: 1;}#sk-container-id-2 div.sk-parallel {display: flex;align-items: stretch;justify-content: center;background-color: white;position: relative;}#sk-container-id-2 div.sk-item::before, #sk-container-id-2 div.sk-parallel-item::before {content: \"\";position: absolute;border-left: 1px solid gray;box-sizing: border-box;top: 0;bottom: 0;left: 50%;z-index: -1;}#sk-container-id-2 div.sk-parallel-item {display: flex;flex-direction: column;z-index: 1;position: relative;background-color: white;}#sk-container-id-2 div.sk-parallel-item:first-child::after {align-self: flex-end;width: 50%;}#sk-container-id-2 div.sk-parallel-item:last-child::after {align-self: flex-start;width: 50%;}#sk-container-id-2 div.sk-parallel-item:only-child::after {width: 0;}#sk-container-id-2 div.sk-dashed-wrapped {border: 1px dashed gray;margin: 0 0.4em 0.5em 0.4em;box-sizing: border-box;padding-bottom: 0.4em;background-color: white;}#sk-container-id-2 div.sk-label label {font-family: monospace;font-weight: bold;display: inline-block;line-height: 1.2em;}#sk-container-id-2 div.sk-label-container {text-align: center;}#sk-container-id-2 div.sk-container {/* jupyter's `normalize.less` sets `[hidden] { display: none; }` but bootstrap.min.css set `[hidden] { display: none !important; }` so we also need the `!important` here to be able to override the default hidden behavior on the sphinx rendered scikit-learn.org. See: https://github.com/scikit-learn/scikit-learn/issues/21755 */display: inline-block !important;position: relative;}#sk-container-id-2 div.sk-text-repr-fallback {display: none;}</style><div id=\"sk-container-id-2\" class=\"sk-top-container\"><div class=\"sk-text-repr-fallback\"><pre>ExtraTreesClassifier(random_state=42)</pre><b>In a Jupyter environment, please rerun this cell to show the HTML representation or trust the notebook. <br />On GitHub, the HTML representation is unable to render, please try loading this page with nbviewer.org.</b></div><div class=\"sk-container\" hidden><div class=\"sk-item\"><div class=\"sk-estimator sk-toggleable\"><input class=\"sk-toggleable__control sk-hidden--visually\" id=\"sk-estimator-id-2\" type=\"checkbox\" checked><label for=\"sk-estimator-id-2\" class=\"sk-toggleable__label sk-toggleable__label-arrow\">ExtraTreesClassifier</label><div class=\"sk-toggleable__content\"><pre>ExtraTreesClassifier(random_state=42)</pre></div></div></div></div></div>"
            ],
            "text/plain": [
              "ExtraTreesClassifier(random_state=42)"
            ]
          },
          "execution_count": 102,
          "metadata": {},
          "output_type": "execute_result"
        }
      ],
      "source": [
        "from sklearn.feature_selection import chi2\n",
        "from sklearn.feature_selection import SelectKBest\n",
        "from sklearn.ensemble import ExtraTreesClassifier\n",
        "model = ExtraTreesClassifier(random_state=42)\n",
        "model.fit(data_X, data_y_trans)"
      ]
    },
    {
      "cell_type": "code",
      "execution_count": null,
      "metadata": {
        "colab": {
          "base_uri": "https://localhost:8080/"
        },
        "id": "WjbW-o48BDTv",
        "outputId": "48612b4e-09f8-417d-cc65-024ef13ce6a2"
      },
      "outputs": [
        {
          "data": {
            "text/plain": [
              "array([1.09555906e-01, 3.03048206e-02, 2.03849861e-02, 4.29481580e-03,\n",
              "       6.20813142e-03, 3.18915726e-03, 3.94882787e-03, 1.04795071e-02,\n",
              "       2.80543700e-03, 1.52495483e-02, 1.86367393e-02, 2.35965455e-02,\n",
              "       3.96685203e-03, 1.21814553e-02, 1.32652015e-02, 6.64015192e-03,\n",
              "       3.09759196e-02, 1.81667462e-02, 5.58454601e-03, 1.63723909e-02,\n",
              "       1.66649135e-02, 1.63949995e-02, 1.33425902e-02, 4.22999118e-03,\n",
              "       1.13009582e-02, 1.04243003e-02, 5.27780262e-03, 3.80549279e-03,\n",
              "       2.62826791e-03, 2.80559896e-03, 1.92608094e-03, 6.96904557e-03,\n",
              "       0.00000000e+00, 2.80819040e-05, 0.00000000e+00, 2.18266146e-02,\n",
              "       1.04115999e-02, 2.60572946e-02, 2.21883024e-02, 4.00827007e-03,\n",
              "       1.07069525e-02, 1.50288645e-02, 1.26293930e-02, 5.37093227e-03,\n",
              "       1.02302856e-03, 6.29873202e-03, 1.21611393e-02, 1.33966920e-02,\n",
              "       3.94336963e-02, 6.01604428e-03, 4.81439097e-05, 1.14230999e-02,\n",
              "       3.53786828e-03, 1.04494770e-02, 7.88895681e-03, 1.44288901e-02,\n",
              "       0.00000000e+00, 0.00000000e+00, 0.00000000e+00, 0.00000000e+00,\n",
              "       0.00000000e+00, 0.00000000e+00, 4.59228676e-03, 4.62386455e-03,\n",
              "       5.98614530e-03, 3.61355807e-03, 1.16289364e-01, 3.28006555e-02,\n",
              "       4.79204501e-03, 1.10144247e-01, 5.62808772e-04, 2.67514561e-04,\n",
              "       5.93845931e-04, 6.19667706e-04, 2.55964377e-03, 4.48277931e-04,\n",
              "       2.95402649e-03, 3.21224705e-03])"
            ]
          },
          "execution_count": 103,
          "metadata": {},
          "output_type": "execute_result"
        }
      ],
      "source": [
        "model.feature_importances_"
      ]
    },
    {
      "cell_type": "code",
      "execution_count": null,
      "metadata": {
        "colab": {
          "base_uri": "https://localhost:8080/",
          "height": 379
        },
        "id": "oQpaYoRKBMDz",
        "outputId": "1bdb8a64-406e-43e3-8b59-75494a44fbab"
      },
      "outputs": [
        {
          "data": {
            "text/plain": [
              "<Axes: title={'center': 'Standardised Dataset Feature Selection using ExtraTreesClassifier'}>"
            ]
          },
          "execution_count": 104,
          "metadata": {},
          "output_type": "execute_result"
        },
        {
          "data": {
            "image/png": "[encoded data removed]",
            "text/plain": [
              "<Figure size 432x288 with 1 Axes>"
            ]
          },
          "metadata": {
            "needs_background": "light"
          },
          "output_type": "display_data"
        }
      ],
      "source": [
        "feature_importance_std = pd.Series(model.feature_importances_, index=data_X.columns)\n",
        "feature_importance_std.nlargest(20).plot(kind='bar', title='Standardised Dataset Feature Selection using ExtraTreesClassifier')"
      ]
    },
    {
      "cell_type": "code",
      "execution_count": null,
      "metadata": {
        "colab": {
          "base_uri": "https://localhost:8080/"
        },
        "id": "WKJbzhhEBRmF",
        "outputId": "6434944b-a52c-48ec-f603-89216b2b6906"
      },
      "outputs": [
        {
          "data": {
            "text/plain": [
              "(206185, 78)"
            ]
          },
          "execution_count": 32,
          "metadata": {},
          "output_type": "execute_result"
        }
      ],
      "source": [
        "data_X.shape"
      ]
    },
    {
      "cell_type": "code",
      "execution_count": null,
      "metadata": {
        "id": "qATHFtpPBib1"
      },
      "outputs": [],
      "source": [
        "data_new_20features_X = data_X[['Init Fwd Win Byts', 'Fwd Seg Size Min', 'Dst Port', 'ACK Flag Cnt', 'Init Bwd Win Byts', 'Fwd Pkts/s', 'Protocol', 'Flow Pkts/s', 'Bwd Pkt Len Max', 'Bwd Pkts/s', 'Fwd Header Len', 'Flow Duration', 'Fwd Pkt Len Std', 'Flow IAT Mean', 'Flow IAT Min', 'Fwd IAT Tot', 'Flow IAT Max', 'Fwd Pkt Len Mean', 'Pkt Len Min', 'Bwd Seg Size Avg']]"
      ]
    },
    {
      "cell_type": "code",
      "execution_count": null,
      "metadata": {
        "colab": {
          "base_uri": "https://localhost:8080/",
          "height": 520
        },
        "id": "ctkTw_zqEEMV",
        "outputId": "b6930ebd-b4f6-481f-d4ba-3c31657a4755"
      },
      "outputs": [
        {
          "data": {
            "text/html": [
              "\n",
              "  <div id=\"df-eb55275e-b161-44c1-9336-1f7be8251a43\">\n",
              "    <div class=\"colab-df-container\">\n",
              "      <div>\n",
              "<style scoped>\n",
              "    .dataframe tbody tr th:only-of-type {\n",
              "        vertical-align: middle;\n",
              "    }\n",
              "\n",
              "    .dataframe tbody tr th {\n",
              "        vertical-align: top;\n",
              "    }\n",
              "\n",
              "    .dataframe thead th {\n",
              "        text-align: right;\n",
              "    }\n",
              "</style>\n",
              "<table border=\"1\" class=\"dataframe\">\n",
              "  <thead>\n",
              "    <tr style=\"text-align: right;\">\n",
              "      <th></th>\n",
              "      <th>Init Fwd Win Byts</th>\n",
              "      <th>Fwd Seg Size Min</th>\n",
              "      <th>Dst Port</th>\n",
              "      <th>ACK Flag Cnt</th>\n",
              "      <th>Init Bwd Win Byts</th>\n",
              "      <th>Fwd Pkts/s</th>\n",
              "      <th>Protocol</th>\n",
              "      <th>Flow Pkts/s</th>\n",
              "      <th>Bwd Pkt Len Max</th>\n",
              "      <th>Bwd Pkts/s</th>\n",
              "      <th>Fwd Header Len</th>\n",
              "      <th>Flow Duration</th>\n",
              "      <th>Fwd Pkt Len Std</th>\n",
              "      <th>Flow IAT Mean</th>\n",
              "      <th>Flow IAT Min</th>\n",
              "      <th>Fwd IAT Tot</th>\n",
              "      <th>Flow IAT Max</th>\n",
              "      <th>Fwd Pkt Len Mean</th>\n",
              "      <th>Pkt Len Min</th>\n",
              "      <th>Bwd Seg Size Avg</th>\n",
              "    </tr>\n",
              "  </thead>\n",
              "  <tbody>\n",
              "    <tr>\n",
              "      <th>0</th>\n",
              "      <td>8192</td>\n",
              "      <td>20</td>\n",
              "      <td>443</td>\n",
              "      <td>0</td>\n",
              "      <td>63</td>\n",
              "      <td>49.121543</td>\n",
              "      <td>6</td>\n",
              "      <td>98.243086</td>\n",
              "      <td>1460</td>\n",
              "      <td>49.121543</td>\n",
              "      <td>132</td>\n",
              "      <td>122146</td>\n",
              "      <td>375.260132</td>\n",
              "      <td>1.110418e+04</td>\n",
              "      <td>1.0</td>\n",
              "      <td>96092.0</td>\n",
              "      <td>39451.0</td>\n",
              "      <td>258.166667</td>\n",
              "      <td>0</td>\n",
              "      <td>559.333333</td>\n",
              "    </tr>\n",
              "    <tr>\n",
              "      <th>1</th>\n",
              "      <td>8192</td>\n",
              "      <td>20</td>\n",
              "      <td>3389</td>\n",
              "      <td>0</td>\n",
              "      <td>62856</td>\n",
              "      <td>2.728251</td>\n",
              "      <td>6</td>\n",
              "      <td>5.759641</td>\n",
              "      <td>1173</td>\n",
              "      <td>3.031390</td>\n",
              "      <td>192</td>\n",
              "      <td>3298817</td>\n",
              "      <td>214.120942</td>\n",
              "      <td>1.832676e+05</td>\n",
              "      <td>3.0</td>\n",
              "      <td>3298817.0</td>\n",
              "      <td>953138.0</td>\n",
              "      <td>136.555556</td>\n",
              "      <td>0</td>\n",
              "      <td>191.100000</td>\n",
              "    </tr>\n",
              "    <tr>\n",
              "      <th>2</th>\n",
              "      <td>2053</td>\n",
              "      <td>20</td>\n",
              "      <td>8080</td>\n",
              "      <td>1</td>\n",
              "      <td>-1</td>\n",
              "      <td>4640.371230</td>\n",
              "      <td>6</td>\n",
              "      <td>4640.371230</td>\n",
              "      <td>0</td>\n",
              "      <td>0.000000</td>\n",
              "      <td>40</td>\n",
              "      <td>431</td>\n",
              "      <td>0.000000</td>\n",
              "      <td>4.310000e+02</td>\n",
              "      <td>431.0</td>\n",
              "      <td>431.0</td>\n",
              "      <td>431.0</td>\n",
              "      <td>0.000000</td>\n",
              "      <td>0</td>\n",
              "      <td>0.000000</td>\n",
              "    </tr>\n",
              "    <tr>\n",
              "      <th>3</th>\n",
              "      <td>-1</td>\n",
              "      <td>8</td>\n",
              "      <td>53</td>\n",
              "      <td>0</td>\n",
              "      <td>-1</td>\n",
              "      <td>2247.191011</td>\n",
              "      <td>17</td>\n",
              "      <td>4494.382022</td>\n",
              "      <td>169</td>\n",
              "      <td>2247.191011</td>\n",
              "      <td>8</td>\n",
              "      <td>445</td>\n",
              "      <td>0.000000</td>\n",
              "      <td>4.450000e+02</td>\n",
              "      <td>445.0</td>\n",
              "      <td>0.0</td>\n",
              "      <td>445.0</td>\n",
              "      <td>41.000000</td>\n",
              "      <td>41</td>\n",
              "      <td>169.000000</td>\n",
              "    </tr>\n",
              "    <tr>\n",
              "      <th>4</th>\n",
              "      <td>8192</td>\n",
              "      <td>20</td>\n",
              "      <td>443</td>\n",
              "      <td>0</td>\n",
              "      <td>8789</td>\n",
              "      <td>1.361288</td>\n",
              "      <td>6</td>\n",
              "      <td>2.333637</td>\n",
              "      <td>107</td>\n",
              "      <td>0.972349</td>\n",
              "      <td>152</td>\n",
              "      <td>5142188</td>\n",
              "      <td>84.680633</td>\n",
              "      <td>4.674716e+05</td>\n",
              "      <td>2.0</td>\n",
              "      <td>5142188.0</td>\n",
              "      <td>5091778.0</td>\n",
              "      <td>51.142857</td>\n",
              "      <td>0</td>\n",
              "      <td>35.200000</td>\n",
              "    </tr>\n",
              "    <tr>\n",
              "      <th>...</th>\n",
              "      <td>...</td>\n",
              "      <td>...</td>\n",
              "      <td>...</td>\n",
              "      <td>...</td>\n",
              "      <td>...</td>\n",
              "      <td>...</td>\n",
              "      <td>...</td>\n",
              "      <td>...</td>\n",
              "      <td>...</td>\n",
              "      <td>...</td>\n",
              "      <td>...</td>\n",
              "      <td>...</td>\n",
              "      <td>...</td>\n",
              "      <td>...</td>\n",
              "      <td>...</td>\n",
              "      <td>...</td>\n",
              "      <td>...</td>\n",
              "      <td>...</td>\n",
              "      <td>...</td>\n",
              "      <td>...</td>\n",
              "    </tr>\n",
              "    <tr>\n",
              "      <th>15222</th>\n",
              "      <td>8192</td>\n",
              "      <td>20</td>\n",
              "      <td>443</td>\n",
              "      <td>0</td>\n",
              "      <td>172</td>\n",
              "      <td>25.451337</td>\n",
              "      <td>6</td>\n",
              "      <td>45.246821</td>\n",
              "      <td>1430</td>\n",
              "      <td>19.795484</td>\n",
              "      <td>192</td>\n",
              "      <td>353616</td>\n",
              "      <td>83.482699</td>\n",
              "      <td>2.357440e+04</td>\n",
              "      <td>1.0</td>\n",
              "      <td>353616.0</td>\n",
              "      <td>265477.0</td>\n",
              "      <td>56.888889</td>\n",
              "      <td>0</td>\n",
              "      <td>638.714286</td>\n",
              "    </tr>\n",
              "    <tr>\n",
              "      <th>15223</th>\n",
              "      <td>-1</td>\n",
              "      <td>8</td>\n",
              "      <td>53</td>\n",
              "      <td>0</td>\n",
              "      <td>-1</td>\n",
              "      <td>19.425774</td>\n",
              "      <td>17</td>\n",
              "      <td>38.851548</td>\n",
              "      <td>82</td>\n",
              "      <td>19.425774</td>\n",
              "      <td>16</td>\n",
              "      <td>102956</td>\n",
              "      <td>0.000000</td>\n",
              "      <td>3.431867e+04</td>\n",
              "      <td>501.0</td>\n",
              "      <td>102455.0</td>\n",
              "      <td>78289.0</td>\n",
              "      <td>45.000000</td>\n",
              "      <td>45</td>\n",
              "      <td>82.000000</td>\n",
              "    </tr>\n",
              "    <tr>\n",
              "      <th>15224</th>\n",
              "      <td>8192</td>\n",
              "      <td>20</td>\n",
              "      <td>3389</td>\n",
              "      <td>0</td>\n",
              "      <td>62872</td>\n",
              "      <td>4.765181</td>\n",
              "      <td>6</td>\n",
              "      <td>8.934714</td>\n",
              "      <td>1173</td>\n",
              "      <td>4.169533</td>\n",
              "      <td>172</td>\n",
              "      <td>1678845</td>\n",
              "      <td>222.623321</td>\n",
              "      <td>1.199175e+05</td>\n",
              "      <td>32.0</td>\n",
              "      <td>1678845.0</td>\n",
              "      <td>953716.0</td>\n",
              "      <td>141.000000</td>\n",
              "      <td>0</td>\n",
              "      <td>225.857143</td>\n",
              "    </tr>\n",
              "    <tr>\n",
              "      <th>15225</th>\n",
              "      <td>-1</td>\n",
              "      <td>8</td>\n",
              "      <td>53</td>\n",
              "      <td>0</td>\n",
              "      <td>-1</td>\n",
              "      <td>4166.666667</td>\n",
              "      <td>17</td>\n",
              "      <td>8333.333333</td>\n",
              "      <td>67</td>\n",
              "      <td>4166.666667</td>\n",
              "      <td>8</td>\n",
              "      <td>240</td>\n",
              "      <td>0.000000</td>\n",
              "      <td>2.400000e+02</td>\n",
              "      <td>240.0</td>\n",
              "      <td>0.0</td>\n",
              "      <td>240.0</td>\n",
              "      <td>35.000000</td>\n",
              "      <td>35</td>\n",
              "      <td>67.000000</td>\n",
              "    </tr>\n",
              "    <tr>\n",
              "      <th>15226</th>\n",
              "      <td>8192</td>\n",
              "      <td>20</td>\n",
              "      <td>443</td>\n",
              "      <td>0</td>\n",
              "      <td>127</td>\n",
              "      <td>0.145920</td>\n",
              "      <td>6</td>\n",
              "      <td>0.377675</td>\n",
              "      <td>1460</td>\n",
              "      <td>0.231755</td>\n",
              "      <td>352</td>\n",
              "      <td>116502240</td>\n",
              "      <td>91.663066</td>\n",
              "      <td>2.709354e+06</td>\n",
              "      <td>0.0</td>\n",
              "      <td>116502240.0</td>\n",
              "      <td>58232990.0</td>\n",
              "      <td>55.352941</td>\n",
              "      <td>0</td>\n",
              "      <td>1033.148148</td>\n",
              "    </tr>\n",
              "  </tbody>\n",
              "</table>\n",
              "<p>206185 rows × 20 columns</p>\n",
              "</div>\n",
              "      <button class=\"colab-df-convert\" onclick=\"convertToInteractive('df-eb55275e-b161-44c1-9336-1f7be8251a43')\"\n",
              "              title=\"Convert this dataframe to an interactive table.\"\n",
              "              style=\"display:none;\">\n",
              "        \n",
              "  <svg xmlns=\"http://www.w3.org/2000/svg\" height=\"24px\"viewBox=\"0 0 24 24\"\n",
              "       width=\"24px\">\n",
              "    <path d=\"M0 0h24v24H0V0z\" fill=\"none\"/>\n",
              "    <path d=\"M18.56 5.44l.94 2.06.94-2.06 2.06-.94-2.06-.94-.94-2.06-.94 2.06-2.06.94zm-11 1L8.5 8.5l.94-2.06 2.06-.94-2.06-.94L8.5 2.5l-.94 2.06-2.06.94zm10 10l.94 2.06.94-2.06 2.06-.94-2.06-.94-.94-2.06-.94 2.06-2.06.94z\"/><path d=\"M17.41 7.96l-1.37-1.37c-.4-.4-.92-.59-1.43-.59-.52 0-1.04.2-1.43.59L10.3 9.45l-7.72 7.72c-.78.78-.78 2.05 0 2.83L4 21.41c.39.39.9.59 1.41.59.51 0 1.02-.2 1.41-.59l7.78-7.78 2.81-2.81c.8-.78.8-2.07 0-2.86zM5.41 20L4 18.59l7.72-7.72 1.47 1.35L5.41 20z\"/>\n",
              "  </svg>\n",
              "      </button>\n",
              "      \n",
              "  <style>\n",
              "    .colab-df-container {\n",
              "      display:flex;\n",
              "      flex-wrap:wrap;\n",
              "      gap: 12px;\n",
              "    }\n",
              "\n",
              "    .colab-df-convert {\n",
              "      background-color: #E8F0FE;\n",
              "      border: none;\n",
              "      border-radius: 50%;\n",
              "      cursor: pointer;\n",
              "      display: none;\n",
              "      fill: #1967D2;\n",
              "      height: 32px;\n",
              "      padding: 0 0 0 0;\n",
              "      width: 32px;\n",
              "    }\n",
              "\n",
              "    .colab-df-convert:hover {\n",
              "      background-color: #E2EBFA;\n",
              "      box-shadow: 0px 1px 2px rgba(60, 64, 67, 0.3), 0px 1px 3px 1px rgba(60, 64, 67, 0.15);\n",
              "      fill: #174EA6;\n",
              "    }\n",
              "\n",
              "    [theme=dark] .colab-df-convert {\n",
              "      background-color: #3B4455;\n",
              "      fill: #D2E3FC;\n",
              "    }\n",
              "\n",
              "    [theme=dark] .colab-df-convert:hover {\n",
              "      background-color: #434B5C;\n",
              "      box-shadow: 0px 1px 3px 1px rgba(0, 0, 0, 0.15);\n",
              "      filter: drop-shadow(0px 1px 2px rgba(0, 0, 0, 0.3));\n",
              "      fill: #FFFFFF;\n",
              "    }\n",
              "  </style>\n",
              "\n",
              "      <script>\n",
              "        const buttonEl =\n",
              "          document.querySelector('#df-eb55275e-b161-44c1-9336-1f7be8251a43 button.colab-df-convert');\n",
              "        buttonEl.style.display =\n",
              "          google.colab.kernel.accessAllowed ? 'block' : 'none';\n",
              "\n",
              "        async function convertToInteractive(key) {\n",
              "          const element = document.querySelector('#df-eb55275e-b161-44c1-9336-1f7be8251a43');\n",
              "          const dataTable =\n",
              "            await google.colab.kernel.invokeFunction('convertToInteractive',\n",
              "                                                     [key], {});\n",
              "          if (!dataTable) return;\n",
              "\n",
              "          const docLinkHtml = 'Like what you see? Visit the ' +\n",
              "            '<a target=\"_blank\" href=https://colab.research.google.com/notebooks/data_table.ipynb>data table notebook</a>'\n",
              "            + ' to learn more about interactive tables.';\n",
              "          element.innerHTML = '';\n",
              "          dataTable['output_type'] = 'display_data';\n",
              "          await google.colab.output.renderOutput(dataTable, element);\n",
              "          const docLink = document.createElement('div');\n",
              "          docLink.innerHTML = docLinkHtml;\n",
              "          element.appendChild(docLink);\n",
              "        }\n",
              "      </script>\n",
              "    </div>\n",
              "  </div>\n",
              "  "
            ],
            "text/plain": [
              "       Init Fwd Win Byts  Fwd Seg Size Min  Dst Port  ACK Flag Cnt  \\\n",
              "0                   8192                20       443             0   \n",
              "1                   8192                20      3389             0   \n",
              "2                   2053                20      8080             1   \n",
              "3                     -1                 8        53             0   \n",
              "4                   8192                20       443             0   \n",
              "...                  ...               ...       ...           ...   \n",
              "15222               8192                20       443             0   \n",
              "15223                 -1                 8        53             0   \n",
              "15224               8192                20      3389             0   \n",
              "15225                 -1                 8        53             0   \n",
              "15226               8192                20       443             0   \n",
              "\n",
              "       Init Bwd Win Byts   Fwd Pkts/s  Protocol  Flow Pkts/s  Bwd Pkt Len Max  \\\n",
              "0                     63    49.121543         6    98.243086             1460   \n",
              "1                  62856     2.728251         6     5.759641             1173   \n",
              "2                     -1  4640.371230         6  4640.371230                0   \n",
              "3                     -1  2247.191011        17  4494.382022              169   \n",
              "4                   8789     1.361288         6     2.333637              107   \n",
              "...                  ...          ...       ...          ...              ...   \n",
              "15222                172    25.451337         6    45.246821             1430   \n",
              "15223                 -1    19.425774        17    38.851548               82   \n",
              "15224              62872     4.765181         6     8.934714             1173   \n",
              "15225                 -1  4166.666667        17  8333.333333               67   \n",
              "15226                127     0.145920         6     0.377675             1460   \n",
              "\n",
              "        Bwd Pkts/s  Fwd Header Len  Flow Duration  Fwd Pkt Len Std  \\\n",
              "0        49.121543             132         122146       375.260132   \n",
              "1         3.031390             192        3298817       214.120942   \n",
              "2         0.000000              40            431         0.000000   \n",
              "3      2247.191011               8            445         0.000000   \n",
              "4         0.972349             152        5142188        84.680633   \n",
              "...            ...             ...            ...              ...   \n",
              "15222    19.795484             192         353616        83.482699   \n",
              "15223    19.425774              16         102956         0.000000   \n",
              "15224     4.169533             172        1678845       222.623321   \n",
              "15225  4166.666667               8            240         0.000000   \n",
              "15226     0.231755             352      116502240        91.663066   \n",
              "\n",
              "       Flow IAT Mean  Flow IAT Min  Fwd IAT Tot  Flow IAT Max  \\\n",
              "0       1.110418e+04           1.0      96092.0       39451.0   \n",
              "1       1.832676e+05           3.0    3298817.0      953138.0   \n",
              "2       4.310000e+02         431.0        431.0         431.0   \n",
              "3       4.450000e+02         445.0          0.0         445.0   \n",
              "4       4.674716e+05           2.0    5142188.0     5091778.0   \n",
              "...              ...           ...          ...           ...   \n",
              "15222   2.357440e+04           1.0     353616.0      265477.0   \n",
              "15223   3.431867e+04         501.0     102455.0       78289.0   \n",
              "15224   1.199175e+05          32.0    1678845.0      953716.0   \n",
              "15225   2.400000e+02         240.0          0.0         240.0   \n",
              "15226   2.709354e+06           0.0  116502240.0    58232990.0   \n",
              "\n",
              "       Fwd Pkt Len Mean  Pkt Len Min  Bwd Seg Size Avg  \n",
              "0            258.166667            0        559.333333  \n",
              "1            136.555556            0        191.100000  \n",
              "2              0.000000            0          0.000000  \n",
              "3             41.000000           41        169.000000  \n",
              "4             51.142857            0         35.200000  \n",
              "...                 ...          ...               ...  \n",
              "15222         56.888889            0        638.714286  \n",
              "15223         45.000000           45         82.000000  \n",
              "15224        141.000000            0        225.857143  \n",
              "15225         35.000000           35         67.000000  \n",
              "15226         55.352941            0       1033.148148  \n",
              "\n",
              "[206185 rows x 20 columns]"
            ]
          },
          "execution_count": 34,
          "metadata": {},
          "output_type": "execute_result"
        }
      ],
      "source": [
        "data_new_20features_X"
      ]
    },
    {
      "cell_type": "code",
      "execution_count": null,
      "metadata": {
        "colab": {
          "base_uri": "https://localhost:8080/",
          "height": 1000
        },
        "id": "0ASrGw7BEIoS",
        "outputId": "666628ef-b92e-470c-985d-64fb20efcf23"
      },
      "outputs": [
        {
          "data": {
            "image/png": "[encoded data removed]",
            "text/plain": [
              "<Figure size 2160x1440 with 2 Axes>"
            ]
          },
          "metadata": {
            "needs_background": "light"
          },
          "output_type": "display_data"
        }
      ],
      "source": [
        "corr_matrix = data_new_20features_X.corr()\n",
        "import seaborn as sns\n",
        "# corr_mat=dns.corr()\n",
        "plt.figure(figsize=(30,20))\n",
        "sns.heatmap(corr_matrix, annot=True, cmap = \"YlGnBu\")\n",
        "plt.show()"
      ]
    },
    {
      "cell_type": "markdown",
      "metadata": {
        "id": "-Xhj-ZpSIXBk"
      },
      "source": [
        "**Train Test Split 20 Feature Dataset**"
      ]
    },
    {
      "cell_type": "code",
      "execution_count": null,
      "metadata": {
        "id": "XIIAc5QyEiik"
      },
      "outputs": [],
      "source": [
        "from sklearn.model_selection import train_test_split\n",
        "X_train_20, X_test_20, y_train_20, y_test_20 = train_test_split(data_new_20features_X, data_y_trans, test_size = 0.30, random_state = 42)"
      ]
    },
    {
      "cell_type": "markdown",
      "metadata": {
        "id": "MR6mPmRDIe1D"
      },
      "source": [
        "**Standardization of the 20 Feature Dataset**"
      ]
    },
    {
      "cell_type": "code",
      "execution_count": null,
      "metadata": {
        "id": "MrHu3OBRIpOT"
      },
      "outputs": [],
      "source": [
        "from sklearn.preprocessing import StandardScaler\n",
        "ss_20 = StandardScaler()\n",
        "X_train_std_20 = ss_20.fit_transform(X_train_20)\n",
        "X_test_std_20 = ss_20.fit_transform(X_test_20)"
      ]
    },
    {
      "cell_type": "code",
      "execution_count": null,
      "metadata": {
        "colab": {
          "base_uri": "https://localhost:8080/"
        },
        "id": "3G1iyCfjIs_7",
        "outputId": "76825435-878b-49a1-f61f-64ba3d47a42c"
      },
      "outputs": [
        {
          "data": {
            "text/plain": [
              "(144329, 20)"
            ]
          },
          "execution_count": 38,
          "metadata": {},
          "output_type": "execute_result"
        }
      ],
      "source": [
        "X_train_std_20.shape"
      ]
    },
    {
      "cell_type": "code",
      "execution_count": null,
      "metadata": {
        "colab": {
          "base_uri": "https://localhost:8080/"
        },
        "id": "byqTuaAxIv4v",
        "outputId": "c619b66a-65c6-41c1-fbb4-688f7fdecd4b"
      },
      "outputs": [
        {
          "data": {
            "text/plain": [
              "(144329,)"
            ]
          },
          "execution_count": 39,
          "metadata": {},
          "output_type": "execute_result"
        }
      ],
      "source": [
        "y_train_20.shape"
      ]
    },
    {
      "cell_type": "code",
      "execution_count": null,
      "metadata": {
        "colab": {
          "base_uri": "https://localhost:8080/"
        },
        "id": "TDeVVkkOIyWl",
        "outputId": "c5351e92-c311-4792-90a6-05c199d8011e"
      },
      "outputs": [
        {
          "data": {
            "text/plain": [
              "(61856, 20)"
            ]
          },
          "execution_count": 40,
          "metadata": {},
          "output_type": "execute_result"
        }
      ],
      "source": [
        "X_test_std_20.shape"
      ]
    },
    {
      "cell_type": "code",
      "execution_count": null,
      "metadata": {
        "colab": {
          "base_uri": "https://localhost:8080/"
        },
        "id": "9bvtU_WKI28u",
        "outputId": "aa0a9f40-7e1f-4db5-ea5e-274e13bbdb4c"
      },
      "outputs": [
        {
          "data": {
            "text/plain": [
              "(61856,)"
            ]
          },
          "execution_count": 41,
          "metadata": {},
          "output_type": "execute_result"
        }
      ],
      "source": [
        "y_test_20.shape"
      ]
    },
    {
      "cell_type": "code",
      "execution_count": null,
      "metadata": {
        "id": "I3T-sblOp0_1"
      },
      "outputs": [],
      "source": [
        "import matplotlib.pyplot as plt\n",
        "def show_acc(history, val = False):\n",
        "    acc = history.history['acc']\n",
        "\n",
        "    loss = history.history['loss']\n",
        "    print(\"Train accuracy :\", history.history['acc'][-1])\n",
        "\n",
        "    if val:\n",
        "        val_acc = history.history['val_acc']\n",
        "        val_loss = history.history['val_loss']\n",
        "        print(\"Test accuracy  :\", history.history['val_acc'][-1])\n",
        "\n",
        "    epochs = range(len(acc))\n",
        "\n",
        "    plt.plot(epochs, acc, 'g', label='Training acc')\n",
        "    if val:\n",
        "        plt.plot(epochs, val_acc, 'r', label='Testing acc')\n",
        "        plt.title('Training and testing accuracy')\n",
        "    else:\n",
        "        plt.title('Training accuracy')\n",
        "\n",
        "    plt.legend()\n",
        "\n",
        "    plt.figure()\n",
        "\n",
        "    plt.plot(epochs, loss, 'g', label='Training loss')\n",
        "\n",
        "    if val:\n",
        "\n",
        "        plt.plot(epochs, val_loss, 'r', label='Testing loss')\n",
        "        plt.title('Training and test loss')\n",
        "    else:\n",
        "        plt.title(\"Training loss\")\n",
        "    plt.legend()\n",
        "\n",
        "    plt.show()"
      ]
    },
    {
      "cell_type": "code",
      "execution_count": null,
      "metadata": {
        "id": "P-N1v_wJpps_"
      },
      "outputs": [],
      "source": [
        "from tensorflow.keras.models import Sequential\n",
        "from tensorflow.keras import layers"
      ]
    },
    {
      "cell_type": "code",
      "execution_count": null,
      "metadata": {
        "id": "alaPX2M6pY1H"
      },
      "outputs": [],
      "source": [
        "def create_baseline():\n",
        "  model = Sequential()\n",
        "   \n",
        "  model.add(Conv1D(filters=32, kernel_size=3, activation='relu', input_shape=input_shape))\n",
        "\n",
        "  model.add(MaxPooling1D(pool_size=2))\n",
        "\n",
        "  model.add(Dropout(rate=0.2))\n",
        "\n",
        "  model.add(LSTM(units=64, return_sequences=True))\n",
        "\n",
        "  model.add(Flatten())\n",
        "\n",
        "  model.add(Dense(units=32, activation='relu'))\n",
        "\n",
        "  model.add(Dropout(rate=0.2))\n",
        "\n",
        "  model.add(Dense(units=1, activation='sigmoid'))\n",
        "\n",
        "  model.summary()\n",
        "  \n",
        "  model.compile(optimizer='adam', metrics=['acc'], loss='binary_crossentropy')\n",
        "  return model"
      ]
    },
    {
      "cell_type": "code",
      "execution_count": null,
      "metadata": {
        "id": "kaw0GbuL1G7x"
      },
      "outputs": [],
      "source": [
        "model = create_baseline()"
      ]
    },
    {
      "cell_type": "code",
      "execution_count": null,
      "metadata": {
        "id": "o7Fmcwffp5hp"
      },
      "outputs": [],
      "source": [
        "history = model.fit(X_train_std_20, y_train_20,  validation_data=(X_test_std_20, y_test_20), batch_size=200, epochs= 50, verbose=0)"
      ]
    },
    {
      "cell_type": "code",
      "execution_count": null,
      "metadata": {
        "colab": {
          "base_uri": "https://localhost:8080/",
          "height": 580
        },
        "id": "YDixy7YhP1mF",
        "outputId": "8f297f27-9d8c-4d34-d9f4-a2c21f69e040"
      },
      "outputs": [],
      "source": [
        "show_acc(history, val=True)"
      ]
    },
    {
      "cell_type": "code",
      "execution_count": null,
      "metadata": {
        "colab": {
          "base_uri": "https://localhost:8080/"
        },
        "id": "Fmkp3UtJ1qj8",
        "outputId": "70222806-eee1-4e60-b550-129e781a8dcd"
      },
      "outputs": [
        {
          "name": "stdout",
          "output_type": "stream",
          "text": [
            "1933/1933 [==============================] - 3s 2ms/step\n"
          ]
        }
      ],
      "source": [
        "predict = model.predict(X_test_std_20, verbose=1)"
      ]
    }
  ],
  "metadata": {
    "colab": {
      "provenance": []
    },
    "kernelspec": {
      "display_name": "Python 3",
      "name": "python3"
    },
    "language_info": {
      "name": "python"
    }
  },
  "nbformat": 4,
  "nbformat_minor": 0
}
