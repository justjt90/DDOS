{
  "cells": [
    {
      "cell_type": "code",
      "execution_count": null,
      "metadata": {
        "colab": {
          "base_uri": "https://localhost:8080/"
        },
        "id": "EtioMihRdeG-",
        "outputId": "737812c9-8788-4f7b-a121-df41f06bd6ed"
      },
      "outputs": [
        {
          "name": "stdout",
          "output_type": "stream",
          "text": [
            "Mounted at /content/drive\n"
          ]
        }
      ],
      "source": [
        "from google.colab import drive\n",
        "drive.mount('/content/drive')"
      ]
    },
    {
      "cell_type": "code",
      "execution_count": null,
      "metadata": {
        "id": "uLxmaBimbCcO"
      },
      "outputs": [],
      "source": []
    },
    {
      "cell_type": "code",
      "execution_count": null,
      "metadata": {
        "colab": {
          "base_uri": "https://localhost:8080/"
        },
        "id": "gwMNN2RodrL-",
        "outputId": "860d1ca6-0405-4a85-b5df-05e51aa0cf47"
      },
      "outputs": [
        {
          "name": "stdout",
          "output_type": "stream",
          "text": [
            "ddosdataset.csv  httpdataset.csv  secondattack.csv\n",
            "firstattack.csv  normal.csv\t  wideattack.csv\n"
          ]
        }
      ],
      "source": [
        "DATA_PATH=\"/content/drive/My Drive/J_PHD/OWNDDOS/\"\n",
        "!ls \"/content/drive/My Drive/J_PHD/OWNDDOS\""
      ]
    },
    {
      "cell_type": "code",
      "execution_count": null,
      "metadata": {
        "id": "bGo55hA7cK_D"
      },
      "outputs": [],
      "source": [
        "import pandas as pd\n",
        "import numpy as np\n",
        "from tensorflow.keras.utils import to_categorical\n",
        "import pandas as pd\n",
        "import numpy as np\n",
        "\n",
        "import matplotlib.pyplot as plt\n",
        "from matplotlib.pyplot import figure\n",
        "import seaborn as sns\n",
        "\n",
        "from sklearn.metrics import confusion_matrix\n",
        "from sklearn.metrics import accuracy_score\n",
        "from sklearn.metrics import classification_report\n",
        "from sklearn.model_selection import train_test_split\n",
        "from sklearn import metrics\n",
        "from sklearn.model_selection import cross_val_score\n",
        "from sklearn import preprocessing\n",
        "\n",
        "from sklearn.model_selection import cross_val_predict\n",
        "from sklearn.model_selection import GridSearchCV\n",
        "import time\n",
        "\n",
        "from sklearn.tree import DecisionTreeClassifier\n",
        "from sklearn.linear_model import LogisticRegression\n",
        "from sklearn import svm\n",
        "from sklearn.neighbors import KNeighborsClassifier\n",
        "from sklearn.ensemble import RandomForestClassifier\n",
        "\n",
        "from sklearn import metrics"
      ]
    },
    {
      "cell_type": "code",
      "execution_count": null,
      "metadata": {
        "id": "nxWgUxRtcK_G"
      },
      "outputs": [],
      "source": [
        "import warnings\n",
        "warnings.filterwarnings('ignore')"
      ]
    },
    {
      "cell_type": "code",
      "execution_count": null,
      "metadata": {
        "id": "FN_hWC5PcK_H"
      },
      "outputs": [],
      "source": [
        "ddos = pd.read_csv(DATA_PATH+'firstattack.csv')\n",
        "http = pd.read_csv(DATA_PATH+'httpdataset.csv')"
      ]
    },
    {
      "cell_type": "markdown",
      "metadata": {
        "id": "yP68IWhPcK_H"
      },
      "source": [
        "## Data Vizualize"
      ]
    },
    {
      "cell_type": "code",
      "execution_count": null,
      "metadata": {
        "colab": {
          "base_uri": "https://localhost:8080/"
        },
        "id": "j2h7k7PUehCS",
        "outputId": "911cb5b0-14c5-471d-e229-3d652304c034"
      },
      "outputs": [
        {
          "data": {
            "text/plain": [
              "(24324, 7)"
            ]
          },
          "execution_count": 256,
          "metadata": {},
          "output_type": "execute_result"
        }
      ],
      "source": [
        "http.shape"
      ]
    },
    {
      "cell_type": "code",
      "execution_count": null,
      "metadata": {
        "colab": {
          "base_uri": "https://localhost:8080/"
        },
        "id": "2NRNnSazerUp",
        "outputId": "2216945c-b181-4f9e-c39a-38424c9cc3fe"
      },
      "outputs": [
        {
          "name": "stdout",
          "output_type": "stream",
          "text": [
            "<class 'pandas.core.frame.DataFrame'>\n",
            "RangeIndex: 24324 entries, 0 to 24323\n",
            "Data columns (total 7 columns):\n",
            " #   Column       Non-Null Count  Dtype  \n",
            "---  ------       --------------  -----  \n",
            " 0   No.          24324 non-null  int64  \n",
            " 1   Time         24324 non-null  float64\n",
            " 2   Source       24324 non-null  object \n",
            " 3   Destination  24324 non-null  object \n",
            " 4   Protocol     24324 non-null  object \n",
            " 5   Length       24324 non-null  int64  \n",
            " 6   Info         24324 non-null  object \n",
            "dtypes: float64(1), int64(2), object(4)\n",
            "memory usage: 1.3+ MB\n"
          ]
        }
      ],
      "source": [
        "http.info()"
      ]
    },
    {
      "cell_type": "code",
      "execution_count": null,
      "metadata": {
        "colab": {
          "base_uri": "https://localhost:8080/",
          "height": 286
        },
        "id": "BuYl1ImLcK_K",
        "outputId": "47365401-7fe7-4e64-958e-607b6e5a5e9b"
      },
      "outputs": [
        {
          "data": {
            "text/plain": [
              "<AxesSubplot:ylabel='Frequency'>"
            ]
          },
          "execution_count": 258,
          "metadata": {},
          "output_type": "execute_result"
        },
        {
          "data": {
            "image/png": "[encoded data removed]",
            "text/plain": [
              "<Figure size 432x288 with 1 Axes>"
            ]
          },
          "metadata": {},
          "output_type": "display_data"
        }
      ],
      "source": [
        "http['Length'].plot.hist()"
      ]
    },
    {
      "cell_type": "code",
      "execution_count": null,
      "metadata": {
        "colab": {
          "base_uri": "https://localhost:8080/"
        },
        "id": "YFO5HsJlenuj",
        "outputId": "302a0129-0c2f-46e3-a199-3b2bd49ec029"
      },
      "outputs": [
        {
          "data": {
            "text/plain": [
              "(162501, 7)"
            ]
          },
          "execution_count": 259,
          "metadata": {},
          "output_type": "execute_result"
        }
      ],
      "source": [
        "ddos.shape"
      ]
    },
    {
      "cell_type": "code",
      "execution_count": null,
      "metadata": {
        "colab": {
          "base_uri": "https://localhost:8080/"
        },
        "id": "nNufVrI9eykN",
        "outputId": "9b2ca69c-dfbd-4dd2-e77e-98c46b001706"
      },
      "outputs": [
        {
          "name": "stdout",
          "output_type": "stream",
          "text": [
            "<class 'pandas.core.frame.DataFrame'>\n",
            "RangeIndex: 162501 entries, 0 to 162500\n",
            "Data columns (total 7 columns):\n",
            " #   Column       Non-Null Count   Dtype  \n",
            "---  ------       --------------   -----  \n",
            " 0   No.          162501 non-null  int64  \n",
            " 1   Time         162501 non-null  float64\n",
            " 2   Source       162501 non-null  object \n",
            " 3   Destination  162501 non-null  object \n",
            " 4   Protocol     162501 non-null  object \n",
            " 5   Length       162501 non-null  int64  \n",
            " 6   Info         162501 non-null  object \n",
            "dtypes: float64(1), int64(2), object(4)\n",
            "memory usage: 8.7+ MB\n"
          ]
        }
      ],
      "source": [
        "ddos.info()"
      ]
    },
    {
      "cell_type": "code",
      "execution_count": null,
      "metadata": {
        "colab": {
          "base_uri": "https://localhost:8080/",
          "height": 286
        },
        "id": "NRoRGaHdcK_M",
        "outputId": "6c4d4514-07e3-47e2-f4f4-71f79401a187"
      },
      "outputs": [
        {
          "data": {
            "text/plain": [
              "<AxesSubplot:ylabel='Frequency'>"
            ]
          },
          "execution_count": 261,
          "metadata": {},
          "output_type": "execute_result"
        },
        {
          "data": {
            "image/png": "[encoded data removed]",
            "text/plain": [
              "<Figure size 432x288 with 1 Axes>"
            ]
          },
          "metadata": {},
          "output_type": "display_data"
        }
      ],
      "source": [
        "ddos['Length'].plot.hist()"
      ]
    },
    {
      "cell_type": "code",
      "execution_count": null,
      "metadata": {
        "colab": {
          "base_uri": "https://localhost:8080/",
          "height": 303
        },
        "id": "qMhAH-evcK_N",
        "outputId": "c3584fe3-aa21-4fd8-f6bb-4cf09764d065"
      },
      "outputs": [
        {
          "data": {
            "text/plain": [
              "<AxesSubplot:xlabel='Protocol', ylabel='count'>"
            ]
          },
          "execution_count": 262,
          "metadata": {},
          "output_type": "execute_result"
        },
        {
          "data": {
            "image/png": "[encoded data removed]",
            "text/plain": [
              "<Figure size 432x288 with 1 Axes>"
            ]
          },
          "metadata": {},
          "output_type": "display_data"
        }
      ],
      "source": [
        "#protocol=http['Protocol'].unique()\n",
        "#numbers=http['Protocol'].value_counts()\n",
        "#plt.bar(protocol,numbers)\n",
        "label_dict = dict(http.Protocol.value_counts())\n",
        "sns.set_theme(style=\"darkgrid\")\n",
        "sns.countplot(http.Protocol, palette=\"dark\")"
      ]
    },
    {
      "cell_type": "code",
      "execution_count": null,
      "metadata": {
        "colab": {
          "base_uri": "https://localhost:8080/",
          "height": 303
        },
        "id": "WqCUzlwzcK_O",
        "outputId": "09fd6d3e-8ada-48a0-c820-f1131d228725"
      },
      "outputs": [
        {
          "data": {
            "text/plain": [
              "<AxesSubplot:xlabel='Protocol', ylabel='count'>"
            ]
          },
          "execution_count": 263,
          "metadata": {},
          "output_type": "execute_result"
        },
        {
          "data": {
            "image/png": "[encoded data removed]",
            "text/plain": [
              "<Figure size 432x288 with 1 Axes>"
            ]
          },
          "metadata": {},
          "output_type": "display_data"
        }
      ],
      "source": [
        "label_dict = dict(ddos.Protocol.value_counts())\n",
        "sns.set_theme(style=\"darkgrid\")\n",
        "sns.countplot(ddos.Protocol, palette=\"dark\")"
      ]
    },
    {
      "cell_type": "code",
      "execution_count": null,
      "metadata": {
        "colab": {
          "base_uri": "https://localhost:8080/",
          "height": 521
        },
        "id": "2NxcxLy3cK_P",
        "outputId": "f4035ce6-900a-4406-a096-33f84f0b32a9"
      },
      "outputs": [
        {
          "data": {
            "text/plain": [
              "Text(0.5, 1.0, 'No. of all reqests')"
            ]
          },
          "execution_count": 6,
          "metadata": {},
          "output_type": "execute_result"
        },
        {
          "data": {
            "image/png": "[encoded data removed]",
            "text/plain": [
              "<Figure size 960x560 with 1 Axes>"
            ]
          },
          "metadata": {
            "needs_background": "light"
          },
          "output_type": "display_data"
        }
      ],
      "source": [
        "#source=http['Source'].unique()\n",
        "#numbers=http['Source'].value_counts()\n",
        "#plt.bar(source,numbers)\n",
        "#### Let's look at Oblect columns (Source Destination Protocol)\n",
        "\n",
        "figure(figsize=(12, 7), dpi=80)\n",
        "plt.barh(list(dict(http.Source.value_counts()).keys()), dict(http.Source.value_counts()).values(), color='darkgreen')\n",
        "\n",
        "for idx, val in enumerate(dict(http.Source.value_counts()).values()):\n",
        "    plt.text(x = val, y = idx-0.2, s = str(val), color='r', size = 13)\n",
        "\n",
        "plt.xlabel('No. of Requests')\n",
        "plt.ylabel('IP addres of sender')\n",
        "plt.title('No. of all reqests')"
      ]
    },
    {
      "cell_type": "code",
      "execution_count": null,
      "metadata": {
        "colab": {
          "base_uri": "https://localhost:8080/",
          "height": 531
        },
        "id": "hKoiQDRwcK_P",
        "outputId": "ff69c873-487e-4075-a95e-e1e83d497a14"
      },
      "outputs": [
        {
          "data": {
            "text/plain": [
              "Text(0.5, 1.0, 'No. of all reqests')"
            ]
          },
          "execution_count": 265,
          "metadata": {},
          "output_type": "execute_result"
        },
        {
          "data": {
            "image/png": "[encoded data removed]",
            "text/plain": [
              "<Figure size 960x560 with 1 Axes>"
            ]
          },
          "metadata": {},
          "output_type": "display_data"
        }
      ],
      "source": [
        "#source=ddos['Source'].unique()\n",
        "#numbers=ddos['Source'].value_counts()\n",
        "#plt.bar(source,numbers)\n",
        "figure(figsize=(12, 7), dpi=80)\n",
        "plt.barh(list(dict(ddos.Source.value_counts()).keys()), dict(ddos.Source.value_counts()).values(), color='red')\n",
        "\n",
        "for idx, val in enumerate(dict(ddos.Source.value_counts()).values()):\n",
        "    plt.text(x = val, y = idx-0.2, s = str(val), color='r', size = 13)\n",
        "\n",
        "plt.xlabel('No. of Requests')\n",
        "plt.ylabel('IP addres of sender')\n",
        "plt.title('No. of all reqests')"
      ]
    },
    {
      "cell_type": "markdown",
      "metadata": {
        "id": "uxVUcgJCcK_Q"
      },
      "source": [
        "## Merge  dataset"
      ]
    },
    {
      "cell_type": "markdown",
      "metadata": {
        "id": "4BrDtxxScK_Q"
      },
      "source": [
        " **\"Class\". 1 will mean DDoS attack  \n",
        "0 will mean normal traffic.**"
      ]
    },
    {
      "cell_type": "code",
      "execution_count": null,
      "metadata": {
        "id": "GMJtwRZdcK_Q"
      },
      "outputs": [],
      "source": [
        "ddos['Class'] = 1 # We add a column with 1 as constant value\n",
        "http['Class'] = 0 # We add a column with 0 as constant value"
      ]
    },
    {
      "cell_type": "code",
      "execution_count": null,
      "metadata": {
        "id": "_hfs9XPGcK_Q"
      },
      "outputs": [],
      "source": [
        "dataset = pd.concat([ddos, http], axis=0).reset_index()\n",
        "dataset.drop('index', 1, inplace=True)"
      ]
    },
    {
      "cell_type": "code",
      "execution_count": null,
      "metadata": {
        "colab": {
          "base_uri": "https://localhost:8080/",
          "height": 424
        },
        "id": "XmoxKBwAcK_R",
        "outputId": "056b6732-fe41-4931-86ef-3851eabc8100"
      },
      "outputs": [
        {
          "data": {
            "text/html": [
              "\n",
              "  <div id=\"df-049aba3b-9946-4020-9194-94b45d289a3d\">\n",
              "    <div class=\"colab-df-container\">\n",
              "      <div>\n",
              "<style scoped>\n",
              "    .dataframe tbody tr th:only-of-type {\n",
              "        vertical-align: middle;\n",
              "    }\n",
              "\n",
              "    .dataframe tbody tr th {\n",
              "        vertical-align: top;\n",
              "    }\n",
              "\n",
              "    .dataframe thead th {\n",
              "        text-align: right;\n",
              "    }\n",
              "</style>\n",
              "<table border=\"1\" class=\"dataframe\">\n",
              "  <thead>\n",
              "    <tr style=\"text-align: right;\">\n",
              "      <th></th>\n",
              "      <th>No.</th>\n",
              "      <th>Time</th>\n",
              "      <th>Source</th>\n",
              "      <th>Destination</th>\n",
              "      <th>Protocol</th>\n",
              "      <th>Length</th>\n",
              "      <th>Info</th>\n",
              "      <th>Class</th>\n",
              "    </tr>\n",
              "  </thead>\n",
              "  <tbody>\n",
              "    <tr>\n",
              "      <th>0</th>\n",
              "      <td>1</td>\n",
              "      <td>0.000000</td>\n",
              "      <td>10.0.2.15</td>\n",
              "      <td>52.167.254.228</td>\n",
              "      <td>TCP</td>\n",
              "      <td>54</td>\n",
              "      <td>49197  &gt;  80 [FIN, ACK] Seq=1 Ack=1 Win=62966 ...</td>\n",
              "      <td>1</td>\n",
              "    </tr>\n",
              "    <tr>\n",
              "      <th>1</th>\n",
              "      <td>2</td>\n",
              "      <td>0.002624</td>\n",
              "      <td>52.167.254.228</td>\n",
              "      <td>10.0.2.15</td>\n",
              "      <td>TCP</td>\n",
              "      <td>60</td>\n",
              "      <td>80  &gt;  49197 [ACK] Seq=1 Ack=2 Win=32767 Len=0</td>\n",
              "      <td>1</td>\n",
              "    </tr>\n",
              "    <tr>\n",
              "      <th>2</th>\n",
              "      <td>3</td>\n",
              "      <td>0.204789</td>\n",
              "      <td>52.167.254.228</td>\n",
              "      <td>10.0.2.15</td>\n",
              "      <td>TCP</td>\n",
              "      <td>60</td>\n",
              "      <td>80  &gt;  49197 [FIN, ACK] Seq=1 Ack=2 Win=32767 ...</td>\n",
              "      <td>1</td>\n",
              "    </tr>\n",
              "    <tr>\n",
              "      <th>3</th>\n",
              "      <td>4</td>\n",
              "      <td>0.204888</td>\n",
              "      <td>10.0.2.15</td>\n",
              "      <td>52.167.254.228</td>\n",
              "      <td>TCP</td>\n",
              "      <td>54</td>\n",
              "      <td>49197  &gt;  80 [ACK] Seq=2 Ack=2 Win=62966 Len=0</td>\n",
              "      <td>1</td>\n",
              "    </tr>\n",
              "    <tr>\n",
              "      <th>4</th>\n",
              "      <td>5</td>\n",
              "      <td>22.343940</td>\n",
              "      <td>PcsCompu_43:73:bc</td>\n",
              "      <td>Broadcast</td>\n",
              "      <td>ARP</td>\n",
              "      <td>60</td>\n",
              "      <td>Who has 10.0.2.1? Tell 10.0.2.5</td>\n",
              "      <td>1</td>\n",
              "    </tr>\n",
              "    <tr>\n",
              "      <th>...</th>\n",
              "      <td>...</td>\n",
              "      <td>...</td>\n",
              "      <td>...</td>\n",
              "      <td>...</td>\n",
              "      <td>...</td>\n",
              "      <td>...</td>\n",
              "      <td>...</td>\n",
              "      <td>...</td>\n",
              "    </tr>\n",
              "    <tr>\n",
              "      <th>186820</th>\n",
              "      <td>24320</td>\n",
              "      <td>860.774820</td>\n",
              "      <td>10.42.0.2</td>\n",
              "      <td>10.42.0.1</td>\n",
              "      <td>TCP</td>\n",
              "      <td>74</td>\n",
              "      <td>80  &gt;  53654 [SYN, ACK] Seq=0 Ack=1 Win=28960 ...</td>\n",
              "      <td>0</td>\n",
              "    </tr>\n",
              "    <tr>\n",
              "      <th>186821</th>\n",
              "      <td>24321</td>\n",
              "      <td>860.775115</td>\n",
              "      <td>10.42.0.1</td>\n",
              "      <td>10.42.0.2</td>\n",
              "      <td>TCP</td>\n",
              "      <td>66</td>\n",
              "      <td>53654  &gt;  80 [ACK] Seq=1 Ack=1 Win=64256 Len=0...</td>\n",
              "      <td>0</td>\n",
              "    </tr>\n",
              "    <tr>\n",
              "      <th>186822</th>\n",
              "      <td>24322</td>\n",
              "      <td>860.775241</td>\n",
              "      <td>10.42.0.1</td>\n",
              "      <td>10.42.0.2</td>\n",
              "      <td>HTTP</td>\n",
              "      <td>256</td>\n",
              "      <td>GET / HTTP/1.1</td>\n",
              "      <td>0</td>\n",
              "    </tr>\n",
              "    <tr>\n",
              "      <th>186823</th>\n",
              "      <td>24323</td>\n",
              "      <td>860.775314</td>\n",
              "      <td>10.42.0.2</td>\n",
              "      <td>10.42.0.1</td>\n",
              "      <td>TCP</td>\n",
              "      <td>66</td>\n",
              "      <td>80  &gt;  53654 [ACK] Seq=1 Ack=191 Win=30080 Len...</td>\n",
              "      <td>0</td>\n",
              "    </tr>\n",
              "    <tr>\n",
              "      <th>186824</th>\n",
              "      <td>24324</td>\n",
              "      <td>860.776418</td>\n",
              "      <td>10.42.0.2</td>\n",
              "      <td>10.42.0.1</td>\n",
              "      <td>TCP</td>\n",
              "      <td>7306</td>\n",
              "      <td>80  &gt;  53654 [ACK] Seq=1 Ack=191 Win=30080 Len...</td>\n",
              "      <td>0</td>\n",
              "    </tr>\n",
              "  </tbody>\n",
              "</table>\n",
              "<p>186825 rows × 8 columns</p>\n",
              "</div>\n",
              "      <button class=\"colab-df-convert\" onclick=\"convertToInteractive('df-049aba3b-9946-4020-9194-94b45d289a3d')\"\n",
              "              title=\"Convert this dataframe to an interactive table.\"\n",
              "              style=\"display:none;\">\n",
              "        \n",
              "  <svg xmlns=\"http://www.w3.org/2000/svg\" height=\"24px\"viewBox=\"0 0 24 24\"\n",
              "       width=\"24px\">\n",
              "    <path d=\"M0 0h24v24H0V0z\" fill=\"none\"/>\n",
              "    <path d=\"M18.56 5.44l.94 2.06.94-2.06 2.06-.94-2.06-.94-.94-2.06-.94 2.06-2.06.94zm-11 1L8.5 8.5l.94-2.06 2.06-.94-2.06-.94L8.5 2.5l-.94 2.06-2.06.94zm10 10l.94 2.06.94-2.06 2.06-.94-2.06-.94-.94-2.06-.94 2.06-2.06.94z\"/><path d=\"M17.41 7.96l-1.37-1.37c-.4-.4-.92-.59-1.43-.59-.52 0-1.04.2-1.43.59L10.3 9.45l-7.72 7.72c-.78.78-.78 2.05 0 2.83L4 21.41c.39.39.9.59 1.41.59.51 0 1.02-.2 1.41-.59l7.78-7.78 2.81-2.81c.8-.78.8-2.07 0-2.86zM5.41 20L4 18.59l7.72-7.72 1.47 1.35L5.41 20z\"/>\n",
              "  </svg>\n",
              "      </button>\n",
              "      \n",
              "  <style>\n",
              "    .colab-df-container {\n",
              "      display:flex;\n",
              "      flex-wrap:wrap;\n",
              "      gap: 12px;\n",
              "    }\n",
              "\n",
              "    .colab-df-convert {\n",
              "      background-color: #E8F0FE;\n",
              "      border: none;\n",
              "      border-radius: 50%;\n",
              "      cursor: pointer;\n",
              "      display: none;\n",
              "      fill: #1967D2;\n",
              "      height: 32px;\n",
              "      padding: 0 0 0 0;\n",
              "      width: 32px;\n",
              "    }\n",
              "\n",
              "    .colab-df-convert:hover {\n",
              "      background-color: #E2EBFA;\n",
              "      box-shadow: 0px 1px 2px rgba(60, 64, 67, 0.3), 0px 1px 3px 1px rgba(60, 64, 67, 0.15);\n",
              "      fill: #174EA6;\n",
              "    }\n",
              "\n",
              "    [theme=dark] .colab-df-convert {\n",
              "      background-color: #3B4455;\n",
              "      fill: #D2E3FC;\n",
              "    }\n",
              "\n",
              "    [theme=dark] .colab-df-convert:hover {\n",
              "      background-color: #434B5C;\n",
              "      box-shadow: 0px 1px 3px 1px rgba(0, 0, 0, 0.15);\n",
              "      filter: drop-shadow(0px 1px 2px rgba(0, 0, 0, 0.3));\n",
              "      fill: #FFFFFF;\n",
              "    }\n",
              "  </style>\n",
              "\n",
              "      <script>\n",
              "        const buttonEl =\n",
              "          document.querySelector('#df-049aba3b-9946-4020-9194-94b45d289a3d button.colab-df-convert');\n",
              "        buttonEl.style.display =\n",
              "          google.colab.kernel.accessAllowed ? 'block' : 'none';\n",
              "\n",
              "        async function convertToInteractive(key) {\n",
              "          const element = document.querySelector('#df-049aba3b-9946-4020-9194-94b45d289a3d');\n",
              "          const dataTable =\n",
              "            await google.colab.kernel.invokeFunction('convertToInteractive',\n",
              "                                                     [key], {});\n",
              "          if (!dataTable) return;\n",
              "\n",
              "          const docLinkHtml = 'Like what you see? Visit the ' +\n",
              "            '<a target=\"_blank\" href=https://colab.research.google.com/notebooks/data_table.ipynb>data table notebook</a>'\n",
              "            + ' to learn more about interactive tables.';\n",
              "          element.innerHTML = '';\n",
              "          dataTable['output_type'] = 'display_data';\n",
              "          await google.colab.output.renderOutput(dataTable, element);\n",
              "          const docLink = document.createElement('div');\n",
              "          docLink.innerHTML = docLinkHtml;\n",
              "          element.appendChild(docLink);\n",
              "        }\n",
              "      </script>\n",
              "    </div>\n",
              "  </div>\n",
              "  "
            ],
            "text/plain": [
              "          No.        Time             Source     Destination Protocol  Length  \\\n",
              "0           1    0.000000          10.0.2.15  52.167.254.228      TCP      54   \n",
              "1           2    0.002624     52.167.254.228       10.0.2.15      TCP      60   \n",
              "2           3    0.204789     52.167.254.228       10.0.2.15      TCP      60   \n",
              "3           4    0.204888          10.0.2.15  52.167.254.228      TCP      54   \n",
              "4           5   22.343940  PcsCompu_43:73:bc       Broadcast      ARP      60   \n",
              "...       ...         ...                ...             ...      ...     ...   \n",
              "186820  24320  860.774820          10.42.0.2       10.42.0.1      TCP      74   \n",
              "186821  24321  860.775115          10.42.0.1       10.42.0.2      TCP      66   \n",
              "186822  24322  860.775241          10.42.0.1       10.42.0.2     HTTP     256   \n",
              "186823  24323  860.775314          10.42.0.2       10.42.0.1      TCP      66   \n",
              "186824  24324  860.776418          10.42.0.2       10.42.0.1      TCP    7306   \n",
              "\n",
              "                                                     Info  Class  \n",
              "0       49197  >  80 [FIN, ACK] Seq=1 Ack=1 Win=62966 ...      1  \n",
              "1          80  >  49197 [ACK] Seq=1 Ack=2 Win=32767 Len=0      1  \n",
              "2       80  >  49197 [FIN, ACK] Seq=1 Ack=2 Win=32767 ...      1  \n",
              "3          49197  >  80 [ACK] Seq=2 Ack=2 Win=62966 Len=0      1  \n",
              "4                         Who has 10.0.2.1? Tell 10.0.2.5      1  \n",
              "...                                                   ...    ...  \n",
              "186820  80  >  53654 [SYN, ACK] Seq=0 Ack=1 Win=28960 ...      0  \n",
              "186821  53654  >  80 [ACK] Seq=1 Ack=1 Win=64256 Len=0...      0  \n",
              "186822                                    GET / HTTP/1.1       0  \n",
              "186823  80  >  53654 [ACK] Seq=1 Ack=191 Win=30080 Len...      0  \n",
              "186824  80  >  53654 [ACK] Seq=1 Ack=191 Win=30080 Len...      0  \n",
              "\n",
              "[186825 rows x 8 columns]"
            ]
          },
          "execution_count": 9,
          "metadata": {},
          "output_type": "execute_result"
        }
      ],
      "source": [
        "dataset"
      ]
    },
    {
      "cell_type": "code",
      "execution_count": null,
      "metadata": {
        "colab": {
          "base_uri": "https://localhost:8080/"
        },
        "id": "_ZC7DRltjwZ8",
        "outputId": "43130328-5031-4600-dc2f-9280bcd885f0"
      },
      "outputs": [
        {
          "name": "stdout",
          "output_type": "stream",
          "text": [
            "<class 'pandas.core.frame.DataFrame'>\n",
            "RangeIndex: 186825 entries, 0 to 186824\n",
            "Data columns (total 8 columns):\n",
            " #   Column       Non-Null Count   Dtype  \n",
            "---  ------       --------------   -----  \n",
            " 0   No.          186825 non-null  int64  \n",
            " 1   Time         186825 non-null  float64\n",
            " 2   Source       186825 non-null  object \n",
            " 3   Destination  186825 non-null  object \n",
            " 4   Protocol     186825 non-null  object \n",
            " 5   Length       186825 non-null  int64  \n",
            " 6   Info         186825 non-null  object \n",
            " 7   Class        186825 non-null  int64  \n",
            "dtypes: float64(1), int64(3), object(4)\n",
            "memory usage: 11.4+ MB\n"
          ]
        }
      ],
      "source": [
        "dataset.info()\n"
      ]
    },
    {
      "cell_type": "markdown",
      "metadata": {
        "id": "EMXAUN9ccK_R"
      },
      "source": [
        "### No."
      ]
    },
    {
      "cell_type": "code",
      "execution_count": null,
      "metadata": {
        "id": "Pn4D7fSpcK_S"
      },
      "outputs": [],
      "source": [
        "dataset.drop('No.', 1, inplace=True) # Removing column number"
      ]
    },
    {
      "cell_type": "markdown",
      "metadata": {
        "id": "W99m0uNPcK_S"
      },
      "source": [
        "### Time"
      ]
    },
    {
      "cell_type": "code",
      "execution_count": null,
      "metadata": {
        "colab": {
          "base_uri": "https://localhost:8080/"
        },
        "id": "QPRvzbDxcK_T",
        "outputId": "64e2662a-e5ac-4f4e-c030-1659a014f5fd",
        "scrolled": true
      },
      "outputs": [
        {
          "data": {
            "text/plain": [
              "0           0.000000\n",
              "1           0.002624\n",
              "2           0.204789\n",
              "3           0.204888\n",
              "4          22.343940\n",
              "             ...    \n",
              "186820    860.774820\n",
              "186821    860.775115\n",
              "186822    860.775241\n",
              "186823    860.775314\n",
              "186824    860.776418\n",
              "Name: Time, Length: 186825, dtype: float64"
            ]
          },
          "execution_count": 271,
          "metadata": {},
          "output_type": "execute_result"
        }
      ],
      "source": [
        "dataset[\"Time\"]"
      ]
    },
    {
      "cell_type": "code",
      "execution_count": null,
      "metadata": {
        "colab": {
          "base_uri": "https://localhost:8080/"
        },
        "id": "6yLA1RhRcK_T",
        "outputId": "b93ce382-09ea-4445-8424-d111510046f9"
      },
      "outputs": [
        {
          "data": {
            "text/plain": [
              "count    24324.000000\n",
              "mean       448.765298\n",
              "std        238.697554\n",
              "min          0.000000\n",
              "25%        241.321312\n",
              "50%        451.657060\n",
              "75%        660.599280\n",
              "max        860.776418\n",
              "Name: Time, dtype: float64"
            ]
          },
          "execution_count": 272,
          "metadata": {},
          "output_type": "execute_result"
        }
      ],
      "source": [
        "http['Time'].describe()"
      ]
    },
    {
      "cell_type": "code",
      "execution_count": null,
      "metadata": {
        "colab": {
          "base_uri": "https://localhost:8080/"
        },
        "id": "4zPXJNUIcK_T",
        "outputId": "b95150f4-febd-4fff-fbd9-4a3e0878f293"
      },
      "outputs": [
        {
          "data": {
            "text/plain": [
              "count    162501.000000\n",
              "mean         89.267633\n",
              "std          37.480834\n",
              "min           0.000000\n",
              "25%          57.863098\n",
              "50%          88.701548\n",
              "75%         121.951318\n",
              "max         155.209325\n",
              "Name: Time, dtype: float64"
            ]
          },
          "execution_count": 273,
          "metadata": {},
          "output_type": "execute_result"
        }
      ],
      "source": [
        "ddos['Time'].describe()"
      ]
    },
    {
      "cell_type": "markdown",
      "metadata": {
        "id": "9HZmO7CWcK_U"
      },
      "source": [
        "### Source"
      ]
    },
    {
      "cell_type": "code",
      "execution_count": null,
      "metadata": {
        "colab": {
          "base_uri": "https://localhost:8080/"
        },
        "id": "jleDwzDdcK_U",
        "outputId": "43f8075b-2168-4f32-b667-77c8b9c1ccc0",
        "scrolled": false
      },
      "outputs": [
        {
          "data": {
            "text/plain": [
              "0                 10.0.2.15\n",
              "1            52.167.254.228\n",
              "2            52.167.254.228\n",
              "3                 10.0.2.15\n",
              "4         PcsCompu_43:73:bc\n",
              "                ...        \n",
              "186820            10.42.0.2\n",
              "186821            10.42.0.1\n",
              "186822            10.42.0.1\n",
              "186823            10.42.0.2\n",
              "186824            10.42.0.2\n",
              "Name: Source, Length: 186825, dtype: object"
            ]
          },
          "execution_count": 274,
          "metadata": {},
          "output_type": "execute_result"
        }
      ],
      "source": [
        "dataset[\"Source\"]"
      ]
    },
    {
      "cell_type": "code",
      "execution_count": null,
      "metadata": {
        "colab": {
          "base_uri": "https://localhost:8080/"
        },
        "id": "I9_mPJx4cK_U",
        "outputId": "f6f4f140-b347-4065-b986-856e66481add"
      },
      "outputs": [
        {
          "data": {
            "text/plain": [
              "10.42.0.1                    14746\n",
              "10.42.0.2                     9556\n",
              "35.224.99.156                   10\n",
              "35.222.85.5                      5\n",
              "8.8.8.8                          3\n",
              "195.78.244.50                    2\n",
              "fe80::aeb3:8a30:a678:7389        2\n",
              "Name: Source, dtype: int64"
            ]
          },
          "execution_count": 275,
          "metadata": {},
          "output_type": "execute_result"
        }
      ],
      "source": [
        "http['Source'].value_counts()"
      ]
    },
    {
      "cell_type": "markdown",
      "metadata": {
        "id": "DIXMjDgecK_V"
      },
      "source": [
        "### Destination"
      ]
    },
    {
      "cell_type": "code",
      "execution_count": null,
      "metadata": {
        "colab": {
          "base_uri": "https://localhost:8080/"
        },
        "id": "KrEOuunbcK_V",
        "outputId": "7e071a77-a179-441d-ff4c-ef835b7c1572",
        "scrolled": true
      },
      "outputs": [
        {
          "data": {
            "text/plain": [
              "0         52.167.254.228\n",
              "1              10.0.2.15\n",
              "2              10.0.2.15\n",
              "3         52.167.254.228\n",
              "4              Broadcast\n",
              "               ...      \n",
              "186820         10.42.0.1\n",
              "186821         10.42.0.2\n",
              "186822         10.42.0.2\n",
              "186823         10.42.0.1\n",
              "186824         10.42.0.1\n",
              "Name: Destination, Length: 186825, dtype: object"
            ]
          },
          "execution_count": 276,
          "metadata": {},
          "output_type": "execute_result"
        }
      ],
      "source": [
        "dataset[\"Destination\"]"
      ]
    },
    {
      "cell_type": "code",
      "execution_count": null,
      "metadata": {
        "colab": {
          "base_uri": "https://localhost:8080/"
        },
        "id": "QFy-vhzjcK_W",
        "outputId": "e50b0a1b-0ba9-4af0-fe6f-eeb93709ba10"
      },
      "outputs": [
        {
          "data": {
            "text/plain": [
              "10.42.0.2          14652\n",
              "10.42.0.1           9536\n",
              "224.0.0.251           62\n",
              "239.255.255.250       52\n",
              "35.224.99.156         10\n",
              "35.222.85.5            5\n",
              "8.8.8.8                3\n",
              "195.78.244.50          2\n",
              "ff02::fb               2\n",
              "Name: Destination, dtype: int64"
            ]
          },
          "execution_count": 277,
          "metadata": {},
          "output_type": "execute_result"
        }
      ],
      "source": [
        "http['Destination'].value_counts()"
      ]
    },
    {
      "cell_type": "code",
      "execution_count": null,
      "metadata": {
        "colab": {
          "base_uri": "https://localhost:8080/"
        },
        "id": "lDV7mEjPcK_W",
        "outputId": "c1ee811c-3c60-4141-e836-07e031a46353"
      },
      "outputs": [
        {
          "data": {
            "text/plain": [
              "10.0.2.15            81242\n",
              "152.167.13.93        81223\n",
              "23.192.169.170           6\n",
              "ff02::1:2                6\n",
              "RealtekU_12:35:00        4\n",
              "PcsCompu_fe:ec:1e        4\n",
              "23.54.60.65              4\n",
              "52.167.254.228           2\n",
              "Broadcast                2\n",
              "23.52.227.248            2\n",
              "23.46.252.10             2\n",
              "23.72.114.92             2\n",
              "PcsCompu_43:73:bc        1\n",
              "10.0.2.255               1\n",
              "Name: Destination, dtype: int64"
            ]
          },
          "execution_count": 278,
          "metadata": {},
          "output_type": "execute_result"
        }
      ],
      "source": [
        "ddos['Destination'].value_counts()"
      ]
    },
    {
      "cell_type": "markdown",
      "metadata": {
        "id": "d39zvnM1cK_W"
      },
      "source": [
        "### Protocol"
      ]
    },
    {
      "cell_type": "code",
      "execution_count": null,
      "metadata": {
        "colab": {
          "base_uri": "https://localhost:8080/"
        },
        "id": "nnOXJuIEcK_X",
        "outputId": "d4f86bee-bc63-4ce1-924a-6ceda0a0f784",
        "scrolled": true
      },
      "outputs": [
        {
          "data": {
            "text/plain": [
              "0          TCP\n",
              "1          TCP\n",
              "2          TCP\n",
              "3          TCP\n",
              "4          ARP\n",
              "          ... \n",
              "186820     TCP\n",
              "186821     TCP\n",
              "186822    HTTP\n",
              "186823     TCP\n",
              "186824     TCP\n",
              "Name: Protocol, Length: 186825, dtype: object"
            ]
          },
          "execution_count": 279,
          "metadata": {},
          "output_type": "execute_result"
        }
      ],
      "source": [
        "dataset[\"Protocol\"]"
      ]
    },
    {
      "cell_type": "code",
      "execution_count": null,
      "metadata": {
        "colab": {
          "base_uri": "https://localhost:8080/"
        },
        "id": "0qwyWLq8cK_Y",
        "outputId": "82426610-573a-4d8d-90f3-f1a9a47b20df"
      },
      "outputs": [
        {
          "data": {
            "text/plain": [
              "count    186825.000000\n",
              "mean        208.109257\n",
              "std        1050.053021\n",
              "min          42.000000\n",
              "25%          54.000000\n",
              "50%          60.000000\n",
              "75%          60.000000\n",
              "max       11239.000000\n",
              "Name: Length, dtype: float64"
            ]
          },
          "execution_count": 280,
          "metadata": {},
          "output_type": "execute_result"
        }
      ],
      "source": [
        "dataset['Length'].describe()"
      ]
    },
    {
      "cell_type": "markdown",
      "metadata": {
        "id": "I_-Wn4Y5cK_Y"
      },
      "source": [
        "### Info"
      ]
    },
    {
      "cell_type": "code",
      "execution_count": null,
      "metadata": {
        "colab": {
          "base_uri": "https://localhost:8080/"
        },
        "id": "yoDKCQoOcK_Z",
        "outputId": "2ca6c1ee-4fa2-4205-b92d-92856a64b01e",
        "scrolled": true
      },
      "outputs": [
        {
          "data": {
            "text/plain": [
              "0         49197  >  80 [FIN, ACK] Seq=1 Ack=1 Win=62966 ...\n",
              "1            80  >  49197 [ACK] Seq=1 Ack=2 Win=32767 Len=0\n",
              "2         80  >  49197 [FIN, ACK] Seq=1 Ack=2 Win=32767 ...\n",
              "3            49197  >  80 [ACK] Seq=2 Ack=2 Win=62966 Len=0\n",
              "4                           Who has 10.0.2.1? Tell 10.0.2.5\n",
              "                                ...                        \n",
              "186820    80  >  53654 [SYN, ACK] Seq=0 Ack=1 Win=28960 ...\n",
              "186821    53654  >  80 [ACK] Seq=1 Ack=1 Win=64256 Len=0...\n",
              "186822                                      GET / HTTP/1.1 \n",
              "186823    80  >  53654 [ACK] Seq=1 Ack=191 Win=30080 Len...\n",
              "186824    80  >  53654 [ACK] Seq=1 Ack=191 Win=30080 Len...\n",
              "Name: Info, Length: 186825, dtype: object"
            ]
          },
          "execution_count": 281,
          "metadata": {},
          "output_type": "execute_result"
        }
      ],
      "source": [
        "dataset[\"Info\"]"
      ]
    },
    {
      "cell_type": "code",
      "execution_count": null,
      "metadata": {
        "id": "NXwHXV2XcK_Z"
      },
      "outputs": [],
      "source": [
        "dataset.drop('Info', 1, inplace=True) # Removing column info"
      ]
    },
    {
      "cell_type": "markdown",
      "metadata": {
        "id": "Fcly2S-_cK_a"
      },
      "source": [
        "### Final columns"
      ]
    },
    {
      "cell_type": "code",
      "execution_count": null,
      "metadata": {
        "colab": {
          "base_uri": "https://localhost:8080/",
          "height": 423
        },
        "id": "Z4FO7mX5cK_b",
        "outputId": "f7edcae1-b174-4840-9071-de6da09640f3"
      },
      "outputs": [
        {
          "data": {
            "text/html": [
              "\n",
              "  <div id=\"df-449708b8-2f0e-4d48-85ea-1013b6b925cb\">\n",
              "    <div class=\"colab-df-container\">\n",
              "      <div>\n",
              "<style scoped>\n",
              "    .dataframe tbody tr th:only-of-type {\n",
              "        vertical-align: middle;\n",
              "    }\n",
              "\n",
              "    .dataframe tbody tr th {\n",
              "        vertical-align: top;\n",
              "    }\n",
              "\n",
              "    .dataframe thead th {\n",
              "        text-align: right;\n",
              "    }\n",
              "</style>\n",
              "<table border=\"1\" class=\"dataframe\">\n",
              "  <thead>\n",
              "    <tr style=\"text-align: right;\">\n",
              "      <th></th>\n",
              "      <th>Time</th>\n",
              "      <th>Source</th>\n",
              "      <th>Destination</th>\n",
              "      <th>Protocol</th>\n",
              "      <th>Length</th>\n",
              "      <th>Class</th>\n",
              "    </tr>\n",
              "  </thead>\n",
              "  <tbody>\n",
              "    <tr>\n",
              "      <th>0</th>\n",
              "      <td>0.000000</td>\n",
              "      <td>10.0.2.15</td>\n",
              "      <td>52.167.254.228</td>\n",
              "      <td>TCP</td>\n",
              "      <td>54</td>\n",
              "      <td>1</td>\n",
              "    </tr>\n",
              "    <tr>\n",
              "      <th>1</th>\n",
              "      <td>0.002624</td>\n",
              "      <td>52.167.254.228</td>\n",
              "      <td>10.0.2.15</td>\n",
              "      <td>TCP</td>\n",
              "      <td>60</td>\n",
              "      <td>1</td>\n",
              "    </tr>\n",
              "    <tr>\n",
              "      <th>2</th>\n",
              "      <td>0.204789</td>\n",
              "      <td>52.167.254.228</td>\n",
              "      <td>10.0.2.15</td>\n",
              "      <td>TCP</td>\n",
              "      <td>60</td>\n",
              "      <td>1</td>\n",
              "    </tr>\n",
              "    <tr>\n",
              "      <th>3</th>\n",
              "      <td>0.204888</td>\n",
              "      <td>10.0.2.15</td>\n",
              "      <td>52.167.254.228</td>\n",
              "      <td>TCP</td>\n",
              "      <td>54</td>\n",
              "      <td>1</td>\n",
              "    </tr>\n",
              "    <tr>\n",
              "      <th>4</th>\n",
              "      <td>22.343940</td>\n",
              "      <td>PcsCompu_43:73:bc</td>\n",
              "      <td>Broadcast</td>\n",
              "      <td>ARP</td>\n",
              "      <td>60</td>\n",
              "      <td>1</td>\n",
              "    </tr>\n",
              "    <tr>\n",
              "      <th>...</th>\n",
              "      <td>...</td>\n",
              "      <td>...</td>\n",
              "      <td>...</td>\n",
              "      <td>...</td>\n",
              "      <td>...</td>\n",
              "      <td>...</td>\n",
              "    </tr>\n",
              "    <tr>\n",
              "      <th>186820</th>\n",
              "      <td>860.774820</td>\n",
              "      <td>10.42.0.2</td>\n",
              "      <td>10.42.0.1</td>\n",
              "      <td>TCP</td>\n",
              "      <td>74</td>\n",
              "      <td>0</td>\n",
              "    </tr>\n",
              "    <tr>\n",
              "      <th>186821</th>\n",
              "      <td>860.775115</td>\n",
              "      <td>10.42.0.1</td>\n",
              "      <td>10.42.0.2</td>\n",
              "      <td>TCP</td>\n",
              "      <td>66</td>\n",
              "      <td>0</td>\n",
              "    </tr>\n",
              "    <tr>\n",
              "      <th>186822</th>\n",
              "      <td>860.775241</td>\n",
              "      <td>10.42.0.1</td>\n",
              "      <td>10.42.0.2</td>\n",
              "      <td>HTTP</td>\n",
              "      <td>256</td>\n",
              "      <td>0</td>\n",
              "    </tr>\n",
              "    <tr>\n",
              "      <th>186823</th>\n",
              "      <td>860.775314</td>\n",
              "      <td>10.42.0.2</td>\n",
              "      <td>10.42.0.1</td>\n",
              "      <td>TCP</td>\n",
              "      <td>66</td>\n",
              "      <td>0</td>\n",
              "    </tr>\n",
              "    <tr>\n",
              "      <th>186824</th>\n",
              "      <td>860.776418</td>\n",
              "      <td>10.42.0.2</td>\n",
              "      <td>10.42.0.1</td>\n",
              "      <td>TCP</td>\n",
              "      <td>7306</td>\n",
              "      <td>0</td>\n",
              "    </tr>\n",
              "  </tbody>\n",
              "</table>\n",
              "<p>186825 rows × 6 columns</p>\n",
              "</div>\n",
              "      <button class=\"colab-df-convert\" onclick=\"convertToInteractive('df-449708b8-2f0e-4d48-85ea-1013b6b925cb')\"\n",
              "              title=\"Convert this dataframe to an interactive table.\"\n",
              "              style=\"display:none;\">\n",
              "        \n",
              "  <svg xmlns=\"http://www.w3.org/2000/svg\" height=\"24px\"viewBox=\"0 0 24 24\"\n",
              "       width=\"24px\">\n",
              "    <path d=\"M0 0h24v24H0V0z\" fill=\"none\"/>\n",
              "    <path d=\"M18.56 5.44l.94 2.06.94-2.06 2.06-.94-2.06-.94-.94-2.06-.94 2.06-2.06.94zm-11 1L8.5 8.5l.94-2.06 2.06-.94-2.06-.94L8.5 2.5l-.94 2.06-2.06.94zm10 10l.94 2.06.94-2.06 2.06-.94-2.06-.94-.94-2.06-.94 2.06-2.06.94z\"/><path d=\"M17.41 7.96l-1.37-1.37c-.4-.4-.92-.59-1.43-.59-.52 0-1.04.2-1.43.59L10.3 9.45l-7.72 7.72c-.78.78-.78 2.05 0 2.83L4 21.41c.39.39.9.59 1.41.59.51 0 1.02-.2 1.41-.59l7.78-7.78 2.81-2.81c.8-.78.8-2.07 0-2.86zM5.41 20L4 18.59l7.72-7.72 1.47 1.35L5.41 20z\"/>\n",
              "  </svg>\n",
              "      </button>\n",
              "      \n",
              "  <style>\n",
              "    .colab-df-container {\n",
              "      display:flex;\n",
              "      flex-wrap:wrap;\n",
              "      gap: 12px;\n",
              "    }\n",
              "\n",
              "    .colab-df-convert {\n",
              "      background-color: #E8F0FE;\n",
              "      border: none;\n",
              "      border-radius: 50%;\n",
              "      cursor: pointer;\n",
              "      display: none;\n",
              "      fill: #1967D2;\n",
              "      height: 32px;\n",
              "      padding: 0 0 0 0;\n",
              "      width: 32px;\n",
              "    }\n",
              "\n",
              "    .colab-df-convert:hover {\n",
              "      background-color: #E2EBFA;\n",
              "      box-shadow: 0px 1px 2px rgba(60, 64, 67, 0.3), 0px 1px 3px 1px rgba(60, 64, 67, 0.15);\n",
              "      fill: #174EA6;\n",
              "    }\n",
              "\n",
              "    [theme=dark] .colab-df-convert {\n",
              "      background-color: #3B4455;\n",
              "      fill: #D2E3FC;\n",
              "    }\n",
              "\n",
              "    [theme=dark] .colab-df-convert:hover {\n",
              "      background-color: #434B5C;\n",
              "      box-shadow: 0px 1px 3px 1px rgba(0, 0, 0, 0.15);\n",
              "      filter: drop-shadow(0px 1px 2px rgba(0, 0, 0, 0.3));\n",
              "      fill: #FFFFFF;\n",
              "    }\n",
              "  </style>\n",
              "\n",
              "      <script>\n",
              "        const buttonEl =\n",
              "          document.querySelector('#df-449708b8-2f0e-4d48-85ea-1013b6b925cb button.colab-df-convert');\n",
              "        buttonEl.style.display =\n",
              "          google.colab.kernel.accessAllowed ? 'block' : 'none';\n",
              "\n",
              "        async function convertToInteractive(key) {\n",
              "          const element = document.querySelector('#df-449708b8-2f0e-4d48-85ea-1013b6b925cb');\n",
              "          const dataTable =\n",
              "            await google.colab.kernel.invokeFunction('convertToInteractive',\n",
              "                                                     [key], {});\n",
              "          if (!dataTable) return;\n",
              "\n",
              "          const docLinkHtml = 'Like what you see? Visit the ' +\n",
              "            '<a target=\"_blank\" href=https://colab.research.google.com/notebooks/data_table.ipynb>data table notebook</a>'\n",
              "            + ' to learn more about interactive tables.';\n",
              "          element.innerHTML = '';\n",
              "          dataTable['output_type'] = 'display_data';\n",
              "          await google.colab.output.renderOutput(dataTable, element);\n",
              "          const docLink = document.createElement('div');\n",
              "          docLink.innerHTML = docLinkHtml;\n",
              "          element.appendChild(docLink);\n",
              "        }\n",
              "      </script>\n",
              "    </div>\n",
              "  </div>\n",
              "  "
            ],
            "text/plain": [
              "              Time             Source     Destination Protocol  Length  Class\n",
              "0         0.000000          10.0.2.15  52.167.254.228      TCP      54      1\n",
              "1         0.002624     52.167.254.228       10.0.2.15      TCP      60      1\n",
              "2         0.204789     52.167.254.228       10.0.2.15      TCP      60      1\n",
              "3         0.204888          10.0.2.15  52.167.254.228      TCP      54      1\n",
              "4        22.343940  PcsCompu_43:73:bc       Broadcast      ARP      60      1\n",
              "...            ...                ...             ...      ...     ...    ...\n",
              "186820  860.774820          10.42.0.2       10.42.0.1      TCP      74      0\n",
              "186821  860.775115          10.42.0.1       10.42.0.2      TCP      66      0\n",
              "186822  860.775241          10.42.0.1       10.42.0.2     HTTP     256      0\n",
              "186823  860.775314          10.42.0.2       10.42.0.1      TCP      66      0\n",
              "186824  860.776418          10.42.0.2       10.42.0.1      TCP    7306      0\n",
              "\n",
              "[186825 rows x 6 columns]"
            ]
          },
          "execution_count": 283,
          "metadata": {},
          "output_type": "execute_result"
        }
      ],
      "source": [
        "dataset"
      ]
    },
    {
      "cell_type": "markdown",
      "metadata": {
        "id": "yh0_g9REcK_b"
      },
      "source": [
        "## One-hot Encoding"
      ]
    },
    {
      "cell_type": "markdown",
      "metadata": {
        "id": "C_vZtge0cK_c"
      },
      "source": [
        "### The conversion function"
      ]
    },
    {
      "cell_type": "markdown",
      "metadata": {
        "id": "1IkkSP8hcK_c"
      },
      "source": [
        "Let's create a function to do this one-hot quickly."
      ]
    },
    {
      "cell_type": "code",
      "execution_count": null,
      "metadata": {
        "id": "W1ijdxRCcK_c"
      },
      "outputs": [],
      "source": [
        "def mapping(data):\n",
        "    data = pd.Series(data)\n",
        "\n",
        "    categories = data.unique()\n",
        "\n",
        "    dict_cat = {}\n",
        "\n",
        "    for i in range(len(categories)):\n",
        "        dict_cat[categories[i]] = i\n",
        "    return dict_cat"
      ]
    },
    {
      "cell_type": "code",
      "execution_count": null,
      "metadata": {
        "id": "jVpF_g3jcK_c"
      },
      "outputs": [],
      "source": [
        "def one_hot_encode(data, dict_cat):\n",
        "    data = pd.Series(data)\n",
        "\n",
        "    one_hot = []\n",
        "    for el in data:\n",
        "        one_hot.append(dict_cat[el])\n",
        "\n",
        "    return to_categorical(one_hot, num_classes=len(dict_cat.keys()))"
      ]
    },
    {
      "cell_type": "markdown",
      "metadata": {
        "id": "-8jjHmM9cK_d"
      },
      "source": [
        "### Processing of the protocol feature"
      ]
    },
    {
      "cell_type": "markdown",
      "metadata": {
        "id": "vuCCwzhfcK_d"
      },
      "source": [
        "For the moment, the column \"Protocol\" is composed of strings."
      ]
    },
    {
      "cell_type": "code",
      "execution_count": null,
      "metadata": {
        "colab": {
          "base_uri": "https://localhost:8080/"
        },
        "id": "EAHp-269cK_d",
        "outputId": "c5229985-d715-47b9-8203-1d9a44bd4172"
      },
      "outputs": [
        {
          "data": {
            "text/plain": [
              "array(['TCP', 'ARP', 'TLSv1.2', 'DHCPv6', 'BROWSER', 'SSH', 'SSDP',\n",
              "       'MDNS', 'HTTP', 'ICMP', 'NTP', 'DNS', 'SSHv2'], dtype=object)"
            ]
          },
          "execution_count": 15,
          "metadata": {},
          "output_type": "execute_result"
        }
      ],
      "source": [
        "dataset['Protocol'].unique()"
      ]
    },
    {
      "cell_type": "markdown",
      "metadata": {
        "id": "sv01zeHGcK_e"
      },
      "source": [
        "As we can see above, it is categorical data with 9 categories. We can thus use one-hot encoding to serialize the values."
      ]
    },
    {
      "cell_type": "code",
      "execution_count": null,
      "metadata": {
        "id": "SCR95gnmcK_e"
      },
      "outputs": [],
      "source": [
        "dict_protocol = mapping(dataset['Protocol'])\n",
        "\n",
        "one_hot_protocol = one_hot_encode(dataset['Protocol'], dict_protocol)"
      ]
    },
    {
      "cell_type": "markdown",
      "metadata": {
        "id": "OuwwPfwFcK_e"
      },
      "source": [
        "The mapping is the following :"
      ]
    },
    {
      "cell_type": "code",
      "execution_count": null,
      "metadata": {
        "colab": {
          "base_uri": "https://localhost:8080/"
        },
        "id": "58K_yFEBcK_e",
        "outputId": "bc5fc3f6-6236-4cda-e594-f0aaef36e0a3"
      },
      "outputs": [
        {
          "name": "stdout",
          "output_type": "stream",
          "text": [
            "{'TCP': 0, 'ARP': 1, 'TLSv1.2': 2, 'DHCPv6': 3, 'BROWSER': 4, 'SSH': 5, 'SSDP': 6, 'MDNS': 7, 'HTTP': 8, 'ICMP': 9, 'NTP': 10, 'DNS': 11, 'SSHv2': 12}\n"
          ]
        }
      ],
      "source": [
        "print(dict_protocol)"
      ]
    },
    {
      "cell_type": "markdown",
      "metadata": {
        "id": "mYywELwbcK_f"
      },
      "source": [
        "We join the one-hot encoded array of the protocol column. We can then delete the former Protocol column."
      ]
    },
    {
      "cell_type": "code",
      "execution_count": null,
      "metadata": {
        "id": "gxAt_nKBcK_f"
      },
      "outputs": [],
      "source": [
        "dataset = dataset.join(pd.DataFrame(one_hot_protocol, columns=dict_protocol.keys()))"
      ]
    },
    {
      "cell_type": "code",
      "execution_count": null,
      "metadata": {
        "id": "7JQ7QfmjcK_f"
      },
      "outputs": [],
      "source": [
        "dataset.drop(\"Protocol\", 1, inplace=True)"
      ]
    },
    {
      "cell_type": "markdown",
      "metadata": {
        "id": "n2A3KI2BcK_g"
      },
      "source": [
        "We obtain the following DataFrame :"
      ]
    },
    {
      "cell_type": "code",
      "execution_count": null,
      "metadata": {
        "colab": {
          "base_uri": "https://localhost:8080/",
          "height": 424
        },
        "id": "4qnVLjaYcK_g",
        "outputId": "93c1576b-4eed-4e4d-b98d-9ef66ccc6f49"
      },
      "outputs": [
        {
          "data": {
            "text/html": [
              "\n",
              "  <div id=\"df-461fda19-279a-4acf-bebf-ee19142c8110\">\n",
              "    <div class=\"colab-df-container\">\n",
              "      <div>\n",
              "<style scoped>\n",
              "    .dataframe tbody tr th:only-of-type {\n",
              "        vertical-align: middle;\n",
              "    }\n",
              "\n",
              "    .dataframe tbody tr th {\n",
              "        vertical-align: top;\n",
              "    }\n",
              "\n",
              "    .dataframe thead th {\n",
              "        text-align: right;\n",
              "    }\n",
              "</style>\n",
              "<table border=\"1\" class=\"dataframe\">\n",
              "  <thead>\n",
              "    <tr style=\"text-align: right;\">\n",
              "      <th></th>\n",
              "      <th>Time</th>\n",
              "      <th>Source</th>\n",
              "      <th>Destination</th>\n",
              "      <th>Length</th>\n",
              "      <th>Class</th>\n",
              "      <th>TCP</th>\n",
              "      <th>ARP</th>\n",
              "      <th>TLSv1.2</th>\n",
              "      <th>DHCPv6</th>\n",
              "      <th>BROWSER</th>\n",
              "      <th>SSH</th>\n",
              "      <th>SSDP</th>\n",
              "      <th>MDNS</th>\n",
              "      <th>HTTP</th>\n",
              "      <th>ICMP</th>\n",
              "      <th>NTP</th>\n",
              "      <th>DNS</th>\n",
              "      <th>SSHv2</th>\n",
              "    </tr>\n",
              "  </thead>\n",
              "  <tbody>\n",
              "    <tr>\n",
              "      <th>0</th>\n",
              "      <td>0.000000</td>\n",
              "      <td>10.0.2.15</td>\n",
              "      <td>52.167.254.228</td>\n",
              "      <td>54</td>\n",
              "      <td>1</td>\n",
              "      <td>1.0</td>\n",
              "      <td>0.0</td>\n",
              "      <td>0.0</td>\n",
              "      <td>0.0</td>\n",
              "      <td>0.0</td>\n",
              "      <td>0.0</td>\n",
              "      <td>0.0</td>\n",
              "      <td>0.0</td>\n",
              "      <td>0.0</td>\n",
              "      <td>0.0</td>\n",
              "      <td>0.0</td>\n",
              "      <td>0.0</td>\n",
              "      <td>0.0</td>\n",
              "    </tr>\n",
              "    <tr>\n",
              "      <th>1</th>\n",
              "      <td>0.002624</td>\n",
              "      <td>52.167.254.228</td>\n",
              "      <td>10.0.2.15</td>\n",
              "      <td>60</td>\n",
              "      <td>1</td>\n",
              "      <td>1.0</td>\n",
              "      <td>0.0</td>\n",
              "      <td>0.0</td>\n",
              "      <td>0.0</td>\n",
              "      <td>0.0</td>\n",
              "      <td>0.0</td>\n",
              "      <td>0.0</td>\n",
              "      <td>0.0</td>\n",
              "      <td>0.0</td>\n",
              "      <td>0.0</td>\n",
              "      <td>0.0</td>\n",
              "      <td>0.0</td>\n",
              "      <td>0.0</td>\n",
              "    </tr>\n",
              "    <tr>\n",
              "      <th>2</th>\n",
              "      <td>0.204789</td>\n",
              "      <td>52.167.254.228</td>\n",
              "      <td>10.0.2.15</td>\n",
              "      <td>60</td>\n",
              "      <td>1</td>\n",
              "      <td>1.0</td>\n",
              "      <td>0.0</td>\n",
              "      <td>0.0</td>\n",
              "      <td>0.0</td>\n",
              "      <td>0.0</td>\n",
              "      <td>0.0</td>\n",
              "      <td>0.0</td>\n",
              "      <td>0.0</td>\n",
              "      <td>0.0</td>\n",
              "      <td>0.0</td>\n",
              "      <td>0.0</td>\n",
              "      <td>0.0</td>\n",
              "      <td>0.0</td>\n",
              "    </tr>\n",
              "    <tr>\n",
              "      <th>3</th>\n",
              "      <td>0.204888</td>\n",
              "      <td>10.0.2.15</td>\n",
              "      <td>52.167.254.228</td>\n",
              "      <td>54</td>\n",
              "      <td>1</td>\n",
              "      <td>1.0</td>\n",
              "      <td>0.0</td>\n",
              "      <td>0.0</td>\n",
              "      <td>0.0</td>\n",
              "      <td>0.0</td>\n",
              "      <td>0.0</td>\n",
              "      <td>0.0</td>\n",
              "      <td>0.0</td>\n",
              "      <td>0.0</td>\n",
              "      <td>0.0</td>\n",
              "      <td>0.0</td>\n",
              "      <td>0.0</td>\n",
              "      <td>0.0</td>\n",
              "    </tr>\n",
              "    <tr>\n",
              "      <th>4</th>\n",
              "      <td>22.343940</td>\n",
              "      <td>PcsCompu_43:73:bc</td>\n",
              "      <td>Broadcast</td>\n",
              "      <td>60</td>\n",
              "      <td>1</td>\n",
              "      <td>0.0</td>\n",
              "      <td>1.0</td>\n",
              "      <td>0.0</td>\n",
              "      <td>0.0</td>\n",
              "      <td>0.0</td>\n",
              "      <td>0.0</td>\n",
              "      <td>0.0</td>\n",
              "      <td>0.0</td>\n",
              "      <td>0.0</td>\n",
              "      <td>0.0</td>\n",
              "      <td>0.0</td>\n",
              "      <td>0.0</td>\n",
              "      <td>0.0</td>\n",
              "    </tr>\n",
              "    <tr>\n",
              "      <th>...</th>\n",
              "      <td>...</td>\n",
              "      <td>...</td>\n",
              "      <td>...</td>\n",
              "      <td>...</td>\n",
              "      <td>...</td>\n",
              "      <td>...</td>\n",
              "      <td>...</td>\n",
              "      <td>...</td>\n",
              "      <td>...</td>\n",
              "      <td>...</td>\n",
              "      <td>...</td>\n",
              "      <td>...</td>\n",
              "      <td>...</td>\n",
              "      <td>...</td>\n",
              "      <td>...</td>\n",
              "      <td>...</td>\n",
              "      <td>...</td>\n",
              "      <td>...</td>\n",
              "    </tr>\n",
              "    <tr>\n",
              "      <th>186820</th>\n",
              "      <td>860.774820</td>\n",
              "      <td>10.42.0.2</td>\n",
              "      <td>10.42.0.1</td>\n",
              "      <td>74</td>\n",
              "      <td>0</td>\n",
              "      <td>1.0</td>\n",
              "      <td>0.0</td>\n",
              "      <td>0.0</td>\n",
              "      <td>0.0</td>\n",
              "      <td>0.0</td>\n",
              "      <td>0.0</td>\n",
              "      <td>0.0</td>\n",
              "      <td>0.0</td>\n",
              "      <td>0.0</td>\n",
              "      <td>0.0</td>\n",
              "      <td>0.0</td>\n",
              "      <td>0.0</td>\n",
              "      <td>0.0</td>\n",
              "    </tr>\n",
              "    <tr>\n",
              "      <th>186821</th>\n",
              "      <td>860.775115</td>\n",
              "      <td>10.42.0.1</td>\n",
              "      <td>10.42.0.2</td>\n",
              "      <td>66</td>\n",
              "      <td>0</td>\n",
              "      <td>1.0</td>\n",
              "      <td>0.0</td>\n",
              "      <td>0.0</td>\n",
              "      <td>0.0</td>\n",
              "      <td>0.0</td>\n",
              "      <td>0.0</td>\n",
              "      <td>0.0</td>\n",
              "      <td>0.0</td>\n",
              "      <td>0.0</td>\n",
              "      <td>0.0</td>\n",
              "      <td>0.0</td>\n",
              "      <td>0.0</td>\n",
              "      <td>0.0</td>\n",
              "    </tr>\n",
              "    <tr>\n",
              "      <th>186822</th>\n",
              "      <td>860.775241</td>\n",
              "      <td>10.42.0.1</td>\n",
              "      <td>10.42.0.2</td>\n",
              "      <td>256</td>\n",
              "      <td>0</td>\n",
              "      <td>0.0</td>\n",
              "      <td>0.0</td>\n",
              "      <td>0.0</td>\n",
              "      <td>0.0</td>\n",
              "      <td>0.0</td>\n",
              "      <td>0.0</td>\n",
              "      <td>0.0</td>\n",
              "      <td>0.0</td>\n",
              "      <td>1.0</td>\n",
              "      <td>0.0</td>\n",
              "      <td>0.0</td>\n",
              "      <td>0.0</td>\n",
              "      <td>0.0</td>\n",
              "    </tr>\n",
              "    <tr>\n",
              "      <th>186823</th>\n",
              "      <td>860.775314</td>\n",
              "      <td>10.42.0.2</td>\n",
              "      <td>10.42.0.1</td>\n",
              "      <td>66</td>\n",
              "      <td>0</td>\n",
              "      <td>1.0</td>\n",
              "      <td>0.0</td>\n",
              "      <td>0.0</td>\n",
              "      <td>0.0</td>\n",
              "      <td>0.0</td>\n",
              "      <td>0.0</td>\n",
              "      <td>0.0</td>\n",
              "      <td>0.0</td>\n",
              "      <td>0.0</td>\n",
              "      <td>0.0</td>\n",
              "      <td>0.0</td>\n",
              "      <td>0.0</td>\n",
              "      <td>0.0</td>\n",
              "    </tr>\n",
              "    <tr>\n",
              "      <th>186824</th>\n",
              "      <td>860.776418</td>\n",
              "      <td>10.42.0.2</td>\n",
              "      <td>10.42.0.1</td>\n",
              "      <td>7306</td>\n",
              "      <td>0</td>\n",
              "      <td>1.0</td>\n",
              "      <td>0.0</td>\n",
              "      <td>0.0</td>\n",
              "      <td>0.0</td>\n",
              "      <td>0.0</td>\n",
              "      <td>0.0</td>\n",
              "      <td>0.0</td>\n",
              "      <td>0.0</td>\n",
              "      <td>0.0</td>\n",
              "      <td>0.0</td>\n",
              "      <td>0.0</td>\n",
              "      <td>0.0</td>\n",
              "      <td>0.0</td>\n",
              "    </tr>\n",
              "  </tbody>\n",
              "</table>\n",
              "<p>186825 rows × 18 columns</p>\n",
              "</div>\n",
              "      <button class=\"colab-df-convert\" onclick=\"convertToInteractive('df-461fda19-279a-4acf-bebf-ee19142c8110')\"\n",
              "              title=\"Convert this dataframe to an interactive table.\"\n",
              "              style=\"display:none;\">\n",
              "        \n",
              "  <svg xmlns=\"http://www.w3.org/2000/svg\" height=\"24px\"viewBox=\"0 0 24 24\"\n",
              "       width=\"24px\">\n",
              "    <path d=\"M0 0h24v24H0V0z\" fill=\"none\"/>\n",
              "    <path d=\"M18.56 5.44l.94 2.06.94-2.06 2.06-.94-2.06-.94-.94-2.06-.94 2.06-2.06.94zm-11 1L8.5 8.5l.94-2.06 2.06-.94-2.06-.94L8.5 2.5l-.94 2.06-2.06.94zm10 10l.94 2.06.94-2.06 2.06-.94-2.06-.94-.94-2.06-.94 2.06-2.06.94z\"/><path d=\"M17.41 7.96l-1.37-1.37c-.4-.4-.92-.59-1.43-.59-.52 0-1.04.2-1.43.59L10.3 9.45l-7.72 7.72c-.78.78-.78 2.05 0 2.83L4 21.41c.39.39.9.59 1.41.59.51 0 1.02-.2 1.41-.59l7.78-7.78 2.81-2.81c.8-.78.8-2.07 0-2.86zM5.41 20L4 18.59l7.72-7.72 1.47 1.35L5.41 20z\"/>\n",
              "  </svg>\n",
              "      </button>\n",
              "      \n",
              "  <style>\n",
              "    .colab-df-container {\n",
              "      display:flex;\n",
              "      flex-wrap:wrap;\n",
              "      gap: 12px;\n",
              "    }\n",
              "\n",
              "    .colab-df-convert {\n",
              "      background-color: #E8F0FE;\n",
              "      border: none;\n",
              "      border-radius: 50%;\n",
              "      cursor: pointer;\n",
              "      display: none;\n",
              "      fill: #1967D2;\n",
              "      height: 32px;\n",
              "      padding: 0 0 0 0;\n",
              "      width: 32px;\n",
              "    }\n",
              "\n",
              "    .colab-df-convert:hover {\n",
              "      background-color: #E2EBFA;\n",
              "      box-shadow: 0px 1px 2px rgba(60, 64, 67, 0.3), 0px 1px 3px 1px rgba(60, 64, 67, 0.15);\n",
              "      fill: #174EA6;\n",
              "    }\n",
              "\n",
              "    [theme=dark] .colab-df-convert {\n",
              "      background-color: #3B4455;\n",
              "      fill: #D2E3FC;\n",
              "    }\n",
              "\n",
              "    [theme=dark] .colab-df-convert:hover {\n",
              "      background-color: #434B5C;\n",
              "      box-shadow: 0px 1px 3px 1px rgba(0, 0, 0, 0.15);\n",
              "      filter: drop-shadow(0px 1px 2px rgba(0, 0, 0, 0.3));\n",
              "      fill: #FFFFFF;\n",
              "    }\n",
              "  </style>\n",
              "\n",
              "      <script>\n",
              "        const buttonEl =\n",
              "          document.querySelector('#df-461fda19-279a-4acf-bebf-ee19142c8110 button.colab-df-convert');\n",
              "        buttonEl.style.display =\n",
              "          google.colab.kernel.accessAllowed ? 'block' : 'none';\n",
              "\n",
              "        async function convertToInteractive(key) {\n",
              "          const element = document.querySelector('#df-461fda19-279a-4acf-bebf-ee19142c8110');\n",
              "          const dataTable =\n",
              "            await google.colab.kernel.invokeFunction('convertToInteractive',\n",
              "                                                     [key], {});\n",
              "          if (!dataTable) return;\n",
              "\n",
              "          const docLinkHtml = 'Like what you see? Visit the ' +\n",
              "            '<a target=\"_blank\" href=https://colab.research.google.com/notebooks/data_table.ipynb>data table notebook</a>'\n",
              "            + ' to learn more about interactive tables.';\n",
              "          element.innerHTML = '';\n",
              "          dataTable['output_type'] = 'display_data';\n",
              "          await google.colab.output.renderOutput(dataTable, element);\n",
              "          const docLink = document.createElement('div');\n",
              "          docLink.innerHTML = docLinkHtml;\n",
              "          element.appendChild(docLink);\n",
              "        }\n",
              "      </script>\n",
              "    </div>\n",
              "  </div>\n",
              "  "
            ],
            "text/plain": [
              "              Time             Source     Destination  Length  Class  TCP  \\\n",
              "0         0.000000          10.0.2.15  52.167.254.228      54      1  1.0   \n",
              "1         0.002624     52.167.254.228       10.0.2.15      60      1  1.0   \n",
              "2         0.204789     52.167.254.228       10.0.2.15      60      1  1.0   \n",
              "3         0.204888          10.0.2.15  52.167.254.228      54      1  1.0   \n",
              "4        22.343940  PcsCompu_43:73:bc       Broadcast      60      1  0.0   \n",
              "...            ...                ...             ...     ...    ...  ...   \n",
              "186820  860.774820          10.42.0.2       10.42.0.1      74      0  1.0   \n",
              "186821  860.775115          10.42.0.1       10.42.0.2      66      0  1.0   \n",
              "186822  860.775241          10.42.0.1       10.42.0.2     256      0  0.0   \n",
              "186823  860.775314          10.42.0.2       10.42.0.1      66      0  1.0   \n",
              "186824  860.776418          10.42.0.2       10.42.0.1    7306      0  1.0   \n",
              "\n",
              "        ARP  TLSv1.2  DHCPv6  BROWSER  SSH  SSDP  MDNS  HTTP  ICMP  NTP  DNS  \\\n",
              "0       0.0      0.0     0.0      0.0  0.0   0.0   0.0   0.0   0.0  0.0  0.0   \n",
              "1       0.0      0.0     0.0      0.0  0.0   0.0   0.0   0.0   0.0  0.0  0.0   \n",
              "2       0.0      0.0     0.0      0.0  0.0   0.0   0.0   0.0   0.0  0.0  0.0   \n",
              "3       0.0      0.0     0.0      0.0  0.0   0.0   0.0   0.0   0.0  0.0  0.0   \n",
              "4       1.0      0.0     0.0      0.0  0.0   0.0   0.0   0.0   0.0  0.0  0.0   \n",
              "...     ...      ...     ...      ...  ...   ...   ...   ...   ...  ...  ...   \n",
              "186820  0.0      0.0     0.0      0.0  0.0   0.0   0.0   0.0   0.0  0.0  0.0   \n",
              "186821  0.0      0.0     0.0      0.0  0.0   0.0   0.0   0.0   0.0  0.0  0.0   \n",
              "186822  0.0      0.0     0.0      0.0  0.0   0.0   0.0   1.0   0.0  0.0  0.0   \n",
              "186823  0.0      0.0     0.0      0.0  0.0   0.0   0.0   0.0   0.0  0.0  0.0   \n",
              "186824  0.0      0.0     0.0      0.0  0.0   0.0   0.0   0.0   0.0  0.0  0.0   \n",
              "\n",
              "        SSHv2  \n",
              "0         0.0  \n",
              "1         0.0  \n",
              "2         0.0  \n",
              "3         0.0  \n",
              "4         0.0  \n",
              "...       ...  \n",
              "186820    0.0  \n",
              "186821    0.0  \n",
              "186822    0.0  \n",
              "186823    0.0  \n",
              "186824    0.0  \n",
              "\n",
              "[186825 rows x 18 columns]"
            ]
          },
          "execution_count": 20,
          "metadata": {},
          "output_type": "execute_result"
        }
      ],
      "source": [
        "dataset"
      ]
    },
    {
      "cell_type": "markdown",
      "metadata": {
        "id": "Pjfj4v_WcK_g"
      },
      "source": [
        "## Validation set"
      ]
    },
    {
      "cell_type": "markdown",
      "metadata": {
        "id": "oq8Ve1JZcK_h"
      },
      "source": [
        "To check any overfitting pattern in our models, we need to import our own sets. Doing this, we will validate our models on brand new data. However, we need to apply the same processing as above to this dataset."
      ]
    },
    {
      "cell_type": "code",
      "execution_count": null,
      "metadata": {
        "id": "ozJHzEdCcK_h"
      },
      "outputs": [],
      "source": [
        "att = pd.read_csv(DATA_PATH+'secondattack.csv')\n",
        "normal = pd.read_csv(DATA_PATH+'normal.csv')\n",
        "att['Class'] = 1\n",
        "normal[\"Class\"] = 0"
      ]
    },
    {
      "cell_type": "code",
      "execution_count": null,
      "metadata": {
        "id": "iOnUCbFEcK_h"
      },
      "outputs": [],
      "source": [
        "val_dataset = pd.concat([att, normal], axis=0).reset_index()\n",
        "val_dataset.drop('index', 1, inplace=True)"
      ]
    },
    {
      "cell_type": "code",
      "execution_count": null,
      "metadata": {
        "colab": {
          "base_uri": "https://localhost:8080/",
          "height": 424
        },
        "id": "bTngohaacK_i",
        "outputId": "b9f3ec8f-86aa-43de-9270-b973c9c60efa",
        "scrolled": false
      },
      "outputs": [
        {
          "data": {
            "text/html": [
              "\n",
              "  <div id=\"df-8d60f1a4-916f-44c5-8992-74d212e5ffe4\">\n",
              "    <div class=\"colab-df-container\">\n",
              "      <div>\n",
              "<style scoped>\n",
              "    .dataframe tbody tr th:only-of-type {\n",
              "        vertical-align: middle;\n",
              "    }\n",
              "\n",
              "    .dataframe tbody tr th {\n",
              "        vertical-align: top;\n",
              "    }\n",
              "\n",
              "    .dataframe thead th {\n",
              "        text-align: right;\n",
              "    }\n",
              "</style>\n",
              "<table border=\"1\" class=\"dataframe\">\n",
              "  <thead>\n",
              "    <tr style=\"text-align: right;\">\n",
              "      <th></th>\n",
              "      <th>No.</th>\n",
              "      <th>Time</th>\n",
              "      <th>Source</th>\n",
              "      <th>Destination</th>\n",
              "      <th>Protocol</th>\n",
              "      <th>Length</th>\n",
              "      <th>Info</th>\n",
              "      <th>Class</th>\n",
              "    </tr>\n",
              "  </thead>\n",
              "  <tbody>\n",
              "    <tr>\n",
              "      <th>0</th>\n",
              "      <td>1</td>\n",
              "      <td>0.000000</td>\n",
              "      <td>fe80::2584:baa2:5d4d:c86d</td>\n",
              "      <td>ff02::1:2</td>\n",
              "      <td>DHCPv6</td>\n",
              "      <td>152</td>\n",
              "      <td>Solicit XID: 0xd0f8ae CID: 0001000121e8031c080...</td>\n",
              "      <td>1</td>\n",
              "    </tr>\n",
              "    <tr>\n",
              "      <th>1</th>\n",
              "      <td>2</td>\n",
              "      <td>32.019548</td>\n",
              "      <td>fe80::2584:baa2:5d4d:c86d</td>\n",
              "      <td>ff02::1:2</td>\n",
              "      <td>DHCPv6</td>\n",
              "      <td>152</td>\n",
              "      <td>Solicit XID: 0xd0f8ae CID: 0001000121e8031c080...</td>\n",
              "      <td>1</td>\n",
              "    </tr>\n",
              "    <tr>\n",
              "      <th>2</th>\n",
              "      <td>3</td>\n",
              "      <td>227.921904</td>\n",
              "      <td>PcsCompu_43:73:bc</td>\n",
              "      <td>Broadcast</td>\n",
              "      <td>ARP</td>\n",
              "      <td>60</td>\n",
              "      <td>Who has 10.0.2.15? Tell 10.0.2.5</td>\n",
              "      <td>1</td>\n",
              "    </tr>\n",
              "    <tr>\n",
              "      <th>3</th>\n",
              "      <td>4</td>\n",
              "      <td>227.922218</td>\n",
              "      <td>PcsCompu_fe:ec:1e</td>\n",
              "      <td>PcsCompu_43:73:bc</td>\n",
              "      <td>ARP</td>\n",
              "      <td>42</td>\n",
              "      <td>10.0.2.15 is at 08:00:27:fe:ec:1e</td>\n",
              "      <td>1</td>\n",
              "    </tr>\n",
              "    <tr>\n",
              "      <th>4</th>\n",
              "      <td>5</td>\n",
              "      <td>227.998806</td>\n",
              "      <td>142.7.230.241</td>\n",
              "      <td>10.0.2.15</td>\n",
              "      <td>TCP</td>\n",
              "      <td>60</td>\n",
              "      <td>27573  &gt;  80 [SYN] Seq=0 Win=2493 Len=0</td>\n",
              "      <td>1</td>\n",
              "    </tr>\n",
              "    <tr>\n",
              "      <th>...</th>\n",
              "      <td>...</td>\n",
              "      <td>...</td>\n",
              "      <td>...</td>\n",
              "      <td>...</td>\n",
              "      <td>...</td>\n",
              "      <td>...</td>\n",
              "      <td>...</td>\n",
              "      <td>...</td>\n",
              "    </tr>\n",
              "    <tr>\n",
              "      <th>66717</th>\n",
              "      <td>17017</td>\n",
              "      <td>266.981299</td>\n",
              "      <td>20.42.65.85</td>\n",
              "      <td>10.0.2.15</td>\n",
              "      <td>TCP</td>\n",
              "      <td>60</td>\n",
              "      <td>[TCP Keep-Alive ACK] 443  &gt;  49315 [ACK] Seq=6...</td>\n",
              "      <td>0</td>\n",
              "    </tr>\n",
              "    <tr>\n",
              "      <th>66718</th>\n",
              "      <td>17018</td>\n",
              "      <td>268.253266</td>\n",
              "      <td>54.92.160.104</td>\n",
              "      <td>10.0.2.15</td>\n",
              "      <td>TCP</td>\n",
              "      <td>60</td>\n",
              "      <td>11103  &gt;  49298 [FIN, ACK] Seq=6518 Ack=2853 W...</td>\n",
              "      <td>0</td>\n",
              "    </tr>\n",
              "    <tr>\n",
              "      <th>66719</th>\n",
              "      <td>17019</td>\n",
              "      <td>268.253370</td>\n",
              "      <td>10.0.2.15</td>\n",
              "      <td>54.92.160.104</td>\n",
              "      <td>TCP</td>\n",
              "      <td>54</td>\n",
              "      <td>49298  &gt;  11103 [ACK] Seq=2853 Ack=6519 Win=63...</td>\n",
              "      <td>0</td>\n",
              "    </tr>\n",
              "    <tr>\n",
              "      <th>66720</th>\n",
              "      <td>17020</td>\n",
              "      <td>269.384607</td>\n",
              "      <td>10.0.2.15</td>\n",
              "      <td>18.195.152.201</td>\n",
              "      <td>TCP</td>\n",
              "      <td>55</td>\n",
              "      <td>[TCP Keep-Alive] 49288  &gt;  443 [ACK] Seq=2064 ...</td>\n",
              "      <td>0</td>\n",
              "    </tr>\n",
              "    <tr>\n",
              "      <th>66721</th>\n",
              "      <td>17021</td>\n",
              "      <td>269.385185</td>\n",
              "      <td>18.195.152.201</td>\n",
              "      <td>10.0.2.15</td>\n",
              "      <td>TCP</td>\n",
              "      <td>60</td>\n",
              "      <td>[TCP Keep-Alive ACK] 443  &gt;  49288 [ACK] Seq=6...</td>\n",
              "      <td>0</td>\n",
              "    </tr>\n",
              "  </tbody>\n",
              "</table>\n",
              "<p>66722 rows × 8 columns</p>\n",
              "</div>\n",
              "      <button class=\"colab-df-convert\" onclick=\"convertToInteractive('df-8d60f1a4-916f-44c5-8992-74d212e5ffe4')\"\n",
              "              title=\"Convert this dataframe to an interactive table.\"\n",
              "              style=\"display:none;\">\n",
              "        \n",
              "  <svg xmlns=\"http://www.w3.org/2000/svg\" height=\"24px\"viewBox=\"0 0 24 24\"\n",
              "       width=\"24px\">\n",
              "    <path d=\"M0 0h24v24H0V0z\" fill=\"none\"/>\n",
              "    <path d=\"M18.56 5.44l.94 2.06.94-2.06 2.06-.94-2.06-.94-.94-2.06-.94 2.06-2.06.94zm-11 1L8.5 8.5l.94-2.06 2.06-.94-2.06-.94L8.5 2.5l-.94 2.06-2.06.94zm10 10l.94 2.06.94-2.06 2.06-.94-2.06-.94-.94-2.06-.94 2.06-2.06.94z\"/><path d=\"M17.41 7.96l-1.37-1.37c-.4-.4-.92-.59-1.43-.59-.52 0-1.04.2-1.43.59L10.3 9.45l-7.72 7.72c-.78.78-.78 2.05 0 2.83L4 21.41c.39.39.9.59 1.41.59.51 0 1.02-.2 1.41-.59l7.78-7.78 2.81-2.81c.8-.78.8-2.07 0-2.86zM5.41 20L4 18.59l7.72-7.72 1.47 1.35L5.41 20z\"/>\n",
              "  </svg>\n",
              "      </button>\n",
              "      \n",
              "  <style>\n",
              "    .colab-df-container {\n",
              "      display:flex;\n",
              "      flex-wrap:wrap;\n",
              "      gap: 12px;\n",
              "    }\n",
              "\n",
              "    .colab-df-convert {\n",
              "      background-color: #E8F0FE;\n",
              "      border: none;\n",
              "      border-radius: 50%;\n",
              "      cursor: pointer;\n",
              "      display: none;\n",
              "      fill: #1967D2;\n",
              "      height: 32px;\n",
              "      padding: 0 0 0 0;\n",
              "      width: 32px;\n",
              "    }\n",
              "\n",
              "    .colab-df-convert:hover {\n",
              "      background-color: #E2EBFA;\n",
              "      box-shadow: 0px 1px 2px rgba(60, 64, 67, 0.3), 0px 1px 3px 1px rgba(60, 64, 67, 0.15);\n",
              "      fill: #174EA6;\n",
              "    }\n",
              "\n",
              "    [theme=dark] .colab-df-convert {\n",
              "      background-color: #3B4455;\n",
              "      fill: #D2E3FC;\n",
              "    }\n",
              "\n",
              "    [theme=dark] .colab-df-convert:hover {\n",
              "      background-color: #434B5C;\n",
              "      box-shadow: 0px 1px 3px 1px rgba(0, 0, 0, 0.15);\n",
              "      filter: drop-shadow(0px 1px 2px rgba(0, 0, 0, 0.3));\n",
              "      fill: #FFFFFF;\n",
              "    }\n",
              "  </style>\n",
              "\n",
              "      <script>\n",
              "        const buttonEl =\n",
              "          document.querySelector('#df-8d60f1a4-916f-44c5-8992-74d212e5ffe4 button.colab-df-convert');\n",
              "        buttonEl.style.display =\n",
              "          google.colab.kernel.accessAllowed ? 'block' : 'none';\n",
              "\n",
              "        async function convertToInteractive(key) {\n",
              "          const element = document.querySelector('#df-8d60f1a4-916f-44c5-8992-74d212e5ffe4');\n",
              "          const dataTable =\n",
              "            await google.colab.kernel.invokeFunction('convertToInteractive',\n",
              "                                                     [key], {});\n",
              "          if (!dataTable) return;\n",
              "\n",
              "          const docLinkHtml = 'Like what you see? Visit the ' +\n",
              "            '<a target=\"_blank\" href=https://colab.research.google.com/notebooks/data_table.ipynb>data table notebook</a>'\n",
              "            + ' to learn more about interactive tables.';\n",
              "          element.innerHTML = '';\n",
              "          dataTable['output_type'] = 'display_data';\n",
              "          await google.colab.output.renderOutput(dataTable, element);\n",
              "          const docLink = document.createElement('div');\n",
              "          docLink.innerHTML = docLinkHtml;\n",
              "          element.appendChild(docLink);\n",
              "        }\n",
              "      </script>\n",
              "    </div>\n",
              "  </div>\n",
              "  "
            ],
            "text/plain": [
              "         No.        Time                     Source        Destination  \\\n",
              "0          1    0.000000  fe80::2584:baa2:5d4d:c86d          ff02::1:2   \n",
              "1          2   32.019548  fe80::2584:baa2:5d4d:c86d          ff02::1:2   \n",
              "2          3  227.921904          PcsCompu_43:73:bc          Broadcast   \n",
              "3          4  227.922218          PcsCompu_fe:ec:1e  PcsCompu_43:73:bc   \n",
              "4          5  227.998806              142.7.230.241          10.0.2.15   \n",
              "...      ...         ...                        ...                ...   \n",
              "66717  17017  266.981299                20.42.65.85          10.0.2.15   \n",
              "66718  17018  268.253266              54.92.160.104          10.0.2.15   \n",
              "66719  17019  268.253370                  10.0.2.15      54.92.160.104   \n",
              "66720  17020  269.384607                  10.0.2.15     18.195.152.201   \n",
              "66721  17021  269.385185             18.195.152.201          10.0.2.15   \n",
              "\n",
              "      Protocol  Length                                               Info  \\\n",
              "0       DHCPv6     152  Solicit XID: 0xd0f8ae CID: 0001000121e8031c080...   \n",
              "1       DHCPv6     152  Solicit XID: 0xd0f8ae CID: 0001000121e8031c080...   \n",
              "2          ARP      60                   Who has 10.0.2.15? Tell 10.0.2.5   \n",
              "3          ARP      42                  10.0.2.15 is at 08:00:27:fe:ec:1e   \n",
              "4          TCP      60            27573  >  80 [SYN] Seq=0 Win=2493 Len=0   \n",
              "...        ...     ...                                                ...   \n",
              "66717      TCP      60  [TCP Keep-Alive ACK] 443  >  49315 [ACK] Seq=6...   \n",
              "66718      TCP      60  11103  >  49298 [FIN, ACK] Seq=6518 Ack=2853 W...   \n",
              "66719      TCP      54  49298  >  11103 [ACK] Seq=2853 Ack=6519 Win=63...   \n",
              "66720      TCP      55  [TCP Keep-Alive] 49288  >  443 [ACK] Seq=2064 ...   \n",
              "66721      TCP      60  [TCP Keep-Alive ACK] 443  >  49288 [ACK] Seq=6...   \n",
              "\n",
              "       Class  \n",
              "0          1  \n",
              "1          1  \n",
              "2          1  \n",
              "3          1  \n",
              "4          1  \n",
              "...      ...  \n",
              "66717      0  \n",
              "66718      0  \n",
              "66719      0  \n",
              "66720      0  \n",
              "66721      0  \n",
              "\n",
              "[66722 rows x 8 columns]"
            ]
          },
          "execution_count": 23,
          "metadata": {},
          "output_type": "execute_result"
        }
      ],
      "source": [
        "val_dataset"
      ]
    },
    {
      "cell_type": "code",
      "execution_count": null,
      "metadata": {
        "colab": {
          "base_uri": "https://localhost:8080/",
          "height": 175
        },
        "id": "kF4EIKJQO071",
        "outputId": "4ccae7ce-9bf2-4913-d69c-8116704208ad"
      },
      "outputs": [
        {
          "data": {
            "text/html": [
              "<style type=\"text/css\">\n",
              "#T_261ee_row0_col0, #T_261ee_row1_col1, #T_261ee_row2_col2, #T_261ee_row3_col3 {\n",
              "  background-color: #081d58;\n",
              "  color: #f1f1f1;\n",
              "}\n",
              "#T_261ee_row0_col1 {\n",
              "  background-color: #2258a5;\n",
              "  color: #f1f1f1;\n",
              "}\n",
              "#T_261ee_row0_col2 {\n",
              "  background-color: #d1edb3;\n",
              "  color: #000000;\n",
              "}\n",
              "#T_261ee_row0_col3 {\n",
              "  background-color: #2070b0;\n",
              "  color: #f1f1f1;\n",
              "}\n",
              "#T_261ee_row1_col0 {\n",
              "  background-color: #2165ab;\n",
              "  color: #f1f1f1;\n",
              "}\n",
              "#T_261ee_row1_col2 {\n",
              "  background-color: #f0f9b8;\n",
              "  color: #000000;\n",
              "}\n",
              "#T_261ee_row1_col3 {\n",
              "  background-color: #22328f;\n",
              "  color: #f1f1f1;\n",
              "}\n",
              "#T_261ee_row2_col0, #T_261ee_row2_col1, #T_261ee_row2_col3, #T_261ee_row3_col2 {\n",
              "  background-color: #ffffd9;\n",
              "  color: #000000;\n",
              "}\n",
              "#T_261ee_row3_col0 {\n",
              "  background-color: #1d91c0;\n",
              "  color: #f1f1f1;\n",
              "}\n",
              "#T_261ee_row3_col1 {\n",
              "  background-color: #253595;\n",
              "  color: #f1f1f1;\n",
              "}\n",
              "</style>\n",
              "<table id=\"T_261ee_\" class=\"dataframe\">\n",
              "  <thead>\n",
              "    <tr>\n",
              "      <th class=\"blank level0\" >&nbsp;</th>\n",
              "      <th class=\"col_heading level0 col0\" >No.</th>\n",
              "      <th class=\"col_heading level0 col1\" >Time</th>\n",
              "      <th class=\"col_heading level0 col2\" >Length</th>\n",
              "      <th class=\"col_heading level0 col3\" >Class</th>\n",
              "    </tr>\n",
              "  </thead>\n",
              "  <tbody>\n",
              "    <tr>\n",
              "      <th id=\"T_261ee_level0_row0\" class=\"row_heading level0 row0\" >No.</th>\n",
              "      <td id=\"T_261ee_row0_col0\" class=\"data row0 col0\" >1.00</td>\n",
              "      <td id=\"T_261ee_row0_col1\" class=\"data row0 col1\" >0.64</td>\n",
              "      <td id=\"T_261ee_row0_col2\" class=\"data row0 col2\" >-0.34</td>\n",
              "      <td id=\"T_261ee_row0_col3\" class=\"data row0 col3\" >0.49</td>\n",
              "    </tr>\n",
              "    <tr>\n",
              "      <th id=\"T_261ee_level0_row1\" class=\"row_heading level0 row1\" >Time</th>\n",
              "      <td id=\"T_261ee_row1_col0\" class=\"data row1 col0\" >0.64</td>\n",
              "      <td id=\"T_261ee_row1_col1\" class=\"data row1 col1\" >1.00</td>\n",
              "      <td id=\"T_261ee_row1_col2\" class=\"data row1 col2\" >-0.54</td>\n",
              "      <td id=\"T_261ee_row1_col3\" class=\"data row1 col3\" >0.80</td>\n",
              "    </tr>\n",
              "    <tr>\n",
              "      <th id=\"T_261ee_level0_row2\" class=\"row_heading level0 row2\" >Length</th>\n",
              "      <td id=\"T_261ee_row2_col0\" class=\"data row2 col0\" >-0.34</td>\n",
              "      <td id=\"T_261ee_row2_col1\" class=\"data row2 col1\" >-0.54</td>\n",
              "      <td id=\"T_261ee_row2_col2\" class=\"data row2 col2\" >1.00</td>\n",
              "      <td id=\"T_261ee_row2_col3\" class=\"data row2 col3\" >-0.72</td>\n",
              "    </tr>\n",
              "    <tr>\n",
              "      <th id=\"T_261ee_level0_row3\" class=\"row_heading level0 row3\" >Class</th>\n",
              "      <td id=\"T_261ee_row3_col0\" class=\"data row3 col0\" >0.49</td>\n",
              "      <td id=\"T_261ee_row3_col1\" class=\"data row3 col1\" >0.80</td>\n",
              "      <td id=\"T_261ee_row3_col2\" class=\"data row3 col2\" >-0.72</td>\n",
              "      <td id=\"T_261ee_row3_col3\" class=\"data row3 col3\" >1.00</td>\n",
              "    </tr>\n",
              "  </tbody>\n",
              "</table>\n"
            ],
            "text/plain": [
              "<pandas.io.formats.style.Styler at 0x7f13bc73f250>"
            ]
          },
          "execution_count": 295,
          "metadata": {},
          "output_type": "execute_result"
        }
      ],
      "source": [
        "corr = val_dataset.corr(\"pearson\")\n",
        "corr.style.background_gradient(cmap='YlGnBu').set_precision(2)"
      ]
    },
    {
      "cell_type": "code",
      "execution_count": null,
      "metadata": {
        "id": "e2PTj7avcK_i"
      },
      "outputs": [],
      "source": [
        "val_dataset.drop('No.', 1, inplace=True) # Removing column number\n",
        "val_dataset.drop('Info', 1, inplace=True) # Removing column info"
      ]
    },
    {
      "cell_type": "code",
      "execution_count": null,
      "metadata": {
        "id": "DyC_-mvMcK_j"
      },
      "outputs": [],
      "source": [
        "val_dataset = val_dataset[val_dataset.Protocol.isin(dict_protocol.keys())] # Removal of outliers\n",
        "\n",
        "one_hot_protocol = one_hot_encode(val_dataset['Protocol'], dict_protocol)"
      ]
    },
    {
      "cell_type": "code",
      "execution_count": null,
      "metadata": {
        "colab": {
          "base_uri": "https://localhost:8080/",
          "height": 424
        },
        "id": "EPrtbXzZcK_j",
        "outputId": "a270c834-cea0-4afc-9585-00a5896c1b96",
        "scrolled": false
      },
      "outputs": [
        {
          "data": {
            "text/html": [
              "\n",
              "  <div id=\"df-e740fb14-4524-4ed6-b899-e9c369bdecfa\">\n",
              "    <div class=\"colab-df-container\">\n",
              "      <div>\n",
              "<style scoped>\n",
              "    .dataframe tbody tr th:only-of-type {\n",
              "        vertical-align: middle;\n",
              "    }\n",
              "\n",
              "    .dataframe tbody tr th {\n",
              "        vertical-align: top;\n",
              "    }\n",
              "\n",
              "    .dataframe thead th {\n",
              "        text-align: right;\n",
              "    }\n",
              "</style>\n",
              "<table border=\"1\" class=\"dataframe\">\n",
              "  <thead>\n",
              "    <tr style=\"text-align: right;\">\n",
              "      <th></th>\n",
              "      <th>Time</th>\n",
              "      <th>Source</th>\n",
              "      <th>Destination</th>\n",
              "      <th>Protocol</th>\n",
              "      <th>Length</th>\n",
              "      <th>Class</th>\n",
              "    </tr>\n",
              "  </thead>\n",
              "  <tbody>\n",
              "    <tr>\n",
              "      <th>0</th>\n",
              "      <td>0.000000</td>\n",
              "      <td>fe80::2584:baa2:5d4d:c86d</td>\n",
              "      <td>ff02::1:2</td>\n",
              "      <td>DHCPv6</td>\n",
              "      <td>152</td>\n",
              "      <td>1</td>\n",
              "    </tr>\n",
              "    <tr>\n",
              "      <th>1</th>\n",
              "      <td>32.019548</td>\n",
              "      <td>fe80::2584:baa2:5d4d:c86d</td>\n",
              "      <td>ff02::1:2</td>\n",
              "      <td>DHCPv6</td>\n",
              "      <td>152</td>\n",
              "      <td>1</td>\n",
              "    </tr>\n",
              "    <tr>\n",
              "      <th>2</th>\n",
              "      <td>227.921904</td>\n",
              "      <td>PcsCompu_43:73:bc</td>\n",
              "      <td>Broadcast</td>\n",
              "      <td>ARP</td>\n",
              "      <td>60</td>\n",
              "      <td>1</td>\n",
              "    </tr>\n",
              "    <tr>\n",
              "      <th>3</th>\n",
              "      <td>227.922218</td>\n",
              "      <td>PcsCompu_fe:ec:1e</td>\n",
              "      <td>PcsCompu_43:73:bc</td>\n",
              "      <td>ARP</td>\n",
              "      <td>42</td>\n",
              "      <td>1</td>\n",
              "    </tr>\n",
              "    <tr>\n",
              "      <th>4</th>\n",
              "      <td>227.998806</td>\n",
              "      <td>142.7.230.241</td>\n",
              "      <td>10.0.2.15</td>\n",
              "      <td>TCP</td>\n",
              "      <td>60</td>\n",
              "      <td>1</td>\n",
              "    </tr>\n",
              "    <tr>\n",
              "      <th>...</th>\n",
              "      <td>...</td>\n",
              "      <td>...</td>\n",
              "      <td>...</td>\n",
              "      <td>...</td>\n",
              "      <td>...</td>\n",
              "      <td>...</td>\n",
              "    </tr>\n",
              "    <tr>\n",
              "      <th>66717</th>\n",
              "      <td>266.981299</td>\n",
              "      <td>20.42.65.85</td>\n",
              "      <td>10.0.2.15</td>\n",
              "      <td>TCP</td>\n",
              "      <td>60</td>\n",
              "      <td>0</td>\n",
              "    </tr>\n",
              "    <tr>\n",
              "      <th>66718</th>\n",
              "      <td>268.253266</td>\n",
              "      <td>54.92.160.104</td>\n",
              "      <td>10.0.2.15</td>\n",
              "      <td>TCP</td>\n",
              "      <td>60</td>\n",
              "      <td>0</td>\n",
              "    </tr>\n",
              "    <tr>\n",
              "      <th>66719</th>\n",
              "      <td>268.253370</td>\n",
              "      <td>10.0.2.15</td>\n",
              "      <td>54.92.160.104</td>\n",
              "      <td>TCP</td>\n",
              "      <td>54</td>\n",
              "      <td>0</td>\n",
              "    </tr>\n",
              "    <tr>\n",
              "      <th>66720</th>\n",
              "      <td>269.384607</td>\n",
              "      <td>10.0.2.15</td>\n",
              "      <td>18.195.152.201</td>\n",
              "      <td>TCP</td>\n",
              "      <td>55</td>\n",
              "      <td>0</td>\n",
              "    </tr>\n",
              "    <tr>\n",
              "      <th>66721</th>\n",
              "      <td>269.385185</td>\n",
              "      <td>18.195.152.201</td>\n",
              "      <td>10.0.2.15</td>\n",
              "      <td>TCP</td>\n",
              "      <td>60</td>\n",
              "      <td>0</td>\n",
              "    </tr>\n",
              "  </tbody>\n",
              "</table>\n",
              "<p>63887 rows × 6 columns</p>\n",
              "</div>\n",
              "      <button class=\"colab-df-convert\" onclick=\"convertToInteractive('df-e740fb14-4524-4ed6-b899-e9c369bdecfa')\"\n",
              "              title=\"Convert this dataframe to an interactive table.\"\n",
              "              style=\"display:none;\">\n",
              "        \n",
              "  <svg xmlns=\"http://www.w3.org/2000/svg\" height=\"24px\"viewBox=\"0 0 24 24\"\n",
              "       width=\"24px\">\n",
              "    <path d=\"M0 0h24v24H0V0z\" fill=\"none\"/>\n",
              "    <path d=\"M18.56 5.44l.94 2.06.94-2.06 2.06-.94-2.06-.94-.94-2.06-.94 2.06-2.06.94zm-11 1L8.5 8.5l.94-2.06 2.06-.94-2.06-.94L8.5 2.5l-.94 2.06-2.06.94zm10 10l.94 2.06.94-2.06 2.06-.94-2.06-.94-.94-2.06-.94 2.06-2.06.94z\"/><path d=\"M17.41 7.96l-1.37-1.37c-.4-.4-.92-.59-1.43-.59-.52 0-1.04.2-1.43.59L10.3 9.45l-7.72 7.72c-.78.78-.78 2.05 0 2.83L4 21.41c.39.39.9.59 1.41.59.51 0 1.02-.2 1.41-.59l7.78-7.78 2.81-2.81c.8-.78.8-2.07 0-2.86zM5.41 20L4 18.59l7.72-7.72 1.47 1.35L5.41 20z\"/>\n",
              "  </svg>\n",
              "      </button>\n",
              "      \n",
              "  <style>\n",
              "    .colab-df-container {\n",
              "      display:flex;\n",
              "      flex-wrap:wrap;\n",
              "      gap: 12px;\n",
              "    }\n",
              "\n",
              "    .colab-df-convert {\n",
              "      background-color: #E8F0FE;\n",
              "      border: none;\n",
              "      border-radius: 50%;\n",
              "      cursor: pointer;\n",
              "      display: none;\n",
              "      fill: #1967D2;\n",
              "      height: 32px;\n",
              "      padding: 0 0 0 0;\n",
              "      width: 32px;\n",
              "    }\n",
              "\n",
              "    .colab-df-convert:hover {\n",
              "      background-color: #E2EBFA;\n",
              "      box-shadow: 0px 1px 2px rgba(60, 64, 67, 0.3), 0px 1px 3px 1px rgba(60, 64, 67, 0.15);\n",
              "      fill: #174EA6;\n",
              "    }\n",
              "\n",
              "    [theme=dark] .colab-df-convert {\n",
              "      background-color: #3B4455;\n",
              "      fill: #D2E3FC;\n",
              "    }\n",
              "\n",
              "    [theme=dark] .colab-df-convert:hover {\n",
              "      background-color: #434B5C;\n",
              "      box-shadow: 0px 1px 3px 1px rgba(0, 0, 0, 0.15);\n",
              "      filter: drop-shadow(0px 1px 2px rgba(0, 0, 0, 0.3));\n",
              "      fill: #FFFFFF;\n",
              "    }\n",
              "  </style>\n",
              "\n",
              "      <script>\n",
              "        const buttonEl =\n",
              "          document.querySelector('#df-e740fb14-4524-4ed6-b899-e9c369bdecfa button.colab-df-convert');\n",
              "        buttonEl.style.display =\n",
              "          google.colab.kernel.accessAllowed ? 'block' : 'none';\n",
              "\n",
              "        async function convertToInteractive(key) {\n",
              "          const element = document.querySelector('#df-e740fb14-4524-4ed6-b899-e9c369bdecfa');\n",
              "          const dataTable =\n",
              "            await google.colab.kernel.invokeFunction('convertToInteractive',\n",
              "                                                     [key], {});\n",
              "          if (!dataTable) return;\n",
              "\n",
              "          const docLinkHtml = 'Like what you see? Visit the ' +\n",
              "            '<a target=\"_blank\" href=https://colab.research.google.com/notebooks/data_table.ipynb>data table notebook</a>'\n",
              "            + ' to learn more about interactive tables.';\n",
              "          element.innerHTML = '';\n",
              "          dataTable['output_type'] = 'display_data';\n",
              "          await google.colab.output.renderOutput(dataTable, element);\n",
              "          const docLink = document.createElement('div');\n",
              "          docLink.innerHTML = docLinkHtml;\n",
              "          element.appendChild(docLink);\n",
              "        }\n",
              "      </script>\n",
              "    </div>\n",
              "  </div>\n",
              "  "
            ],
            "text/plain": [
              "             Time                     Source        Destination Protocol  \\\n",
              "0        0.000000  fe80::2584:baa2:5d4d:c86d          ff02::1:2   DHCPv6   \n",
              "1       32.019548  fe80::2584:baa2:5d4d:c86d          ff02::1:2   DHCPv6   \n",
              "2      227.921904          PcsCompu_43:73:bc          Broadcast      ARP   \n",
              "3      227.922218          PcsCompu_fe:ec:1e  PcsCompu_43:73:bc      ARP   \n",
              "4      227.998806              142.7.230.241          10.0.2.15      TCP   \n",
              "...           ...                        ...                ...      ...   \n",
              "66717  266.981299                20.42.65.85          10.0.2.15      TCP   \n",
              "66718  268.253266              54.92.160.104          10.0.2.15      TCP   \n",
              "66719  268.253370                  10.0.2.15      54.92.160.104      TCP   \n",
              "66720  269.384607                  10.0.2.15     18.195.152.201      TCP   \n",
              "66721  269.385185             18.195.152.201          10.0.2.15      TCP   \n",
              "\n",
              "       Length  Class  \n",
              "0         152      1  \n",
              "1         152      1  \n",
              "2          60      1  \n",
              "3          42      1  \n",
              "4          60      1  \n",
              "...       ...    ...  \n",
              "66717      60      0  \n",
              "66718      60      0  \n",
              "66719      54      0  \n",
              "66720      55      0  \n",
              "66721      60      0  \n",
              "\n",
              "[63887 rows x 6 columns]"
            ]
          },
          "execution_count": 26,
          "metadata": {},
          "output_type": "execute_result"
        }
      ],
      "source": [
        "val_dataset"
      ]
    },
    {
      "cell_type": "code",
      "execution_count": null,
      "metadata": {
        "id": "Dp4k-pQAcK_j"
      },
      "outputs": [],
      "source": [
        "val_dataset = val_dataset.join(pd.DataFrame(one_hot_protocol, columns=dict_protocol.keys()))"
      ]
    },
    {
      "cell_type": "code",
      "execution_count": null,
      "metadata": {
        "id": "HtCj2yUKcK_k"
      },
      "outputs": [],
      "source": [
        "val_dataset.dropna(inplace=True)\n",
        "val_dataset = val_dataset.drop(\"Protocol\", 1)"
      ]
    },
    {
      "cell_type": "code",
      "execution_count": null,
      "metadata": {
        "colab": {
          "base_uri": "https://localhost:8080/",
          "height": 424
        },
        "id": "ezYxKYNmcK_k",
        "outputId": "8a9ec445-3dd7-411c-8ca6-44dd9b9bc7ad",
        "scrolled": false
      },
      "outputs": [
        {
          "data": {
            "text/html": [
              "\n",
              "  <div id=\"df-75cd0623-e34e-47a3-bb60-d680142f51a9\">\n",
              "    <div class=\"colab-df-container\">\n",
              "      <div>\n",
              "<style scoped>\n",
              "    .dataframe tbody tr th:only-of-type {\n",
              "        vertical-align: middle;\n",
              "    }\n",
              "\n",
              "    .dataframe tbody tr th {\n",
              "        vertical-align: top;\n",
              "    }\n",
              "\n",
              "    .dataframe thead th {\n",
              "        text-align: right;\n",
              "    }\n",
              "</style>\n",
              "<table border=\"1\" class=\"dataframe\">\n",
              "  <thead>\n",
              "    <tr style=\"text-align: right;\">\n",
              "      <th></th>\n",
              "      <th>Time</th>\n",
              "      <th>Source</th>\n",
              "      <th>Destination</th>\n",
              "      <th>Length</th>\n",
              "      <th>Class</th>\n",
              "      <th>TCP</th>\n",
              "      <th>ARP</th>\n",
              "      <th>TLSv1.2</th>\n",
              "      <th>DHCPv6</th>\n",
              "      <th>BROWSER</th>\n",
              "      <th>SSH</th>\n",
              "      <th>SSDP</th>\n",
              "      <th>MDNS</th>\n",
              "      <th>HTTP</th>\n",
              "      <th>ICMP</th>\n",
              "      <th>NTP</th>\n",
              "      <th>DNS</th>\n",
              "      <th>SSHv2</th>\n",
              "    </tr>\n",
              "  </thead>\n",
              "  <tbody>\n",
              "    <tr>\n",
              "      <th>0</th>\n",
              "      <td>0.000000</td>\n",
              "      <td>fe80::2584:baa2:5d4d:c86d</td>\n",
              "      <td>ff02::1:2</td>\n",
              "      <td>152</td>\n",
              "      <td>1</td>\n",
              "      <td>0.0</td>\n",
              "      <td>0.0</td>\n",
              "      <td>0.0</td>\n",
              "      <td>1.0</td>\n",
              "      <td>0.0</td>\n",
              "      <td>0.0</td>\n",
              "      <td>0.0</td>\n",
              "      <td>0.0</td>\n",
              "      <td>0.0</td>\n",
              "      <td>0.0</td>\n",
              "      <td>0.0</td>\n",
              "      <td>0.0</td>\n",
              "      <td>0.0</td>\n",
              "    </tr>\n",
              "    <tr>\n",
              "      <th>1</th>\n",
              "      <td>32.019548</td>\n",
              "      <td>fe80::2584:baa2:5d4d:c86d</td>\n",
              "      <td>ff02::1:2</td>\n",
              "      <td>152</td>\n",
              "      <td>1</td>\n",
              "      <td>0.0</td>\n",
              "      <td>0.0</td>\n",
              "      <td>0.0</td>\n",
              "      <td>1.0</td>\n",
              "      <td>0.0</td>\n",
              "      <td>0.0</td>\n",
              "      <td>0.0</td>\n",
              "      <td>0.0</td>\n",
              "      <td>0.0</td>\n",
              "      <td>0.0</td>\n",
              "      <td>0.0</td>\n",
              "      <td>0.0</td>\n",
              "      <td>0.0</td>\n",
              "    </tr>\n",
              "    <tr>\n",
              "      <th>2</th>\n",
              "      <td>227.921904</td>\n",
              "      <td>PcsCompu_43:73:bc</td>\n",
              "      <td>Broadcast</td>\n",
              "      <td>60</td>\n",
              "      <td>1</td>\n",
              "      <td>0.0</td>\n",
              "      <td>1.0</td>\n",
              "      <td>0.0</td>\n",
              "      <td>0.0</td>\n",
              "      <td>0.0</td>\n",
              "      <td>0.0</td>\n",
              "      <td>0.0</td>\n",
              "      <td>0.0</td>\n",
              "      <td>0.0</td>\n",
              "      <td>0.0</td>\n",
              "      <td>0.0</td>\n",
              "      <td>0.0</td>\n",
              "      <td>0.0</td>\n",
              "    </tr>\n",
              "    <tr>\n",
              "      <th>3</th>\n",
              "      <td>227.922218</td>\n",
              "      <td>PcsCompu_fe:ec:1e</td>\n",
              "      <td>PcsCompu_43:73:bc</td>\n",
              "      <td>42</td>\n",
              "      <td>1</td>\n",
              "      <td>0.0</td>\n",
              "      <td>1.0</td>\n",
              "      <td>0.0</td>\n",
              "      <td>0.0</td>\n",
              "      <td>0.0</td>\n",
              "      <td>0.0</td>\n",
              "      <td>0.0</td>\n",
              "      <td>0.0</td>\n",
              "      <td>0.0</td>\n",
              "      <td>0.0</td>\n",
              "      <td>0.0</td>\n",
              "      <td>0.0</td>\n",
              "      <td>0.0</td>\n",
              "    </tr>\n",
              "    <tr>\n",
              "      <th>4</th>\n",
              "      <td>227.998806</td>\n",
              "      <td>142.7.230.241</td>\n",
              "      <td>10.0.2.15</td>\n",
              "      <td>60</td>\n",
              "      <td>1</td>\n",
              "      <td>1.0</td>\n",
              "      <td>0.0</td>\n",
              "      <td>0.0</td>\n",
              "      <td>0.0</td>\n",
              "      <td>0.0</td>\n",
              "      <td>0.0</td>\n",
              "      <td>0.0</td>\n",
              "      <td>0.0</td>\n",
              "      <td>0.0</td>\n",
              "      <td>0.0</td>\n",
              "      <td>0.0</td>\n",
              "      <td>0.0</td>\n",
              "      <td>0.0</td>\n",
              "    </tr>\n",
              "    <tr>\n",
              "      <th>...</th>\n",
              "      <td>...</td>\n",
              "      <td>...</td>\n",
              "      <td>...</td>\n",
              "      <td>...</td>\n",
              "      <td>...</td>\n",
              "      <td>...</td>\n",
              "      <td>...</td>\n",
              "      <td>...</td>\n",
              "      <td>...</td>\n",
              "      <td>...</td>\n",
              "      <td>...</td>\n",
              "      <td>...</td>\n",
              "      <td>...</td>\n",
              "      <td>...</td>\n",
              "      <td>...</td>\n",
              "      <td>...</td>\n",
              "      <td>...</td>\n",
              "      <td>...</td>\n",
              "    </tr>\n",
              "    <tr>\n",
              "      <th>63882</th>\n",
              "      <td>210.223758</td>\n",
              "      <td>10.0.2.15</td>\n",
              "      <td>23.33.27.66</td>\n",
              "      <td>54</td>\n",
              "      <td>0</td>\n",
              "      <td>1.0</td>\n",
              "      <td>0.0</td>\n",
              "      <td>0.0</td>\n",
              "      <td>0.0</td>\n",
              "      <td>0.0</td>\n",
              "      <td>0.0</td>\n",
              "      <td>0.0</td>\n",
              "      <td>0.0</td>\n",
              "      <td>0.0</td>\n",
              "      <td>0.0</td>\n",
              "      <td>0.0</td>\n",
              "      <td>0.0</td>\n",
              "      <td>0.0</td>\n",
              "    </tr>\n",
              "    <tr>\n",
              "      <th>63883</th>\n",
              "      <td>210.229013</td>\n",
              "      <td>10.0.2.15</td>\n",
              "      <td>23.33.27.66</td>\n",
              "      <td>54</td>\n",
              "      <td>0</td>\n",
              "      <td>1.0</td>\n",
              "      <td>0.0</td>\n",
              "      <td>0.0</td>\n",
              "      <td>0.0</td>\n",
              "      <td>0.0</td>\n",
              "      <td>0.0</td>\n",
              "      <td>0.0</td>\n",
              "      <td>0.0</td>\n",
              "      <td>0.0</td>\n",
              "      <td>0.0</td>\n",
              "      <td>0.0</td>\n",
              "      <td>0.0</td>\n",
              "      <td>0.0</td>\n",
              "    </tr>\n",
              "    <tr>\n",
              "      <th>63884</th>\n",
              "      <td>210.239689</td>\n",
              "      <td>23.33.27.66</td>\n",
              "      <td>10.0.2.15</td>\n",
              "      <td>1514</td>\n",
              "      <td>0</td>\n",
              "      <td>1.0</td>\n",
              "      <td>0.0</td>\n",
              "      <td>0.0</td>\n",
              "      <td>0.0</td>\n",
              "      <td>0.0</td>\n",
              "      <td>0.0</td>\n",
              "      <td>0.0</td>\n",
              "      <td>0.0</td>\n",
              "      <td>0.0</td>\n",
              "      <td>0.0</td>\n",
              "      <td>0.0</td>\n",
              "      <td>0.0</td>\n",
              "      <td>0.0</td>\n",
              "    </tr>\n",
              "    <tr>\n",
              "      <th>63885</th>\n",
              "      <td>210.239689</td>\n",
              "      <td>23.33.27.66</td>\n",
              "      <td>10.0.2.15</td>\n",
              "      <td>1514</td>\n",
              "      <td>0</td>\n",
              "      <td>1.0</td>\n",
              "      <td>0.0</td>\n",
              "      <td>0.0</td>\n",
              "      <td>0.0</td>\n",
              "      <td>0.0</td>\n",
              "      <td>0.0</td>\n",
              "      <td>0.0</td>\n",
              "      <td>0.0</td>\n",
              "      <td>0.0</td>\n",
              "      <td>0.0</td>\n",
              "      <td>0.0</td>\n",
              "      <td>0.0</td>\n",
              "      <td>0.0</td>\n",
              "    </tr>\n",
              "    <tr>\n",
              "      <th>63886</th>\n",
              "      <td>210.239689</td>\n",
              "      <td>23.33.27.66</td>\n",
              "      <td>10.0.2.15</td>\n",
              "      <td>1514</td>\n",
              "      <td>0</td>\n",
              "      <td>1.0</td>\n",
              "      <td>0.0</td>\n",
              "      <td>0.0</td>\n",
              "      <td>0.0</td>\n",
              "      <td>0.0</td>\n",
              "      <td>0.0</td>\n",
              "      <td>0.0</td>\n",
              "      <td>0.0</td>\n",
              "      <td>0.0</td>\n",
              "      <td>0.0</td>\n",
              "      <td>0.0</td>\n",
              "      <td>0.0</td>\n",
              "      <td>0.0</td>\n",
              "    </tr>\n",
              "  </tbody>\n",
              "</table>\n",
              "<p>61420 rows × 18 columns</p>\n",
              "</div>\n",
              "      <button class=\"colab-df-convert\" onclick=\"convertToInteractive('df-75cd0623-e34e-47a3-bb60-d680142f51a9')\"\n",
              "              title=\"Convert this dataframe to an interactive table.\"\n",
              "              style=\"display:none;\">\n",
              "        \n",
              "  <svg xmlns=\"http://www.w3.org/2000/svg\" height=\"24px\"viewBox=\"0 0 24 24\"\n",
              "       width=\"24px\">\n",
              "    <path d=\"M0 0h24v24H0V0z\" fill=\"none\"/>\n",
              "    <path d=\"M18.56 5.44l.94 2.06.94-2.06 2.06-.94-2.06-.94-.94-2.06-.94 2.06-2.06.94zm-11 1L8.5 8.5l.94-2.06 2.06-.94-2.06-.94L8.5 2.5l-.94 2.06-2.06.94zm10 10l.94 2.06.94-2.06 2.06-.94-2.06-.94-.94-2.06-.94 2.06-2.06.94z\"/><path d=\"M17.41 7.96l-1.37-1.37c-.4-.4-.92-.59-1.43-.59-.52 0-1.04.2-1.43.59L10.3 9.45l-7.72 7.72c-.78.78-.78 2.05 0 2.83L4 21.41c.39.39.9.59 1.41.59.51 0 1.02-.2 1.41-.59l7.78-7.78 2.81-2.81c.8-.78.8-2.07 0-2.86zM5.41 20L4 18.59l7.72-7.72 1.47 1.35L5.41 20z\"/>\n",
              "  </svg>\n",
              "      </button>\n",
              "      \n",
              "  <style>\n",
              "    .colab-df-container {\n",
              "      display:flex;\n",
              "      flex-wrap:wrap;\n",
              "      gap: 12px;\n",
              "    }\n",
              "\n",
              "    .colab-df-convert {\n",
              "      background-color: #E8F0FE;\n",
              "      border: none;\n",
              "      border-radius: 50%;\n",
              "      cursor: pointer;\n",
              "      display: none;\n",
              "      fill: #1967D2;\n",
              "      height: 32px;\n",
              "      padding: 0 0 0 0;\n",
              "      width: 32px;\n",
              "    }\n",
              "\n",
              "    .colab-df-convert:hover {\n",
              "      background-color: #E2EBFA;\n",
              "      box-shadow: 0px 1px 2px rgba(60, 64, 67, 0.3), 0px 1px 3px 1px rgba(60, 64, 67, 0.15);\n",
              "      fill: #174EA6;\n",
              "    }\n",
              "\n",
              "    [theme=dark] .colab-df-convert {\n",
              "      background-color: #3B4455;\n",
              "      fill: #D2E3FC;\n",
              "    }\n",
              "\n",
              "    [theme=dark] .colab-df-convert:hover {\n",
              "      background-color: #434B5C;\n",
              "      box-shadow: 0px 1px 3px 1px rgba(0, 0, 0, 0.15);\n",
              "      filter: drop-shadow(0px 1px 2px rgba(0, 0, 0, 0.3));\n",
              "      fill: #FFFFFF;\n",
              "    }\n",
              "  </style>\n",
              "\n",
              "      <script>\n",
              "        const buttonEl =\n",
              "          document.querySelector('#df-75cd0623-e34e-47a3-bb60-d680142f51a9 button.colab-df-convert');\n",
              "        buttonEl.style.display =\n",
              "          google.colab.kernel.accessAllowed ? 'block' : 'none';\n",
              "\n",
              "        async function convertToInteractive(key) {\n",
              "          const element = document.querySelector('#df-75cd0623-e34e-47a3-bb60-d680142f51a9');\n",
              "          const dataTable =\n",
              "            await google.colab.kernel.invokeFunction('convertToInteractive',\n",
              "                                                     [key], {});\n",
              "          if (!dataTable) return;\n",
              "\n",
              "          const docLinkHtml = 'Like what you see? Visit the ' +\n",
              "            '<a target=\"_blank\" href=https://colab.research.google.com/notebooks/data_table.ipynb>data table notebook</a>'\n",
              "            + ' to learn more about interactive tables.';\n",
              "          element.innerHTML = '';\n",
              "          dataTable['output_type'] = 'display_data';\n",
              "          await google.colab.output.renderOutput(dataTable, element);\n",
              "          const docLink = document.createElement('div');\n",
              "          docLink.innerHTML = docLinkHtml;\n",
              "          element.appendChild(docLink);\n",
              "        }\n",
              "      </script>\n",
              "    </div>\n",
              "  </div>\n",
              "  "
            ],
            "text/plain": [
              "             Time                     Source        Destination  Length  \\\n",
              "0        0.000000  fe80::2584:baa2:5d4d:c86d          ff02::1:2     152   \n",
              "1       32.019548  fe80::2584:baa2:5d4d:c86d          ff02::1:2     152   \n",
              "2      227.921904          PcsCompu_43:73:bc          Broadcast      60   \n",
              "3      227.922218          PcsCompu_fe:ec:1e  PcsCompu_43:73:bc      42   \n",
              "4      227.998806              142.7.230.241          10.0.2.15      60   \n",
              "...           ...                        ...                ...     ...   \n",
              "63882  210.223758                  10.0.2.15        23.33.27.66      54   \n",
              "63883  210.229013                  10.0.2.15        23.33.27.66      54   \n",
              "63884  210.239689                23.33.27.66          10.0.2.15    1514   \n",
              "63885  210.239689                23.33.27.66          10.0.2.15    1514   \n",
              "63886  210.239689                23.33.27.66          10.0.2.15    1514   \n",
              "\n",
              "       Class  TCP  ARP  TLSv1.2  DHCPv6  BROWSER  SSH  SSDP  MDNS  HTTP  ICMP  \\\n",
              "0          1  0.0  0.0      0.0     1.0      0.0  0.0   0.0   0.0   0.0   0.0   \n",
              "1          1  0.0  0.0      0.0     1.0      0.0  0.0   0.0   0.0   0.0   0.0   \n",
              "2          1  0.0  1.0      0.0     0.0      0.0  0.0   0.0   0.0   0.0   0.0   \n",
              "3          1  0.0  1.0      0.0     0.0      0.0  0.0   0.0   0.0   0.0   0.0   \n",
              "4          1  1.0  0.0      0.0     0.0      0.0  0.0   0.0   0.0   0.0   0.0   \n",
              "...      ...  ...  ...      ...     ...      ...  ...   ...   ...   ...   ...   \n",
              "63882      0  1.0  0.0      0.0     0.0      0.0  0.0   0.0   0.0   0.0   0.0   \n",
              "63883      0  1.0  0.0      0.0     0.0      0.0  0.0   0.0   0.0   0.0   0.0   \n",
              "63884      0  1.0  0.0      0.0     0.0      0.0  0.0   0.0   0.0   0.0   0.0   \n",
              "63885      0  1.0  0.0      0.0     0.0      0.0  0.0   0.0   0.0   0.0   0.0   \n",
              "63886      0  1.0  0.0      0.0     0.0      0.0  0.0   0.0   0.0   0.0   0.0   \n",
              "\n",
              "       NTP  DNS  SSHv2  \n",
              "0      0.0  0.0    0.0  \n",
              "1      0.0  0.0    0.0  \n",
              "2      0.0  0.0    0.0  \n",
              "3      0.0  0.0    0.0  \n",
              "4      0.0  0.0    0.0  \n",
              "...    ...  ...    ...  \n",
              "63882  0.0  0.0    0.0  \n",
              "63883  0.0  0.0    0.0  \n",
              "63884  0.0  0.0    0.0  \n",
              "63885  0.0  0.0    0.0  \n",
              "63886  0.0  0.0    0.0  \n",
              "\n",
              "[61420 rows x 18 columns]"
            ]
          },
          "execution_count": 29,
          "metadata": {},
          "output_type": "execute_result"
        }
      ],
      "source": [
        "val_dataset"
      ]
    },
    {
      "cell_type": "code",
      "execution_count": null,
      "metadata": {
        "colab": {
          "base_uri": "https://localhost:8080/",
          "height": 551
        },
        "id": "1weewu3sOgm9",
        "outputId": "59d331fd-650a-4504-d961-4710be7c5c54"
      },
      "outputs": [
        {
          "data": {
            "text/html": [
              "<style type=\"text/css\">\n",
              "#T_27439_row0_col0, #T_27439_row1_col1, #T_27439_row2_col2, #T_27439_row3_col3, #T_27439_row4_col4, #T_27439_row5_col5, #T_27439_row6_col6, #T_27439_row7_col7, #T_27439_row9_col9, #T_27439_row10_col10, #T_27439_row11_col11, #T_27439_row12_col12, #T_27439_row14_col14 {\n",
              "  background-color: #00441b;\n",
              "  color: #f1f1f1;\n",
              "}\n",
              "#T_27439_row0_col1, #T_27439_row0_col6, #T_27439_row1_col6, #T_27439_row4_col6, #T_27439_row5_col6, #T_27439_row7_col6, #T_27439_row9_col6, #T_27439_row10_col6, #T_27439_row11_col6, #T_27439_row12_col6, #T_27439_row14_col6 {\n",
              "  background-color: #eff9fb;\n",
              "  color: #000000;\n",
              "}\n",
              "#T_27439_row0_col2 {\n",
              "  background-color: #005b25;\n",
              "  color: #f1f1f1;\n",
              "}\n",
              "#T_27439_row0_col3 {\n",
              "  background-color: #2f9a59;\n",
              "  color: #f1f1f1;\n",
              "}\n",
              "#T_27439_row0_col4, #T_27439_row1_col4, #T_27439_row2_col4, #T_27439_row2_col6, #T_27439_row2_col11, #T_27439_row4_col10, #T_27439_row5_col4, #T_27439_row5_col10, #T_27439_row6_col4, #T_27439_row6_col10, #T_27439_row7_col4, #T_27439_row7_col10, #T_27439_row9_col4, #T_27439_row9_col10, #T_27439_row10_col4, #T_27439_row11_col4, #T_27439_row11_col10, #T_27439_row12_col4, #T_27439_row12_col10, #T_27439_row14_col4, #T_27439_row14_col10 {\n",
              "  background-color: #edf8fb;\n",
              "  color: #000000;\n",
              "}\n",
              "#T_27439_row0_col5 {\n",
              "  background-color: #c4e9e1;\n",
              "  color: #000000;\n",
              "}\n",
              "#T_27439_row0_col7, #T_27439_row4_col12, #T_27439_row5_col12, #T_27439_row6_col12, #T_27439_row7_col12, #T_27439_row9_col12, #T_27439_row10_col12, #T_27439_row11_col12, #T_27439_row14_col12 {\n",
              "  background-color: #f4fbfc;\n",
              "  color: #000000;\n",
              "}\n",
              "#T_27439_row0_col8, #T_27439_row0_col13, #T_27439_row0_col15, #T_27439_row1_col8, #T_27439_row1_col13, #T_27439_row1_col15, #T_27439_row2_col8, #T_27439_row2_col13, #T_27439_row2_col15, #T_27439_row3_col8, #T_27439_row3_col13, #T_27439_row3_col15, #T_27439_row4_col8, #T_27439_row4_col13, #T_27439_row4_col15, #T_27439_row5_col8, #T_27439_row5_col13, #T_27439_row5_col15, #T_27439_row6_col8, #T_27439_row6_col13, #T_27439_row6_col15, #T_27439_row7_col8, #T_27439_row7_col13, #T_27439_row7_col15, #T_27439_row8_col0, #T_27439_row8_col1, #T_27439_row8_col2, #T_27439_row8_col3, #T_27439_row8_col4, #T_27439_row8_col5, #T_27439_row8_col6, #T_27439_row8_col7, #T_27439_row8_col8, #T_27439_row8_col9, #T_27439_row8_col10, #T_27439_row8_col11, #T_27439_row8_col12, #T_27439_row8_col13, #T_27439_row8_col14, #T_27439_row8_col15, #T_27439_row9_col8, #T_27439_row9_col13, #T_27439_row9_col15, #T_27439_row10_col8, #T_27439_row10_col13, #T_27439_row10_col15, #T_27439_row11_col8, #T_27439_row11_col13, #T_27439_row11_col15, #T_27439_row12_col8, #T_27439_row12_col13, #T_27439_row12_col15, #T_27439_row13_col0, #T_27439_row13_col1, #T_27439_row13_col2, #T_27439_row13_col3, #T_27439_row13_col4, #T_27439_row13_col5, #T_27439_row13_col6, #T_27439_row13_col7, #T_27439_row13_col8, #T_27439_row13_col9, #T_27439_row13_col10, #T_27439_row13_col11, #T_27439_row13_col12, #T_27439_row13_col13, #T_27439_row13_col14, #T_27439_row13_col15, #T_27439_row14_col8, #T_27439_row14_col13, #T_27439_row14_col15, #T_27439_row15_col0, #T_27439_row15_col1, #T_27439_row15_col2, #T_27439_row15_col3, #T_27439_row15_col4, #T_27439_row15_col5, #T_27439_row15_col6, #T_27439_row15_col7, #T_27439_row15_col8, #T_27439_row15_col9, #T_27439_row15_col10, #T_27439_row15_col11, #T_27439_row15_col12, #T_27439_row15_col13, #T_27439_row15_col14, #T_27439_row15_col15 {\n",
              "  background-color: #000000;\n",
              "  color: #f1f1f1;\n",
              "}\n",
              "#T_27439_row0_col9, #T_27439_row2_col9 {\n",
              "  background-color: #ecf8fa;\n",
              "  color: #000000;\n",
              "}\n",
              "#T_27439_row0_col10 {\n",
              "  background-color: #f0f9fb;\n",
              "  color: #000000;\n",
              "}\n",
              "#T_27439_row0_col11, #T_27439_row4_col9, #T_27439_row6_col9, #T_27439_row7_col9, #T_27439_row10_col9, #T_27439_row11_col9, #T_27439_row12_col9, #T_27439_row14_col9 {\n",
              "  background-color: #e8f6fa;\n",
              "  color: #000000;\n",
              "}\n",
              "#T_27439_row0_col12 {\n",
              "  background-color: #f5fbfc;\n",
              "  color: #000000;\n",
              "}\n",
              "#T_27439_row0_col14 {\n",
              "  background-color: #e3f4f8;\n",
              "  color: #000000;\n",
              "}\n",
              "#T_27439_row1_col0, #T_27439_row1_col2, #T_27439_row2_col1, #T_27439_row3_col4, #T_27439_row3_col5, #T_27439_row3_col6, #T_27439_row3_col7, #T_27439_row3_col9, #T_27439_row3_col10, #T_27439_row3_col11, #T_27439_row3_col12, #T_27439_row3_col14, #T_27439_row5_col3 {\n",
              "  background-color: #f7fcfd;\n",
              "  color: #000000;\n",
              "}\n",
              "#T_27439_row1_col3 {\n",
              "  background-color: #acdfd4;\n",
              "  color: #000000;\n",
              "}\n",
              "#T_27439_row1_col5 {\n",
              "  background-color: #41ae77;\n",
              "  color: #f1f1f1;\n",
              "}\n",
              "#T_27439_row1_col7, #T_27439_row2_col10, #T_27439_row4_col7, #T_27439_row6_col7, #T_27439_row9_col7, #T_27439_row10_col7, #T_27439_row11_col7, #T_27439_row12_col7, #T_27439_row14_col7 {\n",
              "  background-color: #f1fafc;\n",
              "  color: #000000;\n",
              "}\n",
              "#T_27439_row1_col9, #T_27439_row12_col11 {\n",
              "  background-color: #e6f5f9;\n",
              "  color: #000000;\n",
              "}\n",
              "#T_27439_row1_col10, #T_27439_row4_col11, #T_27439_row5_col11, #T_27439_row6_col11, #T_27439_row7_col11, #T_27439_row9_col11, #T_27439_row10_col11, #T_27439_row14_col11 {\n",
              "  background-color: #e7f6f9;\n",
              "  color: #000000;\n",
              "}\n",
              "#T_27439_row1_col11 {\n",
              "  background-color: #dff3f5;\n",
              "  color: #000000;\n",
              "}\n",
              "#T_27439_row1_col12, #T_27439_row2_col7 {\n",
              "  background-color: #f3fafc;\n",
              "  color: #000000;\n",
              "}\n",
              "#T_27439_row1_col14 {\n",
              "  background-color: #bde6de;\n",
              "  color: #000000;\n",
              "}\n",
              "#T_27439_row2_col0 {\n",
              "  background-color: #005c25;\n",
              "  color: #f1f1f1;\n",
              "}\n",
              "#T_27439_row2_col3 {\n",
              "  background-color: #329d5e;\n",
              "  color: #f1f1f1;\n",
              "}\n",
              "#T_27439_row2_col5 {\n",
              "  background-color: #bce6dd;\n",
              "  color: #000000;\n",
              "}\n",
              "#T_27439_row2_col12 {\n",
              "  background-color: #f5fbfd;\n",
              "  color: #000000;\n",
              "}\n",
              "#T_27439_row2_col14 {\n",
              "  background-color: #e4f5f8;\n",
              "  color: #000000;\n",
              "}\n",
              "#T_27439_row3_col0 {\n",
              "  background-color: #3da96f;\n",
              "  color: #f1f1f1;\n",
              "}\n",
              "#T_27439_row3_col1 {\n",
              "  background-color: #caebe5;\n",
              "  color: #000000;\n",
              "}\n",
              "#T_27439_row3_col2 {\n",
              "  background-color: #3ba76c;\n",
              "  color: #f1f1f1;\n",
              "}\n",
              "#T_27439_row4_col0 {\n",
              "  background-color: #94d6c5;\n",
              "  color: #000000;\n",
              "}\n",
              "#T_27439_row4_col1, #T_27439_row6_col1, #T_27439_row9_col3, #T_27439_row12_col2 {\n",
              "  background-color: #87d0bc;\n",
              "  color: #000000;\n",
              "}\n",
              "#T_27439_row4_col2, #T_27439_row7_col1 {\n",
              "  background-color: #85cfbb;\n",
              "  color: #000000;\n",
              "}\n",
              "#T_27439_row4_col3, #T_27439_row10_col3 {\n",
              "  background-color: #7fcdb6;\n",
              "  color: #000000;\n",
              "}\n",
              "#T_27439_row4_col5, #T_27439_row6_col5, #T_27439_row9_col5, #T_27439_row10_col5, #T_27439_row11_col5 {\n",
              "  background-color: #6fc6aa;\n",
              "  color: #000000;\n",
              "}\n",
              "#T_27439_row4_col14, #T_27439_row6_col14, #T_27439_row7_col14, #T_27439_row9_col14, #T_27439_row10_col14, #T_27439_row11_col14 {\n",
              "  background-color: #d3eeeb;\n",
              "  color: #000000;\n",
              "}\n",
              "#T_27439_row5_col0 {\n",
              "  background-color: #e3f4f7;\n",
              "  color: #000000;\n",
              "}\n",
              "#T_27439_row5_col1 {\n",
              "  background-color: #4eb586;\n",
              "  color: #f1f1f1;\n",
              "}\n",
              "#T_27439_row5_col2, #T_27439_row5_col14 {\n",
              "  background-color: #d4efec;\n",
              "  color: #000000;\n",
              "}\n",
              "#T_27439_row5_col7 {\n",
              "  background-color: #f2fafc;\n",
              "  color: #000000;\n",
              "}\n",
              "#T_27439_row5_col9 {\n",
              "  background-color: #e9f7fa;\n",
              "  color: #000000;\n",
              "}\n",
              "#T_27439_row6_col0, #T_27439_row12_col0 {\n",
              "  background-color: #95d6c6;\n",
              "  color: #000000;\n",
              "}\n",
              "#T_27439_row6_col2, #T_27439_row12_col1 {\n",
              "  background-color: #84cfb9;\n",
              "  color: #000000;\n",
              "}\n",
              "#T_27439_row6_col3, #T_27439_row10_col1, #T_27439_row11_col1 {\n",
              "  background-color: #7ccbb4;\n",
              "  color: #000000;\n",
              "}\n",
              "#T_27439_row7_col0, #T_27439_row11_col0 {\n",
              "  background-color: #98d8c9;\n",
              "  color: #000000;\n",
              "}\n",
              "#T_27439_row7_col2 {\n",
              "  background-color: #88d1bd;\n",
              "  color: #000000;\n",
              "}\n",
              "#T_27439_row7_col3 {\n",
              "  background-color: #77c9b0;\n",
              "  color: #000000;\n",
              "}\n",
              "#T_27439_row7_col5, #T_27439_row12_col5 {\n",
              "  background-color: #6dc5a9;\n",
              "  color: #000000;\n",
              "}\n",
              "#T_27439_row9_col0 {\n",
              "  background-color: #9cd9ca;\n",
              "  color: #000000;\n",
              "}\n",
              "#T_27439_row9_col1 {\n",
              "  background-color: #82ceb8;\n",
              "  color: #000000;\n",
              "}\n",
              "#T_27439_row9_col2 {\n",
              "  background-color: #8cd2bf;\n",
              "  color: #000000;\n",
              "}\n",
              "#T_27439_row10_col0 {\n",
              "  background-color: #9ad8ca;\n",
              "  color: #000000;\n",
              "}\n",
              "#T_27439_row10_col2 {\n",
              "  background-color: #8dd3c0;\n",
              "  color: #000000;\n",
              "}\n",
              "#T_27439_row11_col2 {\n",
              "  background-color: #92d5c4;\n",
              "  color: #000000;\n",
              "}\n",
              "#T_27439_row11_col3 {\n",
              "  background-color: #8ad2be;\n",
              "  color: #000000;\n",
              "}\n",
              "#T_27439_row12_col3, #T_27439_row14_col1 {\n",
              "  background-color: #72c7ad;\n",
              "  color: #000000;\n",
              "}\n",
              "#T_27439_row12_col14 {\n",
              "  background-color: #d2eeeb;\n",
              "  color: #000000;\n",
              "}\n",
              "#T_27439_row14_col0 {\n",
              "  background-color: #b0e1d6;\n",
              "  color: #000000;\n",
              "}\n",
              "#T_27439_row14_col2 {\n",
              "  background-color: #a0dbcd;\n",
              "  color: #000000;\n",
              "}\n",
              "#T_27439_row14_col3 {\n",
              "  background-color: #a8ded2;\n",
              "  color: #000000;\n",
              "}\n",
              "#T_27439_row14_col5 {\n",
              "  background-color: #70c6ac;\n",
              "  color: #000000;\n",
              "}\n",
              "</style>\n",
              "<table id=\"T_27439_\" class=\"dataframe\">\n",
              "  <thead>\n",
              "    <tr>\n",
              "      <th class=\"blank level0\" >&nbsp;</th>\n",
              "      <th class=\"col_heading level0 col0\" >Time</th>\n",
              "      <th class=\"col_heading level0 col1\" >Length</th>\n",
              "      <th class=\"col_heading level0 col2\" >Class</th>\n",
              "      <th class=\"col_heading level0 col3\" >TCP</th>\n",
              "      <th class=\"col_heading level0 col4\" >ARP</th>\n",
              "      <th class=\"col_heading level0 col5\" >TLSv1.2</th>\n",
              "      <th class=\"col_heading level0 col6\" >DHCPv6</th>\n",
              "      <th class=\"col_heading level0 col7\" >BROWSER</th>\n",
              "      <th class=\"col_heading level0 col8\" >SSH</th>\n",
              "      <th class=\"col_heading level0 col9\" >SSDP</th>\n",
              "      <th class=\"col_heading level0 col10\" >MDNS</th>\n",
              "      <th class=\"col_heading level0 col11\" >HTTP</th>\n",
              "      <th class=\"col_heading level0 col12\" >ICMP</th>\n",
              "      <th class=\"col_heading level0 col13\" >NTP</th>\n",
              "      <th class=\"col_heading level0 col14\" >DNS</th>\n",
              "      <th class=\"col_heading level0 col15\" >SSHv2</th>\n",
              "    </tr>\n",
              "  </thead>\n",
              "  <tbody>\n",
              "    <tr>\n",
              "      <th id=\"T_27439_level0_row0\" class=\"row_heading level0 row0\" >Time</th>\n",
              "      <td id=\"T_27439_row0_col0\" class=\"data row0 col0\" >1.00</td>\n",
              "      <td id=\"T_27439_row0_col1\" class=\"data row0 col1\" >-0.63</td>\n",
              "      <td id=\"T_27439_row0_col2\" class=\"data row0 col2\" >0.88</td>\n",
              "      <td id=\"T_27439_row0_col3\" class=\"data row0 col3\" >0.42</td>\n",
              "      <td id=\"T_27439_row0_col4\" class=\"data row0 col4\" >0.00</td>\n",
              "      <td id=\"T_27439_row0_col5\" class=\"data row0 col5\" >-0.40</td>\n",
              "      <td id=\"T_27439_row0_col6\" class=\"data row0 col6\" >-0.00</td>\n",
              "      <td id=\"T_27439_row0_col7\" class=\"data row0 col7\" >-0.02</td>\n",
              "      <td id=\"T_27439_row0_col8\" class=\"data row0 col8\" >nan</td>\n",
              "      <td id=\"T_27439_row0_col9\" class=\"data row0 col9\" >-0.03</td>\n",
              "      <td id=\"T_27439_row0_col10\" class=\"data row0 col10\" >-0.02</td>\n",
              "      <td id=\"T_27439_row0_col11\" class=\"data row0 col11\" >-0.02</td>\n",
              "      <td id=\"T_27439_row0_col12\" class=\"data row0 col12\" >-0.00</td>\n",
              "      <td id=\"T_27439_row0_col13\" class=\"data row0 col13\" >nan</td>\n",
              "      <td id=\"T_27439_row0_col14\" class=\"data row0 col14\" >-0.11</td>\n",
              "      <td id=\"T_27439_row0_col15\" class=\"data row0 col15\" >nan</td>\n",
              "    </tr>\n",
              "    <tr>\n",
              "      <th id=\"T_27439_level0_row1\" class=\"row_heading level0 row1\" >Length</th>\n",
              "      <td id=\"T_27439_row1_col0\" class=\"data row1 col0\" >-0.63</td>\n",
              "      <td id=\"T_27439_row1_col1\" class=\"data row1 col1\" >1.00</td>\n",
              "      <td id=\"T_27439_row1_col2\" class=\"data row1 col2\" >-0.73</td>\n",
              "      <td id=\"T_27439_row1_col3\" class=\"data row1 col3\" >-0.29</td>\n",
              "      <td id=\"T_27439_row1_col4\" class=\"data row1 col4\" >-0.01</td>\n",
              "      <td id=\"T_27439_row1_col5\" class=\"data row1 col5\" >0.27</td>\n",
              "      <td id=\"T_27439_row1_col6\" class=\"data row1 col6\" >-0.00</td>\n",
              "      <td id=\"T_27439_row1_col7\" class=\"data row1 col7\" >0.00</td>\n",
              "      <td id=\"T_27439_row1_col8\" class=\"data row1 col8\" >nan</td>\n",
              "      <td id=\"T_27439_row1_col9\" class=\"data row1 col9\" >0.02</td>\n",
              "      <td id=\"T_27439_row1_col10\" class=\"data row1 col10\" >0.04</td>\n",
              "      <td id=\"T_27439_row1_col11\" class=\"data row1 col11\" >0.04</td>\n",
              "      <td id=\"T_27439_row1_col12\" class=\"data row1 col12\" >0.01</td>\n",
              "      <td id=\"T_27439_row1_col13\" class=\"data row1 col13\" >nan</td>\n",
              "      <td id=\"T_27439_row1_col14\" class=\"data row1 col14\" >0.09</td>\n",
              "      <td id=\"T_27439_row1_col15\" class=\"data row1 col15\" >nan</td>\n",
              "    </tr>\n",
              "    <tr>\n",
              "      <th id=\"T_27439_level0_row2\" class=\"row_heading level0 row2\" >Class</th>\n",
              "      <td id=\"T_27439_row2_col0\" class=\"data row2 col0\" >0.88</td>\n",
              "      <td id=\"T_27439_row2_col1\" class=\"data row2 col1\" >-0.73</td>\n",
              "      <td id=\"T_27439_row2_col2\" class=\"data row2 col2\" >1.00</td>\n",
              "      <td id=\"T_27439_row2_col3\" class=\"data row2 col3\" >0.39</td>\n",
              "      <td id=\"T_27439_row2_col4\" class=\"data row2 col4\" >0.00</td>\n",
              "      <td id=\"T_27439_row2_col5\" class=\"data row2 col5\" >-0.37</td>\n",
              "      <td id=\"T_27439_row2_col6\" class=\"data row2 col6\" >0.01</td>\n",
              "      <td id=\"T_27439_row2_col7\" class=\"data row2 col7\" >-0.01</td>\n",
              "      <td id=\"T_27439_row2_col8\" class=\"data row2 col8\" >nan</td>\n",
              "      <td id=\"T_27439_row2_col9\" class=\"data row2 col9\" >-0.02</td>\n",
              "      <td id=\"T_27439_row2_col10\" class=\"data row2 col10\" >-0.03</td>\n",
              "      <td id=\"T_27439_row2_col11\" class=\"data row2 col11\" >-0.05</td>\n",
              "      <td id=\"T_27439_row2_col12\" class=\"data row2 col12\" >-0.01</td>\n",
              "      <td id=\"T_27439_row2_col13\" class=\"data row2 col13\" >nan</td>\n",
              "      <td id=\"T_27439_row2_col14\" class=\"data row2 col14\" >-0.11</td>\n",
              "      <td id=\"T_27439_row2_col15\" class=\"data row2 col15\" >nan</td>\n",
              "    </tr>\n",
              "    <tr>\n",
              "      <th id=\"T_27439_level0_row3\" class=\"row_heading level0 row3\" >TCP</th>\n",
              "      <td id=\"T_27439_row3_col0\" class=\"data row3 col0\" >0.42</td>\n",
              "      <td id=\"T_27439_row3_col1\" class=\"data row3 col1\" >-0.29</td>\n",
              "      <td id=\"T_27439_row3_col2\" class=\"data row3 col2\" >0.39</td>\n",
              "      <td id=\"T_27439_row3_col3\" class=\"data row3 col3\" >1.00</td>\n",
              "      <td id=\"T_27439_row3_col4\" class=\"data row3 col4\" >-0.08</td>\n",
              "      <td id=\"T_27439_row3_col5\" class=\"data row3 col5\" >-0.93</td>\n",
              "      <td id=\"T_27439_row3_col6\" class=\"data row3 col6\" >-0.07</td>\n",
              "      <td id=\"T_27439_row3_col7\" class=\"data row3 col7\" >-0.04</td>\n",
              "      <td id=\"T_27439_row3_col8\" class=\"data row3 col8\" >nan</td>\n",
              "      <td id=\"T_27439_row3_col9\" class=\"data row3 col9\" >-0.12</td>\n",
              "      <td id=\"T_27439_row3_col10\" class=\"data row3 col10\" >-0.08</td>\n",
              "      <td id=\"T_27439_row3_col11\" class=\"data row3 col11\" >-0.13</td>\n",
              "      <td id=\"T_27439_row3_col12\" class=\"data row3 col12\" >-0.02</td>\n",
              "      <td id=\"T_27439_row3_col13\" class=\"data row3 col13\" >nan</td>\n",
              "      <td id=\"T_27439_row3_col14\" class=\"data row3 col14\" >-0.28</td>\n",
              "      <td id=\"T_27439_row3_col15\" class=\"data row3 col15\" >nan</td>\n",
              "    </tr>\n",
              "    <tr>\n",
              "      <th id=\"T_27439_level0_row4\" class=\"row_heading level0 row4\" >ARP</th>\n",
              "      <td id=\"T_27439_row4_col0\" class=\"data row4 col0\" >0.00</td>\n",
              "      <td id=\"T_27439_row4_col1\" class=\"data row4 col1\" >-0.01</td>\n",
              "      <td id=\"T_27439_row4_col2\" class=\"data row4 col2\" >0.00</td>\n",
              "      <td id=\"T_27439_row4_col3\" class=\"data row4 col3\" >-0.08</td>\n",
              "      <td id=\"T_27439_row4_col4\" class=\"data row4 col4\" >1.00</td>\n",
              "      <td id=\"T_27439_row4_col5\" class=\"data row4 col5\" >-0.00</td>\n",
              "      <td id=\"T_27439_row4_col6\" class=\"data row4 col6\" >-0.00</td>\n",
              "      <td id=\"T_27439_row4_col7\" class=\"data row4 col7\" >-0.00</td>\n",
              "      <td id=\"T_27439_row4_col8\" class=\"data row4 col8\" >nan</td>\n",
              "      <td id=\"T_27439_row4_col9\" class=\"data row4 col9\" >-0.00</td>\n",
              "      <td id=\"T_27439_row4_col10\" class=\"data row4 col10\" >-0.00</td>\n",
              "      <td id=\"T_27439_row4_col11\" class=\"data row4 col11\" >-0.00</td>\n",
              "      <td id=\"T_27439_row4_col12\" class=\"data row4 col12\" >-0.00</td>\n",
              "      <td id=\"T_27439_row4_col13\" class=\"data row4 col13\" >nan</td>\n",
              "      <td id=\"T_27439_row4_col14\" class=\"data row4 col14\" >-0.00</td>\n",
              "      <td id=\"T_27439_row4_col15\" class=\"data row4 col15\" >nan</td>\n",
              "    </tr>\n",
              "    <tr>\n",
              "      <th id=\"T_27439_level0_row5\" class=\"row_heading level0 row5\" >TLSv1.2</th>\n",
              "      <td id=\"T_27439_row5_col0\" class=\"data row5 col0\" >-0.40</td>\n",
              "      <td id=\"T_27439_row5_col1\" class=\"data row5 col1\" >0.27</td>\n",
              "      <td id=\"T_27439_row5_col2\" class=\"data row5 col2\" >-0.37</td>\n",
              "      <td id=\"T_27439_row5_col3\" class=\"data row5 col3\" >-0.93</td>\n",
              "      <td id=\"T_27439_row5_col4\" class=\"data row5 col4\" >-0.00</td>\n",
              "      <td id=\"T_27439_row5_col5\" class=\"data row5 col5\" >1.00</td>\n",
              "      <td id=\"T_27439_row5_col6\" class=\"data row5 col6\" >-0.00</td>\n",
              "      <td id=\"T_27439_row5_col7\" class=\"data row5 col7\" >-0.00</td>\n",
              "      <td id=\"T_27439_row5_col8\" class=\"data row5 col8\" >nan</td>\n",
              "      <td id=\"T_27439_row5_col9\" class=\"data row5 col9\" >-0.00</td>\n",
              "      <td id=\"T_27439_row5_col10\" class=\"data row5 col10\" >-0.00</td>\n",
              "      <td id=\"T_27439_row5_col11\" class=\"data row5 col11\" >-0.00</td>\n",
              "      <td id=\"T_27439_row5_col12\" class=\"data row5 col12\" >-0.00</td>\n",
              "      <td id=\"T_27439_row5_col13\" class=\"data row5 col13\" >nan</td>\n",
              "      <td id=\"T_27439_row5_col14\" class=\"data row5 col14\" >-0.01</td>\n",
              "      <td id=\"T_27439_row5_col15\" class=\"data row5 col15\" >nan</td>\n",
              "    </tr>\n",
              "    <tr>\n",
              "      <th id=\"T_27439_level0_row6\" class=\"row_heading level0 row6\" >DHCPv6</th>\n",
              "      <td id=\"T_27439_row6_col0\" class=\"data row6 col0\" >-0.00</td>\n",
              "      <td id=\"T_27439_row6_col1\" class=\"data row6 col1\" >-0.00</td>\n",
              "      <td id=\"T_27439_row6_col2\" class=\"data row6 col2\" >0.01</td>\n",
              "      <td id=\"T_27439_row6_col3\" class=\"data row6 col3\" >-0.07</td>\n",
              "      <td id=\"T_27439_row6_col4\" class=\"data row6 col4\" >-0.00</td>\n",
              "      <td id=\"T_27439_row6_col5\" class=\"data row6 col5\" >-0.00</td>\n",
              "      <td id=\"T_27439_row6_col6\" class=\"data row6 col6\" >1.00</td>\n",
              "      <td id=\"T_27439_row6_col7\" class=\"data row6 col7\" >-0.00</td>\n",
              "      <td id=\"T_27439_row6_col8\" class=\"data row6 col8\" >nan</td>\n",
              "      <td id=\"T_27439_row6_col9\" class=\"data row6 col9\" >-0.00</td>\n",
              "      <td id=\"T_27439_row6_col10\" class=\"data row6 col10\" >-0.00</td>\n",
              "      <td id=\"T_27439_row6_col11\" class=\"data row6 col11\" >-0.00</td>\n",
              "      <td id=\"T_27439_row6_col12\" class=\"data row6 col12\" >-0.00</td>\n",
              "      <td id=\"T_27439_row6_col13\" class=\"data row6 col13\" >nan</td>\n",
              "      <td id=\"T_27439_row6_col14\" class=\"data row6 col14\" >-0.00</td>\n",
              "      <td id=\"T_27439_row6_col15\" class=\"data row6 col15\" >nan</td>\n",
              "    </tr>\n",
              "    <tr>\n",
              "      <th id=\"T_27439_level0_row7\" class=\"row_heading level0 row7\" >BROWSER</th>\n",
              "      <td id=\"T_27439_row7_col0\" class=\"data row7 col0\" >-0.02</td>\n",
              "      <td id=\"T_27439_row7_col1\" class=\"data row7 col1\" >0.00</td>\n",
              "      <td id=\"T_27439_row7_col2\" class=\"data row7 col2\" >-0.01</td>\n",
              "      <td id=\"T_27439_row7_col3\" class=\"data row7 col3\" >-0.04</td>\n",
              "      <td id=\"T_27439_row7_col4\" class=\"data row7 col4\" >-0.00</td>\n",
              "      <td id=\"T_27439_row7_col5\" class=\"data row7 col5\" >-0.00</td>\n",
              "      <td id=\"T_27439_row7_col6\" class=\"data row7 col6\" >-0.00</td>\n",
              "      <td id=\"T_27439_row7_col7\" class=\"data row7 col7\" >1.00</td>\n",
              "      <td id=\"T_27439_row7_col8\" class=\"data row7 col8\" >nan</td>\n",
              "      <td id=\"T_27439_row7_col9\" class=\"data row7 col9\" >-0.00</td>\n",
              "      <td id=\"T_27439_row7_col10\" class=\"data row7 col10\" >-0.00</td>\n",
              "      <td id=\"T_27439_row7_col11\" class=\"data row7 col11\" >-0.00</td>\n",
              "      <td id=\"T_27439_row7_col12\" class=\"data row7 col12\" >-0.00</td>\n",
              "      <td id=\"T_27439_row7_col13\" class=\"data row7 col13\" >nan</td>\n",
              "      <td id=\"T_27439_row7_col14\" class=\"data row7 col14\" >-0.00</td>\n",
              "      <td id=\"T_27439_row7_col15\" class=\"data row7 col15\" >nan</td>\n",
              "    </tr>\n",
              "    <tr>\n",
              "      <th id=\"T_27439_level0_row8\" class=\"row_heading level0 row8\" >SSH</th>\n",
              "      <td id=\"T_27439_row8_col0\" class=\"data row8 col0\" >nan</td>\n",
              "      <td id=\"T_27439_row8_col1\" class=\"data row8 col1\" >nan</td>\n",
              "      <td id=\"T_27439_row8_col2\" class=\"data row8 col2\" >nan</td>\n",
              "      <td id=\"T_27439_row8_col3\" class=\"data row8 col3\" >nan</td>\n",
              "      <td id=\"T_27439_row8_col4\" class=\"data row8 col4\" >nan</td>\n",
              "      <td id=\"T_27439_row8_col5\" class=\"data row8 col5\" >nan</td>\n",
              "      <td id=\"T_27439_row8_col6\" class=\"data row8 col6\" >nan</td>\n",
              "      <td id=\"T_27439_row8_col7\" class=\"data row8 col7\" >nan</td>\n",
              "      <td id=\"T_27439_row8_col8\" class=\"data row8 col8\" >nan</td>\n",
              "      <td id=\"T_27439_row8_col9\" class=\"data row8 col9\" >nan</td>\n",
              "      <td id=\"T_27439_row8_col10\" class=\"data row8 col10\" >nan</td>\n",
              "      <td id=\"T_27439_row8_col11\" class=\"data row8 col11\" >nan</td>\n",
              "      <td id=\"T_27439_row8_col12\" class=\"data row8 col12\" >nan</td>\n",
              "      <td id=\"T_27439_row8_col13\" class=\"data row8 col13\" >nan</td>\n",
              "      <td id=\"T_27439_row8_col14\" class=\"data row8 col14\" >nan</td>\n",
              "      <td id=\"T_27439_row8_col15\" class=\"data row8 col15\" >nan</td>\n",
              "    </tr>\n",
              "    <tr>\n",
              "      <th id=\"T_27439_level0_row9\" class=\"row_heading level0 row9\" >SSDP</th>\n",
              "      <td id=\"T_27439_row9_col0\" class=\"data row9 col0\" >-0.03</td>\n",
              "      <td id=\"T_27439_row9_col1\" class=\"data row9 col1\" >0.02</td>\n",
              "      <td id=\"T_27439_row9_col2\" class=\"data row9 col2\" >-0.02</td>\n",
              "      <td id=\"T_27439_row9_col3\" class=\"data row9 col3\" >-0.12</td>\n",
              "      <td id=\"T_27439_row9_col4\" class=\"data row9 col4\" >-0.00</td>\n",
              "      <td id=\"T_27439_row9_col5\" class=\"data row9 col5\" >-0.00</td>\n",
              "      <td id=\"T_27439_row9_col6\" class=\"data row9 col6\" >-0.00</td>\n",
              "      <td id=\"T_27439_row9_col7\" class=\"data row9 col7\" >-0.00</td>\n",
              "      <td id=\"T_27439_row9_col8\" class=\"data row9 col8\" >nan</td>\n",
              "      <td id=\"T_27439_row9_col9\" class=\"data row9 col9\" >1.00</td>\n",
              "      <td id=\"T_27439_row9_col10\" class=\"data row9 col10\" >-0.00</td>\n",
              "      <td id=\"T_27439_row9_col11\" class=\"data row9 col11\" >-0.00</td>\n",
              "      <td id=\"T_27439_row9_col12\" class=\"data row9 col12\" >-0.00</td>\n",
              "      <td id=\"T_27439_row9_col13\" class=\"data row9 col13\" >nan</td>\n",
              "      <td id=\"T_27439_row9_col14\" class=\"data row9 col14\" >-0.00</td>\n",
              "      <td id=\"T_27439_row9_col15\" class=\"data row9 col15\" >nan</td>\n",
              "    </tr>\n",
              "    <tr>\n",
              "      <th id=\"T_27439_level0_row10\" class=\"row_heading level0 row10\" >MDNS</th>\n",
              "      <td id=\"T_27439_row10_col0\" class=\"data row10 col0\" >-0.02</td>\n",
              "      <td id=\"T_27439_row10_col1\" class=\"data row10 col1\" >0.04</td>\n",
              "      <td id=\"T_27439_row10_col2\" class=\"data row10 col2\" >-0.03</td>\n",
              "      <td id=\"T_27439_row10_col3\" class=\"data row10 col3\" >-0.08</td>\n",
              "      <td id=\"T_27439_row10_col4\" class=\"data row10 col4\" >-0.00</td>\n",
              "      <td id=\"T_27439_row10_col5\" class=\"data row10 col5\" >-0.00</td>\n",
              "      <td id=\"T_27439_row10_col6\" class=\"data row10 col6\" >-0.00</td>\n",
              "      <td id=\"T_27439_row10_col7\" class=\"data row10 col7\" >-0.00</td>\n",
              "      <td id=\"T_27439_row10_col8\" class=\"data row10 col8\" >nan</td>\n",
              "      <td id=\"T_27439_row10_col9\" class=\"data row10 col9\" >-0.00</td>\n",
              "      <td id=\"T_27439_row10_col10\" class=\"data row10 col10\" >1.00</td>\n",
              "      <td id=\"T_27439_row10_col11\" class=\"data row10 col11\" >-0.00</td>\n",
              "      <td id=\"T_27439_row10_col12\" class=\"data row10 col12\" >-0.00</td>\n",
              "      <td id=\"T_27439_row10_col13\" class=\"data row10 col13\" >nan</td>\n",
              "      <td id=\"T_27439_row10_col14\" class=\"data row10 col14\" >-0.00</td>\n",
              "      <td id=\"T_27439_row10_col15\" class=\"data row10 col15\" >nan</td>\n",
              "    </tr>\n",
              "    <tr>\n",
              "      <th id=\"T_27439_level0_row11\" class=\"row_heading level0 row11\" >HTTP</th>\n",
              "      <td id=\"T_27439_row11_col0\" class=\"data row11 col0\" >-0.02</td>\n",
              "      <td id=\"T_27439_row11_col1\" class=\"data row11 col1\" >0.04</td>\n",
              "      <td id=\"T_27439_row11_col2\" class=\"data row11 col2\" >-0.05</td>\n",
              "      <td id=\"T_27439_row11_col3\" class=\"data row11 col3\" >-0.13</td>\n",
              "      <td id=\"T_27439_row11_col4\" class=\"data row11 col4\" >-0.00</td>\n",
              "      <td id=\"T_27439_row11_col5\" class=\"data row11 col5\" >-0.00</td>\n",
              "      <td id=\"T_27439_row11_col6\" class=\"data row11 col6\" >-0.00</td>\n",
              "      <td id=\"T_27439_row11_col7\" class=\"data row11 col7\" >-0.00</td>\n",
              "      <td id=\"T_27439_row11_col8\" class=\"data row11 col8\" >nan</td>\n",
              "      <td id=\"T_27439_row11_col9\" class=\"data row11 col9\" >-0.00</td>\n",
              "      <td id=\"T_27439_row11_col10\" class=\"data row11 col10\" >-0.00</td>\n",
              "      <td id=\"T_27439_row11_col11\" class=\"data row11 col11\" >1.00</td>\n",
              "      <td id=\"T_27439_row11_col12\" class=\"data row11 col12\" >-0.00</td>\n",
              "      <td id=\"T_27439_row11_col13\" class=\"data row11 col13\" >nan</td>\n",
              "      <td id=\"T_27439_row11_col14\" class=\"data row11 col14\" >-0.00</td>\n",
              "      <td id=\"T_27439_row11_col15\" class=\"data row11 col15\" >nan</td>\n",
              "    </tr>\n",
              "    <tr>\n",
              "      <th id=\"T_27439_level0_row12\" class=\"row_heading level0 row12\" >ICMP</th>\n",
              "      <td id=\"T_27439_row12_col0\" class=\"data row12 col0\" >-0.00</td>\n",
              "      <td id=\"T_27439_row12_col1\" class=\"data row12 col1\" >0.01</td>\n",
              "      <td id=\"T_27439_row12_col2\" class=\"data row12 col2\" >-0.01</td>\n",
              "      <td id=\"T_27439_row12_col3\" class=\"data row12 col3\" >-0.02</td>\n",
              "      <td id=\"T_27439_row12_col4\" class=\"data row12 col4\" >-0.00</td>\n",
              "      <td id=\"T_27439_row12_col5\" class=\"data row12 col5\" >-0.00</td>\n",
              "      <td id=\"T_27439_row12_col6\" class=\"data row12 col6\" >-0.00</td>\n",
              "      <td id=\"T_27439_row12_col7\" class=\"data row12 col7\" >-0.00</td>\n",
              "      <td id=\"T_27439_row12_col8\" class=\"data row12 col8\" >nan</td>\n",
              "      <td id=\"T_27439_row12_col9\" class=\"data row12 col9\" >-0.00</td>\n",
              "      <td id=\"T_27439_row12_col10\" class=\"data row12 col10\" >-0.00</td>\n",
              "      <td id=\"T_27439_row12_col11\" class=\"data row12 col11\" >-0.00</td>\n",
              "      <td id=\"T_27439_row12_col12\" class=\"data row12 col12\" >1.00</td>\n",
              "      <td id=\"T_27439_row12_col13\" class=\"data row12 col13\" >nan</td>\n",
              "      <td id=\"T_27439_row12_col14\" class=\"data row12 col14\" >-0.00</td>\n",
              "      <td id=\"T_27439_row12_col15\" class=\"data row12 col15\" >nan</td>\n",
              "    </tr>\n",
              "    <tr>\n",
              "      <th id=\"T_27439_level0_row13\" class=\"row_heading level0 row13\" >NTP</th>\n",
              "      <td id=\"T_27439_row13_col0\" class=\"data row13 col0\" >nan</td>\n",
              "      <td id=\"T_27439_row13_col1\" class=\"data row13 col1\" >nan</td>\n",
              "      <td id=\"T_27439_row13_col2\" class=\"data row13 col2\" >nan</td>\n",
              "      <td id=\"T_27439_row13_col3\" class=\"data row13 col3\" >nan</td>\n",
              "      <td id=\"T_27439_row13_col4\" class=\"data row13 col4\" >nan</td>\n",
              "      <td id=\"T_27439_row13_col5\" class=\"data row13 col5\" >nan</td>\n",
              "      <td id=\"T_27439_row13_col6\" class=\"data row13 col6\" >nan</td>\n",
              "      <td id=\"T_27439_row13_col7\" class=\"data row13 col7\" >nan</td>\n",
              "      <td id=\"T_27439_row13_col8\" class=\"data row13 col8\" >nan</td>\n",
              "      <td id=\"T_27439_row13_col9\" class=\"data row13 col9\" >nan</td>\n",
              "      <td id=\"T_27439_row13_col10\" class=\"data row13 col10\" >nan</td>\n",
              "      <td id=\"T_27439_row13_col11\" class=\"data row13 col11\" >nan</td>\n",
              "      <td id=\"T_27439_row13_col12\" class=\"data row13 col12\" >nan</td>\n",
              "      <td id=\"T_27439_row13_col13\" class=\"data row13 col13\" >nan</td>\n",
              "      <td id=\"T_27439_row13_col14\" class=\"data row13 col14\" >nan</td>\n",
              "      <td id=\"T_27439_row13_col15\" class=\"data row13 col15\" >nan</td>\n",
              "    </tr>\n",
              "    <tr>\n",
              "      <th id=\"T_27439_level0_row14\" class=\"row_heading level0 row14\" >DNS</th>\n",
              "      <td id=\"T_27439_row14_col0\" class=\"data row14 col0\" >-0.11</td>\n",
              "      <td id=\"T_27439_row14_col1\" class=\"data row14 col1\" >0.09</td>\n",
              "      <td id=\"T_27439_row14_col2\" class=\"data row14 col2\" >-0.11</td>\n",
              "      <td id=\"T_27439_row14_col3\" class=\"data row14 col3\" >-0.28</td>\n",
              "      <td id=\"T_27439_row14_col4\" class=\"data row14 col4\" >-0.00</td>\n",
              "      <td id=\"T_27439_row14_col5\" class=\"data row14 col5\" >-0.01</td>\n",
              "      <td id=\"T_27439_row14_col6\" class=\"data row14 col6\" >-0.00</td>\n",
              "      <td id=\"T_27439_row14_col7\" class=\"data row14 col7\" >-0.00</td>\n",
              "      <td id=\"T_27439_row14_col8\" class=\"data row14 col8\" >nan</td>\n",
              "      <td id=\"T_27439_row14_col9\" class=\"data row14 col9\" >-0.00</td>\n",
              "      <td id=\"T_27439_row14_col10\" class=\"data row14 col10\" >-0.00</td>\n",
              "      <td id=\"T_27439_row14_col11\" class=\"data row14 col11\" >-0.00</td>\n",
              "      <td id=\"T_27439_row14_col12\" class=\"data row14 col12\" >-0.00</td>\n",
              "      <td id=\"T_27439_row14_col13\" class=\"data row14 col13\" >nan</td>\n",
              "      <td id=\"T_27439_row14_col14\" class=\"data row14 col14\" >1.00</td>\n",
              "      <td id=\"T_27439_row14_col15\" class=\"data row14 col15\" >nan</td>\n",
              "    </tr>\n",
              "    <tr>\n",
              "      <th id=\"T_27439_level0_row15\" class=\"row_heading level0 row15\" >SSHv2</th>\n",
              "      <td id=\"T_27439_row15_col0\" class=\"data row15 col0\" >nan</td>\n",
              "      <td id=\"T_27439_row15_col1\" class=\"data row15 col1\" >nan</td>\n",
              "      <td id=\"T_27439_row15_col2\" class=\"data row15 col2\" >nan</td>\n",
              "      <td id=\"T_27439_row15_col3\" class=\"data row15 col3\" >nan</td>\n",
              "      <td id=\"T_27439_row15_col4\" class=\"data row15 col4\" >nan</td>\n",
              "      <td id=\"T_27439_row15_col5\" class=\"data row15 col5\" >nan</td>\n",
              "      <td id=\"T_27439_row15_col6\" class=\"data row15 col6\" >nan</td>\n",
              "      <td id=\"T_27439_row15_col7\" class=\"data row15 col7\" >nan</td>\n",
              "      <td id=\"T_27439_row15_col8\" class=\"data row15 col8\" >nan</td>\n",
              "      <td id=\"T_27439_row15_col9\" class=\"data row15 col9\" >nan</td>\n",
              "      <td id=\"T_27439_row15_col10\" class=\"data row15 col10\" >nan</td>\n",
              "      <td id=\"T_27439_row15_col11\" class=\"data row15 col11\" >nan</td>\n",
              "      <td id=\"T_27439_row15_col12\" class=\"data row15 col12\" >nan</td>\n",
              "      <td id=\"T_27439_row15_col13\" class=\"data row15 col13\" >nan</td>\n",
              "      <td id=\"T_27439_row15_col14\" class=\"data row15 col14\" >nan</td>\n",
              "      <td id=\"T_27439_row15_col15\" class=\"data row15 col15\" >nan</td>\n",
              "    </tr>\n",
              "  </tbody>\n",
              "</table>\n"
            ],
            "text/plain": [
              "<pandas.io.formats.style.Styler at 0x7f13bdda3820>"
            ]
          },
          "execution_count": 302,
          "metadata": {},
          "output_type": "execute_result"
        }
      ],
      "source": [
        "corr = val_dataset.corr(\"pearson\")\n",
        "corr.style.background_gradient(cmap='BuGn').set_precision(2)"
      ]
    },
    {
      "cell_type": "markdown",
      "metadata": {
        "id": "h_fEU79rcK_k"
      },
      "source": [
        "## 1 - First Models"
      ]
    },
    {
      "cell_type": "markdown",
      "metadata": {
        "id": "NWk-dKnscK_l"
      },
      "source": [
        "The columns Source and Destination are for the moment hard to use. Indeed, if we just one-hot encode them, there will be a huge overfitting as the DDoS dataset has an unique source IP and same for destination IP."
      ]
    },
    {
      "cell_type": "code",
      "execution_count": null,
      "metadata": {
        "id": "u3RX7H6wcK_l"
      },
      "outputs": [],
      "source": [
        "final = dataset.drop(['Source', 'Destination'], 1).copy()"
      ]
    },
    {
      "cell_type": "code",
      "execution_count": null,
      "metadata": {
        "id": "ygUnhp24cK_l"
      },
      "outputs": [],
      "source": [
        "col_order = list(final.columns.values)"
      ]
    },
    {
      "cell_type": "code",
      "execution_count": null,
      "metadata": {
        "id": "YXcGKjnMcK_l"
      },
      "outputs": [],
      "source": [
        "final = final[col_order]"
      ]
    },
    {
      "cell_type": "code",
      "execution_count": null,
      "metadata": {
        "id": "E80xekrMcK_m"
      },
      "outputs": [],
      "source": [
        "val_final = val_dataset.drop(['Source', 'Destination'], 1).copy()"
      ]
    },
    {
      "cell_type": "code",
      "execution_count": null,
      "metadata": {
        "id": "lzHNVfnOcK_m"
      },
      "outputs": [],
      "source": [
        "val_final = val_final[col_order]"
      ]
    },
    {
      "cell_type": "markdown",
      "metadata": {
        "id": "-BMPrf8ScK_m"
      },
      "source": [
        "For this first model, we will not use the IP. We will introduce them when we will use a sliding-window based model."
      ]
    },
    {
      "cell_type": "code",
      "execution_count": null,
      "metadata": {
        "colab": {
          "base_uri": "https://localhost:8080/",
          "height": 424
        },
        "id": "QwQkFKAZcK_m",
        "outputId": "1fd9368f-22a6-4642-b38a-745527b784c6",
        "scrolled": true
      },
      "outputs": [
        {
          "data": {
            "text/html": [
              "\n",
              "  <div id=\"df-b8802bed-1ea2-45c6-aaec-82ab6432e1c9\">\n",
              "    <div class=\"colab-df-container\">\n",
              "      <div>\n",
              "<style scoped>\n",
              "    .dataframe tbody tr th:only-of-type {\n",
              "        vertical-align: middle;\n",
              "    }\n",
              "\n",
              "    .dataframe tbody tr th {\n",
              "        vertical-align: top;\n",
              "    }\n",
              "\n",
              "    .dataframe thead th {\n",
              "        text-align: right;\n",
              "    }\n",
              "</style>\n",
              "<table border=\"1\" class=\"dataframe\">\n",
              "  <thead>\n",
              "    <tr style=\"text-align: right;\">\n",
              "      <th></th>\n",
              "      <th>Time</th>\n",
              "      <th>Length</th>\n",
              "      <th>Class</th>\n",
              "      <th>TCP</th>\n",
              "      <th>ARP</th>\n",
              "      <th>TLSv1.2</th>\n",
              "      <th>DHCPv6</th>\n",
              "      <th>BROWSER</th>\n",
              "      <th>SSH</th>\n",
              "      <th>SSDP</th>\n",
              "      <th>MDNS</th>\n",
              "      <th>HTTP</th>\n",
              "      <th>ICMP</th>\n",
              "      <th>NTP</th>\n",
              "      <th>DNS</th>\n",
              "      <th>SSHv2</th>\n",
              "    </tr>\n",
              "  </thead>\n",
              "  <tbody>\n",
              "    <tr>\n",
              "      <th>0</th>\n",
              "      <td>0.000000</td>\n",
              "      <td>54</td>\n",
              "      <td>1</td>\n",
              "      <td>1.0</td>\n",
              "      <td>0.0</td>\n",
              "      <td>0.0</td>\n",
              "      <td>0.0</td>\n",
              "      <td>0.0</td>\n",
              "      <td>0.0</td>\n",
              "      <td>0.0</td>\n",
              "      <td>0.0</td>\n",
              "      <td>0.0</td>\n",
              "      <td>0.0</td>\n",
              "      <td>0.0</td>\n",
              "      <td>0.0</td>\n",
              "      <td>0.0</td>\n",
              "    </tr>\n",
              "    <tr>\n",
              "      <th>1</th>\n",
              "      <td>0.002624</td>\n",
              "      <td>60</td>\n",
              "      <td>1</td>\n",
              "      <td>1.0</td>\n",
              "      <td>0.0</td>\n",
              "      <td>0.0</td>\n",
              "      <td>0.0</td>\n",
              "      <td>0.0</td>\n",
              "      <td>0.0</td>\n",
              "      <td>0.0</td>\n",
              "      <td>0.0</td>\n",
              "      <td>0.0</td>\n",
              "      <td>0.0</td>\n",
              "      <td>0.0</td>\n",
              "      <td>0.0</td>\n",
              "      <td>0.0</td>\n",
              "    </tr>\n",
              "    <tr>\n",
              "      <th>2</th>\n",
              "      <td>0.204789</td>\n",
              "      <td>60</td>\n",
              "      <td>1</td>\n",
              "      <td>1.0</td>\n",
              "      <td>0.0</td>\n",
              "      <td>0.0</td>\n",
              "      <td>0.0</td>\n",
              "      <td>0.0</td>\n",
              "      <td>0.0</td>\n",
              "      <td>0.0</td>\n",
              "      <td>0.0</td>\n",
              "      <td>0.0</td>\n",
              "      <td>0.0</td>\n",
              "      <td>0.0</td>\n",
              "      <td>0.0</td>\n",
              "      <td>0.0</td>\n",
              "    </tr>\n",
              "    <tr>\n",
              "      <th>3</th>\n",
              "      <td>0.204888</td>\n",
              "      <td>54</td>\n",
              "      <td>1</td>\n",
              "      <td>1.0</td>\n",
              "      <td>0.0</td>\n",
              "      <td>0.0</td>\n",
              "      <td>0.0</td>\n",
              "      <td>0.0</td>\n",
              "      <td>0.0</td>\n",
              "      <td>0.0</td>\n",
              "      <td>0.0</td>\n",
              "      <td>0.0</td>\n",
              "      <td>0.0</td>\n",
              "      <td>0.0</td>\n",
              "      <td>0.0</td>\n",
              "      <td>0.0</td>\n",
              "    </tr>\n",
              "    <tr>\n",
              "      <th>4</th>\n",
              "      <td>22.343940</td>\n",
              "      <td>60</td>\n",
              "      <td>1</td>\n",
              "      <td>0.0</td>\n",
              "      <td>1.0</td>\n",
              "      <td>0.0</td>\n",
              "      <td>0.0</td>\n",
              "      <td>0.0</td>\n",
              "      <td>0.0</td>\n",
              "      <td>0.0</td>\n",
              "      <td>0.0</td>\n",
              "      <td>0.0</td>\n",
              "      <td>0.0</td>\n",
              "      <td>0.0</td>\n",
              "      <td>0.0</td>\n",
              "      <td>0.0</td>\n",
              "    </tr>\n",
              "    <tr>\n",
              "      <th>...</th>\n",
              "      <td>...</td>\n",
              "      <td>...</td>\n",
              "      <td>...</td>\n",
              "      <td>...</td>\n",
              "      <td>...</td>\n",
              "      <td>...</td>\n",
              "      <td>...</td>\n",
              "      <td>...</td>\n",
              "      <td>...</td>\n",
              "      <td>...</td>\n",
              "      <td>...</td>\n",
              "      <td>...</td>\n",
              "      <td>...</td>\n",
              "      <td>...</td>\n",
              "      <td>...</td>\n",
              "      <td>...</td>\n",
              "    </tr>\n",
              "    <tr>\n",
              "      <th>186820</th>\n",
              "      <td>860.774820</td>\n",
              "      <td>74</td>\n",
              "      <td>0</td>\n",
              "      <td>1.0</td>\n",
              "      <td>0.0</td>\n",
              "      <td>0.0</td>\n",
              "      <td>0.0</td>\n",
              "      <td>0.0</td>\n",
              "      <td>0.0</td>\n",
              "      <td>0.0</td>\n",
              "      <td>0.0</td>\n",
              "      <td>0.0</td>\n",
              "      <td>0.0</td>\n",
              "      <td>0.0</td>\n",
              "      <td>0.0</td>\n",
              "      <td>0.0</td>\n",
              "    </tr>\n",
              "    <tr>\n",
              "      <th>186821</th>\n",
              "      <td>860.775115</td>\n",
              "      <td>66</td>\n",
              "      <td>0</td>\n",
              "      <td>1.0</td>\n",
              "      <td>0.0</td>\n",
              "      <td>0.0</td>\n",
              "      <td>0.0</td>\n",
              "      <td>0.0</td>\n",
              "      <td>0.0</td>\n",
              "      <td>0.0</td>\n",
              "      <td>0.0</td>\n",
              "      <td>0.0</td>\n",
              "      <td>0.0</td>\n",
              "      <td>0.0</td>\n",
              "      <td>0.0</td>\n",
              "      <td>0.0</td>\n",
              "    </tr>\n",
              "    <tr>\n",
              "      <th>186822</th>\n",
              "      <td>860.775241</td>\n",
              "      <td>256</td>\n",
              "      <td>0</td>\n",
              "      <td>0.0</td>\n",
              "      <td>0.0</td>\n",
              "      <td>0.0</td>\n",
              "      <td>0.0</td>\n",
              "      <td>0.0</td>\n",
              "      <td>0.0</td>\n",
              "      <td>0.0</td>\n",
              "      <td>0.0</td>\n",
              "      <td>1.0</td>\n",
              "      <td>0.0</td>\n",
              "      <td>0.0</td>\n",
              "      <td>0.0</td>\n",
              "      <td>0.0</td>\n",
              "    </tr>\n",
              "    <tr>\n",
              "      <th>186823</th>\n",
              "      <td>860.775314</td>\n",
              "      <td>66</td>\n",
              "      <td>0</td>\n",
              "      <td>1.0</td>\n",
              "      <td>0.0</td>\n",
              "      <td>0.0</td>\n",
              "      <td>0.0</td>\n",
              "      <td>0.0</td>\n",
              "      <td>0.0</td>\n",
              "      <td>0.0</td>\n",
              "      <td>0.0</td>\n",
              "      <td>0.0</td>\n",
              "      <td>0.0</td>\n",
              "      <td>0.0</td>\n",
              "      <td>0.0</td>\n",
              "      <td>0.0</td>\n",
              "    </tr>\n",
              "    <tr>\n",
              "      <th>186824</th>\n",
              "      <td>860.776418</td>\n",
              "      <td>7306</td>\n",
              "      <td>0</td>\n",
              "      <td>1.0</td>\n",
              "      <td>0.0</td>\n",
              "      <td>0.0</td>\n",
              "      <td>0.0</td>\n",
              "      <td>0.0</td>\n",
              "      <td>0.0</td>\n",
              "      <td>0.0</td>\n",
              "      <td>0.0</td>\n",
              "      <td>0.0</td>\n",
              "      <td>0.0</td>\n",
              "      <td>0.0</td>\n",
              "      <td>0.0</td>\n",
              "      <td>0.0</td>\n",
              "    </tr>\n",
              "  </tbody>\n",
              "</table>\n",
              "<p>186825 rows × 16 columns</p>\n",
              "</div>\n",
              "      <button class=\"colab-df-convert\" onclick=\"convertToInteractive('df-b8802bed-1ea2-45c6-aaec-82ab6432e1c9')\"\n",
              "              title=\"Convert this dataframe to an interactive table.\"\n",
              "              style=\"display:none;\">\n",
              "        \n",
              "  <svg xmlns=\"http://www.w3.org/2000/svg\" height=\"24px\"viewBox=\"0 0 24 24\"\n",
              "       width=\"24px\">\n",
              "    <path d=\"M0 0h24v24H0V0z\" fill=\"none\"/>\n",
              "    <path d=\"M18.56 5.44l.94 2.06.94-2.06 2.06-.94-2.06-.94-.94-2.06-.94 2.06-2.06.94zm-11 1L8.5 8.5l.94-2.06 2.06-.94-2.06-.94L8.5 2.5l-.94 2.06-2.06.94zm10 10l.94 2.06.94-2.06 2.06-.94-2.06-.94-.94-2.06-.94 2.06-2.06.94z\"/><path d=\"M17.41 7.96l-1.37-1.37c-.4-.4-.92-.59-1.43-.59-.52 0-1.04.2-1.43.59L10.3 9.45l-7.72 7.72c-.78.78-.78 2.05 0 2.83L4 21.41c.39.39.9.59 1.41.59.51 0 1.02-.2 1.41-.59l7.78-7.78 2.81-2.81c.8-.78.8-2.07 0-2.86zM5.41 20L4 18.59l7.72-7.72 1.47 1.35L5.41 20z\"/>\n",
              "  </svg>\n",
              "      </button>\n",
              "      \n",
              "  <style>\n",
              "    .colab-df-container {\n",
              "      display:flex;\n",
              "      flex-wrap:wrap;\n",
              "      gap: 12px;\n",
              "    }\n",
              "\n",
              "    .colab-df-convert {\n",
              "      background-color: #E8F0FE;\n",
              "      border: none;\n",
              "      border-radius: 50%;\n",
              "      cursor: pointer;\n",
              "      display: none;\n",
              "      fill: #1967D2;\n",
              "      height: 32px;\n",
              "      padding: 0 0 0 0;\n",
              "      width: 32px;\n",
              "    }\n",
              "\n",
              "    .colab-df-convert:hover {\n",
              "      background-color: #E2EBFA;\n",
              "      box-shadow: 0px 1px 2px rgba(60, 64, 67, 0.3), 0px 1px 3px 1px rgba(60, 64, 67, 0.15);\n",
              "      fill: #174EA6;\n",
              "    }\n",
              "\n",
              "    [theme=dark] .colab-df-convert {\n",
              "      background-color: #3B4455;\n",
              "      fill: #D2E3FC;\n",
              "    }\n",
              "\n",
              "    [theme=dark] .colab-df-convert:hover {\n",
              "      background-color: #434B5C;\n",
              "      box-shadow: 0px 1px 3px 1px rgba(0, 0, 0, 0.15);\n",
              "      filter: drop-shadow(0px 1px 2px rgba(0, 0, 0, 0.3));\n",
              "      fill: #FFFFFF;\n",
              "    }\n",
              "  </style>\n",
              "\n",
              "      <script>\n",
              "        const buttonEl =\n",
              "          document.querySelector('#df-b8802bed-1ea2-45c6-aaec-82ab6432e1c9 button.colab-df-convert');\n",
              "        buttonEl.style.display =\n",
              "          google.colab.kernel.accessAllowed ? 'block' : 'none';\n",
              "\n",
              "        async function convertToInteractive(key) {\n",
              "          const element = document.querySelector('#df-b8802bed-1ea2-45c6-aaec-82ab6432e1c9');\n",
              "          const dataTable =\n",
              "            await google.colab.kernel.invokeFunction('convertToInteractive',\n",
              "                                                     [key], {});\n",
              "          if (!dataTable) return;\n",
              "\n",
              "          const docLinkHtml = 'Like what you see? Visit the ' +\n",
              "            '<a target=\"_blank\" href=https://colab.research.google.com/notebooks/data_table.ipynb>data table notebook</a>'\n",
              "            + ' to learn more about interactive tables.';\n",
              "          element.innerHTML = '';\n",
              "          dataTable['output_type'] = 'display_data';\n",
              "          await google.colab.output.renderOutput(dataTable, element);\n",
              "          const docLink = document.createElement('div');\n",
              "          docLink.innerHTML = docLinkHtml;\n",
              "          element.appendChild(docLink);\n",
              "        }\n",
              "      </script>\n",
              "    </div>\n",
              "  </div>\n",
              "  "
            ],
            "text/plain": [
              "              Time  Length  Class  TCP  ARP  TLSv1.2  DHCPv6  BROWSER  SSH  \\\n",
              "0         0.000000      54      1  1.0  0.0      0.0     0.0      0.0  0.0   \n",
              "1         0.002624      60      1  1.0  0.0      0.0     0.0      0.0  0.0   \n",
              "2         0.204789      60      1  1.0  0.0      0.0     0.0      0.0  0.0   \n",
              "3         0.204888      54      1  1.0  0.0      0.0     0.0      0.0  0.0   \n",
              "4        22.343940      60      1  0.0  1.0      0.0     0.0      0.0  0.0   \n",
              "...            ...     ...    ...  ...  ...      ...     ...      ...  ...   \n",
              "186820  860.774820      74      0  1.0  0.0      0.0     0.0      0.0  0.0   \n",
              "186821  860.775115      66      0  1.0  0.0      0.0     0.0      0.0  0.0   \n",
              "186822  860.775241     256      0  0.0  0.0      0.0     0.0      0.0  0.0   \n",
              "186823  860.775314      66      0  1.0  0.0      0.0     0.0      0.0  0.0   \n",
              "186824  860.776418    7306      0  1.0  0.0      0.0     0.0      0.0  0.0   \n",
              "\n",
              "        SSDP  MDNS  HTTP  ICMP  NTP  DNS  SSHv2  \n",
              "0        0.0   0.0   0.0   0.0  0.0  0.0    0.0  \n",
              "1        0.0   0.0   0.0   0.0  0.0  0.0    0.0  \n",
              "2        0.0   0.0   0.0   0.0  0.0  0.0    0.0  \n",
              "3        0.0   0.0   0.0   0.0  0.0  0.0    0.0  \n",
              "4        0.0   0.0   0.0   0.0  0.0  0.0    0.0  \n",
              "...      ...   ...   ...   ...  ...  ...    ...  \n",
              "186820   0.0   0.0   0.0   0.0  0.0  0.0    0.0  \n",
              "186821   0.0   0.0   0.0   0.0  0.0  0.0    0.0  \n",
              "186822   0.0   0.0   1.0   0.0  0.0  0.0    0.0  \n",
              "186823   0.0   0.0   0.0   0.0  0.0  0.0    0.0  \n",
              "186824   0.0   0.0   0.0   0.0  0.0  0.0    0.0  \n",
              "\n",
              "[186825 rows x 16 columns]"
            ]
          },
          "execution_count": 35,
          "metadata": {},
          "output_type": "execute_result"
        }
      ],
      "source": [
        "final"
      ]
    },
    {
      "cell_type": "code",
      "execution_count": null,
      "metadata": {
        "colab": {
          "base_uri": "https://localhost:8080/",
          "height": 424
        },
        "id": "nTV881mGcK_m",
        "outputId": "241998e7-0fb8-4aeb-ea9e-7e04aae5e27b",
        "scrolled": true
      },
      "outputs": [
        {
          "data": {
            "text/html": [
              "\n",
              "  <div id=\"df-c8de7363-2e1c-41b6-8591-8d4cbb49f39c\">\n",
              "    <div class=\"colab-df-container\">\n",
              "      <div>\n",
              "<style scoped>\n",
              "    .dataframe tbody tr th:only-of-type {\n",
              "        vertical-align: middle;\n",
              "    }\n",
              "\n",
              "    .dataframe tbody tr th {\n",
              "        vertical-align: top;\n",
              "    }\n",
              "\n",
              "    .dataframe thead th {\n",
              "        text-align: right;\n",
              "    }\n",
              "</style>\n",
              "<table border=\"1\" class=\"dataframe\">\n",
              "  <thead>\n",
              "    <tr style=\"text-align: right;\">\n",
              "      <th></th>\n",
              "      <th>Time</th>\n",
              "      <th>Length</th>\n",
              "      <th>Class</th>\n",
              "      <th>TCP</th>\n",
              "      <th>ARP</th>\n",
              "      <th>TLSv1.2</th>\n",
              "      <th>DHCPv6</th>\n",
              "      <th>BROWSER</th>\n",
              "      <th>SSH</th>\n",
              "      <th>SSDP</th>\n",
              "      <th>MDNS</th>\n",
              "      <th>HTTP</th>\n",
              "      <th>ICMP</th>\n",
              "      <th>NTP</th>\n",
              "      <th>DNS</th>\n",
              "      <th>SSHv2</th>\n",
              "    </tr>\n",
              "  </thead>\n",
              "  <tbody>\n",
              "    <tr>\n",
              "      <th>0</th>\n",
              "      <td>0.000000</td>\n",
              "      <td>152</td>\n",
              "      <td>1</td>\n",
              "      <td>0.0</td>\n",
              "      <td>0.0</td>\n",
              "      <td>0.0</td>\n",
              "      <td>1.0</td>\n",
              "      <td>0.0</td>\n",
              "      <td>0.0</td>\n",
              "      <td>0.0</td>\n",
              "      <td>0.0</td>\n",
              "      <td>0.0</td>\n",
              "      <td>0.0</td>\n",
              "      <td>0.0</td>\n",
              "      <td>0.0</td>\n",
              "      <td>0.0</td>\n",
              "    </tr>\n",
              "    <tr>\n",
              "      <th>1</th>\n",
              "      <td>32.019548</td>\n",
              "      <td>152</td>\n",
              "      <td>1</td>\n",
              "      <td>0.0</td>\n",
              "      <td>0.0</td>\n",
              "      <td>0.0</td>\n",
              "      <td>1.0</td>\n",
              "      <td>0.0</td>\n",
              "      <td>0.0</td>\n",
              "      <td>0.0</td>\n",
              "      <td>0.0</td>\n",
              "      <td>0.0</td>\n",
              "      <td>0.0</td>\n",
              "      <td>0.0</td>\n",
              "      <td>0.0</td>\n",
              "      <td>0.0</td>\n",
              "    </tr>\n",
              "    <tr>\n",
              "      <th>2</th>\n",
              "      <td>227.921904</td>\n",
              "      <td>60</td>\n",
              "      <td>1</td>\n",
              "      <td>0.0</td>\n",
              "      <td>1.0</td>\n",
              "      <td>0.0</td>\n",
              "      <td>0.0</td>\n",
              "      <td>0.0</td>\n",
              "      <td>0.0</td>\n",
              "      <td>0.0</td>\n",
              "      <td>0.0</td>\n",
              "      <td>0.0</td>\n",
              "      <td>0.0</td>\n",
              "      <td>0.0</td>\n",
              "      <td>0.0</td>\n",
              "      <td>0.0</td>\n",
              "    </tr>\n",
              "    <tr>\n",
              "      <th>3</th>\n",
              "      <td>227.922218</td>\n",
              "      <td>42</td>\n",
              "      <td>1</td>\n",
              "      <td>0.0</td>\n",
              "      <td>1.0</td>\n",
              "      <td>0.0</td>\n",
              "      <td>0.0</td>\n",
              "      <td>0.0</td>\n",
              "      <td>0.0</td>\n",
              "      <td>0.0</td>\n",
              "      <td>0.0</td>\n",
              "      <td>0.0</td>\n",
              "      <td>0.0</td>\n",
              "      <td>0.0</td>\n",
              "      <td>0.0</td>\n",
              "      <td>0.0</td>\n",
              "    </tr>\n",
              "    <tr>\n",
              "      <th>4</th>\n",
              "      <td>227.998806</td>\n",
              "      <td>60</td>\n",
              "      <td>1</td>\n",
              "      <td>1.0</td>\n",
              "      <td>0.0</td>\n",
              "      <td>0.0</td>\n",
              "      <td>0.0</td>\n",
              "      <td>0.0</td>\n",
              "      <td>0.0</td>\n",
              "      <td>0.0</td>\n",
              "      <td>0.0</td>\n",
              "      <td>0.0</td>\n",
              "      <td>0.0</td>\n",
              "      <td>0.0</td>\n",
              "      <td>0.0</td>\n",
              "      <td>0.0</td>\n",
              "    </tr>\n",
              "    <tr>\n",
              "      <th>...</th>\n",
              "      <td>...</td>\n",
              "      <td>...</td>\n",
              "      <td>...</td>\n",
              "      <td>...</td>\n",
              "      <td>...</td>\n",
              "      <td>...</td>\n",
              "      <td>...</td>\n",
              "      <td>...</td>\n",
              "      <td>...</td>\n",
              "      <td>...</td>\n",
              "      <td>...</td>\n",
              "      <td>...</td>\n",
              "      <td>...</td>\n",
              "      <td>...</td>\n",
              "      <td>...</td>\n",
              "      <td>...</td>\n",
              "    </tr>\n",
              "    <tr>\n",
              "      <th>63882</th>\n",
              "      <td>210.223758</td>\n",
              "      <td>54</td>\n",
              "      <td>0</td>\n",
              "      <td>1.0</td>\n",
              "      <td>0.0</td>\n",
              "      <td>0.0</td>\n",
              "      <td>0.0</td>\n",
              "      <td>0.0</td>\n",
              "      <td>0.0</td>\n",
              "      <td>0.0</td>\n",
              "      <td>0.0</td>\n",
              "      <td>0.0</td>\n",
              "      <td>0.0</td>\n",
              "      <td>0.0</td>\n",
              "      <td>0.0</td>\n",
              "      <td>0.0</td>\n",
              "    </tr>\n",
              "    <tr>\n",
              "      <th>63883</th>\n",
              "      <td>210.229013</td>\n",
              "      <td>54</td>\n",
              "      <td>0</td>\n",
              "      <td>1.0</td>\n",
              "      <td>0.0</td>\n",
              "      <td>0.0</td>\n",
              "      <td>0.0</td>\n",
              "      <td>0.0</td>\n",
              "      <td>0.0</td>\n",
              "      <td>0.0</td>\n",
              "      <td>0.0</td>\n",
              "      <td>0.0</td>\n",
              "      <td>0.0</td>\n",
              "      <td>0.0</td>\n",
              "      <td>0.0</td>\n",
              "      <td>0.0</td>\n",
              "    </tr>\n",
              "    <tr>\n",
              "      <th>63884</th>\n",
              "      <td>210.239689</td>\n",
              "      <td>1514</td>\n",
              "      <td>0</td>\n",
              "      <td>1.0</td>\n",
              "      <td>0.0</td>\n",
              "      <td>0.0</td>\n",
              "      <td>0.0</td>\n",
              "      <td>0.0</td>\n",
              "      <td>0.0</td>\n",
              "      <td>0.0</td>\n",
              "      <td>0.0</td>\n",
              "      <td>0.0</td>\n",
              "      <td>0.0</td>\n",
              "      <td>0.0</td>\n",
              "      <td>0.0</td>\n",
              "      <td>0.0</td>\n",
              "    </tr>\n",
              "    <tr>\n",
              "      <th>63885</th>\n",
              "      <td>210.239689</td>\n",
              "      <td>1514</td>\n",
              "      <td>0</td>\n",
              "      <td>1.0</td>\n",
              "      <td>0.0</td>\n",
              "      <td>0.0</td>\n",
              "      <td>0.0</td>\n",
              "      <td>0.0</td>\n",
              "      <td>0.0</td>\n",
              "      <td>0.0</td>\n",
              "      <td>0.0</td>\n",
              "      <td>0.0</td>\n",
              "      <td>0.0</td>\n",
              "      <td>0.0</td>\n",
              "      <td>0.0</td>\n",
              "      <td>0.0</td>\n",
              "    </tr>\n",
              "    <tr>\n",
              "      <th>63886</th>\n",
              "      <td>210.239689</td>\n",
              "      <td>1514</td>\n",
              "      <td>0</td>\n",
              "      <td>1.0</td>\n",
              "      <td>0.0</td>\n",
              "      <td>0.0</td>\n",
              "      <td>0.0</td>\n",
              "      <td>0.0</td>\n",
              "      <td>0.0</td>\n",
              "      <td>0.0</td>\n",
              "      <td>0.0</td>\n",
              "      <td>0.0</td>\n",
              "      <td>0.0</td>\n",
              "      <td>0.0</td>\n",
              "      <td>0.0</td>\n",
              "      <td>0.0</td>\n",
              "    </tr>\n",
              "  </tbody>\n",
              "</table>\n",
              "<p>61420 rows × 16 columns</p>\n",
              "</div>\n",
              "      <button class=\"colab-df-convert\" onclick=\"convertToInteractive('df-c8de7363-2e1c-41b6-8591-8d4cbb49f39c')\"\n",
              "              title=\"Convert this dataframe to an interactive table.\"\n",
              "              style=\"display:none;\">\n",
              "        \n",
              "  <svg xmlns=\"http://www.w3.org/2000/svg\" height=\"24px\"viewBox=\"0 0 24 24\"\n",
              "       width=\"24px\">\n",
              "    <path d=\"M0 0h24v24H0V0z\" fill=\"none\"/>\n",
              "    <path d=\"M18.56 5.44l.94 2.06.94-2.06 2.06-.94-2.06-.94-.94-2.06-.94 2.06-2.06.94zm-11 1L8.5 8.5l.94-2.06 2.06-.94-2.06-.94L8.5 2.5l-.94 2.06-2.06.94zm10 10l.94 2.06.94-2.06 2.06-.94-2.06-.94-.94-2.06-.94 2.06-2.06.94z\"/><path d=\"M17.41 7.96l-1.37-1.37c-.4-.4-.92-.59-1.43-.59-.52 0-1.04.2-1.43.59L10.3 9.45l-7.72 7.72c-.78.78-.78 2.05 0 2.83L4 21.41c.39.39.9.59 1.41.59.51 0 1.02-.2 1.41-.59l7.78-7.78 2.81-2.81c.8-.78.8-2.07 0-2.86zM5.41 20L4 18.59l7.72-7.72 1.47 1.35L5.41 20z\"/>\n",
              "  </svg>\n",
              "      </button>\n",
              "      \n",
              "  <style>\n",
              "    .colab-df-container {\n",
              "      display:flex;\n",
              "      flex-wrap:wrap;\n",
              "      gap: 12px;\n",
              "    }\n",
              "\n",
              "    .colab-df-convert {\n",
              "      background-color: #E8F0FE;\n",
              "      border: none;\n",
              "      border-radius: 50%;\n",
              "      cursor: pointer;\n",
              "      display: none;\n",
              "      fill: #1967D2;\n",
              "      height: 32px;\n",
              "      padding: 0 0 0 0;\n",
              "      width: 32px;\n",
              "    }\n",
              "\n",
              "    .colab-df-convert:hover {\n",
              "      background-color: #E2EBFA;\n",
              "      box-shadow: 0px 1px 2px rgba(60, 64, 67, 0.3), 0px 1px 3px 1px rgba(60, 64, 67, 0.15);\n",
              "      fill: #174EA6;\n",
              "    }\n",
              "\n",
              "    [theme=dark] .colab-df-convert {\n",
              "      background-color: #3B4455;\n",
              "      fill: #D2E3FC;\n",
              "    }\n",
              "\n",
              "    [theme=dark] .colab-df-convert:hover {\n",
              "      background-color: #434B5C;\n",
              "      box-shadow: 0px 1px 3px 1px rgba(0, 0, 0, 0.15);\n",
              "      filter: drop-shadow(0px 1px 2px rgba(0, 0, 0, 0.3));\n",
              "      fill: #FFFFFF;\n",
              "    }\n",
              "  </style>\n",
              "\n",
              "      <script>\n",
              "        const buttonEl =\n",
              "          document.querySelector('#df-c8de7363-2e1c-41b6-8591-8d4cbb49f39c button.colab-df-convert');\n",
              "        buttonEl.style.display =\n",
              "          google.colab.kernel.accessAllowed ? 'block' : 'none';\n",
              "\n",
              "        async function convertToInteractive(key) {\n",
              "          const element = document.querySelector('#df-c8de7363-2e1c-41b6-8591-8d4cbb49f39c');\n",
              "          const dataTable =\n",
              "            await google.colab.kernel.invokeFunction('convertToInteractive',\n",
              "                                                     [key], {});\n",
              "          if (!dataTable) return;\n",
              "\n",
              "          const docLinkHtml = 'Like what you see? Visit the ' +\n",
              "            '<a target=\"_blank\" href=https://colab.research.google.com/notebooks/data_table.ipynb>data table notebook</a>'\n",
              "            + ' to learn more about interactive tables.';\n",
              "          element.innerHTML = '';\n",
              "          dataTable['output_type'] = 'display_data';\n",
              "          await google.colab.output.renderOutput(dataTable, element);\n",
              "          const docLink = document.createElement('div');\n",
              "          docLink.innerHTML = docLinkHtml;\n",
              "          element.appendChild(docLink);\n",
              "        }\n",
              "      </script>\n",
              "    </div>\n",
              "  </div>\n",
              "  "
            ],
            "text/plain": [
              "             Time  Length  Class  TCP  ARP  TLSv1.2  DHCPv6  BROWSER  SSH  \\\n",
              "0        0.000000     152      1  0.0  0.0      0.0     1.0      0.0  0.0   \n",
              "1       32.019548     152      1  0.0  0.0      0.0     1.0      0.0  0.0   \n",
              "2      227.921904      60      1  0.0  1.0      0.0     0.0      0.0  0.0   \n",
              "3      227.922218      42      1  0.0  1.0      0.0     0.0      0.0  0.0   \n",
              "4      227.998806      60      1  1.0  0.0      0.0     0.0      0.0  0.0   \n",
              "...           ...     ...    ...  ...  ...      ...     ...      ...  ...   \n",
              "63882  210.223758      54      0  1.0  0.0      0.0     0.0      0.0  0.0   \n",
              "63883  210.229013      54      0  1.0  0.0      0.0     0.0      0.0  0.0   \n",
              "63884  210.239689    1514      0  1.0  0.0      0.0     0.0      0.0  0.0   \n",
              "63885  210.239689    1514      0  1.0  0.0      0.0     0.0      0.0  0.0   \n",
              "63886  210.239689    1514      0  1.0  0.0      0.0     0.0      0.0  0.0   \n",
              "\n",
              "       SSDP  MDNS  HTTP  ICMP  NTP  DNS  SSHv2  \n",
              "0       0.0   0.0   0.0   0.0  0.0  0.0    0.0  \n",
              "1       0.0   0.0   0.0   0.0  0.0  0.0    0.0  \n",
              "2       0.0   0.0   0.0   0.0  0.0  0.0    0.0  \n",
              "3       0.0   0.0   0.0   0.0  0.0  0.0    0.0  \n",
              "4       0.0   0.0   0.0   0.0  0.0  0.0    0.0  \n",
              "...     ...   ...   ...   ...  ...  ...    ...  \n",
              "63882   0.0   0.0   0.0   0.0  0.0  0.0    0.0  \n",
              "63883   0.0   0.0   0.0   0.0  0.0  0.0    0.0  \n",
              "63884   0.0   0.0   0.0   0.0  0.0  0.0    0.0  \n",
              "63885   0.0   0.0   0.0   0.0  0.0  0.0    0.0  \n",
              "63886   0.0   0.0   0.0   0.0  0.0  0.0    0.0  \n",
              "\n",
              "[61420 rows x 16 columns]"
            ]
          },
          "execution_count": 36,
          "metadata": {},
          "output_type": "execute_result"
        }
      ],
      "source": [
        "val_final"
      ]
    },
    {
      "cell_type": "code",
      "execution_count": null,
      "metadata": {
        "id": "y3DrBreMcK_n"
      },
      "outputs": [],
      "source": [
        "X_train = final.drop('Class', 1).to_numpy()\n",
        "\n",
        "dict_y = mapping(final['Class'])\n",
        "\n",
        "y_train = one_hot_encode(final['Class'], dict_y)"
      ]
    },
    {
      "cell_type": "code",
      "execution_count": null,
      "metadata": {
        "id": "I5nQs_BOcK_n"
      },
      "outputs": [],
      "source": [
        "X_test = val_final.drop('Class', 1).to_numpy()\n",
        "\n",
        "y_test = one_hot_encode(val_final['Class'], dict_y)"
      ]
    },
    {
      "cell_type": "code",
      "execution_count": null,
      "metadata": {
        "id": "sf8KMmIWcK_n"
      },
      "outputs": [],
      "source": [
        "import matplotlib.pyplot as plt\n",
        "def show_acc(history, val = False):\n",
        "    acc = history.history['acc']\n",
        "\n",
        "    loss = history.history['loss']\n",
        "    print(\"Train accuracy :\", history.history['acc'][-1])\n",
        "\n",
        "    if val:\n",
        "        val_acc = history.history['val_acc']\n",
        "        val_loss = history.history['val_loss']\n",
        "        print(\"Test accuracy  :\", history.history['val_acc'][-1])\n",
        "\n",
        "    epochs = range(len(acc))\n",
        "\n",
        "    plt.plot(epochs, acc, 'g', label='Training acc')\n",
        "    if val:\n",
        "        plt.plot(epochs, val_acc, 'r', label='Testing acc')\n",
        "        plt.title('Training and testing accuracy')\n",
        "    else:\n",
        "        plt.title('Training accuracy')\n",
        "\n",
        "    plt.legend()\n",
        "\n",
        "    plt.figure()\n",
        "\n",
        "    plt.plot(epochs, loss, 'g', label='Training loss')\n",
        "\n",
        "    if val:\n",
        "\n",
        "        plt.plot(epochs, val_loss, 'r', label='Testing loss')\n",
        "        plt.title('Training and test loss')\n",
        "    else:\n",
        "        plt.title(\"Training loss\")\n",
        "    plt.legend()\n",
        "\n",
        "    plt.show()"
      ]
    },
    {
      "cell_type": "markdown",
      "metadata": {
        "id": "Sz0uH8e1cK_o"
      },
      "source": [
        "### Model 1"
      ]
    },
    {
      "cell_type": "code",
      "execution_count": null,
      "metadata": {
        "id": "I-zHnQwlcK_o"
      },
      "outputs": [],
      "source": [
        "from tensorflow.keras.models import Sequential\n",
        "from tensorflow.keras import layers"
      ]
    },
    {
      "cell_type": "code",
      "execution_count": null,
      "metadata": {
        "id": "_f-sEvuKcK_o"
      },
      "outputs": [],
      "source": [
        "model = Sequential()\n",
        "\n",
        "model.add(layers.Flatten())\n",
        "model.add(layers.Dense(16, activation=\"relu\"))\n",
        "model.add(layers.Dense(2, activation='sigmoid'))\n",
        "\n",
        "model.compile(optimizer='adam', metrics=['acc'], loss='binary_crossentropy')"
      ]
    },
    {
      "cell_type": "code",
      "execution_count": null,
      "metadata": {
        "id": "c9tshjOaQLV5"
      },
      "outputs": [],
      "source": [
        "#Display binary confusion matrix using Seaborn heatmap\n",
        "def confusion_plot(matrix, labels=None):\n",
        "    labels = labels if labels else ['Negative (0)', 'Positive (1)']\n",
        "\n",
        "    fig, ax = plt.subplots(nrows=1, ncols=1)\n",
        "    sns.heatmap(data=matrix, cmap='GnBu', annot=True, fmt='d',\n",
        "                xticklabels=labels, yticklabels=labels, ax=ax)\n",
        "    ax.set_xlabel('PREDICTED')\n",
        "    ax.set_ylabel('ACTUAL')\n",
        "    ax.set_title('Confusion Matrix')\n",
        "    plt.close()\n",
        "\n",
        "    return fig"
      ]
    },
    {
      "cell_type": "code",
      "execution_count": null,
      "metadata": {
        "id": "iCZCnI1tcK_o",
        "scrolled": true
      },
      "outputs": [],
      "source": [
        "history = model.fit(X_train, y_train,  validation_data=(X_test, y_test), batch_size=200, epochs= 50, verbose=0)"
      ]
    },
    {
      "cell_type": "code",
      "execution_count": null,
      "metadata": {
        "colab": {
          "base_uri": "https://localhost:8080/",
          "height": 580
        },
        "id": "QY5MMiTrcK_p",
        "outputId": "9fcf64ce-ef0a-42ab-e6cf-681a38d50977"
      },
      "outputs": [
        {
          "name": "stdout",
          "output_type": "stream",
          "text": [
            "Train accuracy : 0.999903678894043\n",
            "Test accuracy  : 0.160485178232193\n"
          ]
        },
        {
          "data": {
            "image/png": "[encoded data removed]",
            "text/plain": [
              "<Figure size 432x288 with 1 Axes>"
            ]
          },
          "metadata": {
            "needs_background": "light"
          },
          "output_type": "display_data"
        },
        {
          "data": {
            "image/png": "[encoded data removed]",
            "text/plain": [
              "<Figure size 432x288 with 1 Axes>"
            ]
          },
          "metadata": {
            "needs_background": "light"
          },
          "output_type": "display_data"
        }
      ],
      "source": [
        "show_acc(history, val=True)"
      ]
    },
    {
      "cell_type": "code",
      "execution_count": null,
      "metadata": {
        "colab": {
          "base_uri": "https://localhost:8080/"
        },
        "id": "UXiPYdE8cK_p",
        "outputId": "c5fcf22d-e8f7-4c95-90a0-787beae3537c",
        "scrolled": true
      },
      "outputs": [
        {
          "name": "stdout",
          "output_type": "stream",
          "text": [
            "308/308 [==============================] - 0s 927us/step - loss: 17.4138 - acc: 0.1605\n"
          ]
        },
        {
          "data": {
            "text/plain": [
              "[17.413848876953125, 0.160485178232193]"
            ]
          },
          "execution_count": 45,
          "metadata": {},
          "output_type": "execute_result"
        }
      ],
      "source": [
        "model.evaluate(X_test, y_test, batch_size=200)"
      ]
    },
    {
      "cell_type": "code",
      "execution_count": null,
      "metadata": {
        "colab": {
          "base_uri": "https://localhost:8080/"
        },
        "id": "FOhM7HEZcK_p",
        "outputId": "ea12b9e1-a613-4e9b-d2ee-9d5d592ae681"
      },
      "outputs": [
        {
          "name": "stdout",
          "output_type": "stream",
          "text": [
            "1920/1920 [==============================] - 2s 1ms/step\n"
          ]
        }
      ],
      "source": [
        "y_pred = model.predict(X_test)\n",
        "y_pred=np.argmax(y_pred, axis=1)\n",
        "y_true=np.argmax(y_test, axis=1)"
      ]
    },
    {
      "cell_type": "code",
      "execution_count": null,
      "metadata": {
        "colab": {
          "base_uri": "https://localhost:8080/",
          "height": 295
        },
        "id": "GLRR504xcK_q",
        "outputId": "41358cf3-46a5-4441-92ed-40c9e642f8a3"
      },
      "outputs": [
        {
          "data": {
            "image/png": "[encoded data removed]",
            "text/plain": [
              "<Figure size 432x288 with 2 Axes>"
            ]
          },
          "execution_count": 47,
          "metadata": {},
          "output_type": "execute_result"
        }
      ],
      "source": [
        "from sklearn.metrics import balanced_accuracy_score, confusion_matrix\n",
        "\n",
        "confusion_plot(confusion_matrix(y_true, y_pred))"
      ]
    },
    {
      "cell_type": "code",
      "execution_count": null,
      "metadata": {
        "colab": {
          "base_uri": "https://localhost:8080/"
        },
        "id": "n3_uswV0cK_q",
        "outputId": "c976afab-cf2e-4249-e3ef-55a8ffeaf36f",
        "scrolled": true
      },
      "outputs": [
        {
          "data": {
            "text/plain": [
              "0.4193397430443291"
            ]
          },
          "execution_count": 48,
          "metadata": {},
          "output_type": "execute_result"
        }
      ],
      "source": [
        "balanced_accuracy_score(y_true, y_pred)"
      ]
    },
    {
      "cell_type": "markdown",
      "metadata": {
        "id": "Bimx5wu2cK_r"
      },
      "source": [
        "### Model 2"
      ]
    },
    {
      "cell_type": "code",
      "execution_count": null,
      "metadata": {
        "id": "xfD0F4wGcK_r"
      },
      "outputs": [],
      "source": [
        "model = Sequential()\n",
        "\n",
        "model.add(layers.Flatten())\n",
        "model.add(layers.Dense(16, activation=\"relu\"))\n",
        "model.add(layers.Dropout(0.5))\n",
        "model.add(layers.Dense(16, activation=\"relu\"))\n",
        "model.add(layers.Dropout(0.5))\n",
        "model.add(layers.Dense(16, activation=\"relu\"))\n",
        "model.add(layers.Dropout(0.5))\n",
        "model.add(layers.Dense(2, activation='sigmoid'))\n",
        "\n",
        "model.compile(optimizer='adam', metrics=['acc'], loss='binary_crossentropy')"
      ]
    },
    {
      "cell_type": "code",
      "execution_count": null,
      "metadata": {
        "id": "8tA5o7w0cK_r",
        "scrolled": true
      },
      "outputs": [],
      "source": [
        "history = model.fit(X_train, y_train,  validation_data=(X_test, y_test), batch_size=200, epochs= 20, verbose=0)"
      ]
    },
    {
      "cell_type": "code",
      "execution_count": null,
      "metadata": {
        "colab": {
          "base_uri": "https://localhost:8080/",
          "height": 580
        },
        "id": "qT_z3pAhcK_s",
        "outputId": "aa2684f9-944c-4be4-a782-7b122412749f",
        "scrolled": false
      },
      "outputs": [
        {
          "name": "stdout",
          "output_type": "stream",
          "text": [
            "Train accuracy : 0.9842526316642761\n",
            "Test accuracy  : 0.16024096310138702\n"
          ]
        },
        {
          "data": {
            "image/png": "[encoded data removed]",
            "text/plain": [
              "<Figure size 432x288 with 1 Axes>"
            ]
          },
          "metadata": {
            "needs_background": "light"
          },
          "output_type": "display_data"
        },
        {
          "data": {
            "image/png": "[encoded data removed]",
            "text/plain": [
              "<Figure size 432x288 with 1 Axes>"
            ]
          },
          "metadata": {
            "needs_background": "light"
          },
          "output_type": "display_data"
        }
      ],
      "source": [
        "show_acc(history, val=True)"
      ]
    },
    {
      "cell_type": "code",
      "execution_count": null,
      "metadata": {
        "colab": {
          "base_uri": "https://localhost:8080/"
        },
        "id": "tJu8nakXcK_s",
        "outputId": "9a4f54e9-d959-4538-fd37-811fb5dffd22",
        "scrolled": true
      },
      "outputs": [
        {
          "name": "stdout",
          "output_type": "stream",
          "text": [
            "308/308 [==============================] - 0s 976us/step - loss: 167.2607 - acc: 0.1602\n"
          ]
        },
        {
          "data": {
            "text/plain": [
              "[167.26065063476562, 0.16024096310138702]"
            ]
          },
          "execution_count": 52,
          "metadata": {},
          "output_type": "execute_result"
        }
      ],
      "source": [
        "model.evaluate(X_test, y_test, batch_size=200)"
      ]
    },
    {
      "cell_type": "code",
      "execution_count": null,
      "metadata": {
        "colab": {
          "base_uri": "https://localhost:8080/"
        },
        "id": "75IcWa6ScK_s",
        "outputId": "13668985-205a-4321-b173-8080d9fda73c"
      },
      "outputs": [
        {
          "name": "stdout",
          "output_type": "stream",
          "text": [
            "1920/1920 [==============================] - 2s 967us/step\n"
          ]
        }
      ],
      "source": [
        "y_pred = model.predict(X_test)\n",
        "y_pred=np.argmax(y_pred, axis=1)\n",
        "y_true=np.argmax(y_test, axis=1)"
      ]
    },
    {
      "cell_type": "code",
      "execution_count": null,
      "metadata": {
        "colab": {
          "base_uri": "https://localhost:8080/",
          "height": 295
        },
        "id": "XFg7Ls30cK_s",
        "outputId": "d9ccfcf8-e740-4ed3-a16e-8696df941235"
      },
      "outputs": [
        {
          "data": {
            "image/png": "[encoded data removed]",
            "text/plain": [
              "<Figure size 432x288 with 2 Axes>"
            ]
          },
          "execution_count": 54,
          "metadata": {},
          "output_type": "execute_result"
        }
      ],
      "source": [
        "from sklearn.metrics import balanced_accuracy_score, confusion_matrix\n",
        "\n",
        "confusion_plot(confusion_matrix(y_true, y_pred))"
      ]
    },
    {
      "cell_type": "code",
      "execution_count": null,
      "metadata": {
        "colab": {
          "base_uri": "https://localhost:8080/"
        },
        "id": "cbUiMp00cK_t",
        "outputId": "c7f52f6c-34bb-4d14-e821-a1941641cb85",
        "scrolled": true
      },
      "outputs": [
        {
          "data": {
            "text/plain": [
              "0.4187016081000596"
            ]
          },
          "execution_count": 55,
          "metadata": {},
          "output_type": "execute_result"
        }
      ],
      "source": [
        "balanced_accuracy_score(y_true, y_pred)"
      ]
    },
    {
      "cell_type": "code",
      "execution_count": null,
      "metadata": {
        "colab": {
          "base_uri": "https://localhost:8080/",
          "height": 424
        },
        "id": "JummeAY6cK_u",
        "outputId": "63b45da2-b3ac-4c32-a013-937997484065"
      },
      "outputs": [
        {
          "data": {
            "text/html": [
              "\n",
              "  <div id=\"df-1e08bc9d-a63c-45ab-a161-7d926afa6ed4\">\n",
              "    <div class=\"colab-df-container\">\n",
              "      <div>\n",
              "<style scoped>\n",
              "    .dataframe tbody tr th:only-of-type {\n",
              "        vertical-align: middle;\n",
              "    }\n",
              "\n",
              "    .dataframe tbody tr th {\n",
              "        vertical-align: top;\n",
              "    }\n",
              "\n",
              "    .dataframe thead th {\n",
              "        text-align: right;\n",
              "    }\n",
              "</style>\n",
              "<table border=\"1\" class=\"dataframe\">\n",
              "  <thead>\n",
              "    <tr style=\"text-align: right;\">\n",
              "      <th></th>\n",
              "      <th>Time</th>\n",
              "      <th>Source</th>\n",
              "      <th>Destination</th>\n",
              "      <th>Length</th>\n",
              "      <th>Class</th>\n",
              "      <th>TCP</th>\n",
              "      <th>ARP</th>\n",
              "      <th>TLSv1.2</th>\n",
              "      <th>DHCPv6</th>\n",
              "      <th>BROWSER</th>\n",
              "      <th>SSH</th>\n",
              "      <th>SSDP</th>\n",
              "      <th>MDNS</th>\n",
              "      <th>HTTP</th>\n",
              "      <th>ICMP</th>\n",
              "      <th>NTP</th>\n",
              "      <th>DNS</th>\n",
              "      <th>SSHv2</th>\n",
              "    </tr>\n",
              "  </thead>\n",
              "  <tbody>\n",
              "    <tr>\n",
              "      <th>0</th>\n",
              "      <td>0.000000</td>\n",
              "      <td>10.0.2.15</td>\n",
              "      <td>52.167.254.228</td>\n",
              "      <td>54</td>\n",
              "      <td>1</td>\n",
              "      <td>1.0</td>\n",
              "      <td>0.0</td>\n",
              "      <td>0.0</td>\n",
              "      <td>0.0</td>\n",
              "      <td>0.0</td>\n",
              "      <td>0.0</td>\n",
              "      <td>0.0</td>\n",
              "      <td>0.0</td>\n",
              "      <td>0.0</td>\n",
              "      <td>0.0</td>\n",
              "      <td>0.0</td>\n",
              "      <td>0.0</td>\n",
              "      <td>0.0</td>\n",
              "    </tr>\n",
              "    <tr>\n",
              "      <th>1</th>\n",
              "      <td>0.002624</td>\n",
              "      <td>52.167.254.228</td>\n",
              "      <td>10.0.2.15</td>\n",
              "      <td>60</td>\n",
              "      <td>1</td>\n",
              "      <td>1.0</td>\n",
              "      <td>0.0</td>\n",
              "      <td>0.0</td>\n",
              "      <td>0.0</td>\n",
              "      <td>0.0</td>\n",
              "      <td>0.0</td>\n",
              "      <td>0.0</td>\n",
              "      <td>0.0</td>\n",
              "      <td>0.0</td>\n",
              "      <td>0.0</td>\n",
              "      <td>0.0</td>\n",
              "      <td>0.0</td>\n",
              "      <td>0.0</td>\n",
              "    </tr>\n",
              "    <tr>\n",
              "      <th>2</th>\n",
              "      <td>0.204789</td>\n",
              "      <td>52.167.254.228</td>\n",
              "      <td>10.0.2.15</td>\n",
              "      <td>60</td>\n",
              "      <td>1</td>\n",
              "      <td>1.0</td>\n",
              "      <td>0.0</td>\n",
              "      <td>0.0</td>\n",
              "      <td>0.0</td>\n",
              "      <td>0.0</td>\n",
              "      <td>0.0</td>\n",
              "      <td>0.0</td>\n",
              "      <td>0.0</td>\n",
              "      <td>0.0</td>\n",
              "      <td>0.0</td>\n",
              "      <td>0.0</td>\n",
              "      <td>0.0</td>\n",
              "      <td>0.0</td>\n",
              "    </tr>\n",
              "    <tr>\n",
              "      <th>3</th>\n",
              "      <td>0.204888</td>\n",
              "      <td>10.0.2.15</td>\n",
              "      <td>52.167.254.228</td>\n",
              "      <td>54</td>\n",
              "      <td>1</td>\n",
              "      <td>1.0</td>\n",
              "      <td>0.0</td>\n",
              "      <td>0.0</td>\n",
              "      <td>0.0</td>\n",
              "      <td>0.0</td>\n",
              "      <td>0.0</td>\n",
              "      <td>0.0</td>\n",
              "      <td>0.0</td>\n",
              "      <td>0.0</td>\n",
              "      <td>0.0</td>\n",
              "      <td>0.0</td>\n",
              "      <td>0.0</td>\n",
              "      <td>0.0</td>\n",
              "    </tr>\n",
              "    <tr>\n",
              "      <th>4</th>\n",
              "      <td>22.343940</td>\n",
              "      <td>PcsCompu_43:73:bc</td>\n",
              "      <td>Broadcast</td>\n",
              "      <td>60</td>\n",
              "      <td>1</td>\n",
              "      <td>0.0</td>\n",
              "      <td>1.0</td>\n",
              "      <td>0.0</td>\n",
              "      <td>0.0</td>\n",
              "      <td>0.0</td>\n",
              "      <td>0.0</td>\n",
              "      <td>0.0</td>\n",
              "      <td>0.0</td>\n",
              "      <td>0.0</td>\n",
              "      <td>0.0</td>\n",
              "      <td>0.0</td>\n",
              "      <td>0.0</td>\n",
              "      <td>0.0</td>\n",
              "    </tr>\n",
              "    <tr>\n",
              "      <th>...</th>\n",
              "      <td>...</td>\n",
              "      <td>...</td>\n",
              "      <td>...</td>\n",
              "      <td>...</td>\n",
              "      <td>...</td>\n",
              "      <td>...</td>\n",
              "      <td>...</td>\n",
              "      <td>...</td>\n",
              "      <td>...</td>\n",
              "      <td>...</td>\n",
              "      <td>...</td>\n",
              "      <td>...</td>\n",
              "      <td>...</td>\n",
              "      <td>...</td>\n",
              "      <td>...</td>\n",
              "      <td>...</td>\n",
              "      <td>...</td>\n",
              "      <td>...</td>\n",
              "    </tr>\n",
              "    <tr>\n",
              "      <th>186820</th>\n",
              "      <td>860.774820</td>\n",
              "      <td>10.42.0.2</td>\n",
              "      <td>10.42.0.1</td>\n",
              "      <td>74</td>\n",
              "      <td>0</td>\n",
              "      <td>1.0</td>\n",
              "      <td>0.0</td>\n",
              "      <td>0.0</td>\n",
              "      <td>0.0</td>\n",
              "      <td>0.0</td>\n",
              "      <td>0.0</td>\n",
              "      <td>0.0</td>\n",
              "      <td>0.0</td>\n",
              "      <td>0.0</td>\n",
              "      <td>0.0</td>\n",
              "      <td>0.0</td>\n",
              "      <td>0.0</td>\n",
              "      <td>0.0</td>\n",
              "    </tr>\n",
              "    <tr>\n",
              "      <th>186821</th>\n",
              "      <td>860.775115</td>\n",
              "      <td>10.42.0.1</td>\n",
              "      <td>10.42.0.2</td>\n",
              "      <td>66</td>\n",
              "      <td>0</td>\n",
              "      <td>1.0</td>\n",
              "      <td>0.0</td>\n",
              "      <td>0.0</td>\n",
              "      <td>0.0</td>\n",
              "      <td>0.0</td>\n",
              "      <td>0.0</td>\n",
              "      <td>0.0</td>\n",
              "      <td>0.0</td>\n",
              "      <td>0.0</td>\n",
              "      <td>0.0</td>\n",
              "      <td>0.0</td>\n",
              "      <td>0.0</td>\n",
              "      <td>0.0</td>\n",
              "    </tr>\n",
              "    <tr>\n",
              "      <th>186822</th>\n",
              "      <td>860.775241</td>\n",
              "      <td>10.42.0.1</td>\n",
              "      <td>10.42.0.2</td>\n",
              "      <td>256</td>\n",
              "      <td>0</td>\n",
              "      <td>0.0</td>\n",
              "      <td>0.0</td>\n",
              "      <td>0.0</td>\n",
              "      <td>0.0</td>\n",
              "      <td>0.0</td>\n",
              "      <td>0.0</td>\n",
              "      <td>0.0</td>\n",
              "      <td>0.0</td>\n",
              "      <td>1.0</td>\n",
              "      <td>0.0</td>\n",
              "      <td>0.0</td>\n",
              "      <td>0.0</td>\n",
              "      <td>0.0</td>\n",
              "    </tr>\n",
              "    <tr>\n",
              "      <th>186823</th>\n",
              "      <td>860.775314</td>\n",
              "      <td>10.42.0.2</td>\n",
              "      <td>10.42.0.1</td>\n",
              "      <td>66</td>\n",
              "      <td>0</td>\n",
              "      <td>1.0</td>\n",
              "      <td>0.0</td>\n",
              "      <td>0.0</td>\n",
              "      <td>0.0</td>\n",
              "      <td>0.0</td>\n",
              "      <td>0.0</td>\n",
              "      <td>0.0</td>\n",
              "      <td>0.0</td>\n",
              "      <td>0.0</td>\n",
              "      <td>0.0</td>\n",
              "      <td>0.0</td>\n",
              "      <td>0.0</td>\n",
              "      <td>0.0</td>\n",
              "    </tr>\n",
              "    <tr>\n",
              "      <th>186824</th>\n",
              "      <td>860.776418</td>\n",
              "      <td>10.42.0.2</td>\n",
              "      <td>10.42.0.1</td>\n",
              "      <td>7306</td>\n",
              "      <td>0</td>\n",
              "      <td>1.0</td>\n",
              "      <td>0.0</td>\n",
              "      <td>0.0</td>\n",
              "      <td>0.0</td>\n",
              "      <td>0.0</td>\n",
              "      <td>0.0</td>\n",
              "      <td>0.0</td>\n",
              "      <td>0.0</td>\n",
              "      <td>0.0</td>\n",
              "      <td>0.0</td>\n",
              "      <td>0.0</td>\n",
              "      <td>0.0</td>\n",
              "      <td>0.0</td>\n",
              "    </tr>\n",
              "  </tbody>\n",
              "</table>\n",
              "<p>186825 rows × 18 columns</p>\n",
              "</div>\n",
              "      <button class=\"colab-df-convert\" onclick=\"convertToInteractive('df-1e08bc9d-a63c-45ab-a161-7d926afa6ed4')\"\n",
              "              title=\"Convert this dataframe to an interactive table.\"\n",
              "              style=\"display:none;\">\n",
              "        \n",
              "  <svg xmlns=\"http://www.w3.org/2000/svg\" height=\"24px\"viewBox=\"0 0 24 24\"\n",
              "       width=\"24px\">\n",
              "    <path d=\"M0 0h24v24H0V0z\" fill=\"none\"/>\n",
              "    <path d=\"M18.56 5.44l.94 2.06.94-2.06 2.06-.94-2.06-.94-.94-2.06-.94 2.06-2.06.94zm-11 1L8.5 8.5l.94-2.06 2.06-.94-2.06-.94L8.5 2.5l-.94 2.06-2.06.94zm10 10l.94 2.06.94-2.06 2.06-.94-2.06-.94-.94-2.06-.94 2.06-2.06.94z\"/><path d=\"M17.41 7.96l-1.37-1.37c-.4-.4-.92-.59-1.43-.59-.52 0-1.04.2-1.43.59L10.3 9.45l-7.72 7.72c-.78.78-.78 2.05 0 2.83L4 21.41c.39.39.9.59 1.41.59.51 0 1.02-.2 1.41-.59l7.78-7.78 2.81-2.81c.8-.78.8-2.07 0-2.86zM5.41 20L4 18.59l7.72-7.72 1.47 1.35L5.41 20z\"/>\n",
              "  </svg>\n",
              "      </button>\n",
              "      \n",
              "  <style>\n",
              "    .colab-df-container {\n",
              "      display:flex;\n",
              "      flex-wrap:wrap;\n",
              "      gap: 12px;\n",
              "    }\n",
              "\n",
              "    .colab-df-convert {\n",
              "      background-color: #E8F0FE;\n",
              "      border: none;\n",
              "      border-radius: 50%;\n",
              "      cursor: pointer;\n",
              "      display: none;\n",
              "      fill: #1967D2;\n",
              "      height: 32px;\n",
              "      padding: 0 0 0 0;\n",
              "      width: 32px;\n",
              "    }\n",
              "\n",
              "    .colab-df-convert:hover {\n",
              "      background-color: #E2EBFA;\n",
              "      box-shadow: 0px 1px 2px rgba(60, 64, 67, 0.3), 0px 1px 3px 1px rgba(60, 64, 67, 0.15);\n",
              "      fill: #174EA6;\n",
              "    }\n",
              "\n",
              "    [theme=dark] .colab-df-convert {\n",
              "      background-color: #3B4455;\n",
              "      fill: #D2E3FC;\n",
              "    }\n",
              "\n",
              "    [theme=dark] .colab-df-convert:hover {\n",
              "      background-color: #434B5C;\n",
              "      box-shadow: 0px 1px 3px 1px rgba(0, 0, 0, 0.15);\n",
              "      filter: drop-shadow(0px 1px 2px rgba(0, 0, 0, 0.3));\n",
              "      fill: #FFFFFF;\n",
              "    }\n",
              "  </style>\n",
              "\n",
              "      <script>\n",
              "        const buttonEl =\n",
              "          document.querySelector('#df-1e08bc9d-a63c-45ab-a161-7d926afa6ed4 button.colab-df-convert');\n",
              "        buttonEl.style.display =\n",
              "          google.colab.kernel.accessAllowed ? 'block' : 'none';\n",
              "\n",
              "        async function convertToInteractive(key) {\n",
              "          const element = document.querySelector('#df-1e08bc9d-a63c-45ab-a161-7d926afa6ed4');\n",
              "          const dataTable =\n",
              "            await google.colab.kernel.invokeFunction('convertToInteractive',\n",
              "                                                     [key], {});\n",
              "          if (!dataTable) return;\n",
              "\n",
              "          const docLinkHtml = 'Like what you see? Visit the ' +\n",
              "            '<a target=\"_blank\" href=https://colab.research.google.com/notebooks/data_table.ipynb>data table notebook</a>'\n",
              "            + ' to learn more about interactive tables.';\n",
              "          element.innerHTML = '';\n",
              "          dataTable['output_type'] = 'display_data';\n",
              "          await google.colab.output.renderOutput(dataTable, element);\n",
              "          const docLink = document.createElement('div');\n",
              "          docLink.innerHTML = docLinkHtml;\n",
              "          element.appendChild(docLink);\n",
              "        }\n",
              "      </script>\n",
              "    </div>\n",
              "  </div>\n",
              "  "
            ],
            "text/plain": [
              "              Time             Source     Destination  Length  Class  TCP  \\\n",
              "0         0.000000          10.0.2.15  52.167.254.228      54      1  1.0   \n",
              "1         0.002624     52.167.254.228       10.0.2.15      60      1  1.0   \n",
              "2         0.204789     52.167.254.228       10.0.2.15      60      1  1.0   \n",
              "3         0.204888          10.0.2.15  52.167.254.228      54      1  1.0   \n",
              "4        22.343940  PcsCompu_43:73:bc       Broadcast      60      1  0.0   \n",
              "...            ...                ...             ...     ...    ...  ...   \n",
              "186820  860.774820          10.42.0.2       10.42.0.1      74      0  1.0   \n",
              "186821  860.775115          10.42.0.1       10.42.0.2      66      0  1.0   \n",
              "186822  860.775241          10.42.0.1       10.42.0.2     256      0  0.0   \n",
              "186823  860.775314          10.42.0.2       10.42.0.1      66      0  1.0   \n",
              "186824  860.776418          10.42.0.2       10.42.0.1    7306      0  1.0   \n",
              "\n",
              "        ARP  TLSv1.2  DHCPv6  BROWSER  SSH  SSDP  MDNS  HTTP  ICMP  NTP  DNS  \\\n",
              "0       0.0      0.0     0.0      0.0  0.0   0.0   0.0   0.0   0.0  0.0  0.0   \n",
              "1       0.0      0.0     0.0      0.0  0.0   0.0   0.0   0.0   0.0  0.0  0.0   \n",
              "2       0.0      0.0     0.0      0.0  0.0   0.0   0.0   0.0   0.0  0.0  0.0   \n",
              "3       0.0      0.0     0.0      0.0  0.0   0.0   0.0   0.0   0.0  0.0  0.0   \n",
              "4       1.0      0.0     0.0      0.0  0.0   0.0   0.0   0.0   0.0  0.0  0.0   \n",
              "...     ...      ...     ...      ...  ...   ...   ...   ...   ...  ...  ...   \n",
              "186820  0.0      0.0     0.0      0.0  0.0   0.0   0.0   0.0   0.0  0.0  0.0   \n",
              "186821  0.0      0.0     0.0      0.0  0.0   0.0   0.0   0.0   0.0  0.0  0.0   \n",
              "186822  0.0      0.0     0.0      0.0  0.0   0.0   0.0   1.0   0.0  0.0  0.0   \n",
              "186823  0.0      0.0     0.0      0.0  0.0   0.0   0.0   0.0   0.0  0.0  0.0   \n",
              "186824  0.0      0.0     0.0      0.0  0.0   0.0   0.0   0.0   0.0  0.0  0.0   \n",
              "\n",
              "        SSHv2  \n",
              "0         0.0  \n",
              "1         0.0  \n",
              "2         0.0  \n",
              "3         0.0  \n",
              "4         0.0  \n",
              "...       ...  \n",
              "186820    0.0  \n",
              "186821    0.0  \n",
              "186822    0.0  \n",
              "186823    0.0  \n",
              "186824    0.0  \n",
              "\n",
              "[186825 rows x 18 columns]"
            ]
          },
          "execution_count": 56,
          "metadata": {},
          "output_type": "execute_result"
        }
      ],
      "source": [
        "dataset"
      ]
    },
    {
      "cell_type": "code",
      "execution_count": null,
      "metadata": {
        "id": "KRoUrlERcK_u"
      },
      "outputs": [],
      "source": [
        "def windows_process(data, window_len = 5):\n",
        "\n",
        "    data = np.array(data)\n",
        "    windows = []\n",
        "    classes = []\n",
        "    for i in range(len(data) - window_len):\n",
        "        window = []\n",
        "        for j in range(window_len):\n",
        "            window.append(data[i+j])\n",
        "        class_name = window[0][4]\n",
        "        classes.append(class_name)\n",
        "        windows.append(window)\n",
        "    windows = np.array(windows)\n",
        "    classes = np.array(classes)\n",
        "    return windows, classes"
      ]
    },
    {
      "cell_type": "code",
      "execution_count": null,
      "metadata": {
        "colab": {
          "base_uri": "https://localhost:8080/"
        },
        "id": "2sn3dYmbcK_v",
        "outputId": "9162d911-a3ac-46ec-f155-2119fd172472"
      },
      "outputs": [
        {
          "name": "stdout",
          "output_type": "stream",
          "text": [
            "From a shape of (30, 18)\n",
            "To a shape of (25, 5, 18)\n"
          ]
        }
      ],
      "source": [
        "test = dataset[:30]\n",
        "print(\"From a shape of\", test.to_numpy().shape)\n",
        "print(\"To a shape of\", windows_process(test)[0].shape)"
      ]
    },
    {
      "cell_type": "code",
      "execution_count": null,
      "metadata": {
        "id": "eKE_7liScK_w"
      },
      "outputs": [],
      "source": [
        "def normalize_time(window):\n",
        "    start_time = window[0][0]\n",
        "    for i in range(len(window)):\n",
        "        window[i][0] = window[i][0] - start_time\n",
        "\n",
        "    return window"
      ]
    },
    {
      "cell_type": "markdown",
      "metadata": {
        "id": "8_3ALQJUcK_w"
      },
      "source": [
        "### Introducing IPs"
      ]
    },
    {
      "cell_type": "markdown",
      "metadata": {
        "id": "5W37Vu_acK_w"
      },
      "source": [
        "We have to use IPs in a special way. Indeed, if we do a simple one hot encoding on the whole dataset, there will be overfitting as a DDoS comes from a certain IP. What we are going to do is to do a one hot encoding of the IPs inside the windows to detect IP repetitions."
      ]
    },
    {
      "cell_type": "code",
      "execution_count": null,
      "metadata": {
        "id": "0b-BBc5ocK_w"
      },
      "outputs": [],
      "source": [
        "def IP_process(window):\n",
        "    dict_ip = mapping(window[:,1:3].flatten())\n",
        "\n",
        "    for i in range(len(window)):\n",
        "        window[i][1] = dict_ip[ window[i][1]]\n",
        "        window[i][2] = dict_ip[ window[i][2]]\n",
        "\n",
        "    return window"
      ]
    },
    {
      "cell_type": "code",
      "execution_count": null,
      "metadata": {
        "id": "PvrxOnoEcK_x"
      },
      "outputs": [],
      "source": [
        "time_dataset, classes = windows_process(dataset)"
      ]
    },
    {
      "cell_type": "code",
      "execution_count": null,
      "metadata": {
        "colab": {
          "base_uri": "https://localhost:8080/",
          "height": 424
        },
        "id": "quW83usZU2cj",
        "outputId": "3227d8d1-2be9-4ec3-d5d8-9880d7fae74e"
      },
      "outputs": [
        {
          "data": {
            "text/html": [
              "\n",
              "  <div id=\"df-8fe72919-f979-40b0-b9b9-f4b9a14dc9c4\">\n",
              "    <div class=\"colab-df-container\">\n",
              "      <div>\n",
              "<style scoped>\n",
              "    .dataframe tbody tr th:only-of-type {\n",
              "        vertical-align: middle;\n",
              "    }\n",
              "\n",
              "    .dataframe tbody tr th {\n",
              "        vertical-align: top;\n",
              "    }\n",
              "\n",
              "    .dataframe thead th {\n",
              "        text-align: right;\n",
              "    }\n",
              "</style>\n",
              "<table border=\"1\" class=\"dataframe\">\n",
              "  <thead>\n",
              "    <tr style=\"text-align: right;\">\n",
              "      <th></th>\n",
              "      <th>Time</th>\n",
              "      <th>Source</th>\n",
              "      <th>Destination</th>\n",
              "      <th>Length</th>\n",
              "      <th>Class</th>\n",
              "      <th>TCP</th>\n",
              "      <th>ARP</th>\n",
              "      <th>TLSv1.2</th>\n",
              "      <th>DHCPv6</th>\n",
              "      <th>BROWSER</th>\n",
              "      <th>SSH</th>\n",
              "      <th>SSDP</th>\n",
              "      <th>MDNS</th>\n",
              "      <th>HTTP</th>\n",
              "      <th>ICMP</th>\n",
              "      <th>NTP</th>\n",
              "      <th>DNS</th>\n",
              "      <th>SSHv2</th>\n",
              "    </tr>\n",
              "  </thead>\n",
              "  <tbody>\n",
              "    <tr>\n",
              "      <th>0</th>\n",
              "      <td>0.000000</td>\n",
              "      <td>10.0.2.15</td>\n",
              "      <td>52.167.254.228</td>\n",
              "      <td>54</td>\n",
              "      <td>1</td>\n",
              "      <td>1.0</td>\n",
              "      <td>0.0</td>\n",
              "      <td>0.0</td>\n",
              "      <td>0.0</td>\n",
              "      <td>0.0</td>\n",
              "      <td>0.0</td>\n",
              "      <td>0.0</td>\n",
              "      <td>0.0</td>\n",
              "      <td>0.0</td>\n",
              "      <td>0.0</td>\n",
              "      <td>0.0</td>\n",
              "      <td>0.0</td>\n",
              "      <td>0.0</td>\n",
              "    </tr>\n",
              "    <tr>\n",
              "      <th>1</th>\n",
              "      <td>0.002624</td>\n",
              "      <td>52.167.254.228</td>\n",
              "      <td>10.0.2.15</td>\n",
              "      <td>60</td>\n",
              "      <td>1</td>\n",
              "      <td>1.0</td>\n",
              "      <td>0.0</td>\n",
              "      <td>0.0</td>\n",
              "      <td>0.0</td>\n",
              "      <td>0.0</td>\n",
              "      <td>0.0</td>\n",
              "      <td>0.0</td>\n",
              "      <td>0.0</td>\n",
              "      <td>0.0</td>\n",
              "      <td>0.0</td>\n",
              "      <td>0.0</td>\n",
              "      <td>0.0</td>\n",
              "      <td>0.0</td>\n",
              "    </tr>\n",
              "    <tr>\n",
              "      <th>2</th>\n",
              "      <td>0.204789</td>\n",
              "      <td>52.167.254.228</td>\n",
              "      <td>10.0.2.15</td>\n",
              "      <td>60</td>\n",
              "      <td>1</td>\n",
              "      <td>1.0</td>\n",
              "      <td>0.0</td>\n",
              "      <td>0.0</td>\n",
              "      <td>0.0</td>\n",
              "      <td>0.0</td>\n",
              "      <td>0.0</td>\n",
              "      <td>0.0</td>\n",
              "      <td>0.0</td>\n",
              "      <td>0.0</td>\n",
              "      <td>0.0</td>\n",
              "      <td>0.0</td>\n",
              "      <td>0.0</td>\n",
              "      <td>0.0</td>\n",
              "    </tr>\n",
              "    <tr>\n",
              "      <th>3</th>\n",
              "      <td>0.204888</td>\n",
              "      <td>10.0.2.15</td>\n",
              "      <td>52.167.254.228</td>\n",
              "      <td>54</td>\n",
              "      <td>1</td>\n",
              "      <td>1.0</td>\n",
              "      <td>0.0</td>\n",
              "      <td>0.0</td>\n",
              "      <td>0.0</td>\n",
              "      <td>0.0</td>\n",
              "      <td>0.0</td>\n",
              "      <td>0.0</td>\n",
              "      <td>0.0</td>\n",
              "      <td>0.0</td>\n",
              "      <td>0.0</td>\n",
              "      <td>0.0</td>\n",
              "      <td>0.0</td>\n",
              "      <td>0.0</td>\n",
              "    </tr>\n",
              "    <tr>\n",
              "      <th>4</th>\n",
              "      <td>22.343940</td>\n",
              "      <td>PcsCompu_43:73:bc</td>\n",
              "      <td>Broadcast</td>\n",
              "      <td>60</td>\n",
              "      <td>1</td>\n",
              "      <td>0.0</td>\n",
              "      <td>1.0</td>\n",
              "      <td>0.0</td>\n",
              "      <td>0.0</td>\n",
              "      <td>0.0</td>\n",
              "      <td>0.0</td>\n",
              "      <td>0.0</td>\n",
              "      <td>0.0</td>\n",
              "      <td>0.0</td>\n",
              "      <td>0.0</td>\n",
              "      <td>0.0</td>\n",
              "      <td>0.0</td>\n",
              "      <td>0.0</td>\n",
              "    </tr>\n",
              "    <tr>\n",
              "      <th>...</th>\n",
              "      <td>...</td>\n",
              "      <td>...</td>\n",
              "      <td>...</td>\n",
              "      <td>...</td>\n",
              "      <td>...</td>\n",
              "      <td>...</td>\n",
              "      <td>...</td>\n",
              "      <td>...</td>\n",
              "      <td>...</td>\n",
              "      <td>...</td>\n",
              "      <td>...</td>\n",
              "      <td>...</td>\n",
              "      <td>...</td>\n",
              "      <td>...</td>\n",
              "      <td>...</td>\n",
              "      <td>...</td>\n",
              "      <td>...</td>\n",
              "      <td>...</td>\n",
              "    </tr>\n",
              "    <tr>\n",
              "      <th>186820</th>\n",
              "      <td>860.774820</td>\n",
              "      <td>10.42.0.2</td>\n",
              "      <td>10.42.0.1</td>\n",
              "      <td>74</td>\n",
              "      <td>0</td>\n",
              "      <td>1.0</td>\n",
              "      <td>0.0</td>\n",
              "      <td>0.0</td>\n",
              "      <td>0.0</td>\n",
              "      <td>0.0</td>\n",
              "      <td>0.0</td>\n",
              "      <td>0.0</td>\n",
              "      <td>0.0</td>\n",
              "      <td>0.0</td>\n",
              "      <td>0.0</td>\n",
              "      <td>0.0</td>\n",
              "      <td>0.0</td>\n",
              "      <td>0.0</td>\n",
              "    </tr>\n",
              "    <tr>\n",
              "      <th>186821</th>\n",
              "      <td>860.775115</td>\n",
              "      <td>10.42.0.1</td>\n",
              "      <td>10.42.0.2</td>\n",
              "      <td>66</td>\n",
              "      <td>0</td>\n",
              "      <td>1.0</td>\n",
              "      <td>0.0</td>\n",
              "      <td>0.0</td>\n",
              "      <td>0.0</td>\n",
              "      <td>0.0</td>\n",
              "      <td>0.0</td>\n",
              "      <td>0.0</td>\n",
              "      <td>0.0</td>\n",
              "      <td>0.0</td>\n",
              "      <td>0.0</td>\n",
              "      <td>0.0</td>\n",
              "      <td>0.0</td>\n",
              "      <td>0.0</td>\n",
              "    </tr>\n",
              "    <tr>\n",
              "      <th>186822</th>\n",
              "      <td>860.775241</td>\n",
              "      <td>10.42.0.1</td>\n",
              "      <td>10.42.0.2</td>\n",
              "      <td>256</td>\n",
              "      <td>0</td>\n",
              "      <td>0.0</td>\n",
              "      <td>0.0</td>\n",
              "      <td>0.0</td>\n",
              "      <td>0.0</td>\n",
              "      <td>0.0</td>\n",
              "      <td>0.0</td>\n",
              "      <td>0.0</td>\n",
              "      <td>0.0</td>\n",
              "      <td>1.0</td>\n",
              "      <td>0.0</td>\n",
              "      <td>0.0</td>\n",
              "      <td>0.0</td>\n",
              "      <td>0.0</td>\n",
              "    </tr>\n",
              "    <tr>\n",
              "      <th>186823</th>\n",
              "      <td>860.775314</td>\n",
              "      <td>10.42.0.2</td>\n",
              "      <td>10.42.0.1</td>\n",
              "      <td>66</td>\n",
              "      <td>0</td>\n",
              "      <td>1.0</td>\n",
              "      <td>0.0</td>\n",
              "      <td>0.0</td>\n",
              "      <td>0.0</td>\n",
              "      <td>0.0</td>\n",
              "      <td>0.0</td>\n",
              "      <td>0.0</td>\n",
              "      <td>0.0</td>\n",
              "      <td>0.0</td>\n",
              "      <td>0.0</td>\n",
              "      <td>0.0</td>\n",
              "      <td>0.0</td>\n",
              "      <td>0.0</td>\n",
              "    </tr>\n",
              "    <tr>\n",
              "      <th>186824</th>\n",
              "      <td>860.776418</td>\n",
              "      <td>10.42.0.2</td>\n",
              "      <td>10.42.0.1</td>\n",
              "      <td>7306</td>\n",
              "      <td>0</td>\n",
              "      <td>1.0</td>\n",
              "      <td>0.0</td>\n",
              "      <td>0.0</td>\n",
              "      <td>0.0</td>\n",
              "      <td>0.0</td>\n",
              "      <td>0.0</td>\n",
              "      <td>0.0</td>\n",
              "      <td>0.0</td>\n",
              "      <td>0.0</td>\n",
              "      <td>0.0</td>\n",
              "      <td>0.0</td>\n",
              "      <td>0.0</td>\n",
              "      <td>0.0</td>\n",
              "    </tr>\n",
              "  </tbody>\n",
              "</table>\n",
              "<p>186825 rows × 18 columns</p>\n",
              "</div>\n",
              "      <button class=\"colab-df-convert\" onclick=\"convertToInteractive('df-8fe72919-f979-40b0-b9b9-f4b9a14dc9c4')\"\n",
              "              title=\"Convert this dataframe to an interactive table.\"\n",
              "              style=\"display:none;\">\n",
              "        \n",
              "  <svg xmlns=\"http://www.w3.org/2000/svg\" height=\"24px\"viewBox=\"0 0 24 24\"\n",
              "       width=\"24px\">\n",
              "    <path d=\"M0 0h24v24H0V0z\" fill=\"none\"/>\n",
              "    <path d=\"M18.56 5.44l.94 2.06.94-2.06 2.06-.94-2.06-.94-.94-2.06-.94 2.06-2.06.94zm-11 1L8.5 8.5l.94-2.06 2.06-.94-2.06-.94L8.5 2.5l-.94 2.06-2.06.94zm10 10l.94 2.06.94-2.06 2.06-.94-2.06-.94-.94-2.06-.94 2.06-2.06.94z\"/><path d=\"M17.41 7.96l-1.37-1.37c-.4-.4-.92-.59-1.43-.59-.52 0-1.04.2-1.43.59L10.3 9.45l-7.72 7.72c-.78.78-.78 2.05 0 2.83L4 21.41c.39.39.9.59 1.41.59.51 0 1.02-.2 1.41-.59l7.78-7.78 2.81-2.81c.8-.78.8-2.07 0-2.86zM5.41 20L4 18.59l7.72-7.72 1.47 1.35L5.41 20z\"/>\n",
              "  </svg>\n",
              "      </button>\n",
              "      \n",
              "  <style>\n",
              "    .colab-df-container {\n",
              "      display:flex;\n",
              "      flex-wrap:wrap;\n",
              "      gap: 12px;\n",
              "    }\n",
              "\n",
              "    .colab-df-convert {\n",
              "      background-color: #E8F0FE;\n",
              "      border: none;\n",
              "      border-radius: 50%;\n",
              "      cursor: pointer;\n",
              "      display: none;\n",
              "      fill: #1967D2;\n",
              "      height: 32px;\n",
              "      padding: 0 0 0 0;\n",
              "      width: 32px;\n",
              "    }\n",
              "\n",
              "    .colab-df-convert:hover {\n",
              "      background-color: #E2EBFA;\n",
              "      box-shadow: 0px 1px 2px rgba(60, 64, 67, 0.3), 0px 1px 3px 1px rgba(60, 64, 67, 0.15);\n",
              "      fill: #174EA6;\n",
              "    }\n",
              "\n",
              "    [theme=dark] .colab-df-convert {\n",
              "      background-color: #3B4455;\n",
              "      fill: #D2E3FC;\n",
              "    }\n",
              "\n",
              "    [theme=dark] .colab-df-convert:hover {\n",
              "      background-color: #434B5C;\n",
              "      box-shadow: 0px 1px 3px 1px rgba(0, 0, 0, 0.15);\n",
              "      filter: drop-shadow(0px 1px 2px rgba(0, 0, 0, 0.3));\n",
              "      fill: #FFFFFF;\n",
              "    }\n",
              "  </style>\n",
              "\n",
              "      <script>\n",
              "        const buttonEl =\n",
              "          document.querySelector('#df-8fe72919-f979-40b0-b9b9-f4b9a14dc9c4 button.colab-df-convert');\n",
              "        buttonEl.style.display =\n",
              "          google.colab.kernel.accessAllowed ? 'block' : 'none';\n",
              "\n",
              "        async function convertToInteractive(key) {\n",
              "          const element = document.querySelector('#df-8fe72919-f979-40b0-b9b9-f4b9a14dc9c4');\n",
              "          const dataTable =\n",
              "            await google.colab.kernel.invokeFunction('convertToInteractive',\n",
              "                                                     [key], {});\n",
              "          if (!dataTable) return;\n",
              "\n",
              "          const docLinkHtml = 'Like what you see? Visit the ' +\n",
              "            '<a target=\"_blank\" href=https://colab.research.google.com/notebooks/data_table.ipynb>data table notebook</a>'\n",
              "            + ' to learn more about interactive tables.';\n",
              "          element.innerHTML = '';\n",
              "          dataTable['output_type'] = 'display_data';\n",
              "          await google.colab.output.renderOutput(dataTable, element);\n",
              "          const docLink = document.createElement('div');\n",
              "          docLink.innerHTML = docLinkHtml;\n",
              "          element.appendChild(docLink);\n",
              "        }\n",
              "      </script>\n",
              "    </div>\n",
              "  </div>\n",
              "  "
            ],
            "text/plain": [
              "              Time             Source     Destination  Length  Class  TCP  \\\n",
              "0         0.000000          10.0.2.15  52.167.254.228      54      1  1.0   \n",
              "1         0.002624     52.167.254.228       10.0.2.15      60      1  1.0   \n",
              "2         0.204789     52.167.254.228       10.0.2.15      60      1  1.0   \n",
              "3         0.204888          10.0.2.15  52.167.254.228      54      1  1.0   \n",
              "4        22.343940  PcsCompu_43:73:bc       Broadcast      60      1  0.0   \n",
              "...            ...                ...             ...     ...    ...  ...   \n",
              "186820  860.774820          10.42.0.2       10.42.0.1      74      0  1.0   \n",
              "186821  860.775115          10.42.0.1       10.42.0.2      66      0  1.0   \n",
              "186822  860.775241          10.42.0.1       10.42.0.2     256      0  0.0   \n",
              "186823  860.775314          10.42.0.2       10.42.0.1      66      0  1.0   \n",
              "186824  860.776418          10.42.0.2       10.42.0.1    7306      0  1.0   \n",
              "\n",
              "        ARP  TLSv1.2  DHCPv6  BROWSER  SSH  SSDP  MDNS  HTTP  ICMP  NTP  DNS  \\\n",
              "0       0.0      0.0     0.0      0.0  0.0   0.0   0.0   0.0   0.0  0.0  0.0   \n",
              "1       0.0      0.0     0.0      0.0  0.0   0.0   0.0   0.0   0.0  0.0  0.0   \n",
              "2       0.0      0.0     0.0      0.0  0.0   0.0   0.0   0.0   0.0  0.0  0.0   \n",
              "3       0.0      0.0     0.0      0.0  0.0   0.0   0.0   0.0   0.0  0.0  0.0   \n",
              "4       1.0      0.0     0.0      0.0  0.0   0.0   0.0   0.0   0.0  0.0  0.0   \n",
              "...     ...      ...     ...      ...  ...   ...   ...   ...   ...  ...  ...   \n",
              "186820  0.0      0.0     0.0      0.0  0.0   0.0   0.0   0.0   0.0  0.0  0.0   \n",
              "186821  0.0      0.0     0.0      0.0  0.0   0.0   0.0   0.0   0.0  0.0  0.0   \n",
              "186822  0.0      0.0     0.0      0.0  0.0   0.0   0.0   1.0   0.0  0.0  0.0   \n",
              "186823  0.0      0.0     0.0      0.0  0.0   0.0   0.0   0.0   0.0  0.0  0.0   \n",
              "186824  0.0      0.0     0.0      0.0  0.0   0.0   0.0   0.0   0.0  0.0  0.0   \n",
              "\n",
              "        SSHv2  \n",
              "0         0.0  \n",
              "1         0.0  \n",
              "2         0.0  \n",
              "3         0.0  \n",
              "4         0.0  \n",
              "...       ...  \n",
              "186820    0.0  \n",
              "186821    0.0  \n",
              "186822    0.0  \n",
              "186823    0.0  \n",
              "186824    0.0  \n",
              "\n",
              "[186825 rows x 18 columns]"
            ]
          },
          "execution_count": 62,
          "metadata": {},
          "output_type": "execute_result"
        }
      ],
      "source": [
        "dataset"
      ]
    },
    {
      "cell_type": "code",
      "execution_count": null,
      "metadata": {
        "id": "SHwJr-LLcK_x"
      },
      "outputs": [],
      "source": [
        "time_dataset_test, classes_test = windows_process(val_dataset)"
      ]
    },
    {
      "cell_type": "code",
      "execution_count": null,
      "metadata": {
        "id": "G6NNhpE8cK_x"
      },
      "outputs": [],
      "source": [
        "for i in range(len(time_dataset)):\n",
        "    time_dataset[i] = normalize_time(time_dataset[i])\n",
        "    time_dataset[i] = IP_process(time_dataset[i])"
      ]
    },
    {
      "cell_type": "code",
      "execution_count": null,
      "metadata": {
        "id": "-48v_nZccK_x"
      },
      "outputs": [],
      "source": [
        "for i in range(len(time_dataset_test)):\n",
        "    time_dataset_test[i] = normalize_time(time_dataset_test[i])\n",
        "    time_dataset_test[i] = IP_process(time_dataset_test[i])"
      ]
    },
    {
      "cell_type": "markdown",
      "metadata": {
        "id": "3BBP-27JcK_x"
      },
      "source": [
        "### Model"
      ]
    },
    {
      "cell_type": "code",
      "execution_count": null,
      "metadata": {
        "id": "lGKaidWGcK_y"
      },
      "outputs": [],
      "source": [
        "time_dataset =  np.asarray(time_dataset).astype('float32')\n",
        "\n",
        "dict_y = mapping(classes)\n",
        "\n",
        "y_train = one_hot_encode(classes, dict_y)"
      ]
    },
    {
      "cell_type": "code",
      "execution_count": null,
      "metadata": {
        "id": "OBTZTwCNcK_y"
      },
      "outputs": [],
      "source": [
        "time_dataset_test =  np.asarray(time_dataset_test).astype('float32')\n",
        "\n",
        "y_test = one_hot_encode(classes_test, dict_y)"
      ]
    },
    {
      "cell_type": "code",
      "execution_count": null,
      "metadata": {
        "colab": {
          "base_uri": "https://localhost:8080/"
        },
        "id": "CpwoGeRBcK_y",
        "outputId": "1a442171-b2c6-4297-82db-36129b927328"
      },
      "outputs": [
        {
          "name": "stdout",
          "output_type": "stream",
          "text": [
            "Epoch 1/50\n",
            "374/374 [==============================] - 7s 6ms/step - loss: 0.4933 - acc: 0.8491 - val_loss: 0.4779 - val_acc: 0.8087\n",
            "Epoch 2/50\n",
            "374/374 [==============================] - 2s 5ms/step - loss: 0.4014 - acc: 0.8698 - val_loss: 0.4655 - val_acc: 0.8087\n",
            "Epoch 3/50\n",
            "374/374 [==============================] - 2s 5ms/step - loss: 0.3386 - acc: 0.8698 - val_loss: 0.2328 - val_acc: 0.8087\n",
            "Epoch 4/50\n",
            "374/374 [==============================] - 2s 5ms/step - loss: 0.1383 - acc: 0.8698 - val_loss: 0.2203 - val_acc: 0.8087\n",
            "Epoch 5/50\n",
            "374/374 [==============================] - 2s 5ms/step - loss: 0.1191 - acc: 0.9300 - val_loss: 0.2101 - val_acc: 0.9654\n",
            "Epoch 6/50\n",
            "374/374 [==============================] - 2s 6ms/step - loss: 0.1099 - acc: 0.9636 - val_loss: 0.1914 - val_acc: 0.9705\n",
            "Epoch 7/50\n",
            "374/374 [==============================] - 2s 5ms/step - loss: 0.1032 - acc: 0.9633 - val_loss: 0.1766 - val_acc: 0.9745\n",
            "Epoch 8/50\n",
            "374/374 [==============================] - 2s 5ms/step - loss: 0.0985 - acc: 0.9635 - val_loss: 0.1537 - val_acc: 0.9788\n",
            "Epoch 9/50\n",
            "374/374 [==============================] - 2s 5ms/step - loss: 0.0953 - acc: 0.9634 - val_loss: 0.1566 - val_acc: 0.9779\n",
            "Epoch 10/50\n",
            "374/374 [==============================] - 2s 5ms/step - loss: 0.0916 - acc: 0.9647 - val_loss: 0.1355 - val_acc: 0.9811\n",
            "Epoch 11/50\n",
            "374/374 [==============================] - 2s 5ms/step - loss: 0.0902 - acc: 0.9647 - val_loss: 0.1088 - val_acc: 0.9853\n",
            "Epoch 12/50\n",
            "374/374 [==============================] - 2s 5ms/step - loss: 0.0893 - acc: 0.9647 - val_loss: 0.1271 - val_acc: 0.9817\n",
            "Epoch 13/50\n",
            "374/374 [==============================] - 2s 6ms/step - loss: 0.0889 - acc: 0.9646 - val_loss: 0.1006 - val_acc: 0.9859\n",
            "Epoch 14/50\n",
            "374/374 [==============================] - 2s 5ms/step - loss: 0.0880 - acc: 0.9650 - val_loss: 0.1104 - val_acc: 0.9843\n",
            "Epoch 15/50\n",
            "374/374 [==============================] - 2s 5ms/step - loss: 0.0874 - acc: 0.9651 - val_loss: 0.1167 - val_acc: 0.9824\n",
            "Epoch 16/50\n",
            "374/374 [==============================] - 2s 5ms/step - loss: 0.0653 - acc: 0.9788 - val_loss: 0.0491 - val_acc: 0.9967\n",
            "Epoch 17/50\n",
            "374/374 [==============================] - 2s 5ms/step - loss: 0.0373 - acc: 0.9929 - val_loss: 0.0563 - val_acc: 0.9925\n",
            "Epoch 18/50\n",
            "374/374 [==============================] - 2s 5ms/step - loss: 0.0329 - acc: 0.9932 - val_loss: 0.0681 - val_acc: 0.9893\n",
            "Epoch 19/50\n",
            "374/374 [==============================] - 2s 6ms/step - loss: 0.0315 - acc: 0.9930 - val_loss: 0.0817 - val_acc: 0.9859\n",
            "Epoch 20/50\n",
            "374/374 [==============================] - 2s 5ms/step - loss: 0.0305 - acc: 0.9930 - val_loss: 0.0798 - val_acc: 0.9858\n",
            "Epoch 21/50\n",
            "374/374 [==============================] - 2s 5ms/step - loss: 0.0302 - acc: 0.9929 - val_loss: 0.0538 - val_acc: 0.9901\n",
            "Epoch 22/50\n",
            "374/374 [==============================] - 2s 5ms/step - loss: 0.0307 - acc: 0.9926 - val_loss: 0.0692 - val_acc: 0.9870\n",
            "Epoch 23/50\n",
            "374/374 [==============================] - 2s 5ms/step - loss: 0.0300 - acc: 0.9928 - val_loss: 0.0214 - val_acc: 0.9971\n",
            "Epoch 24/50\n",
            "374/374 [==============================] - 2s 5ms/step - loss: 0.0285 - acc: 0.9932 - val_loss: 0.0568 - val_acc: 0.9887\n",
            "Epoch 25/50\n",
            "374/374 [==============================] - 2s 6ms/step - loss: 0.0287 - acc: 0.9931 - val_loss: 0.0471 - val_acc: 0.9901\n",
            "Epoch 26/50\n",
            "374/374 [==============================] - 2s 5ms/step - loss: 0.0290 - acc: 0.9930 - val_loss: 0.0417 - val_acc: 0.9914\n",
            "Epoch 27/50\n",
            "374/374 [==============================] - 2s 5ms/step - loss: 0.0295 - acc: 0.9928 - val_loss: 0.0443 - val_acc: 0.9906\n",
            "Epoch 28/50\n",
            "374/374 [==============================] - 2s 5ms/step - loss: 0.0293 - acc: 0.9928 - val_loss: 0.0379 - val_acc: 0.9917\n",
            "Epoch 29/50\n",
            "374/374 [==============================] - 2s 5ms/step - loss: 0.0254 - acc: 0.9932 - val_loss: 0.0226 - val_acc: 0.9960\n",
            "Epoch 30/50\n",
            "374/374 [==============================] - 2s 5ms/step - loss: 0.0230 - acc: 0.9929 - val_loss: 0.0309 - val_acc: 0.9936\n",
            "Epoch 31/50\n",
            "374/374 [==============================] - 2s 5ms/step - loss: 0.0207 - acc: 0.9927 - val_loss: 0.0029 - val_acc: 0.9997\n",
            "Epoch 32/50\n",
            "374/374 [==============================] - 2s 6ms/step - loss: 0.0200 - acc: 0.9928 - val_loss: 0.0029 - val_acc: 0.9997\n",
            "Epoch 33/50\n",
            "374/374 [==============================] - 2s 5ms/step - loss: 0.0195 - acc: 0.9930 - val_loss: 0.0028 - val_acc: 0.9998\n",
            "Epoch 34/50\n",
            "374/374 [==============================] - 2s 5ms/step - loss: 0.0201 - acc: 0.9927 - val_loss: 0.0038 - val_acc: 0.9994\n",
            "Epoch 35/50\n",
            "374/374 [==============================] - 2s 5ms/step - loss: 0.0203 - acc: 0.9926 - val_loss: 0.0027 - val_acc: 0.9998\n",
            "Epoch 36/50\n",
            "374/374 [==============================] - 2s 5ms/step - loss: 0.0194 - acc: 0.9930 - val_loss: 0.0029 - val_acc: 0.9997\n",
            "Epoch 37/50\n",
            "374/374 [==============================] - 2s 5ms/step - loss: 0.0188 - acc: 0.9933 - val_loss: 0.0025 - val_acc: 0.9997\n",
            "Epoch 38/50\n",
            "374/374 [==============================] - 2s 6ms/step - loss: 0.0201 - acc: 0.9925 - val_loss: 0.0024 - val_acc: 0.9998\n",
            "Epoch 39/50\n",
            "374/374 [==============================] - 2s 6ms/step - loss: 0.0199 - acc: 0.9927 - val_loss: 0.0023 - val_acc: 0.9998\n",
            "Epoch 40/50\n",
            "374/374 [==============================] - 2s 5ms/step - loss: 0.0195 - acc: 0.9929 - val_loss: 0.0023 - val_acc: 0.9998\n",
            "Epoch 41/50\n",
            "374/374 [==============================] - 2s 5ms/step - loss: 0.0193 - acc: 0.9929 - val_loss: 0.0023 - val_acc: 0.9998\n",
            "Epoch 42/50\n",
            "374/374 [==============================] - 2s 5ms/step - loss: 0.0197 - acc: 0.9928 - val_loss: 0.0033 - val_acc: 0.9994\n",
            "Epoch 43/50\n",
            "374/374 [==============================] - 2s 5ms/step - loss: 0.0189 - acc: 0.9932 - val_loss: 0.0028 - val_acc: 0.9996\n",
            "Epoch 44/50\n",
            "374/374 [==============================] - 2s 5ms/step - loss: 0.0193 - acc: 0.9928 - val_loss: 0.0023 - val_acc: 0.9998\n",
            "Epoch 45/50\n",
            "374/374 [==============================] - 2s 6ms/step - loss: 0.0192 - acc: 0.9929 - val_loss: 0.0021 - val_acc: 0.9998\n",
            "Epoch 46/50\n",
            "374/374 [==============================] - 2s 5ms/step - loss: 0.0186 - acc: 0.9933 - val_loss: 0.0022 - val_acc: 0.9998\n",
            "Epoch 47/50\n",
            "374/374 [==============================] - 2s 5ms/step - loss: 0.0200 - acc: 0.9926 - val_loss: 0.0024 - val_acc: 0.9997\n",
            "Epoch 48/50\n",
            "374/374 [==============================] - 2s 5ms/step - loss: 0.0189 - acc: 0.9931 - val_loss: 0.0021 - val_acc: 0.9997\n",
            "Epoch 49/50\n",
            "374/374 [==============================] - 2s 5ms/step - loss: 0.0192 - acc: 0.9929 - val_loss: 0.0021 - val_acc: 0.9998\n",
            "Epoch 50/50\n",
            "374/374 [==============================] - 2s 5ms/step - loss: 0.0193 - acc: 0.9928 - val_loss: 0.0021 - val_acc: 0.9998\n"
          ]
        }
      ],
      "source": [
        "from tensorflow.keras import regularizers\n",
        "model = Sequential()\n",
        "\n",
        "model.add(Conv1D(filters=32, kernel_size=3, activation='relu', input_shape=input_shape))\n",
        "\n",
        "model.add(MaxPooling1D(pool_size=2))\n",
        "\n",
        "model.add(layers.Normalization())\n",
        "\n",
        "model.add(layers.LSTM(2, return_sequences=True))\n",
        "model.add(layers.Flatten())\n",
        "\n",
        "model.add(layers.Dense(4,activation='relu', kernel_regularizer=regularizers.L1L2(l1=1e-5, l2=1e-4), bias_regularizer=regularizers.L2(1e-4),activity_regularizer=regularizers.L2(1e-5)))\n",
        "\n",
        "model.add(layers.Dropout(.2))\n",
        "model.add(layers.Dense(8,activation='relu', kernel_regularizer=regularizers.L1L2(l1=1e-5, l2=1e-4), bias_regularizer=regularizers.L2(1e-4),activity_regularizer=regularizers.L2(1e-5)))\n",
        "\n",
        "\n",
        "model.add(layers.Dropout(.2))\n",
        "model.add(layers.Dense(2,activation='sigmoid'))\n",
        "\n",
        "model.compile(loss='binary_crossentropy', optimizer='adam', metrics=['acc'])\n",
        "\n",
        "\n",
        "history = model.fit(time_dataset, y_train, validation_data=(time_dataset_test, y_test), epochs = 50, batch_size=500, verbose=1)"
      ]
    },
    {
      "cell_type": "code",
      "execution_count": null,
      "metadata": {
        "colab": {
          "base_uri": "https://localhost:8080/",
          "height": 580
        },
        "id": "ftZQz_BHcK_y",
        "outputId": "3bb7b28a-ec87-4e72-c36c-740d4e12541a",
        "scrolled": false
      },
      "outputs": [
        {
          "name": "stdout",
          "output_type": "stream",
          "text": [
            "Train accuracy : 0.9927952289581299\n",
            "Test accuracy  : 0.9997720718383789\n"
          ]
        },
        {
          "data": {
            "image/png": "[encoded data removed]",
            "text/plain": [
              "<Figure size 432x288 with 1 Axes>"
            ]
          },
          "metadata": {
            "needs_background": "light"
          },
          "output_type": "display_data"
        },
        {
          "data": {
            "image/png": "[encoded data removed]",
            "text/plain": [
              "<Figure size 432x288 with 1 Axes>"
            ]
          },
          "metadata": {
            "needs_background": "light"
          },
          "output_type": "display_data"
        }
      ],
      "source": [
        "show_acc(history, val=True)"
      ]
    },
    {
      "cell_type": "code",
      "execution_count": null,
      "metadata": {
        "colab": {
          "base_uri": "https://localhost:8080/"
        },
        "id": "ymDFlZM9cK_z",
        "outputId": "57eaae8b-ef22-4834-842b-a54d9bcfd491"
      },
      "outputs": [
        {
          "name": "stdout",
          "output_type": "stream",
          "text": [
            "1920/1920 [==============================] - 3s 2ms/step\n"
          ]
        }
      ],
      "source": [
        "y_pred = model.predict(time_dataset_test)\n",
        "y_pred=np.argmax(y_pred, axis=1)\n",
        "y_true=np.argmax(y_test, axis=1)"
      ]
    },
    {
      "cell_type": "code",
      "execution_count": null,
      "metadata": {
        "id": "FiH_6dRccK_z"
      },
      "outputs": [],
      "source": []
    },
    {
      "cell_type": "code",
      "execution_count": null,
      "metadata": {
        "colab": {
          "base_uri": "https://localhost:8080/",
          "height": 295
        },
        "id": "W1bxvUZOcK_z",
        "outputId": "c3fb0aa9-90ed-4e21-ce58-e1c0ffd364c2"
      },
      "outputs": [
        {
          "data": {
            "image/png": "[encoded data removed]",
            "text/plain": [
              "<Figure size 432x288 with 2 Axes>"
            ]
          },
          "execution_count": 72,
          "metadata": {},
          "output_type": "execute_result"
        }
      ],
      "source": [
        "from sklearn.metrics import balanced_accuracy_score, confusion_matrix\n",
        "\n",
        "confusion_plot(confusion_matrix(y_true, y_pred))"
      ]
    },
    {
      "cell_type": "code",
      "execution_count": null,
      "metadata": {
        "colab": {
          "base_uri": "https://localhost:8080/"
        },
        "id": "_Lkh5fs0cK_z",
        "outputId": "31d74603-3570-48eb-8077-f49101ef1cd2",
        "scrolled": true
      },
      "outputs": [
        {
          "data": {
            "text/plain": [
              "0.9998265679592926"
            ]
          },
          "execution_count": 73,
          "metadata": {},
          "output_type": "execute_result"
        }
      ],
      "source": [
        "balanced_accuracy_score(y_true, y_pred)"
      ]
    },
    {
      "cell_type": "code",
      "execution_count": null,
      "metadata": {
        "id": "PFCZ_wqucK_0"
      },
      "outputs": [],
      "source": [
        "model.save(\"model.h5\")"
      ]
    },
    {
      "cell_type": "code",
      "execution_count": null,
      "metadata": {
        "id": "pslzsoWFcK_0"
      },
      "outputs": [],
      "source": []
    },
    {
      "cell_type": "code",
      "execution_count": null,
      "metadata": {
        "id": "FfPW_W0BcK_1"
      },
      "outputs": [],
      "source": []
    },
    {
      "cell_type": "code",
      "execution_count": null,
      "metadata": {
        "id": "IdXkebFrcK_1"
      },
      "outputs": [],
      "source": []
    },
    {
      "cell_type": "code",
      "execution_count": null,
      "metadata": {
        "id": "fxdH2B07cK_1"
      },
      "outputs": [],
      "source": []
    },
    {
      "cell_type": "code",
      "execution_count": null,
      "metadata": {
        "id": "rVTaGkQ7cK_1"
      },
      "outputs": [],
      "source": []
    }
  ],
  "metadata": {
    "colab": {
      "provenance": []
    },
    "kernelspec": {
      "display_name": "Python 3",
      "language": "python",
      "name": "python3"
    },
    "language_info": {
      "codemirror_mode": {
        "name": "ipython",
        "version": 3
      },
      "file_extension": ".py",
      "mimetype": "text/x-python",
      "name": "python",
      "nbconvert_exporter": "python",
      "pygments_lexer": "ipython3",
      "version": "3.8.5"
    }
  },
  "nbformat": 4,
  "nbformat_minor": 0
}
